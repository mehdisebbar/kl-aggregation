{
 "cells": [
  {
   "cell_type": "code",
   "execution_count": 1,
   "metadata": {
    "collapsed": true
   },
   "outputs": [],
   "source": [
    "import math\n",
    "import numpy as np"
   ]
  },
  {
   "cell_type": "code",
   "execution_count": 2,
   "metadata": {
    "collapsed": false
   },
   "outputs": [],
   "source": [
    "%load_ext autoreload\n",
    "%autoreload 2"
   ]
  },
  {
   "cell_type": "code",
   "execution_count": 3,
   "metadata": {
    "collapsed": false
   },
   "outputs": [],
   "source": [
    "%matplotlib inline"
   ]
  },
  {
   "cell_type": "code",
   "execution_count": 4,
   "metadata": {
    "collapsed": false
   },
   "outputs": [],
   "source": [
    "def generate_sample_f_star(N, t=\"uniform\", densities=None, selected_densities=None, s=5, cvx_rand=False, dist_rect=None, N_pdf=1000):\n",
    "    # Generate a sample of n points in [0,1]\n",
    "    # t can be uniform, convex, rect, in the case of convex, a convex combination of elements of gaussian \n",
    "    # densities will be taken with a sparsity s\n",
    "    #we return also return the distribution on [0,1], 1000 points\n",
    "    if t==\"uniform\":\n",
    "        X_ = np.random.uniform(low=0, high=1, size=N)\n",
    "        return X_, 1./N_pdf*np.ones(N_pdf)\n",
    "    if t==\"convex\":\n",
    "        if densities == None:\n",
    "            raise ValueError(\"Densities were not given\")\n",
    "        def generate_points(N, s, densities, selected_densities, sample_repartition_among_clusters, weights):\n",
    "            print \"selected densities: \", sorted(zip(selected_densities,weights))\n",
    "            X = np.array([])\n",
    "            t=0\n",
    "            #We generate the sample according to the selected densities and the weights\n",
    "            for i in range(s):\n",
    "                X=np.hstack((X, densities[selected_densities[i]].rvs(sample_repartition_among_clusters[i])))\n",
    "            np.random.shuffle(X)\n",
    "            return X, np.apply_along_axis(lambda x: weights.dot(np.array([densities[i].pdf(x) for i in selected_densities])), 0, np.linspace(0,1,N_pdf)), weights, selected_densities\n",
    "        # We select randomly s elements in densities, then we have two possibilities depending on cvx_rand:\n",
    "        # false: equal weight for each densities, w=1/s\n",
    "        # true: random weights\n",
    "        if selected_densities == None:\n",
    "            selected_densities = np.random.choice(len(densities), s, replace=False)\n",
    "        s = len(selected_densities)\n",
    "        if cvx_rand:\n",
    "            #We generate the weights\n",
    "            weights = np.random.randint(N*100, size=(1, s))[0]\n",
    "            weights = 1.*weights/weights.sum()\n",
    "            sample_repartition_among_clusters = np.random.multinomial(N, weights, size=1)[0]\n",
    "            return generate_points(N, s, densities, selected_densities, sample_repartition_among_clusters, weights)\n",
    "        else:\n",
    "            a = round(N/s)*np.ones(s)\n",
    "            #We adjust the size to the last element\n",
    "            a[-1]= a[-1]-(a.sum()-N)\n",
    "            sample_repartition_among_clusters = a.astype(int)\n",
    "            return generate_points(N, s, densities, selected_densities, sample_repartition_among_clusters, a/a.sum())\n",
    "    if t==\"rect\":\n",
    "        def prob_estim(x, dist_rect):\n",
    "            for intval in sorted(dist_rect.keys()):\n",
    "                if x <= intval[1]:\n",
    "                    return dist_rect[intval]\n",
    "        X_ = np.linspace(0,1,10*N)\n",
    "        proba = np.array([prob_estim(x, dist_rect) for x in X_])\n",
    "        proba = proba/proba.sum()\n",
    "        return np.random.choice(X_, size=N, p=proba), np.array([prob_estim(x,dist_rect) for x in np.linspace(0, 1, N_pdf)])\n",
    "                \n",
    "            \n",
    "\n",
    "        \n",
    "        \n",
    "        \n",
    "        "
   ]
  },
  {
   "cell_type": "code",
   "execution_count": 5,
   "metadata": {
    "collapsed": false
   },
   "outputs": [
    {
     "name": "stdout",
     "output_type": "stream",
     "text": [
      "selected densities:  [(1, 0.028566371877195022), (11, 0.11365710398380593), (16, 0.41717964459340623), (17, 0.19005348244260453), (31, 0.25054339710298829)]\n"
     ]
    },
    {
     "data": {
      "image/png": "[encoded data removed]",
      "text/plain": [
       "<matplotlib.figure.Figure at 0x10dd49750>"
      ]
     },
     "metadata": {},
     "output_type": "display_data"
    }
   ],
   "source": [
    "from scipy.stats import multivariate_normal\n",
    "import numpy as np\n",
    "import matplotlib.pyplot as plt\n",
    "from algorithm import WeightEstimator\n",
    "\n",
    "nodes = np.linspace(0, 1, 50)\n",
    "var = 10**(-4)\n",
    "densities = [multivariate_normal(m, var) for m in nodes]\n",
    "dist_rect = {\n",
    "    (0,1./5) : 10./7,\n",
    "    (1./5,2./5) : 5./7,\n",
    "    (2./5,3./5) : 10./7,\n",
    "    (3./5,4./5) : 0,\n",
    "    (4./5,1) : 10./7\n",
    "}\n",
    "n_pdf = 100000\n",
    "#X, f_star = generate_sample_f_star(10000, t=\"rect\", densities=densities, cvx_rand=False, s=5, dist_rect=dist_rect, N_pdf=n_pdf)\n",
    "#X, f_star = generate_sample_f_star(1000, t=\"uniform\", densities=densities, cvx_rand=False, s=5, dist_rect=dist_rect,  N_pdf=n_pdf)#\n",
    "X, f_star,  weights_star, selected_densities_star = generate_sample_f_star(1000, t=\"convex\", densities=densities, cvx_rand=True, s=5, dist_rect=dist_rect,  N_pdf=n_pdf)\n",
    "#X, f_star, weights_star, selected_densities_star = generate_sample_f_star(100, t=\"convex\", densities=densities, cvx_rand=False, s=5, dist_rect=dist_rect,  N_pdf=n_pdf)\n",
    "#plt.hist(X, bins=1000)  # plt.hist passes it's arguments to np.histogram\n",
    "\n",
    "#estimation\n",
    "cl = WeightEstimator(densities_dict=densities, select_threshold=10e-3)\n",
    "cl.fit(X)\n",
    "estim_weighted_densities=cl.select_densities()\n",
    "selected_densities_estim, weights_estim = np.array(zip(*estim_weighted_densities))\n",
    "f_estim = np.apply_along_axis(lambda x: weights_estim.dot(np.array([densities[i].pdf(x) for i in selected_densities_estim.astype(int)])), 0, np.linspace(0,1,n_pdf))\n",
    "\n",
    "plt.plot(np.linspace(0,1,n_pdf),f_star)\n",
    "plt.plot(np.linspace(0,1,n_pdf),f_estim)\n",
    "plt.show()\n"
   ]
  },
  {
   "cell_type": "markdown",
   "metadata": {},
   "source": [
    "# Evaluation"
   ]
  },
  {
   "cell_type": "code",
   "execution_count": 6,
   "metadata": {
    "collapsed": false
   },
   "outputs": [
    {
     "name": "stdout",
     "output_type": "stream",
     "text": [
      "KL-div: 0.00564475075412\n",
      "L2 norm 0.0239401503224\n",
      "[ 0.01538535  0.12398659  0.3938183   0.20718178  0.25400003] [ 0.02856637  0.1136571   0.19005348  0.41717964  0.2505434 ]\n"
     ]
    }
   ],
   "source": [
    "#Kullback Leibler:\n",
    "\n",
    "from scipy.stats import entropy\n",
    "#import scipy.integrate as integrate\n",
    "#integrate.quad(lambda x: x**2, 0, 1)\n",
    "\n",
    "print \"KL-div:\", entropy(f_star, f_estim)\n",
    "print \"L2 norm\", 1./n_pdf*np.linalg.norm(f_star-f_estim,axis=0)**2\n",
    "print weights_estim, weights_star"
   ]
  },
  {
   "cell_type": "markdown",
   "metadata": {
    "collapsed": true
   },
   "source": [
    "# SPADES Implementation"
   ]
  },
  {
   "cell_type": "code",
   "execution_count": 7,
   "metadata": {
    "collapsed": false
   },
   "outputs": [],
   "source": [
    "#from SPADES AND MIXTURE MODELS\n",
    "#By Florentina Bunea, Alexandre B. Tsybakov,\n",
    "#Marten H. Wegkamp and Adrian Barbu\n",
    "#another implementation\n",
    "\n",
    "from cvxpy import *"
   ]
  },
  {
   "cell_type": "code",
   "execution_count": 8,
   "metadata": {
    "collapsed": false
   },
   "outputs": [],
   "source": [
    "def F(x):\n",
    "    return np.array([d.pdf(x) for d in densities]).T"
   ]
  },
  {
   "cell_type": "code",
   "execution_count": 9,
   "metadata": {
    "collapsed": false
   },
   "outputs": [],
   "source": [
    "#objective = Minimize(-2./X.shape[0]*sum_entries(F_X*lambda_) + norm2_f_sq + 2*norm1(w*lambda_) )\n",
    "#prob = Problem(objective)\n",
    "#prob.solve()"
   ]
  },
  {
   "cell_type": "markdown",
   "metadata": {},
   "source": [
    "## selection des poids pour spades"
   ]
  },
  {
   "cell_type": "code",
   "execution_count": 10,
   "metadata": {
    "collapsed": false
   },
   "outputs": [],
   "source": [
    "#n=10000\n",
    "#(1./n*np.array([x**2 for x in np.linspace(0,1,n)])).sum()\n",
    "F_X=F(X)"
   ]
  },
  {
   "cell_type": "code",
   "execution_count": 11,
   "metadata": {
    "collapsed": false
   },
   "outputs": [],
   "source": [
    "import scipy.integrate as integrate\n",
    "from numba import jit\n",
    "K = len(densities)\n",
    "\n",
    "@jit()\n",
    "def couple_dens(x,i,j):\n",
    "    return densities[i].pdf(x)*densities[j].pdf(x)\n",
    "\n",
    "#this code generate a matrix where the comp.(i,j) is int(densities[i]*densities[j])\n",
    "def F_int_prod_matrix():\n",
    "    F_int_prod_matrix = np.zeros([K,K])\n",
    "    for i in range(K):\n",
    "        for j in range(i,K):\n",
    "            F_int_prod_matrix[i,j]=integrate.quad(couple_dens,-np.inf,np.inf,args=(i,j))[0]\n",
    "    return F_int_prod_matrix + np.triu(F_int_prod_matrix,1).T\n",
    "\n",
    "#differential of -2/n * sum_{i=1}^K(f_lambd(X_i))+ ||f_lambd||^2\n",
    "# which is -2/n * sum_{i=1}^K f_l(X_i) + 2*sum_{i=1}^K lambd_j*int(f_j(x)*f_l(x))\n",
    "#@jit()\n",
    "def f_diff(l, lambd, F_X, f_int_prod_matrix):\n",
    "    #import pdb; pdb.set_trace()\n",
    "    return -2./F_X.shape[0]*F_X[:,l].sum() + 2*f_int_prod_matrix[:,l].dot(lambd)\n",
    "\n",
    "#Evaluation of the norm2 of f_lambd\n",
    "def norm_2_integrand(x,lambd_):\n",
    "    return (np.array([d.pdf(x) for d in densities]).dot(lambd_))**2\n",
    "\n",
    "def f_norm2(lambd_):\n",
    "    return integrate.quad(norm_2_integrand,-np.inf,np.inf,args=lambd_)[0]\n",
    "\n",
    "#for line search\n",
    "#@jit()\n",
    "def f(lambd_, w, F_X):\n",
    "    return -2./F_X.shape[0]*F_X.dot(lambd_).sum()+f_norm2(lambd_) + w*np.linalg.norm(lambd_,1)\n",
    "\n",
    "#grad for line search\n",
    "def f_grad(lambd_, w):\n",
    "    return np.array([f_diff(l,lambd_) for l in range(K)]) + w*np.sign(lambd_)\n",
    "\n"
   ]
  },
  {
   "cell_type": "code",
   "execution_count": 13,
   "metadata": {
    "collapsed": true
   },
   "outputs": [],
   "source": [
    "f_int_prod_matrix = F_int_prod_matrix()"
   ]
  },
  {
   "cell_type": "code",
   "execution_count": 14,
   "metadata": {
    "collapsed": false
   },
   "outputs": [],
   "source": [
    "def min_direct(lambd, l, F_X, w):\n",
    "    lambda_ = Variable(K)\n",
    "    #pour le calcul de l'integrale\n",
    "    X_int = np.linspace(0,1,10000)\n",
    "    F_int = F(X_int)*lambda_\n",
    "    norm2_f_sq = sum_entries(F_int**2)\n",
    "    #prepare constraints\n",
    "    lst_cst = range(K,l)\n",
    "    constraints = [lambda_[i]==lambd[i] for i in lst_cst]\n",
    "    #problem\n",
    "    objective = Minimize(-2./F_X.shape[0]*sum_entries(F_X*lambda_) + norm2_f_sq + 2*norm1(w*lambda_) )\n",
    "    prob = Problem(objective,constraints)\n",
    "    prob.solve()\n",
    "    return np.array(lambda_.value).reshape(1,K)[0]"
   ]
  },
  {
   "cell_type": "code",
   "execution_count": 15,
   "metadata": {
    "collapsed": false
   },
   "outputs": [],
   "source": [
    "from scipy.optimize import minimize\n",
    "#@jit()\n",
    "def f_one_direct(y, l, lambd_, w, F_X, f_int_prod_matrix):\n",
    "    lambd_[l]=y\n",
    "    return f(lambd_, w, F_X)\n",
    "\n",
    "def f_grad_one_direct(y, l, lambd_, w, F_X, F_int_prod_matrix):\n",
    "    #import pdb; pdb.set_trace()\n",
    "    return -2./F_X.shape[0]*F_X[:,l].sum() + 2*f_int_prod_matrix[:,l].dot(lambd_) + w*np.sign(y)\n",
    "\n",
    "\n",
    "#@jit()\n",
    "def min_direct_2(lambd, l, w, F_X, f_int_prod_matrix):\n",
    "    res = minimize(f_one_direct, \n",
    "                   lambd[l], \n",
    "                   args=(l, lambd, w, F_X, f_int_prod_matrix), \n",
    "                   method=\"BFGS\",\n",
    "                   jac=f_grad_one_direct, \n",
    "                   options={\"maxiter\":1,\n",
    "                            \"disp\": True\n",
    "                           \n",
    "                           }\n",
    "                  )[\"x\"][0]\n",
    "    lambd_res = np.copy(lambd)\n",
    "    lambd_res[l]=res\n",
    "    return lambd_res\n",
    "        \n",
    "    "
   ]
  },
  {
   "cell_type": "code",
   "execution_count": null,
   "metadata": {
    "collapsed": true
   },
   "outputs": [],
   "source": []
  },
  {
   "cell_type": "code",
   "execution_count": 16,
   "metadata": {
    "collapsed": false
   },
   "outputs": [],
   "source": [
    "#@jit()\n",
    "def spades(w, F_X, f_int_prod_matrix):\n",
    "    eps_tresh = 1e-5\n",
    "    lambd = 1./K*np.ones(K)\n",
    "    lambd_old = np.zeros(K)\n",
    "    #import pdb; pdb.set_trace()\n",
    "    it = 0\n",
    "    while np.linalg.norm(lambd-lambd_old,1) > eps_tresh:\n",
    "        #print \"iteration: \", it, \"norm: \", np.linalg.norm(lambd-lambd_old,1)\n",
    "        for j in range(K):\n",
    "            lambd_old = np.copy(lambd)\n",
    "            lambd_j_0 = np.copy(lambd)\n",
    "            lambd_j_0[j]=0\n",
    "            if np.abs(f_diff(j, lambd_j_0, F_X, f_int_prod_matrix)) < w:\n",
    "                lambd = lambd_j_0\n",
    "            else:\n",
    "                #lambd = min_direct_2(lambd, j, w, F_X, F_int_prod_matrix)\n",
    "                lambd = min_direct(lambd, j, F_X, w)\n",
    "        it+=1\n",
    "    return lambd"
   ]
  },
  {
   "cell_type": "code",
   "execution_count": 17,
   "metadata": {
    "collapsed": false
   },
   "outputs": [
    {
     "ename": "SolverError",
     "evalue": "Solver 'ECOS' failed. Try another solver.",
     "output_type": "error",
     "traceback": [
      "\u001b[0;31m---------------------------------------------------------------------------\u001b[0m",
      "\u001b[0;31mSolverError\u001b[0m                               Traceback (most recent call last)",
      "\u001b[0;32m<ipython-input-17-1e2d00689e70>\u001b[0m in \u001b[0;36m<module>\u001b[0;34m()\u001b[0m\n\u001b[0;32m----> 1\u001b[0;31m \u001b[0mlambd\u001b[0m \u001b[0;34m=\u001b[0m \u001b[0mspades\u001b[0m\u001b[0;34m(\u001b[0m\u001b[0;36m0.1\u001b[0m\u001b[0;34m,\u001b[0m \u001b[0mF_X\u001b[0m\u001b[0;34m,\u001b[0m \u001b[0mf_int_prod_matrix\u001b[0m\u001b[0;34m)\u001b[0m\u001b[0;34m\u001b[0m\u001b[0m\n\u001b[0m\u001b[1;32m      2\u001b[0m \u001b[0mlambd\u001b[0m\u001b[0;34m[\u001b[0m\u001b[0;36m0\u001b[0m\u001b[0;34m]\u001b[0m\u001b[0;34m\u001b[0m\u001b[0m\n",
      "\u001b[0;32m<ipython-input-16-c5f730a71dd7>\u001b[0m in \u001b[0;36mspades\u001b[0;34m(w, F_X, f_int_prod_matrix)\u001b[0m\n\u001b[1;32m     16\u001b[0m             \u001b[0;32melse\u001b[0m\u001b[0;34m:\u001b[0m\u001b[0;34m\u001b[0m\u001b[0m\n\u001b[1;32m     17\u001b[0m                 \u001b[0;31m#lambd = min_direct_2(lambd, j, w, F_X, F_int_prod_matrix)\u001b[0m\u001b[0;34m\u001b[0m\u001b[0;34m\u001b[0m\u001b[0m\n\u001b[0;32m---> 18\u001b[0;31m                 \u001b[0mlambd\u001b[0m \u001b[0;34m=\u001b[0m \u001b[0mmin_direct\u001b[0m\u001b[0;34m(\u001b[0m\u001b[0mlambd\u001b[0m\u001b[0;34m,\u001b[0m \u001b[0mj\u001b[0m\u001b[0;34m,\u001b[0m \u001b[0mF_X\u001b[0m\u001b[0;34m,\u001b[0m \u001b[0mw\u001b[0m\u001b[0;34m)\u001b[0m\u001b[0;34m\u001b[0m\u001b[0m\n\u001b[0m\u001b[1;32m     19\u001b[0m         \u001b[0mit\u001b[0m\u001b[0;34m+=\u001b[0m\u001b[0;36m1\u001b[0m\u001b[0;34m\u001b[0m\u001b[0m\n\u001b[1;32m     20\u001b[0m     \u001b[0;32mreturn\u001b[0m \u001b[0mlambd\u001b[0m\u001b[0;34m\u001b[0m\u001b[0m\n",
      "\u001b[0;32m<ipython-input-14-c257a7abf991>\u001b[0m in \u001b[0;36mmin_direct\u001b[0;34m(lambd, l, F_X, w)\u001b[0m\n\u001b[1;32m     11\u001b[0m     \u001b[0mobjective\u001b[0m \u001b[0;34m=\u001b[0m \u001b[0mMinimize\u001b[0m\u001b[0;34m(\u001b[0m\u001b[0;34m-\u001b[0m\u001b[0;36m2.\u001b[0m\u001b[0;34m/\u001b[0m\u001b[0mF_X\u001b[0m\u001b[0;34m.\u001b[0m\u001b[0mshape\u001b[0m\u001b[0;34m[\u001b[0m\u001b[0;36m0\u001b[0m\u001b[0;34m]\u001b[0m\u001b[0;34m*\u001b[0m\u001b[0msum_entries\u001b[0m\u001b[0;34m(\u001b[0m\u001b[0mF_X\u001b[0m\u001b[0;34m*\u001b[0m\u001b[0mlambda_\u001b[0m\u001b[0;34m)\u001b[0m \u001b[0;34m+\u001b[0m \u001b[0mnorm2_f_sq\u001b[0m \u001b[0;34m+\u001b[0m \u001b[0;36m2\u001b[0m\u001b[0;34m*\u001b[0m\u001b[0mnorm1\u001b[0m\u001b[0;34m(\u001b[0m\u001b[0mw\u001b[0m\u001b[0;34m*\u001b[0m\u001b[0mlambda_\u001b[0m\u001b[0;34m)\u001b[0m \u001b[0;34m)\u001b[0m\u001b[0;34m\u001b[0m\u001b[0m\n\u001b[1;32m     12\u001b[0m     \u001b[0mprob\u001b[0m \u001b[0;34m=\u001b[0m \u001b[0mProblem\u001b[0m\u001b[0;34m(\u001b[0m\u001b[0mobjective\u001b[0m\u001b[0;34m,\u001b[0m\u001b[0mconstraints\u001b[0m\u001b[0;34m)\u001b[0m\u001b[0;34m\u001b[0m\u001b[0m\n\u001b[0;32m---> 13\u001b[0;31m     \u001b[0mprob\u001b[0m\u001b[0;34m.\u001b[0m\u001b[0msolve\u001b[0m\u001b[0;34m(\u001b[0m\u001b[0;34m)\u001b[0m\u001b[0;34m\u001b[0m\u001b[0m\n\u001b[0m\u001b[1;32m     14\u001b[0m     \u001b[0;32mreturn\u001b[0m \u001b[0mnp\u001b[0m\u001b[0;34m.\u001b[0m\u001b[0marray\u001b[0m\u001b[0;34m(\u001b[0m\u001b[0mlambda_\u001b[0m\u001b[0;34m.\u001b[0m\u001b[0mvalue\u001b[0m\u001b[0;34m)\u001b[0m\u001b[0;34m.\u001b[0m\u001b[0mreshape\u001b[0m\u001b[0;34m(\u001b[0m\u001b[0;36m1\u001b[0m\u001b[0;34m,\u001b[0m\u001b[0mK\u001b[0m\u001b[0;34m)\u001b[0m\u001b[0;34m[\u001b[0m\u001b[0;36m0\u001b[0m\u001b[0;34m]\u001b[0m\u001b[0;34m\u001b[0m\u001b[0m\n",
      "\u001b[0;32m/usr/local/lib/python2.7/site-packages/cvxpy/problems/problem.pyc\u001b[0m in \u001b[0;36msolve\u001b[0;34m(self, *args, **kwargs)\u001b[0m\n\u001b[1;32m    208\u001b[0m             \u001b[0;32mreturn\u001b[0m \u001b[0mfunc\u001b[0m\u001b[0;34m(\u001b[0m\u001b[0mself\u001b[0m\u001b[0;34m,\u001b[0m \u001b[0;34m*\u001b[0m\u001b[0margs\u001b[0m\u001b[0;34m,\u001b[0m \u001b[0;34m**\u001b[0m\u001b[0mkwargs\u001b[0m\u001b[0;34m)\u001b[0m\u001b[0;34m\u001b[0m\u001b[0m\n\u001b[1;32m    209\u001b[0m         \u001b[0;32melse\u001b[0m\u001b[0;34m:\u001b[0m\u001b[0;34m\u001b[0m\u001b[0m\n\u001b[0;32m--> 210\u001b[0;31m             \u001b[0;32mreturn\u001b[0m \u001b[0mself\u001b[0m\u001b[0;34m.\u001b[0m\u001b[0m_solve\u001b[0m\u001b[0;34m(\u001b[0m\u001b[0;34m*\u001b[0m\u001b[0margs\u001b[0m\u001b[0;34m,\u001b[0m \u001b[0;34m**\u001b[0m\u001b[0mkwargs\u001b[0m\u001b[0;34m)\u001b[0m\u001b[0;34m\u001b[0m\u001b[0m\n\u001b[0m\u001b[1;32m    211\u001b[0m \u001b[0;34m\u001b[0m\u001b[0m\n\u001b[1;32m    212\u001b[0m     \u001b[0;34m@\u001b[0m\u001b[0mclassmethod\u001b[0m\u001b[0;34m\u001b[0m\u001b[0m\n",
      "\u001b[0;32m/usr/local/lib/python2.7/site-packages/cvxpy/problems/problem.pyc\u001b[0m in \u001b[0;36m_solve\u001b[0;34m(self, solver, ignore_dcp, warm_start, verbose, parallel, **kwargs)\u001b[0m\n\u001b[1;32m    334\u001b[0m         \u001b[0;32melse\u001b[0m\u001b[0;34m:\u001b[0m\u001b[0;34m\u001b[0m\u001b[0m\n\u001b[1;32m    335\u001b[0m             \u001b[0mresults_dict\u001b[0m \u001b[0;34m=\u001b[0m \u001b[0;34m{\u001b[0m\u001b[0ms\u001b[0m\u001b[0;34m.\u001b[0m\u001b[0mSTATUS\u001b[0m\u001b[0;34m:\u001b[0m \u001b[0msym_data\u001b[0m\u001b[0;34m.\u001b[0m\u001b[0mpresolve_status\u001b[0m\u001b[0;34m}\u001b[0m\u001b[0;34m\u001b[0m\u001b[0m\n\u001b[0;32m--> 336\u001b[0;31m         \u001b[0mself\u001b[0m\u001b[0;34m.\u001b[0m\u001b[0m_update_problem_state\u001b[0m\u001b[0;34m(\u001b[0m\u001b[0mresults_dict\u001b[0m\u001b[0;34m,\u001b[0m \u001b[0msym_data\u001b[0m\u001b[0;34m,\u001b[0m \u001b[0msolver\u001b[0m\u001b[0;34m)\u001b[0m\u001b[0;34m\u001b[0m\u001b[0m\n\u001b[0m\u001b[1;32m    337\u001b[0m         \u001b[0;32mreturn\u001b[0m \u001b[0mself\u001b[0m\u001b[0;34m.\u001b[0m\u001b[0mvalue\u001b[0m\u001b[0;34m\u001b[0m\u001b[0m\n\u001b[1;32m    338\u001b[0m \u001b[0;34m\u001b[0m\u001b[0m\n",
      "\u001b[0;32m/usr/local/lib/python2.7/site-packages/cvxpy/problems/problem.pyc\u001b[0m in \u001b[0;36m_update_problem_state\u001b[0;34m(self, results_dict, sym_data, solver)\u001b[0m\n\u001b[1;32m    446\u001b[0m         \u001b[0;32melse\u001b[0m\u001b[0;34m:\u001b[0m\u001b[0;34m\u001b[0m\u001b[0m\n\u001b[1;32m    447\u001b[0m             raise SolverError(\n\u001b[0;32m--> 448\u001b[0;31m                 \"Solver '%s' failed. Try another solver.\" % solver.name())\n\u001b[0m\u001b[1;32m    449\u001b[0m         \u001b[0mself\u001b[0m\u001b[0;34m.\u001b[0m\u001b[0m_status\u001b[0m \u001b[0;34m=\u001b[0m \u001b[0mresults_dict\u001b[0m\u001b[0;34m[\u001b[0m\u001b[0ms\u001b[0m\u001b[0;34m.\u001b[0m\u001b[0mSTATUS\u001b[0m\u001b[0;34m]\u001b[0m\u001b[0;34m\u001b[0m\u001b[0m\n\u001b[1;32m    450\u001b[0m         \u001b[0mself\u001b[0m\u001b[0;34m.\u001b[0m\u001b[0m_solver_stats\u001b[0m \u001b[0;34m=\u001b[0m \u001b[0mSolverStats\u001b[0m\u001b[0;34m(\u001b[0m\u001b[0mresults_dict\u001b[0m\u001b[0;34m,\u001b[0m \u001b[0msolver\u001b[0m\u001b[0;34m.\u001b[0m\u001b[0mname\u001b[0m\u001b[0;34m(\u001b[0m\u001b[0;34m)\u001b[0m\u001b[0;34m)\u001b[0m\u001b[0;34m\u001b[0m\u001b[0m\n",
      "\u001b[0;31mSolverError\u001b[0m: Solver 'ECOS' failed. Try another solver."
     ]
    }
   ],
   "source": [
    "lambd = spades(0.1, F_X, f_int_prod_matrix)\n",
    "lambd[0]"
   ]
  },
  {
   "cell_type": "code",
   "execution_count": null,
   "metadata": {
    "collapsed": false
   },
   "outputs": [],
   "source": [
    "lambd.reshape(1,K)[0]"
   ]
  },
  {
   "cell_type": "code",
   "execution_count": null,
   "metadata": {
    "collapsed": false
   },
   "outputs": [],
   "source": [
    "weight_spades_2 = np.array([lambd[i] if type(lambd[i]) == int else np.array(lambd[i])[0][0] for i in range(K)])"
   ]
  },
  {
   "cell_type": "code",
   "execution_count": 18,
   "metadata": {
    "collapsed": false
   },
   "outputs": [
    {
     "ename": "NameError",
     "evalue": "global name 'weight_spades_2' is not defined",
     "output_type": "error",
     "traceback": [
      "\u001b[0;31m---------------------------------------------------------------------------\u001b[0m",
      "\u001b[0;31mNameError\u001b[0m                                 Traceback (most recent call last)",
      "\u001b[0;32m<ipython-input-18-81a68b142b23>\u001b[0m in \u001b[0;36m<module>\u001b[0;34m()\u001b[0m\n\u001b[0;32m----> 1\u001b[0;31m \u001b[0mf_estim_spades_2\u001b[0m \u001b[0;34m=\u001b[0m \u001b[0mnp\u001b[0m\u001b[0;34m.\u001b[0m\u001b[0mapply_along_axis\u001b[0m\u001b[0;34m(\u001b[0m\u001b[0;32mlambda\u001b[0m \u001b[0mx\u001b[0m\u001b[0;34m:\u001b[0m \u001b[0mweight_spades_2\u001b[0m\u001b[0;34m.\u001b[0m\u001b[0mdot\u001b[0m\u001b[0;34m(\u001b[0m\u001b[0mnp\u001b[0m\u001b[0;34m.\u001b[0m\u001b[0marray\u001b[0m\u001b[0;34m(\u001b[0m\u001b[0;34m[\u001b[0m\u001b[0md\u001b[0m\u001b[0;34m.\u001b[0m\u001b[0mpdf\u001b[0m\u001b[0;34m(\u001b[0m\u001b[0mx\u001b[0m\u001b[0;34m)\u001b[0m \u001b[0;32mfor\u001b[0m \u001b[0md\u001b[0m \u001b[0;32min\u001b[0m \u001b[0mdensities\u001b[0m\u001b[0;34m]\u001b[0m\u001b[0;34m)\u001b[0m\u001b[0;34m)\u001b[0m\u001b[0;34m,\u001b[0m \u001b[0;36m0\u001b[0m\u001b[0;34m,\u001b[0m \u001b[0mnp\u001b[0m\u001b[0;34m.\u001b[0m\u001b[0mlinspace\u001b[0m\u001b[0;34m(\u001b[0m\u001b[0;36m0\u001b[0m\u001b[0;34m,\u001b[0m\u001b[0;36m1\u001b[0m\u001b[0;34m,\u001b[0m\u001b[0mn_pdf\u001b[0m\u001b[0;34m)\u001b[0m\u001b[0;34m)\u001b[0m\u001b[0;34m\u001b[0m\u001b[0m\n\u001b[0m\u001b[1;32m      2\u001b[0m \u001b[0;34m\u001b[0m\u001b[0m\n\u001b[1;32m      3\u001b[0m \u001b[0;31m#plt.plot(np.linspace(0,1,n_pdf),f_star)\u001b[0m\u001b[0;34m\u001b[0m\u001b[0;34m\u001b[0m\u001b[0m\n\u001b[1;32m      4\u001b[0m \u001b[0mplt\u001b[0m\u001b[0;34m.\u001b[0m\u001b[0mplot\u001b[0m\u001b[0;34m(\u001b[0m\u001b[0mnp\u001b[0m\u001b[0;34m.\u001b[0m\u001b[0mlinspace\u001b[0m\u001b[0;34m(\u001b[0m\u001b[0;36m0\u001b[0m\u001b[0;34m,\u001b[0m\u001b[0;36m1\u001b[0m\u001b[0;34m,\u001b[0m\u001b[0mn_pdf\u001b[0m\u001b[0;34m)\u001b[0m\u001b[0;34m,\u001b[0m\u001b[0mf_estim_spades_2\u001b[0m\u001b[0;34m)\u001b[0m\u001b[0;34m\u001b[0m\u001b[0m\n\u001b[1;32m      5\u001b[0m \u001b[0mplt\u001b[0m\u001b[0;34m.\u001b[0m\u001b[0mshow\u001b[0m\u001b[0;34m(\u001b[0m\u001b[0;34m)\u001b[0m\u001b[0;34m\u001b[0m\u001b[0m\n",
      "\u001b[0;32m/usr/local/lib/python2.7/site-packages/numpy/lib/shape_base.pyc\u001b[0m in \u001b[0;36mapply_along_axis\u001b[0;34m(func1d, axis, arr, *args, **kwargs)\u001b[0m\n\u001b[1;32m     89\u001b[0m     \u001b[0moutshape\u001b[0m \u001b[0;34m=\u001b[0m \u001b[0masarray\u001b[0m\u001b[0;34m(\u001b[0m\u001b[0marr\u001b[0m\u001b[0;34m.\u001b[0m\u001b[0mshape\u001b[0m\u001b[0;34m)\u001b[0m\u001b[0;34m.\u001b[0m\u001b[0mtake\u001b[0m\u001b[0;34m(\u001b[0m\u001b[0mindlist\u001b[0m\u001b[0;34m)\u001b[0m\u001b[0;34m\u001b[0m\u001b[0m\n\u001b[1;32m     90\u001b[0m     \u001b[0mi\u001b[0m\u001b[0;34m.\u001b[0m\u001b[0mput\u001b[0m\u001b[0;34m(\u001b[0m\u001b[0mindlist\u001b[0m\u001b[0;34m,\u001b[0m \u001b[0mind\u001b[0m\u001b[0;34m)\u001b[0m\u001b[0;34m\u001b[0m\u001b[0m\n\u001b[0;32m---> 91\u001b[0;31m     \u001b[0mres\u001b[0m \u001b[0;34m=\u001b[0m \u001b[0mfunc1d\u001b[0m\u001b[0;34m(\u001b[0m\u001b[0marr\u001b[0m\u001b[0;34m[\u001b[0m\u001b[0mtuple\u001b[0m\u001b[0;34m(\u001b[0m\u001b[0mi\u001b[0m\u001b[0;34m.\u001b[0m\u001b[0mtolist\u001b[0m\u001b[0;34m(\u001b[0m\u001b[0;34m)\u001b[0m\u001b[0;34m)\u001b[0m\u001b[0;34m]\u001b[0m\u001b[0;34m,\u001b[0m \u001b[0;34m*\u001b[0m\u001b[0margs\u001b[0m\u001b[0;34m,\u001b[0m \u001b[0;34m**\u001b[0m\u001b[0mkwargs\u001b[0m\u001b[0;34m)\u001b[0m\u001b[0;34m\u001b[0m\u001b[0m\n\u001b[0m\u001b[1;32m     92\u001b[0m     \u001b[0;31m#  if res is a number, then we have a smaller output array\u001b[0m\u001b[0;34m\u001b[0m\u001b[0;34m\u001b[0m\u001b[0m\n\u001b[1;32m     93\u001b[0m     \u001b[0;32mif\u001b[0m \u001b[0misscalar\u001b[0m\u001b[0;34m(\u001b[0m\u001b[0mres\u001b[0m\u001b[0;34m)\u001b[0m\u001b[0;34m:\u001b[0m\u001b[0;34m\u001b[0m\u001b[0m\n",
      "\u001b[0;32m<ipython-input-18-81a68b142b23>\u001b[0m in \u001b[0;36m<lambda>\u001b[0;34m(x)\u001b[0m\n\u001b[0;32m----> 1\u001b[0;31m \u001b[0mf_estim_spades_2\u001b[0m \u001b[0;34m=\u001b[0m \u001b[0mnp\u001b[0m\u001b[0;34m.\u001b[0m\u001b[0mapply_along_axis\u001b[0m\u001b[0;34m(\u001b[0m\u001b[0;32mlambda\u001b[0m \u001b[0mx\u001b[0m\u001b[0;34m:\u001b[0m \u001b[0mweight_spades_2\u001b[0m\u001b[0;34m.\u001b[0m\u001b[0mdot\u001b[0m\u001b[0;34m(\u001b[0m\u001b[0mnp\u001b[0m\u001b[0;34m.\u001b[0m\u001b[0marray\u001b[0m\u001b[0;34m(\u001b[0m\u001b[0;34m[\u001b[0m\u001b[0md\u001b[0m\u001b[0;34m.\u001b[0m\u001b[0mpdf\u001b[0m\u001b[0;34m(\u001b[0m\u001b[0mx\u001b[0m\u001b[0;34m)\u001b[0m \u001b[0;32mfor\u001b[0m \u001b[0md\u001b[0m \u001b[0;32min\u001b[0m \u001b[0mdensities\u001b[0m\u001b[0;34m]\u001b[0m\u001b[0;34m)\u001b[0m\u001b[0;34m)\u001b[0m\u001b[0;34m,\u001b[0m \u001b[0;36m0\u001b[0m\u001b[0;34m,\u001b[0m \u001b[0mnp\u001b[0m\u001b[0;34m.\u001b[0m\u001b[0mlinspace\u001b[0m\u001b[0;34m(\u001b[0m\u001b[0;36m0\u001b[0m\u001b[0;34m,\u001b[0m\u001b[0;36m1\u001b[0m\u001b[0;34m,\u001b[0m\u001b[0mn_pdf\u001b[0m\u001b[0;34m)\u001b[0m\u001b[0;34m)\u001b[0m\u001b[0;34m\u001b[0m\u001b[0m\n\u001b[0m\u001b[1;32m      2\u001b[0m \u001b[0;34m\u001b[0m\u001b[0m\n\u001b[1;32m      3\u001b[0m \u001b[0;31m#plt.plot(np.linspace(0,1,n_pdf),f_star)\u001b[0m\u001b[0;34m\u001b[0m\u001b[0;34m\u001b[0m\u001b[0m\n\u001b[1;32m      4\u001b[0m \u001b[0mplt\u001b[0m\u001b[0;34m.\u001b[0m\u001b[0mplot\u001b[0m\u001b[0;34m(\u001b[0m\u001b[0mnp\u001b[0m\u001b[0;34m.\u001b[0m\u001b[0mlinspace\u001b[0m\u001b[0;34m(\u001b[0m\u001b[0;36m0\u001b[0m\u001b[0;34m,\u001b[0m\u001b[0;36m1\u001b[0m\u001b[0;34m,\u001b[0m\u001b[0mn_pdf\u001b[0m\u001b[0;34m)\u001b[0m\u001b[0;34m,\u001b[0m\u001b[0mf_estim_spades_2\u001b[0m\u001b[0;34m)\u001b[0m\u001b[0;34m\u001b[0m\u001b[0m\n\u001b[1;32m      5\u001b[0m \u001b[0mplt\u001b[0m\u001b[0;34m.\u001b[0m\u001b[0mshow\u001b[0m\u001b[0;34m(\u001b[0m\u001b[0;34m)\u001b[0m\u001b[0;34m\u001b[0m\u001b[0m\n",
      "\u001b[0;31mNameError\u001b[0m: global name 'weight_spades_2' is not defined"
     ]
    }
   ],
   "source": [
    "f_estim_spades_2 = np.apply_along_axis(lambda x: weight_spades_2.dot(np.array([d.pdf(x) for d in densities])), 0, np.linspace(0,1,n_pdf))\n",
    "\n",
    "#plt.plot(np.linspace(0,1,n_pdf),f_star)\n",
    "plt.plot(np.linspace(0,1,n_pdf),f_estim_spades_2)\n",
    "plt.show()"
   ]
  },
  {
   "cell_type": "code",
   "execution_count": 40,
   "metadata": {
    "collapsed": false
   },
   "outputs": [],
   "source": [
    "def spades_full(w, F_X, f_int_prod_matrix):\n",
    "    lambda_ = Variable(K)\n",
    "    #import pdb; pdb.set_trace()\n",
    "    X_int = np.linspace(0,1,10000)\n",
    "    F_int = F(X_int)*lambda_\n",
    "    norm2_f_sq = sum_entries(F_int**2)\n",
    "    objective = Minimize(-2/X.shape[0]*sum_entries(F_X*lambda_) + norm2_f_sq + 2*norm1(w*lambda_) )\n",
    "    prob = Problem(objective)\n",
    "    prob.solve()\n",
    "    return np.array(lambda_.value).reshape(1,K)[0]\n"
   ]
  },
  {
   "cell_type": "code",
   "execution_count": 20,
   "metadata": {
    "collapsed": false
   },
   "outputs": [
    {
     "ename": "TypeError",
     "evalue": "spades_full() takes exactly 3 arguments (1 given)",
     "output_type": "error",
     "traceback": [
      "\u001b[0;31m---------------------------------------------------------------------------\u001b[0m",
      "\u001b[0;31mTypeError\u001b[0m                                 Traceback (most recent call last)",
      "\u001b[0;32m<ipython-input-20-3988428c7a83>\u001b[0m in \u001b[0;36m<module>\u001b[0;34m()\u001b[0m\n\u001b[1;32m      1\u001b[0m \u001b[0;32mfor\u001b[0m \u001b[0mi\u001b[0m \u001b[0;32min\u001b[0m \u001b[0mrange\u001b[0m\u001b[0;34m(\u001b[0m\u001b[0;36m10\u001b[0m\u001b[0;34m)\u001b[0m\u001b[0;34m:\u001b[0m\u001b[0;34m\u001b[0m\u001b[0m\n\u001b[1;32m      2\u001b[0m     \u001b[0mw\u001b[0m\u001b[0;34m=\u001b[0m\u001b[0;36m10\u001b[0m\u001b[0;34m**\u001b[0m\u001b[0;34m(\u001b[0m\u001b[0;36m2\u001b[0m\u001b[0;34m-\u001b[0m\u001b[0mi\u001b[0m\u001b[0;34m)\u001b[0m\u001b[0;34m\u001b[0m\u001b[0m\n\u001b[0;32m----> 3\u001b[0;31m     \u001b[0mweights_spades\u001b[0m \u001b[0;34m=\u001b[0m \u001b[0mnp\u001b[0m\u001b[0;34m.\u001b[0m\u001b[0marray\u001b[0m\u001b[0;34m(\u001b[0m\u001b[0mspades_full\u001b[0m\u001b[0;34m(\u001b[0m\u001b[0mw\u001b[0m\u001b[0;34m)\u001b[0m\u001b[0;34m)\u001b[0m\u001b[0;34m.\u001b[0m\u001b[0mreshape\u001b[0m\u001b[0;34m(\u001b[0m\u001b[0mK\u001b[0m\u001b[0;34m)\u001b[0m\u001b[0;34m\u001b[0m\u001b[0m\n\u001b[0m\u001b[1;32m      4\u001b[0m     \u001b[0mf_estim_spades\u001b[0m \u001b[0;34m=\u001b[0m \u001b[0mnp\u001b[0m\u001b[0;34m.\u001b[0m\u001b[0mapply_along_axis\u001b[0m\u001b[0;34m(\u001b[0m\u001b[0;32mlambda\u001b[0m \u001b[0mx\u001b[0m\u001b[0;34m:\u001b[0m \u001b[0mweights_spades\u001b[0m\u001b[0;34m.\u001b[0m\u001b[0mdot\u001b[0m\u001b[0;34m(\u001b[0m\u001b[0mnp\u001b[0m\u001b[0;34m.\u001b[0m\u001b[0marray\u001b[0m\u001b[0;34m(\u001b[0m\u001b[0;34m[\u001b[0m\u001b[0md\u001b[0m\u001b[0;34m.\u001b[0m\u001b[0mpdf\u001b[0m\u001b[0;34m(\u001b[0m\u001b[0mx\u001b[0m\u001b[0;34m)\u001b[0m \u001b[0;32mfor\u001b[0m \u001b[0md\u001b[0m \u001b[0;32min\u001b[0m \u001b[0mdensities\u001b[0m\u001b[0;34m]\u001b[0m\u001b[0;34m)\u001b[0m\u001b[0;34m)\u001b[0m\u001b[0;34m,\u001b[0m \u001b[0;36m0\u001b[0m\u001b[0;34m,\u001b[0m \u001b[0mnp\u001b[0m\u001b[0;34m.\u001b[0m\u001b[0mlinspace\u001b[0m\u001b[0;34m(\u001b[0m\u001b[0;36m0\u001b[0m\u001b[0;34m,\u001b[0m\u001b[0;36m1\u001b[0m\u001b[0;34m,\u001b[0m\u001b[0mn_pdf\u001b[0m\u001b[0;34m)\u001b[0m\u001b[0;34m)\u001b[0m\u001b[0;34m\u001b[0m\u001b[0m\n\u001b[1;32m      5\u001b[0m \u001b[0;34m\u001b[0m\u001b[0m\n",
      "\u001b[0;31mTypeError\u001b[0m: spades_full() takes exactly 3 arguments (1 given)"
     ]
    }
   ],
   "source": [
    "for i in range(10):\n",
    "    w=10**(2-i)\n",
    "    weights_spades = np.array(spades_full(w)).reshape(K)\n",
    "    f_estim_spades = np.apply_along_axis(lambda x: weights_spades.dot(np.array([d.pdf(x) for d in densities])), 0, np.linspace(0,1,n_pdf))\n",
    "    \n",
    "    plt.plot(np.linspace(0,1,n_pdf),f_star)\n",
    "    plt.plot(np.linspace(0,1,n_pdf),f_estim_spades)\n",
    "    plt.show()"
   ]
  },
  {
   "cell_type": "code",
   "execution_count": 21,
   "metadata": {
    "collapsed": false
   },
   "outputs": [
    {
     "data": {
      "text/plain": [
       "0.001"
      ]
     },
     "execution_count": 21,
     "metadata": {},
     "output_type": "execute_result"
    }
   ],
   "source": [
    "1e-3"
   ]
  },
  {
   "cell_type": "code",
   "execution_count": 22,
   "metadata": {
    "collapsed": false
   },
   "outputs": [
    {
     "ename": "NameError",
     "evalue": "name 'weights_spades' is not defined",
     "output_type": "error",
     "traceback": [
      "\u001b[0;31m---------------------------------------------------------------------------\u001b[0m",
      "\u001b[0;31mNameError\u001b[0m                                 Traceback (most recent call last)",
      "\u001b[0;32m<ipython-input-22-2d3e9d0c9532>\u001b[0m in \u001b[0;36m<module>\u001b[0;34m()\u001b[0m\n\u001b[0;32m----> 1\u001b[0;31m \u001b[0mweights_spades\u001b[0m\u001b[0;34m.\u001b[0m\u001b[0mdot\u001b[0m\u001b[0;34m(\u001b[0m\u001b[0mnp\u001b[0m\u001b[0;34m.\u001b[0m\u001b[0marray\u001b[0m\u001b[0;34m(\u001b[0m\u001b[0;34m[\u001b[0m\u001b[0md\u001b[0m\u001b[0;34m.\u001b[0m\u001b[0mpdf\u001b[0m\u001b[0;34m(\u001b[0m\u001b[0;36m0\u001b[0m\u001b[0;34m)\u001b[0m \u001b[0;32mfor\u001b[0m \u001b[0md\u001b[0m \u001b[0;32min\u001b[0m \u001b[0mdensities\u001b[0m\u001b[0;34m]\u001b[0m\u001b[0;34m)\u001b[0m\u001b[0;34m)\u001b[0m\u001b[0;34m\u001b[0m\u001b[0m\n\u001b[0m",
      "\u001b[0;31mNameError\u001b[0m: name 'weights_spades' is not defined"
     ]
    }
   ],
   "source": [
    "weights_spades.dot(np.array([d.pdf(0) for d in densities]))"
   ]
  },
  {
   "cell_type": "code",
   "execution_count": 23,
   "metadata": {
    "collapsed": true
   },
   "outputs": [],
   "source": [
    "def non_zero_elemts(w, F_X, f_int_prod_matrix):\n",
    "    lambd = spades_full(w, F_X, f_int_prod_matrix)\n",
    "    return len(lambd[lambd>1e-10]), lambd"
   ]
  },
  {
   "cell_type": "code",
   "execution_count": 62,
   "metadata": {
    "collapsed": false
   },
   "outputs": [
    {
     "ename": "SyntaxError",
     "evalue": "invalid syntax (<ipython-input-62-ef6330b6f804>, line 6)",
     "output_type": "error",
     "traceback": [
      "\u001b[0;36m  File \u001b[0;32m\"<ipython-input-62-ef6330b6f804>\"\u001b[0;36m, line \u001b[0;32m6\u001b[0m\n\u001b[0;31m    w_vect[0] =\u001b[0m\n\u001b[0m                ^\u001b[0m\n\u001b[0;31mSyntaxError\u001b[0m\u001b[0;31m:\u001b[0m invalid syntax\n"
     ]
    }
   ],
   "source": [
    "#GBM Methods\n",
    "from queue import Queue\n",
    "alpha = 1e-2\n",
    "def gbm(X, F_X, f_int_prod_matrix, alpha=1e-2):\n",
    "    w_vect = -np.ones(K)\n",
    "    w_vect[0] = \n",
    "    w_vect[-1] = 0\n",
    "    #import pdb; pdb.set_trace()\n",
    "    q = Queue()\n",
    "    q.put((w_vect[0],w_vect[-1]))\n",
    "    while not q.empty():\n",
    "        a,b = q.get()\n",
    "        w = 1.0*(a+b)/2\n",
    "        k = non_zero_elemts(w, F_X, f_int_prod_matrix)[0]-1\n",
    "        if w_vect[k]==(-1):\n",
    "            w_vect[k]=w\n",
    "        t = non_zero_elemts(a, F_X, f_int_prod_matrix)[0]\n",
    "        if np.abs(t-k) > 1 and np.abs(a-w) > alpha:\n",
    "            q.put((a,w))\n",
    "        t = non_zero_elemts(b, F_X, f_int_prod_matrix)[0]\n",
    "        if np.abs(t-k) > 1 and np.abs(b-w) > alpha:\n",
    "            q.put((w,b))\n",
    "    return w_vect"
   ]
  },
  {
   "cell_type": "code",
   "execution_count": 34,
   "metadata": {
    "collapsed": false
   },
   "outputs": [
    {
     "data": {
      "text/plain": [
       "(17, array([[  1.69088992e-04],\n",
       "        [  6.49045989e-04],\n",
       "        [  3.44234394e-04],\n",
       "        [ -8.31277689e-05],\n",
       "        [  2.15219117e-05],\n",
       "        [ -2.77321009e-06],\n",
       "        [ -9.73680875e-11],\n",
       "        [ -1.32981418e-06],\n",
       "        [  1.67120738e-05],\n",
       "        [ -6.47438523e-05],\n",
       "        [  2.31761089e-04],\n",
       "        [  5.81553745e-03],\n",
       "        [  3.40934277e-04],\n",
       "        [ -1.46514352e-04],\n",
       "        [  1.22397434e-04],\n",
       "        [ -4.00331154e-04],\n",
       "        [  1.98776362e-02],\n",
       "        [  1.08158675e-02],\n",
       "        [ -4.02786663e-04],\n",
       "        [  8.44357674e-05],\n",
       "        [ -2.17463031e-05],\n",
       "        [  2.85566292e-06],\n",
       "        [  4.17659014e-11],\n",
       "        [  8.43188261e-12],\n",
       "        [ -7.33338511e-13],\n",
       "        [  1.29854996e-13],\n",
       "        [  9.33820876e-13],\n",
       "        [ -3.81111901e-12],\n",
       "        [ -1.86034903e-11],\n",
       "        [ -4.87819674e-11],\n",
       "        [ -1.40112250e-04],\n",
       "        [  1.22055278e-02],\n",
       "        [  8.70585390e-04],\n",
       "        [ -3.05489665e-04],\n",
       "        [  1.00437978e-04],\n",
       "        [ -2.90727834e-05],\n",
       "        [  5.18542924e-06],\n",
       "        [  3.85178413e-11],\n",
       "        [  9.03667908e-12],\n",
       "        [ -1.33196384e-12],\n",
       "        [  8.63334766e-14],\n",
       "        [ -3.29128068e-14],\n",
       "        [  7.36758509e-15],\n",
       "        [ -2.63903316e-15],\n",
       "        [  1.08955117e-15],\n",
       "        [ -4.51391700e-16],\n",
       "        [  1.79906926e-16],\n",
       "        [ -6.92434368e-17],\n",
       "        [  2.79712226e-17],\n",
       "        [ -1.24034858e-17]]))"
      ]
     },
     "execution_count": 34,
     "metadata": {},
     "output_type": "execute_result"
    }
   ],
   "source": [
    "non_zero_elemts(1, F_X, f_int_prod_matrix)"
   ]
  },
  {
   "cell_type": "code",
   "execution_count": 35,
   "metadata": {
    "collapsed": false
   },
   "outputs": [
    {
     "name": "stdout",
     "output_type": "stream",
     "text": [
      "put b, w  0.0 50.0\n",
      "put b, w  0.0 25.0\n",
      "put a,w 25.0 12.5\n",
      "put b, w  0.0 12.5\n",
      "put b, w  12.5 18.75\n",
      "put b, w  0.0 6.25\n",
      "put b, w  12.5 15.625\n",
      "put b, w  0.0 3.125\n",
      "put b, w  0.0 1.5625\n",
      "put b, w  0.0 0.78125\n",
      "put a,w 0.78125 0.390625\n",
      "put b, w  0.0 0.390625\n",
      "put b, w  0.390625 0.5859375\n",
      "put b, w  0.0 0.1953125\n",
      "put b, w  0.390625 0.48828125\n",
      "put b, w  0.0 0.09765625\n",
      "put b, w  0.390625 0.439453125\n",
      "put a,w 0.09765625 0.048828125\n",
      "put b, w  0.0 0.048828125\n",
      "put b, w  0.390625 0.4150390625\n",
      "put a,w 0.09765625 0.0732421875\n",
      "put b, w  0.0 0.0244140625\n",
      "put b, w  0.390625 0.40283203125\n",
      "put b, w  0.0732421875 0.08544921875\n"
     ]
    },
    {
     "data": {
      "text/plain": [
       "array([  1.00000000e+02,  -1.00000000e+00,  -1.00000000e+00,\n",
       "        -1.00000000e+00,  -1.00000000e+00,  -1.00000000e+00,\n",
       "        -1.00000000e+00,  -1.00000000e+00,   5.00000000e+01,\n",
       "         2.50000000e+01,   1.56250000e+01,  -1.00000000e+00,\n",
       "         1.25000000e+01,  -1.00000000e+00,   3.12500000e+00,\n",
       "        -1.00000000e+00,   1.56250000e+00,  -1.00000000e+00,\n",
       "         5.85937500e-01,   4.88281250e-01,  -1.00000000e+00,\n",
       "         4.39453125e-01,   3.90625000e-01,   8.54492188e-02,\n",
       "         7.93457031e-02,   4.88281250e-02,   1.22070312e-02,\n",
       "        -1.00000000e+00,  -1.00000000e+00,  -1.00000000e+00,\n",
       "        -1.00000000e+00,  -1.00000000e+00,  -1.00000000e+00,\n",
       "        -1.00000000e+00,  -1.00000000e+00,  -1.00000000e+00,\n",
       "        -1.00000000e+00,  -1.00000000e+00,  -1.00000000e+00,\n",
       "        -1.00000000e+00,  -1.00000000e+00,  -1.00000000e+00,\n",
       "        -1.00000000e+00,  -1.00000000e+00,  -1.00000000e+00,\n",
       "        -1.00000000e+00,  -1.00000000e+00,  -1.00000000e+00,\n",
       "        -1.00000000e+00,   0.00000000e+00])"
      ]
     },
     "execution_count": 35,
     "metadata": {},
     "output_type": "execute_result"
    }
   ],
   "source": [
    "gbm(X, F_X,f_int_prod_matrix)"
   ]
  },
  {
   "cell_type": "code",
   "execution_count": 45,
   "metadata": {
    "collapsed": false
   },
   "outputs": [
    {
     "name": "stdout",
     "output_type": "stream",
     "text": [
      "3.125\n"
     ]
    },
    {
     "data": {
      "text/plain": [
       "15"
      ]
     },
     "execution_count": 45,
     "metadata": {},
     "output_type": "execute_result"
    }
   ],
   "source": [
    "w_test = np.array([  1.00000000e+02,  -1.00000000e+00,  -1.00000000e+00,\n",
    "        -1.00000000e+00,  -1.00000000e+00,  -1.00000000e+00,\n",
    "        -1.00000000e+00,  -1.00000000e+00,   5.00000000e+01,\n",
    "         2.50000000e+01,   1.56250000e+01,  -1.00000000e+00,\n",
    "         1.25000000e+01,  -1.00000000e+00,   3.12500000e+00,\n",
    "        -1.00000000e+00,   1.56250000e+00,  -1.00000000e+00,\n",
    "         5.85937500e-01,   4.88281250e-01,  -1.00000000e+00,\n",
    "         4.39453125e-01,   3.90625000e-01,   8.54492188e-02,\n",
    "         7.93457031e-02,   4.88281250e-02,   1.22070312e-02,\n",
    "        -1.00000000e+00,  -1.00000000e+00,  -1.00000000e+00,\n",
    "        -1.00000000e+00,  -1.00000000e+00,  -1.00000000e+00,\n",
    "        -1.00000000e+00,  -1.00000000e+00,  -1.00000000e+00,\n",
    "        -1.00000000e+00,  -1.00000000e+00,  -1.00000000e+00,\n",
    "        -1.00000000e+00,  -1.00000000e+00,  -1.00000000e+00,\n",
    "        -1.00000000e+00,  -1.00000000e+00,  -1.00000000e+00,\n",
    "        -1.00000000e+00,  -1.00000000e+00,  -1.00000000e+00,\n",
    "        -1.00000000e+00,   0.00000000e+00])\n",
    "print w_test[14]\n",
    "res_test = spades_full(w_test[14],  F_X, f_int_prod_matrix)\n",
    "len(res_test[res_test>1e-10])"
   ]
  },
  {
   "cell_type": "code",
   "execution_count": 65,
   "metadata": {
    "collapsed": false
   },
   "outputs": [],
   "source": [
    "def D_comp(X, j, p):\n",
    "    mask = np.ones(X.shape, dtype=bool)\n",
    "    mask[X.shape[0]/p*j:X.shape[0]/p*(j+1)] = False\n",
    "    return X[mask]\n",
    "\n",
    "def weight_select_proc(X):\n",
    "    f_int_prod_matrix = F_int_prod_matrix()\n",
    "    p=10\n",
    "    #Dj\n",
    "    part_X = []\n",
    "    for i in range(p):\n",
    "        part_X.append(X[X.shape[0]/p*i:X.shape[0]/p*(i+1)])\n",
    "    #we create D-j : D\\Dj\n",
    "    part_X_comp = []\n",
    "    for l in range(K):\n",
    "        part_X_comp.append(D_comp(X,l,p))\n",
    "    L = np.zeros([K,p])\n",
    "    #import pdb; pdb.set_trace()\n",
    "    w_list=[]\n",
    "    for k in range(K):\n",
    "        for j in range(p):\n",
    "            F_X_j = F(part_X_comp[j])\n",
    "            w_k_j = gbm(part_X_comp[j], F_X_j, f_int_prod_matrix)\n",
    "            w_list.append((k,j,w_k_j))\n",
    "            print w_k_j\n",
    "    return w_list"
   ]
  },
  {
   "cell_type": "code",
   "execution_count": null,
   "metadata": {
    "collapsed": false,
    "scrolled": false
   },
   "outputs": [],
   "source": [
    "a = weight_select_proc(X)"
   ]
  },
  {
   "cell_type": "code",
   "execution_count": null,
   "metadata": {
    "collapsed": false
   },
   "outputs": [],
   "source": [
    "mask = np.ones(X.shape, dtype=bool)\n",
    "mask[X.shape[0]/10*3:X.shape[0]/10*(3+1)] = False\n",
    "X[mask]"
   ]
  },
  {
   "cell_type": "code",
   "execution_count": null,
   "metadata": {
    "collapsed": false
   },
   "outputs": [],
   "source": [
    "np.array([[1,2],[4,5]])[0,0]"
   ]
  },
  {
   "cell_type": "code",
   "execution_count": null,
   "metadata": {
    "collapsed": false
   },
   "outputs": [],
   "source": [
    "F_X.shape"
   ]
  },
  {
   "cell_type": "code",
   "execution_count": null,
   "metadata": {
    "collapsed": false
   },
   "outputs": [],
   "source": [
    "pwet = range(K)\n",
    "l =5\n",
    "range(K,5)"
   ]
  },
  {
   "cell_type": "code",
   "execution_count": null,
   "metadata": {
    "collapsed": false
   },
   "outputs": [],
   "source": [
    "pwet[5:]"
   ]
  },
  {
   "cell_type": "code",
   "execution_count": 56,
   "metadata": {
    "collapsed": true
   },
   "outputs": [],
   "source": [
    "@jit\n",
    "def test():\n",
    "    return np.zeros([10,10])"
   ]
  },
  {
   "cell_type": "code",
   "execution_count": 57,
   "metadata": {
    "collapsed": false
   },
   "outputs": [
    {
     "data": {
      "text/plain": [
       "array([[ 0.,  0.,  0.,  0.,  0.,  0.,  0.,  0.,  0.,  0.],\n",
       "       [ 0.,  0.,  0.,  0.,  0.,  0.,  0.,  0.,  0.,  0.],\n",
       "       [ 0.,  0.,  0.,  0.,  0.,  0.,  0.,  0.,  0.,  0.],\n",
       "       [ 0.,  0.,  0.,  0.,  0.,  0.,  0.,  0.,  0.,  0.],\n",
       "       [ 0.,  0.,  0.,  0.,  0.,  0.,  0.,  0.,  0.,  0.],\n",
       "       [ 0.,  0.,  0.,  0.,  0.,  0.,  0.,  0.,  0.,  0.],\n",
       "       [ 0.,  0.,  0.,  0.,  0.,  0.,  0.,  0.,  0.,  0.],\n",
       "       [ 0.,  0.,  0.,  0.,  0.,  0.,  0.,  0.,  0.,  0.],\n",
       "       [ 0.,  0.,  0.,  0.,  0.,  0.,  0.,  0.,  0.,  0.],\n",
       "       [ 0.,  0.,  0.,  0.,  0.,  0.,  0.,  0.,  0.,  0.]])"
      ]
     },
     "execution_count": 57,
     "metadata": {},
     "output_type": "execute_result"
    }
   ],
   "source": [
    "test()"
   ]
  },
  {
   "cell_type": "code",
   "execution_count": null,
   "metadata": {
    "collapsed": true
   },
   "outputs": [],
   "source": []
  }
 ],
 "metadata": {
  "kernelspec": {
   "display_name": "Python 2",
   "language": "python",
   "name": "python2"
  },
  "language_info": {
   "codemirror_mode": {
    "name": "ipython",
    "version": 2
   },
   "file_extension": ".py",
   "mimetype": "text/x-python",
   "name": "python",
   "nbconvert_exporter": "python",
   "pygments_lexer": "ipython2",
   "version": "2.7.12"
  }
 },
 "nbformat": 4,
 "nbformat_minor": 1
}
