{
 "cells": [
  {
   "cell_type": "code",
   "execution_count": 1,
   "metadata": {
    "collapsed": true
   },
   "outputs": [],
   "source": [
    "import math\n",
    "import numpy as np"
   ]
  },
  {
   "cell_type": "code",
   "execution_count": 2,
   "metadata": {
    "collapsed": false
   },
   "outputs": [],
   "source": [
    "%load_ext autoreload\n",
    "%autoreload 2"
   ]
  },
  {
   "cell_type": "code",
   "execution_count": 3,
   "metadata": {
    "collapsed": false
   },
   "outputs": [],
   "source": [
    "%matplotlib inline"
   ]
  },
  {
   "cell_type": "code",
   "execution_count": 97,
   "metadata": {
    "collapsed": false
   },
   "outputs": [],
   "source": [
    "def generate_sample_f_star(N, t=\"uniform\", densities=None, selected_densities=None, s=5, cvx_rand=False, dist_rect=None):\n",
    "    # Generate a sample of n points in [0,1]\n",
    "    # t can be uniform, convex, rect, in the case of convex, a convex combination of elements of gaussian \n",
    "    # densities will be taken with a sparsity s\n",
    "    if t==\"uniform\":\n",
    "        X_ = np.random.uniform(low=0, high=1, size=N)\n",
    "        return X_\n",
    "    if t==\"convex\":\n",
    "        if densities == None:\n",
    "            raise ValueError(\"Densities were not given\")\n",
    "        def generate_points(N, s, densities, selected_densities, sample_repartition_among_clusters):\n",
    "            X = np.zeros(N)\n",
    "            t=0\n",
    "            #We generate the sample according to the selected densities and the weights\n",
    "            for i in range(s):\n",
    "                X_d = densities[selected_densities[i]].rvs(sample_repartition_among_clusters[i])\n",
    "                #We check if X_d is an array or a single element\n",
    "                X_d = X_d if type(X_d)==np.ndarray else np.array([X_d])\n",
    "                X[t:t+X_d.shape[0]] = X_d\n",
    "                t+=X_d.shape[0]\n",
    "            np.random.shuffle(X)\n",
    "            return X\n",
    "        # We select randomly s elements in densities, then we have two possibilities depending on cvx_rand:\n",
    "        # false: equal weight for each densities, w=1/s\n",
    "        # true: random weights\n",
    "        if selected_densities == None:\n",
    "            selected_densities = np.random.choice(len(densities), s, replace=False)\n",
    "        s = len(selected_densities)\n",
    "        print \"selected densities: \", sorted(selected_densities)\n",
    "        if cvx_rand:\n",
    "            #We generate the weights\n",
    "            weights = np.random.randint(N*100, size=(1, s))[0]\n",
    "            weights = 1.*weights/weights.sum()\n",
    "            sample_repartition_among_clusters = np.random.multinomial(N, weights, size=1)[0]\n",
    "            return generate_points(N, s, densities, selected_densities, sample_repartition_among_clusters)\n",
    "        else:\n",
    "            a = round(N/s)*np.ones(s)\n",
    "            #We adjust the size to the last element\n",
    "            a[-1]= a[-1]-(a.sum()-N)\n",
    "            sample_repartition_among_clusters = a.astype(int)\n",
    "            return generate_points(N, s, densities, selected_densities, sample_repartition_among_clusters)\n",
    "    if t==\"rect\":\n",
    "        def prob_estim(x, dist_rect):\n",
    "            for intval in sorted(dist_rect.keys()):\n",
    "                if x <= intval[1]:\n",
    "                    return dist_rect[intval]\n",
    "        X_ = np.linspace(0,1,10*N)\n",
    "        proba = np.array([prob_estim(x, dist_rect) for x in X_])\n",
    "        proba = proba/proba.sum()\n",
    "        return np.random.choice(X_, size=N, p=proba)\n",
    "                \n",
    "            \n",
    "\n",
    "        \n",
    "        \n",
    "        \n",
    "        "
   ]
  },
  {
   "cell_type": "code",
   "execution_count": 115,
   "metadata": {
    "collapsed": false
   },
   "outputs": [
    {
     "data": {
      "image/png": "[encoded data removed]",
      "text/plain": [
       "<matplotlib.figure.Figure at 0x11176fe10>"
      ]
     },
     "metadata": {},
     "output_type": "display_data"
    }
   ],
   "source": [
    "from scipy.stats import multivariate_normal\n",
    "import numpy as np\n",
    "nodes = np.linspace(0, 1, 50)\n",
    "var = 10**(-4)\n",
    "densities = [multivariate_normal(m, var) for m in nodes]\n",
    "dist_rect = {\n",
    "    (0,1./5) : 10./7,\n",
    "    (1./5,2./5) : 5./7,\n",
    "    (2./5,3./5) : 10./7,\n",
    "    (3./5,4./5) : 0,\n",
    "    (4./5,1) : 10./7\n",
    "}\n",
    "X = generate_sample_f_star(10000, t=\"rect\", densities=densities, cvx_rand=False, s=5, dist_rect=dist_rect)\n",
    "#X = generate_sample_f_star(100, t=\"uniform\", densities=densities, cvx_rand=False, s=5, dist_rect=dist_rect)\n",
    "#X = generate_sample_f_star(100, t=\"convex\", densities=densities, cvx_rand=True, s=5, dist_rect=dist_rect)\n",
    "#X = generate_sample_f_star(100, t=\"convex\", densities=densities, selected_densities=[0,15,20,30,40], cvx_rand=False, s=5, dist_rect=dist_rect)\n",
    "import matplotlib.pyplot as plt\n",
    "plt.hist(X, bins=100)  # plt.hist passes it's arguments to np.histogram\n",
    "plt.show()"
   ]
  },
  {
   "cell_type": "code",
   "execution_count": 112,
   "metadata": {
    "collapsed": false
   },
   "outputs": [
    {
     "name": "stdout",
     "output_type": "stream",
     "text": [
      "[(1, 0.04427758676180188), (2, 0.026194037352393444), (3, 0.025188462996163917), (4, 0.026854124836611093), (5, 0.03292358272246875), (6, 0.02333754194449237), (7, 0.02980455798546085), (8, 0.035265991264667576), (9, 0.024041103311145444), (10, 0.01525294982011761), (13, 0.013500548508964788), (14, 0.01065883857965496), (15, 0.014451752173505682), (16, 0.017359710890148115), (18, 0.018883715318213156), (19, 0.013258692455761232), (20, 0.039228970305236595), (21, 0.03935456884964278), (22, 0.024823422334437857), (23, 0.02455705301523418), (24, 0.02483025573653531), (25, 0.03459170101658492), (26, 0.02646102542260378), (27, 0.036766772701147137), (28, 0.031731582948997084), (29, 0.023927362310908657), (40, 0.03565331705910168), (41, 0.04978400438081049), (42, 0.013957495669020112), (43, 0.03197548350519769), (44, 0.03686095130019102), (45, 0.018864954823827582), (46, 0.02640426572389709), (47, 0.022692014621964123), (48, 0.04605784990966162), (49, 0.01274967458798395)]\n"
     ]
    }
   ],
   "source": [
    "from algorithm import WeightEstimator\n",
    "\n",
    "cl = WeightEstimator(densities_dict=densities, select_threshold=10e-3)\n",
    "cl.fit(X)\n",
    "estim_weighted_densities=cl.select_densities()\n",
    "print estim_weighted_densities"
   ]
  },
  {
   "cell_type": "markdown",
   "metadata": {},
   "source": [
    "# Evaluation"
   ]
  },
  {
   "cell_type": "code",
   "execution_count": null,
   "metadata": {
    "collapsed": true
   },
   "outputs": [],
   "source": []
  }
 ],
 "metadata": {
  "kernelspec": {
   "display_name": "Python 2",
   "language": "python",
   "name": "python2"
  },
  "language_info": {
   "codemirror_mode": {
    "name": "ipython",
    "version": 2
   },
   "file_extension": ".py",
   "mimetype": "text/x-python",
   "name": "python",
   "nbconvert_exporter": "python",
   "pygments_lexer": "ipython2",
   "version": "2.7.12"
  }
 },
 "nbformat": 4,
 "nbformat_minor": 1
}
