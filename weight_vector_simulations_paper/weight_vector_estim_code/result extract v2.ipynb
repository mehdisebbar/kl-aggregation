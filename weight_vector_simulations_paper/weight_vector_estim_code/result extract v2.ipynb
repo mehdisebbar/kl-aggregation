{
 "cells": [
  {
   "cell_type": "code",
   "execution_count": 15,
   "metadata": {
    "collapsed": false
   },
   "outputs": [],
   "source": [
    "#Note: we denote L2 for euclidian norm and l2 for function norm (we switched the standard nomenclature)\n",
    "%load_ext autoreload\n",
    "%autoreload 2\n",
    "%matplotlib inline"
   ]
  },
  {
   "cell_type": "markdown",
   "metadata": {},
   "source": [
    "# Extracting the results"
   ]
  },
  {
   "cell_type": "code",
   "execution_count": 16,
   "metadata": {
    "collapsed": false
   },
   "outputs": [],
   "source": [
    "from os import listdir\n",
    "from os.path import isfile, join\n",
    "import pickle\n",
    "import pandas as pd\n",
    "\n",
    "folder = \"/Users/mehdi/Documents/WorkingFolder/PHd/weight_vector_simulations_paper/weight_vector_estim_code/2017-06-09_12.08.38/\"\n",
    "onlyfiles = [f for f in listdir(folder) if (isfile(join(folder, f)) and f.startswith(\"res_K\"))]\n",
    "\n",
    "def data_extract_from_files(onlyfiles):\n",
    "    for f in onlyfiles:\n",
    "        yield pickle.load(open(folder+f)), f"
   ]
  },
  {
   "cell_type": "code",
   "execution_count": 17,
   "metadata": {
    "collapsed": false
   },
   "outputs": [
    {
     "name": "stderr",
     "output_type": "stream",
     "text": [
      "/usr/local/lib/python2.7/site-packages/sklearn/base.py:315: UserWarning: Trying to unpickle estimator GaussianMixture from version 0.18.1 when using version 0.18. This might lead to breaking code or invalid results. Use at your own risk.\n",
      "  UserWarning)\n"
     ]
    }
   ],
   "source": [
    "data_tree = {}\n",
    "for k in [0, 10,50,100]:\n",
    "    data_tree[k]={}\n",
    "    for n in [100 , 500, 1000]:\n",
    "        data_tree[k][n]=[]\n",
    "        \n",
    "for f in onlyfiles:\n",
    "    split = f.split('K')[1].split(\"N\")\n",
    "    for K in [0, 10,50,100]:\n",
    "        if split[0]==str(K):\n",
    "            K_ = K\n",
    "    if split[1].startswith(\"500\"):\n",
    "        N_ = 500\n",
    "    else :\n",
    "        if pickle.load(open(folder+f))[\"rect_data\"].shape[0] == 100:\n",
    "            N_ = 100\n",
    "        else:\n",
    "            N_ = 1000\n",
    "    data_tree[K_][N_].append(f)"
   ]
  },
  {
   "cell_type": "code",
   "execution_count": 18,
   "metadata": {
    "collapsed": false
   },
   "outputs": [],
   "source": [
    "import numpy as np\n",
    "import uuid\n"
   ]
  },
  {
   "cell_type": "code",
   "execution_count": 19,
   "metadata": {
    "collapsed": false
   },
   "outputs": [],
   "source": [
    "from scipy.stats import multivariate_normal\n",
    "\n",
    "def construct_pdf_gmm(model, n_pdf):\n",
    "    \"\"\"\n",
    "    Construct the pdf of the estimated Gaussian mixture\n",
    "    \"\"\"\n",
    "    components = []\n",
    "    for m, var in zip(model.means_, model.covariances_):\n",
    "        components.append(multivariate_normal(m, var)) \n",
    "    return np.apply_along_axis(lambda x: model.weights_.dot(np.array([d.pdf(x) for d in components])), 0, np.linspace(0,1,n_pdf))   "
   ]
  },
  {
   "cell_type": "code",
   "execution_count": 20,
   "metadata": {
    "collapsed": true
   },
   "outputs": [],
   "source": [
    "from pythonABC.hselect import hsj\n",
    "from scipy.stats import gaussian_kde\n",
    "from scipy.stats import entropy\n",
    "\n",
    "def get_non_zero_weights(v):\n",
    "    return np.array(zip(*[(idx, val) for (idx, val) in  enumerate(v) if val !=0]))\n",
    "\n",
    "def results_extract(r):\n",
    "    #return dict\n",
    "    #\n",
    "    densities = r[\"densities\"]\n",
    "    res = {}\n",
    "    for type_dens in [\"lapl_gauss\", \"uniform\", \"rect\", \"lapl_gauss_not_dict\", \"gauss\"]:\n",
    "        f_star = r[type_dens+\"_f_star\"]\n",
    "        n_pdf = f_star.shape[0]\n",
    "        x = np.linspace(0,1,n_pdf)\n",
    "        #extract weight_estim\n",
    "        res_weights_estim = r[type_dens+\"_weight_vector_estim_lambda\"]\n",
    "        selected_densities_estim, weights_estim = get_non_zero_weights(res_weights_estim)\n",
    "        f_weight_estim = np.apply_along_axis(lambda x: weights_estim.dot(np.array([densities[i].pdf(x) for i in selected_densities_estim.astype(int)])), 0, np.linspace(0,1,n_pdf))\n",
    "        #removing non positive values:\n",
    "        f_weight_estim[f_weight_estim <= 0] == 1e-20\n",
    "        #extract adapative_dantzig\n",
    "        lambda_adapative_dantzig = r[type_dens+\"_adapative_dantzig\"]\n",
    "        f_adapative_dantzig = np.apply_along_axis(lambda x: lambda_adapative_dantzig.dot(np.array([d.pdf(x) for d in densities])), 0, np.linspace(0,1,n_pdf))        \n",
    "        #removing non positive values:\n",
    "        f_adapative_dantzig[f_adapative_dantzig <= 0] == 1e-20\n",
    "        #Extract KDE\n",
    "        f_kde= r[type_dens+\"_kde\"]\n",
    "        #Extract KDE-hsj\n",
    "        f_kde_hsj= r[type_dens+\"_kde_hsj\"]        \n",
    "        #Perform kernel density estim\n",
    "        res[type_dens+\"_L2_norm_weight_estim\"] = 1./n_pdf*np.linalg.norm(f_star-f_weight_estim,axis=0)**2\n",
    "        res[type_dens+\"_KL_div_weight_estim\"] = entropy(f_star, f_weight_estim)\n",
    "        res[type_dens+\"_L2_norm_adapative_dantzig\"] = 1./n_pdf*np.linalg.norm(f_star-f_adapative_dantzig,axis=0)**2\n",
    "        res[type_dens+\"_KL_div_adapative_dantzig\"] = entropy(f_star, f_adapative_dantzig)\n",
    "        res[type_dens+\"_L2_norm_kde\"] = 1./n_pdf*np.linalg.norm(f_star-f_kde,axis=0)**2\n",
    "        res[type_dens+\"_KL_div_kde\"] = entropy(f_star, f_kde)\n",
    "        res[type_dens+\"_L2_norm_kde_hsj\"] = 1./n_pdf*np.linalg.norm(f_star-f_kde_hsj,axis=0)**2\n",
    "        res[type_dens+\"_KL_div_kde_hsj\"] = entropy(f_star, f_kde_hsj)\n",
    "        if type_dens == \"cvx\":\n",
    "            cvx_lambda_fstar = cvx_lambda_f_star(len(densities), r[\"selected_densities\"])\n",
    "            res[type_dens+\"_L2_lambda_adapative_dantzig\"] = np.linalg.norm(cvx_lambda_fstar- r[\"cvx_adapative_dantzig\"])\n",
    "            res[type_dens+\"_L2_lambda_weight_estim\"] = np.linalg.norm(cvx_lambda_fstar- extract_lambda(r[\"cvx_weight_vector_estim_lambda\"],len(densities)))\n",
    "        #extract MLE GMM\n",
    "        f_em_bic = construct_pdf_gmm(r[type_dens+\"_mle_bic_model\"], n_pdf=n_pdf)\n",
    "        res[type_dens+\"_KL_div_em_bic\"] = entropy(f_star, f_em_bic)\n",
    "        res[type_dens+\"_L2_norm_em_bic\"] = 1./n_pdf*np.linalg.norm(f_star-f_em_bic,axis=0)**2\n",
    "        #temps\n",
    "        res[type_dens+\"_mle_time\"] = r[type_dens+\"_mle_time\"]\n",
    "        res[type_dens+\"_kde_time\"] = r[type_dens+\"_kde_time\"]\n",
    "        res[type_dens+\"_kde_sj_time\"] = r[type_dens+\"_kde_sj_time\"]\n",
    "        res[type_dens+\"_ad_time\"] = r[type_dens+\"_ad_time\"]\n",
    "        res[type_dens+\"_em_bic_time\"] = r[type_dens+\"_mle_bic_time\"]\n",
    "    return res"
   ]
  },
  {
   "cell_type": "code",
   "execution_count": 21,
   "metadata": {
    "collapsed": true
   },
   "outputs": [],
   "source": [
    "#cvx case:\n",
    "def dataframe_gen(temp_res, type_f_star):\n",
    "    data = {type_f_star+\"_KL_div_weight_estim\":[],\n",
    "            type_f_star+\"_KL_div_adapative_dantzig\":[],\n",
    "            type_f_star+\"_KL_div_kde\":[],\n",
    "            type_f_star+\"_KL_div_kde_hsj\":[],\n",
    "            type_f_star+\"_L2_norm_weight_estim\":[],\n",
    "            type_f_star+\"_L2_norm_adapative_dantzig\":[],\n",
    "            type_f_star+\"_L2_norm_kde\":[],\n",
    "            type_f_star+\"_L2_norm_kde_hsj\":[],\n",
    "            type_f_star+\"_KL_div_em_bic\":[],\n",
    "            type_f_star+\"_L2_norm_em_bic\":[],\n",
    "            type_f_star+\"_mle_time\": [],\n",
    "            type_f_star+\"_kde_time\": [],\n",
    "            type_f_star+\"_kde_sj_time\": [],\n",
    "            type_f_star+\"_ad_time\": [],\n",
    "            type_f_star+\"_em_bic_time\": []\n",
    "           }\n",
    "    if type_f_star == \"cvx\":\n",
    "        data[\"cvx_L2_lambda_weight_estim\"] = [temp_res[\"cvx_L2_lambda_weight_estim\"]]\n",
    "        data[\"cvx_L2_lambda_adapative_dantzig\"] = [temp_res[\"cvx_L2_lambda_adapative_dantzig\"]]\n",
    "\n",
    "    data[type_f_star+\"_KL_div_weight_estim\"].append(temp_res[type_f_star+\"_KL_div_weight_estim\"])\n",
    "    data[type_f_star+\"_KL_div_adapative_dantzig\"].append(temp_res[type_f_star+\"_KL_div_adapative_dantzig\"])\n",
    "    data[type_f_star+\"_KL_div_kde\"].append(temp_res[type_f_star+\"_KL_div_kde\"])\n",
    "    data[type_f_star+\"_KL_div_kde_hsj\"].append(temp_res[type_f_star+\"_KL_div_kde_hsj\"])\n",
    "    data[type_f_star+\"_KL_div_em_bic\"].append(temp_res[type_f_star+\"_KL_div_em_bic\"])\n",
    "    data[type_f_star+\"_L2_norm_weight_estim\"].append(temp_res[type_f_star+\"_L2_norm_weight_estim\"])\n",
    "    data[type_f_star+\"_L2_norm_adapative_dantzig\"].append(temp_res[type_f_star+\"_L2_norm_adapative_dantzig\"])\n",
    "    data[type_f_star+\"_L2_norm_kde\"].append(temp_res[type_f_star+\"_L2_norm_kde\"])\n",
    "    data[type_f_star+\"_L2_norm_kde_hsj\"].append(temp_res[type_f_star+\"_L2_norm_kde_hsj\"])\n",
    "    data[type_f_star+\"_L2_norm_em_bic\"].append(temp_res[type_f_star+\"_L2_norm_em_bic\"])\n",
    "    data[type_f_star+\"_mle_time\"].append(temp_res[type_f_star+\"_mle_time\"])\n",
    "    data[type_f_star+\"_kde_time\"].append(temp_res[type_f_star+\"_kde_time\"])\n",
    "    data[type_f_star+\"_kde_sj_time\"].append(temp_res[type_f_star+\"_kde_sj_time\"])\n",
    "    data[type_f_star+\"_ad_time\"].append(temp_res[type_f_star+\"_ad_time\"])\n",
    "    data[type_f_star+\"_em_bic_time\"].append(temp_res[type_f_star+\"_em_bic_time\"])\n",
    "    \n",
    "    return pd.DataFrame(data)"
   ]
  },
  {
   "cell_type": "code",
   "execution_count": 22,
   "metadata": {
    "collapsed": false
   },
   "outputs": [],
   "source": [
    "df_results = None\n",
    "for K in [0]:\n",
    "    for N in [100, 500, 1000]:\n",
    "        object_list = data_extract_from_files(data_tree[K][N])\n",
    "        for r, f in object_list:\n",
    "            res_extract = results_extract(r)\n",
    "            res = None\n",
    "            for type_f_star in [\"lapl_gauss\", \"uniform\", \"rect\", \"lapl_gauss_not_dict\", \"gauss\"]:\n",
    "                df_extract_temp = dataframe_gen(res_extract, type_f_star)\n",
    "                if type(res) == pd.core.frame.DataFrame:\n",
    "                    res = res.join(df_extract_temp)\n",
    "                else:\n",
    "                    res = df_extract_temp\n",
    "            res = res.join(pd.DataFrame({\"K\":[K],\"N\":[N], \"file\":f}))\n",
    "            if type(df_results) == pd.core.frame.DataFrame:\n",
    "                    df_results = df_results.append(res)\n",
    "            else:\n",
    "                    df_results = res\n",
    "                    "
   ]
  },
  {
   "cell_type": "code",
   "execution_count": 23,
   "metadata": {
    "collapsed": false
   },
   "outputs": [],
   "source": [
    "def retrieve_type(row):\n",
    "    type_row=row[\"Type\"]\n",
    "    type_dens = \"None\"\n",
    "    if \"KL\" in type_row:\n",
    "        metric = \"KL\"\n",
    "    else:\n",
    "        metric = \"L2\"\n",
    "    for t in [\"lapl_gauss_not_dict\", \"lapl_gauss\", \"uniform\", \"rect\", \"gauss\"]:\n",
    "        if t == type_row.split(\"_\"+metric)[0]:\n",
    "            type_dens = t\n",
    "    if \"weight_estim\" in type_row:\n",
    "            method = \"MLE\"\n",
    "    if \"adapative_dantzig\" in type_row:\n",
    "            method = \"A.D\"\n",
    "    if \"kde\" in type_row:\n",
    "            if \"hsj\" in type_row:\n",
    "                method = \"KDE SJ\"\n",
    "            else:\n",
    "                method = \"KDE\"\n",
    "    if \"bic\" in type_row:\n",
    "            method = \"EM-BIC\"    \n",
    "    return pd.Series({\"metric\":metric, \"type_dens\":type_dens, \"method\": method})\n",
    "df_results.to_csv(\"./full_results_N_100_500_1000_09-06-2017.csv\")\n",
    "df_without_times = df_results[[c for c in df_results.columns if \"time\" not in c]]\n",
    "df3 = pd.melt(df_without_times.drop([\"K\",\"file\"], axis=1), id_vars=[\"N\"], var_name=\"Type\", value_name=\"Loss\")\n",
    "df5 = pd.concat([df3,df3.apply(retrieve_type, axis=1)], axis=1)\n",
    "df5.to_csv(\"./cleaned_results_N_100_500_1000_09-06-2017.csv\")"
   ]
  },
  {
   "cell_type": "code",
   "execution_count": null,
   "metadata": {
    "collapsed": false
   },
   "outputs": [],
   "source": []
  },
  {
   "cell_type": "markdown",
   "metadata": {},
   "source": [
    "# Generation plots of Thesis Document"
   ]
  },
  {
   "cell_type": "code",
   "execution_count": 2,
   "metadata": {
    "collapsed": false
   },
   "outputs": [
    {
     "data": {
      "text/plain": [
       "{'A.D', 'EM-BIC', 'KDE', 'KDE SJ', 'MLE'}"
      ]
     },
     "execution_count": 2,
     "metadata": {},
     "output_type": "execute_result"
    }
   ],
   "source": [
    "import pandas as pd\n",
    "df5 = pd.read_csv(\"./cleaned_results_N_100_500_1000_09-06-2017.csv\")\n",
    "set(df5[\"method\"])"
   ]
  },
  {
   "cell_type": "code",
   "execution_count": 24,
   "metadata": {
    "collapsed": true
   },
   "outputs": [],
   "source": [
    "%matplotlib inline"
   ]
  },
  {
   "cell_type": "code",
   "execution_count": 231,
   "metadata": {
    "collapsed": false
   },
   "outputs": [],
   "source": [
    "import seaborn as sns\n",
    "def generate_boxplots(df, type_dens, metric):\n",
    "    plt.figure(figsize=(5,5))\n",
    "    sns.set_style(\"whitegrid\")\n",
    "    sns.despine()\n",
    "    sns.set_context(\"notebook\", font_scale=1, rc={\"lines.linewidth\": 1})\n",
    "    boxplot = sns.boxplot(x=\"method\", y=\"Loss\", hue=\"N\", data=df[(df.metric==metric) & (df.type_dens==type_dens)],\n",
    "                         palette=[\"#ff6666\", \"#ffd966\", \"#b3ff66\"])\n",
    "    for patch in boxplot.artists:\n",
    "        r, g, b, a = patch.get_facecolor()\n",
    "        patch.set_facecolor((r, g, b, 1))    \n",
    "    sns_plot = boxplot.get_figure()\n",
    "    sns_plot.savefig(\"../../phd-thesis/TeX_files/output_\"+type_dens+\"_\"+metric+\".png\")\n"
   ]
  },
  {
   "cell_type": "code",
   "execution_count": 232,
   "metadata": {
    "collapsed": false
   },
   "outputs": [
    {
     "data": {
      "image/png": "[encoded data removed]",
      "text/plain": [
       "<matplotlib.figure.Figure at 0x1123bfed0>"
      ]
     },
     "metadata": {},
     "output_type": "display_data"
    }
   ],
   "source": [
    "generate_boxplots(df5, \"uniform\", \"L2\")"
   ]
  },
  {
   "cell_type": "code",
   "execution_count": null,
   "metadata": {
    "collapsed": false
   },
   "outputs": [
    {
     "data": {
      "image/png": "[encoded data removed]",
      "text/plain": [
       "<matplotlib.figure.Figure at 0x1163a5d10>"
      ]
     },
     "metadata": {},
     "output_type": "display_data"
    }
   ],
   "source": [
    "for type_dens in df5.type_dens.unique():\n",
    "    for metric in [\"KL\", \"L2\"]:\n",
    "        generate_boxplots(df5, type_dens, metric)"
   ]
  },
  {
   "cell_type": "code",
   "execution_count": 12,
   "metadata": {
    "collapsed": false,
    "scrolled": true
   },
   "outputs": [],
   "source": [
    "import matplotlib.pyplot as plt\n",
    "import seaborn as sns\n",
    "def test(df, type_dens, metric):\n",
    "    plt.figure(figsize=(10,5))\n",
    "    boxplot = sns.boxplot(x=\"method\", y=\"Loss\", hue=\"N\", data=df[(df.metric==metric) & (df.type_dens==type_dens)],\n",
    "                         palette=[\"#ff6666\", \"#ffd966\", \"#b3ff66\"])\n",
    "    for patch in boxplot.artists:\n",
    "        r, g, b, a = patch.get_facecolor()\n",
    "        patch.set_facecolor((r, g, b, 1))\n",
    "    boxplot.set_xlabel('')\n",
    "    if metric == 'L2':\n",
    "        boxplot.set_ylabel(r'$L_2$-Loss')\n",
    "    else:\n",
    "        boxplot.set_ylabel(metric+'-Loss')\n",
    "    sns_plot = boxplot.get_figure()\n",
    "    for ax in sns_plot.get_axes():\n",
    "        ax.set_yscale('log')\n",
    "    sns_plot = boxplot.get_figure()\n",
    "    sns_plot.savefig(\"../../phd-thesis/TeX_files/res_\"+type_dens+\"_\"+metric, dpi=100, transparent=True, bbox_inches='tight', pad_inches=0)\n",
    "\n",
    "\n",
    "\n",
    "for type_dens_list in ['uniform', 'rect', 'gauss', 'lapl_gauss','lapl_gauss_not_dict']:\n",
    "    plt.subplots(figsize=(20,5))\n",
    "    plt.rc('text', usetex=True)\n",
    "    plt.rc('font', family='serif')\n",
    "    sns.set_style(\"whitegrid\")\n",
    "    sns.despine()\n",
    "    sns.set_context(\"notebook\", font_scale=2, rc={\"lines.linewidth\": 1})\n",
    "    for type_dens in [type_dens_list]:\n",
    "        for metric in [\"KL\", \"L2\"]:\n",
    "            test(df5, type_dens, metric)\n",
    "            "
   ]
  },
  {
   "cell_type": "markdown",
   "metadata": {},
   "source": [
    "# Time graphs"
   ]
  },
  {
   "cell_type": "code",
   "execution_count": 132,
   "metadata": {
    "collapsed": true
   },
   "outputs": [],
   "source": [
    "def retrieve_type2(row, metric=True):\n",
    "    type_row=row[\"Type\"]\n",
    "    type_dens = \"None\"\n",
    "    for t in [\"uniform\", \"rect\", \"gauss\", \"lapl_gauss\", \"lapl_gauss_not_dict\"]:\n",
    "        if t in type_row:\n",
    "            type_dens = t\n",
    "    if \"mle\" in type_row:\n",
    "            method = \"MLE\"\n",
    "    if \"ad\" in type_row:\n",
    "            method = \"A.D\"\n",
    "    if \"kde\" in type_row:\n",
    "            if \"sj\" in type_row:\n",
    "                method = \"KDE SJ\"\n",
    "            else:\n",
    "                method = \"KDE\"\n",
    "    if \"bic\" in type_row:\n",
    "            method = \"EM-BIC\"\n",
    "    return pd.Series({\"type_dens\":type_dens, \"method\":method})"
   ]
  },
  {
   "cell_type": "code",
   "execution_count": 133,
   "metadata": {
    "collapsed": false
   },
   "outputs": [],
   "source": [
    "selected_time_col = [\"N\"]+[c for c in df_results.columns if \"time\" in c]\n",
    "df6 = df_results[selected_time_col]\n",
    "df7 = pd.melt(df6, id_vars=[\"N\"], var_name=\"Type\", value_name=\"Time\")\n",
    "df_times = pd.concat([df7, df7.apply(retrieve_type2, axis=1)], axis=1)\n",
    "df_times.to_csv(\"./times_N_100_500_1000_09-06-2017.csv\")"
   ]
  },
  {
   "cell_type": "code",
   "execution_count": 162,
   "metadata": {
    "collapsed": false
   },
   "outputs": [],
   "source": [
    "from matplotlib import rc\n",
    "rc('font',**{'family':'sans-serif','sans-serif':['Helvetica']})\n",
    "## for Palatino and other serif fonts use:\n",
    "#rc('font',**{'family':'serif','serif':['Palatino']})\n",
    "rc('text', usetex=True)"
   ]
  },
  {
   "cell_type": "code",
   "execution_count": 163,
   "metadata": {
    "collapsed": false
   },
   "outputs": [
    {
     "data": {
      "image/png": "[encoded data removed]",
      "text/plain": [
       "<matplotlib.figure.Figure at 0x123097310>"
      ]
     },
     "metadata": {},
     "output_type": "display_data"
    }
   ],
   "source": [
    "boxplot = sns.boxplot(x=\"method\", y=\"Time\", hue=\"N\", data=df_times,\n",
    "                         palette=[\"#ff6666\", \"#ffd966\", \"#b3ff66\"])"
   ]
  },
  {
   "cell_type": "code",
   "execution_count": 169,
   "metadata": {
    "collapsed": false
   },
   "outputs": [
    {
     "data": {
      "image/png": "[encoded data removed]",
      "text/plain": [
       "<matplotlib.figure.Figure at 0x120b7d790>"
      ]
     },
     "metadata": {},
     "output_type": "display_data"
    },
    {
     "data": {
      "image/png": "[encoded data removed]",
      "text/plain": [
       "<matplotlib.figure.Figure at 0x127b5eb50>"
      ]
     },
     "metadata": {},
     "output_type": "display_data"
    },
    {
     "data": {
      "image/png": "[encoded data removed]",
      "text/plain": [
       "<matplotlib.figure.Figure at 0x12780d090>"
      ]
     },
     "metadata": {},
     "output_type": "display_data"
    },
    {
     "data": {
      "image/png": "[encoded data removed]",
      "text/plain": [
       "<matplotlib.figure.Figure at 0x11ee65650>"
      ]
     },
     "metadata": {},
     "output_type": "display_data"
    },
    {
     "data": {
      "image/png": "[encoded data removed]",
      "text/plain": [
       "<matplotlib.figure.Figure at 0x11677db10>"
      ]
     },
     "metadata": {},
     "output_type": "display_data"
    }
   ],
   "source": [
    "for type_dens in [\"uniform\", \"rect\", \"gauss\", \"lapl_gauss\", \"lapl_gauss_not_dict\"]:\n",
    "    plt.figure(figsize=(10,5))\n",
    "    df_temp = df_times[df_times[\"type_dens\"]==type_dens]\n",
    "    boxplot = sns.boxplot(x=\"method\", y=\"Time\", hue=\"N\", data=df_temp,\n",
    "                         palette=[\"#ff6666\", \"#ffd966\", \"#b3ff66\"])\n",
    "    for patch in boxplot.artists:\n",
    "        r, g, b, a = patch.get_facecolor()\n",
    "        patch.set_facecolor((r, g, b, 1))\n",
    "    boxplot.set_xlabel('')\n",
    "    boxplot.set_ylabel(\"log of time in s\")\n",
    "    sns_plot = boxplot.get_figure()\n",
    "    for ax in sns_plot.get_axes():\n",
    "        ax.set_yscale('log')\n",
    "        ax.legend(bbox_to_anchor=(0, 0))\n",
    "    plt.legend()\n",
    "    sns_plot = boxplot.get_figure()\n",
    "    sns_plot.savefig(\"../../phd-thesis/TeX_files/res_\"+type_dens+\"_times\", dpi=100, transparent=True, bbox_inches='tight', pad_inches=0)\n",
    "    \n"
   ]
  },
  {
   "cell_type": "code",
   "execution_count": 129,
   "metadata": {
    "collapsed": false
   },
   "outputs": [
    {
     "data": {
      "text/plain": [
       "{'A.D', 'EM-BIC', 'KDE', 'MLE'}"
      ]
     },
     "execution_count": 129,
     "metadata": {},
     "output_type": "execute_result"
    }
   ],
   "source": [
    "set(df_times[\"method\"])"
   ]
  },
  {
   "cell_type": "code",
   "execution_count": 152,
   "metadata": {
    "collapsed": false
   },
   "outputs": [
    {
     "name": "stdout",
     "output_type": "stream",
     "text": [
      "A.D lapl_gauss_not_dict 36.7971072826\n",
      "A.D gauss 36.7338945569\n",
      "A.D lapl_gauss 36.9801004966\n",
      "A.D rect 36.4985946966\n",
      "A.D uniform 35.960048531\n",
      "KDE lapl_gauss_not_dict 0.000968456990791\n",
      "KDE gauss 0.000881979682229\n",
      "KDE lapl_gauss 0.000943643035311\n",
      "KDE rect 0.00107781634186\n",
      "KDE uniform 0.000753101435575\n",
      "MLE lapl_gauss_not_dict 0.742347902601\n",
      "MLE gauss 0.402376371803\n",
      "MLE lapl_gauss 1.26917068778\n",
      "MLE rect 0.757463545872\n",
      "MLE uniform 0.749637297789\n",
      "EM-BIC lapl_gauss_not_dict 0.648249967893\n",
      "EM-BIC gauss 0.716014663378\n",
      "EM-BIC lapl_gauss 0.798619221196\n",
      "EM-BIC rect 0.726409083424\n",
      "EM-BIC uniform 0.70628320051\n",
      "KDE SJ lapl_gauss_not_dict 4.36580923904\n",
      "KDE SJ gauss 9.23305264459\n",
      "KDE SJ lapl_gauss 7.85552396919\n",
      "KDE SJ rect 6.0317786401\n",
      "KDE SJ uniform 3.01914943168\n"
     ]
    }
   ],
   "source": [
    "for method in set(df_times[\"method\"]):\n",
    "    for type_dens in set(df_times[\"type_dens\"]):\n",
    "        print method+\" \"+type_dens+\" \"+ str(df_times[(df_times[\"method\"]==method) & (df_times[\"type_dens\"]==type_dens)][\"Time\"].mean())"
   ]
  },
  {
   "cell_type": "code",
   "execution_count": 160,
   "metadata": {
    "collapsed": false
   },
   "outputs": [],
   "source": [
    "df8 = df_times.groupby([\"N\",\"method\",\"type_dens\"])['Time'].median()"
   ]
  },
  {
   "cell_type": "code",
   "execution_count": 161,
   "metadata": {
    "collapsed": false
   },
   "outputs": [
    {
     "data": {
      "text/plain": [
       "N     method  type_dens          \n",
       "100   A.D     gauss                   6.349774\n",
       "              lapl_gauss              6.362319\n",
       "              lapl_gauss_not_dict     6.267431\n",
       "              rect                    6.257073\n",
       "              uniform                 6.119935\n",
       "      EM-BIC  gauss                   0.433444\n",
       "              lapl_gauss              0.496767\n",
       "              lapl_gauss_not_dict     0.433443\n",
       "              rect                    0.516396\n",
       "              uniform                 0.513456\n",
       "      KDE     gauss                   0.000241\n",
       "              lapl_gauss              0.000241\n",
       "              lapl_gauss_not_dict     0.000249\n",
       "              rect                    0.000243\n",
       "              uniform                 0.000241\n",
       "      KDE SJ  gauss                   0.087767\n",
       "              lapl_gauss              0.160714\n",
       "              lapl_gauss_not_dict     0.109815\n",
       "              rect                    0.180218\n",
       "              uniform                 0.072813\n",
       "      MLE     gauss                   0.211851\n",
       "              lapl_gauss              0.412759\n",
       "              lapl_gauss_not_dict     0.328927\n",
       "              rect                    0.305770\n",
       "              uniform                 0.318891\n",
       "500   A.D     gauss                  35.089105\n",
       "              lapl_gauss             35.522207\n",
       "              lapl_gauss_not_dict    35.378233\n",
       "              rect                   34.500985\n",
       "              uniform                33.317569\n",
       "                                       ...    \n",
       "      MLE     gauss                   0.405010\n",
       "              lapl_gauss              1.061219\n",
       "              lapl_gauss_not_dict     0.741646\n",
       "              rect                    0.684985\n",
       "              uniform                 0.640163\n",
       "1000  A.D     gauss                  75.319600\n",
       "              lapl_gauss             75.995066\n",
       "              lapl_gauss_not_dict    75.369438\n",
       "              rect                   75.394418\n",
       "              uniform                73.698923\n",
       "      EM-BIC  gauss                   1.022303\n",
       "              lapl_gauss              1.175467\n",
       "              lapl_gauss_not_dict     0.964571\n",
       "              rect                    0.973997\n",
       "              uniform                 0.997245\n",
       "      KDE     gauss                   0.000275\n",
       "              lapl_gauss              0.000276\n",
       "              lapl_gauss_not_dict     0.000274\n",
       "              rect                    0.000275\n",
       "              uniform                 0.000272\n",
       "      KDE SJ  gauss                  22.042898\n",
       "              lapl_gauss             19.050958\n",
       "              lapl_gauss_not_dict    10.888859\n",
       "              rect                   14.434498\n",
       "              uniform                 7.499381\n",
       "      MLE     gauss                   0.580597\n",
       "              lapl_gauss              1.982786\n",
       "              lapl_gauss_not_dict     1.128386\n",
       "              rect                    1.246362\n",
       "              uniform                 1.022472\n",
       "Name: Time, dtype: float64"
      ]
     },
     "execution_count": 161,
     "metadata": {},
     "output_type": "execute_result"
    }
   ],
   "source": [
    "df8"
   ]
  },
  {
   "cell_type": "code",
   "execution_count": 168,
   "metadata": {
    "collapsed": false
   },
   "outputs": [
    {
     "data": {
      "image/png": "[encoded data removed]",
      "text/plain": [
       "<matplotlib.figure.Figure at 0x111302250>"
      ]
     },
     "metadata": {},
     "output_type": "display_data"
    }
   ],
   "source": [
    "#merge all types of densities\n",
    "plt.figure(figsize=(10,5))\n",
    "boxplot = sns.boxplot(x=\"method\", y=\"Time\", hue=\"N\", data=df_times,\n",
    "                     palette=[\"#ff6666\", \"#ffd966\", \"#b3ff66\"])\n",
    "for patch in boxplot.artists:\n",
    "    r, g, b, a = patch.get_facecolor()\n",
    "    patch.set_facecolor((r, g, b, 1))\n",
    "boxplot.set_xlabel('')\n",
    "boxplot.set_ylabel(\"log of time in s\")\n",
    "sns_plot = boxplot.get_figure()\n",
    "for ax in sns_plot.get_axes():\n",
    "    ax.set_yscale('log')\n",
    "sns_plot = boxplot.get_figure()\n",
    "sns_plot.savefig(\"../../phd-thesis/TeX_files/res_times\", dpi=100, transparent=True, bbox_inches='tight', pad_inches=0)\n",
    "\n"
   ]
  },
  {
   "cell_type": "code",
   "execution_count": 174,
   "metadata": {
    "collapsed": true
   },
   "outputs": [],
   "source": []
  }
 ],
 "metadata": {
  "kernelspec": {
   "display_name": "Python 2",
   "language": "python",
   "name": "python2"
  },
  "language_info": {
   "codemirror_mode": {
    "name": "ipython",
    "version": 2
   },
   "file_extension": ".py",
   "mimetype": "text/x-python",
   "name": "python",
   "nbconvert_exporter": "python",
   "pygments_lexer": "ipython2",
   "version": "2.7.12"
  }
 },
 "nbformat": 4,
 "nbformat_minor": 1
}
