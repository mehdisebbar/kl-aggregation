{
 "cells": [
  {
   "cell_type": "code",
   "execution_count": 1,
   "metadata": {
    "collapsed": true
   },
   "outputs": [],
   "source": [
    "#Note: we denote L2 for euclidian norm and l2 for function norm (we switched the standard nomenclature)\n",
    "%load_ext autoreload\n",
    "%autoreload 2\n",
    "%matplotlib inline"
   ]
  },
  {
   "cell_type": "markdown",
   "metadata": {},
   "source": [
    "# Extracting the results"
   ]
  },
  {
   "cell_type": "code",
   "execution_count": 68,
   "metadata": {
    "collapsed": true
   },
   "outputs": [],
   "source": [
    "from os import listdir\n",
    "from os.path import isfile, join\n",
    "import pickle\n",
    "import pandas as pd\n",
    "\n",
    "folder = \"./simus_n_1000_27-04-2017/\"\n",
    "onlyfiles = [f for f in listdir(folder) if (isfile(join(folder, f)) and f.startswith(\"res_K\"))]\n",
    "\n",
    "def data_extract_from_files(onlyfiles):\n",
    "    for f in onlyfiles:\n",
    "        yield pickle.load(open(folder+f)), f"
   ]
  },
  {
   "cell_type": "code",
   "execution_count": 69,
   "metadata": {
    "collapsed": false
   },
   "outputs": [
    {
     "ename": "ValueError",
     "evalue": "insecure string pickle",
     "output_type": "error",
     "traceback": [
      "\u001b[0;31m---------------------------------------------------------------------------\u001b[0m",
      "\u001b[0;31mValueError\u001b[0m                                Traceback (most recent call last)",
      "\u001b[0;32m<ipython-input-69-baf0d3993bd4>\u001b[0m in \u001b[0;36m<module>\u001b[0;34m()\u001b[0m\n\u001b[1;32m     13\u001b[0m         \u001b[0mN_\u001b[0m \u001b[0;34m=\u001b[0m \u001b[0;36m500\u001b[0m\u001b[0;34m\u001b[0m\u001b[0m\n\u001b[1;32m     14\u001b[0m     \u001b[0;32melse\u001b[0m \u001b[0;34m:\u001b[0m\u001b[0;34m\u001b[0m\u001b[0m\n\u001b[0;32m---> 15\u001b[0;31m         \u001b[0;32mif\u001b[0m \u001b[0mpickle\u001b[0m\u001b[0;34m.\u001b[0m\u001b[0mload\u001b[0m\u001b[0;34m(\u001b[0m\u001b[0mopen\u001b[0m\u001b[0;34m(\u001b[0m\u001b[0mfolder\u001b[0m\u001b[0;34m+\u001b[0m\u001b[0mf\u001b[0m\u001b[0;34m)\u001b[0m\u001b[0;34m)\u001b[0m\u001b[0;34m[\u001b[0m\u001b[0;34m\"rect_data\"\u001b[0m\u001b[0;34m]\u001b[0m\u001b[0;34m.\u001b[0m\u001b[0mshape\u001b[0m\u001b[0;34m[\u001b[0m\u001b[0;36m0\u001b[0m\u001b[0;34m]\u001b[0m \u001b[0;34m==\u001b[0m \u001b[0;36m100\u001b[0m\u001b[0;34m:\u001b[0m\u001b[0;34m\u001b[0m\u001b[0m\n\u001b[0m\u001b[1;32m     16\u001b[0m             \u001b[0mN_\u001b[0m \u001b[0;34m=\u001b[0m \u001b[0;36m100\u001b[0m\u001b[0;34m\u001b[0m\u001b[0m\n\u001b[1;32m     17\u001b[0m         \u001b[0;32melse\u001b[0m\u001b[0;34m:\u001b[0m\u001b[0;34m\u001b[0m\u001b[0m\n",
      "\u001b[0;32m/usr/local/Cellar/python/2.7.12_2/Frameworks/Python.framework/Versions/2.7/lib/python2.7/pickle.pyc\u001b[0m in \u001b[0;36mload\u001b[0;34m(file)\u001b[0m\n\u001b[1;32m   1382\u001b[0m \u001b[0;34m\u001b[0m\u001b[0m\n\u001b[1;32m   1383\u001b[0m \u001b[0;32mdef\u001b[0m \u001b[0mload\u001b[0m\u001b[0;34m(\u001b[0m\u001b[0mfile\u001b[0m\u001b[0;34m)\u001b[0m\u001b[0;34m:\u001b[0m\u001b[0;34m\u001b[0m\u001b[0m\n\u001b[0;32m-> 1384\u001b[0;31m     \u001b[0;32mreturn\u001b[0m \u001b[0mUnpickler\u001b[0m\u001b[0;34m(\u001b[0m\u001b[0mfile\u001b[0m\u001b[0;34m)\u001b[0m\u001b[0;34m.\u001b[0m\u001b[0mload\u001b[0m\u001b[0;34m(\u001b[0m\u001b[0;34m)\u001b[0m\u001b[0;34m\u001b[0m\u001b[0m\n\u001b[0m\u001b[1;32m   1385\u001b[0m \u001b[0;34m\u001b[0m\u001b[0m\n\u001b[1;32m   1386\u001b[0m \u001b[0;32mdef\u001b[0m \u001b[0mloads\u001b[0m\u001b[0;34m(\u001b[0m\u001b[0mstr\u001b[0m\u001b[0;34m)\u001b[0m\u001b[0;34m:\u001b[0m\u001b[0;34m\u001b[0m\u001b[0m\n",
      "\u001b[0;32m/usr/local/Cellar/python/2.7.12_2/Frameworks/Python.framework/Versions/2.7/lib/python2.7/pickle.pyc\u001b[0m in \u001b[0;36mload\u001b[0;34m(self)\u001b[0m\n\u001b[1;32m    862\u001b[0m             \u001b[0;32mwhile\u001b[0m \u001b[0;36m1\u001b[0m\u001b[0;34m:\u001b[0m\u001b[0;34m\u001b[0m\u001b[0m\n\u001b[1;32m    863\u001b[0m                 \u001b[0mkey\u001b[0m \u001b[0;34m=\u001b[0m \u001b[0mread\u001b[0m\u001b[0;34m(\u001b[0m\u001b[0;36m1\u001b[0m\u001b[0;34m)\u001b[0m\u001b[0;34m\u001b[0m\u001b[0m\n\u001b[0;32m--> 864\u001b[0;31m                 \u001b[0mdispatch\u001b[0m\u001b[0;34m[\u001b[0m\u001b[0mkey\u001b[0m\u001b[0;34m]\u001b[0m\u001b[0;34m(\u001b[0m\u001b[0mself\u001b[0m\u001b[0;34m)\u001b[0m\u001b[0;34m\u001b[0m\u001b[0m\n\u001b[0m\u001b[1;32m    865\u001b[0m         \u001b[0;32mexcept\u001b[0m \u001b[0m_Stop\u001b[0m\u001b[0;34m,\u001b[0m \u001b[0mstopinst\u001b[0m\u001b[0;34m:\u001b[0m\u001b[0;34m\u001b[0m\u001b[0m\n\u001b[1;32m    866\u001b[0m             \u001b[0;32mreturn\u001b[0m \u001b[0mstopinst\u001b[0m\u001b[0;34m.\u001b[0m\u001b[0mvalue\u001b[0m\u001b[0;34m\u001b[0m\u001b[0m\n",
      "\u001b[0;32m/usr/local/Cellar/python/2.7.12_2/Frameworks/Python.framework/Versions/2.7/lib/python2.7/pickle.pyc\u001b[0m in \u001b[0;36mload_string\u001b[0;34m(self)\u001b[0m\n\u001b[1;32m    970\u001b[0m             \u001b[0;32mif\u001b[0m \u001b[0mrep\u001b[0m\u001b[0;34m.\u001b[0m\u001b[0mstartswith\u001b[0m\u001b[0;34m(\u001b[0m\u001b[0mq\u001b[0m\u001b[0;34m)\u001b[0m\u001b[0;34m:\u001b[0m\u001b[0;34m\u001b[0m\u001b[0m\n\u001b[1;32m    971\u001b[0m                 \u001b[0;32mif\u001b[0m \u001b[0mlen\u001b[0m\u001b[0;34m(\u001b[0m\u001b[0mrep\u001b[0m\u001b[0;34m)\u001b[0m \u001b[0;34m<\u001b[0m \u001b[0;36m2\u001b[0m \u001b[0;32mor\u001b[0m \u001b[0;32mnot\u001b[0m \u001b[0mrep\u001b[0m\u001b[0;34m.\u001b[0m\u001b[0mendswith\u001b[0m\u001b[0;34m(\u001b[0m\u001b[0mq\u001b[0m\u001b[0;34m)\u001b[0m\u001b[0;34m:\u001b[0m\u001b[0;34m\u001b[0m\u001b[0m\n\u001b[0;32m--> 972\u001b[0;31m                     \u001b[0;32mraise\u001b[0m \u001b[0mValueError\u001b[0m\u001b[0;34m,\u001b[0m \u001b[0;34m\"insecure string pickle\"\u001b[0m\u001b[0;34m\u001b[0m\u001b[0m\n\u001b[0m\u001b[1;32m    973\u001b[0m                 \u001b[0mrep\u001b[0m \u001b[0;34m=\u001b[0m \u001b[0mrep\u001b[0m\u001b[0;34m[\u001b[0m\u001b[0mlen\u001b[0m\u001b[0;34m(\u001b[0m\u001b[0mq\u001b[0m\u001b[0;34m)\u001b[0m\u001b[0;34m:\u001b[0m\u001b[0;34m-\u001b[0m\u001b[0mlen\u001b[0m\u001b[0;34m(\u001b[0m\u001b[0mq\u001b[0m\u001b[0;34m)\u001b[0m\u001b[0;34m]\u001b[0m\u001b[0;34m\u001b[0m\u001b[0m\n\u001b[1;32m    974\u001b[0m                 \u001b[0;32mbreak\u001b[0m\u001b[0;34m\u001b[0m\u001b[0m\n",
      "\u001b[0;31mValueError\u001b[0m: insecure string pickle"
     ]
    }
   ],
   "source": [
    "data_tree = {}\n",
    "for k in [0, 10,50,100]:\n",
    "    data_tree[k]={}\n",
    "    for n in [100 , 500, 1000]:\n",
    "        data_tree[k][n]=[]\n",
    "        \n",
    "for f in onlyfiles:\n",
    "    split = f.split('K')[1].split(\"N\")\n",
    "    for K in [0, 10,50,100]:\n",
    "        if split[0]==str(K):\n",
    "            K_ = K\n",
    "    if split[1].startswith(\"500\"):\n",
    "        N_ = 500\n",
    "    else :\n",
    "        if pickle.load(open(folder+f))[\"rect_data\"].shape[0] == 100:\n",
    "            N_ = 100\n",
    "        else:\n",
    "            N_ = 1000\n",
    "    data_tree[K_][N_].append(f)"
   ]
  },
  {
   "cell_type": "code",
   "execution_count": null,
   "metadata": {
    "collapsed": false
   },
   "outputs": [],
   "source": [
    "import numpy as np\n",
    "import uuid\n"
   ]
  },
  {
   "cell_type": "code",
   "execution_count": null,
   "metadata": {
    "collapsed": true
   },
   "outputs": [],
   "source": [
    "from pythonABC.hselect import hsj\n",
    "from scipy.stats import gaussian_kde\n",
    "from scipy.stats import entropy\n",
    "\n",
    "def results_extract(r):\n",
    "    #return dict\n",
    "    #\n",
    "    densities = r[\"densities\"]\n",
    "    res = {}\n",
    "    for type_dens in [\"lapl_gauss\", \"uniform\", \"rect\", \"lapl_gauss_not_dict\", \"gauss\"]:\n",
    "        f_star = r[type_dens+\"_f_star\"]\n",
    "        n_pdf = f_star.shape[0]\n",
    "        x = np.linspace(0,1,n_pdf)\n",
    "        #extract weight_estim\n",
    "        res_weights_estim = r[type_dens+\"_weight_vector_estim_lambda\"]\n",
    "        selected_densities_estim, weights_estim = np.array(zip(*res_weights_estim))\n",
    "        f_weight_estim = np.apply_along_axis(lambda x: weights_estim.dot(np.array([densities[i].pdf(x) for i in selected_densities_estim.astype(int)])), 0, np.linspace(0,1,n_pdf))\n",
    "        #removing non positive values:\n",
    "        f_weight_estim[f_weight_estim <= 0] == 1e-20\n",
    "        #extract adapative_dantzig\n",
    "        lambda_adapative_dantzig = r[type_dens+\"_adapative_dantzig\"]\n",
    "        f_adapative_dantzig = np.apply_along_axis(lambda x: lambda_adapative_dantzig.dot(np.array([d.pdf(x) for d in densities])), 0, np.linspace(0,1,n_pdf))        \n",
    "        #removing non positive values:\n",
    "        f_adapative_dantzig[f_adapative_dantzig <= 0] == 1e-20\n",
    "        #Extract KDE\n",
    "        f_kde= r[type_dens+\"_kde\"]\n",
    "        #Extract KDE-hsj\n",
    "        f_kde_hsj= r[type_dens+\"_kde_hsj\"]        \n",
    "        #Perform kernel density estim\n",
    "        res[type_dens+\"_L2_norm_weight_estim\"] = 1./n_pdf*np.linalg.norm(f_star-f_weight_estim,axis=0)**2\n",
    "        res[type_dens+\"_KL_div_weight_estim\"] = entropy(f_star, f_weight_estim)\n",
    "        res[type_dens+\"_L2_norm_adapative_dantzig\"] = 1./n_pdf*np.linalg.norm(f_star-f_adapative_dantzig,axis=0)**2\n",
    "        res[type_dens+\"_KL_div_adapative_dantzig\"] = entropy(f_star, f_adapative_dantzig)\n",
    "        res[type_dens+\"_L2_norm_kde\"] = 1./n_pdf*np.linalg.norm(f_star-f_kde,axis=0)**2\n",
    "        res[type_dens+\"_KL_div_kde\"] = entropy(f_star, f_kde)\n",
    "        res[type_dens+\"_L2_norm_kde_hsj\"] = 1./n_pdf*np.linalg.norm(f_star-f_kde_hsj,axis=0)**2\n",
    "        res[type_dens+\"_KL_div_kde_hsj\"] = entropy(f_star, f_kde_hsj)\n",
    "        if type_dens == \"cvx\":\n",
    "            cvx_lambda_fstar = cvx_lambda_f_star(len(densities), r[\"selected_densities\"])\n",
    "            res[type_dens+\"_L2_lambda_adapative_dantzig\"] = np.linalg.norm(cvx_lambda_fstar- r[\"cvx_adapative_dantzig\"])\n",
    "            res[type_dens+\"_L2_lambda_weight_estim\"] = np.linalg.norm(cvx_lambda_fstar- extract_lambda(r[\"cvx_weight_vector_estim_lambda\"],len(densities)))\n",
    "\n",
    "    return res"
   ]
  },
  {
   "cell_type": "code",
   "execution_count": null,
   "metadata": {
    "collapsed": true
   },
   "outputs": [],
   "source": [
    "#cvx case:\n",
    "def dataframe_gen(temp_res, type_f_star):\n",
    "    data = {type_f_star+\"_KL_div_weight_estim\":[],\n",
    "            type_f_star+\"_KL_div_adapative_dantzig\":[],\n",
    "            type_f_star+\"_KL_div_kde\":[],\n",
    "            type_f_star+\"_KL_div_kde_hsj\":[],\n",
    "            type_f_star+\"_L2_norm_weight_estim\":[],\n",
    "            type_f_star+\"_L2_norm_adapative_dantzig\":[],\n",
    "            type_f_star+\"_L2_norm_kde\":[],\n",
    "            type_f_star+\"_L2_norm_kde_hsj\":[]\n",
    "            }\n",
    "    if type_f_star == \"cvx\":\n",
    "        data[\"cvx_L2_lambda_weight_estim\"] = [temp_res[\"cvx_L2_lambda_weight_estim\"]]\n",
    "        data[\"cvx_L2_lambda_adapative_dantzig\"] = [temp_res[\"cvx_L2_lambda_adapative_dantzig\"]]\n",
    "\n",
    "    data[type_f_star+\"_KL_div_weight_estim\"].append(temp_res[type_f_star+\"_KL_div_weight_estim\"])\n",
    "    data[type_f_star+\"_KL_div_adapative_dantzig\"].append(temp_res[type_f_star+\"_KL_div_adapative_dantzig\"])\n",
    "    data[type_f_star+\"_KL_div_kde\"].append(temp_res[type_f_star+\"_KL_div_kde\"])\n",
    "    data[type_f_star+\"_KL_div_kde_hsj\"].append(temp_res[type_f_star+\"_KL_div_kde_hsj\"])\n",
    "    data[type_f_star+\"_L2_norm_weight_estim\"].append(temp_res[type_f_star+\"_L2_norm_weight_estim\"])\n",
    "    data[type_f_star+\"_L2_norm_adapative_dantzig\"].append(temp_res[type_f_star+\"_L2_norm_adapative_dantzig\"])\n",
    "    data[type_f_star+\"_L2_norm_kde\"].append(temp_res[type_f_star+\"_L2_norm_kde\"])\n",
    "    data[type_f_star+\"_L2_norm_kde_hsj\"].append(temp_res[type_f_star+\"_L2_norm_kde_hsj\"])\n",
    "    \n",
    "    return pd.DataFrame(data)"
   ]
  },
  {
   "cell_type": "code",
   "execution_count": null,
   "metadata": {
    "collapsed": false
   },
   "outputs": [],
   "source": [
    "df_results = None\n",
    "for K in [0]:\n",
    "    for N in [100, 500, 1000]:\n",
    "        object_list = data_extract_from_files(data_tree[K][N])\n",
    "        for r, f in object_list:\n",
    "            res_extract = results_extract(r)\n",
    "            res = None\n",
    "            for type_f_star in [\"lapl_gauss\", \"uniform\", \"rect\", \"lapl_gauss_not_dict\", \"gauss\"]:\n",
    "                df_extract_temp = dataframe_gen(res_extract, type_f_star)\n",
    "                if type(res) == pd.core.frame.DataFrame:\n",
    "                    res = res.join(df_extract_temp)\n",
    "                else:\n",
    "                    res = df_extract_temp\n",
    "            res = res.join(pd.DataFrame({\"K\":[K],\"N\":[N], \"file\":f}))\n",
    "            if type(df_results) == pd.core.frame.DataFrame:\n",
    "                    df_results = df_results.append(res)\n",
    "            else:\n",
    "                    df_results = res\n",
    "                    "
   ]
  },
  {
   "cell_type": "markdown",
   "metadata": {},
   "source": [
    "# Ploting "
   ]
  },
  {
   "cell_type": "code",
   "execution_count": null,
   "metadata": {
    "collapsed": false
   },
   "outputs": [],
   "source": [
    "%matplotlib inline\n",
    "df_results.columns"
   ]
  },
  {
   "cell_type": "code",
   "execution_count": null,
   "metadata": {
    "collapsed": false
   },
   "outputs": [],
   "source": [
    "### attention: il y a eu un inversement de kde et kde-hsj, dans la generation des premiers resultats\n",
    "###\n",
    "import matplotlib.pyplot as plt\n",
    "plt.subplots(figsize=(15,20))\n",
    "colors = ['lightblue', 'lightgreen', 'tan', 'pink']\n",
    "def boxplot_params(boxplotElements):\n",
    "    for element in boxplotElements['medians']:\n",
    "        element.set_color('red')\n",
    "        element.set_linewidth(1)\n",
    "    for element in boxplotElements['boxes']:\n",
    "        element.set_linewidth(1)\n",
    "        element.set_linestyle('-')\n",
    "    for element in boxplotElements['whiskers']:\n",
    "        element.set_color('red')\n",
    "        element.set_linewidth(1)\n",
    "    for element in boxplotElements['caps']:\n",
    "        element.set_color('blue')\n",
    "\n",
    "#####Lapl Gauss\n",
    "###############\n",
    "#KL div\n",
    "plt.subplot(421)\n",
    "boxplotElements = plt.boxplot([df_results['lapl_gauss_KL_div_kde'],\n",
    "             df_results['lapl_gauss_KL_div_kde_hsj'],\n",
    "             df_results['lapl_gauss_KL_div_adapative_dantzig'],\n",
    "             df_results['lapl_gauss_KL_div_weight_estim']])\n",
    "plt.gca().axes.xaxis.set_ticklabels(['KDE-SHJ', 'KDE', 'AD', 'MLE'])\n",
    "boxplot_params(boxplotElements)\n",
    "plt.title(\"Lapl-Gauss dict KL div\")\n",
    "#L2 norm\n",
    "plt.subplot(422)\n",
    "boxplotElements = plt.boxplot([df_results['lapl_gauss_L2_norm_kde'],\n",
    "             df_results['lapl_gauss_L2_norm_kde_hsj'],\n",
    "             df_results['lapl_gauss_L2_norm_adapative_dantzig'],\n",
    "             df_results['lapl_gauss_L2_norm_weight_estim']])\n",
    "plt.gca().axes.xaxis.set_ticklabels(['KDE-SHJ', 'KDE', 'AD', 'MLE'])\n",
    "boxplot_params(boxplotElements)\n",
    "plt.title(\"Lapl-Gauss dict L2 norm\")\n",
    "\n",
    "##### Gauss\n",
    "###############\n",
    "#KL div\n",
    "plt.subplot(423)\n",
    "boxplotElements = plt.boxplot([df_results['gauss_KL_div_kde'],\n",
    "             df_results['gauss_KL_div_kde_hsj'],\n",
    "             df_results['gauss_KL_div_adapative_dantzig'],\n",
    "             df_results['gauss_KL_div_weight_estim']])\n",
    "plt.gca().axes.xaxis.set_ticklabels(['KDE-SHJ', 'KDE', 'AD', 'MLE'])\n",
    "boxplot_params(boxplotElements)\n",
    "plt.title(\"Gauss dict KL div\")\n",
    "#L2 norm\n",
    "plt.subplot(424)\n",
    "boxplotElements = plt.boxplot([df_results['gauss_L2_norm_kde'],\n",
    "             df_results['gauss_L2_norm_kde_hsj'],\n",
    "             df_results['gauss_L2_norm_adapative_dantzig'],\n",
    "             df_results['gauss_L2_norm_weight_estim']])\n",
    "plt.gca().axes.xaxis.set_ticklabels(['KDE-SHJ', 'KDE', 'AD', 'MLE'])\n",
    "boxplot_params(boxplotElements)\n",
    "plt.title(\"Gauss dict L2 norm\")\n",
    "\n",
    "##### lapl_gauss_not_dict\n",
    "###############\n",
    "#KL div\n",
    "plt.subplot(425)\n",
    "boxplotElements = plt.boxplot([df_results['lapl_gauss_not_dict_KL_div_kde'],\n",
    "             df_results['lapl_gauss_not_dict_KL_div_kde_hsj'],\n",
    "             df_results['lapl_gauss_not_dict_KL_div_adapative_dantzig'],\n",
    "             df_results['lapl_gauss_not_dict_KL_div_weight_estim']])\n",
    "plt.gca().axes.xaxis.set_ticklabels(['KDE-SHJ', 'KDE', 'AD', 'MLE'])\n",
    "boxplot_params(boxplotElements)\n",
    "plt.title(\"lapl_gauss_not_dict dict KL div\")\n",
    "#L2 norm\n",
    "plt.subplot(426)\n",
    "boxplotElements = plt.boxplot([df_results['lapl_gauss_not_dict_L2_norm_kde'],\n",
    "             df_results['lapl_gauss_not_dict_L2_norm_kde_hsj'],\n",
    "             df_results['lapl_gauss_not_dict_L2_norm_adapative_dantzig'],\n",
    "             df_results['lapl_gauss_not_dict_L2_norm_weight_estim']])\n",
    "plt.gca().axes.xaxis.set_ticklabels(['KDE-SHJ', 'KDE', 'AD', 'MLE'])\n",
    "boxplot_params(boxplotElements)\n",
    "plt.title(\"lapl_gauss_not_dict dict L2 norm\")\n",
    "\n",
    "##### uniform\n",
    "###############\n",
    "#KL div\n",
    "plt.subplot(427)\n",
    "boxplotElements = plt.boxplot([df_results['uniform_KL_div_kde'],\n",
    "             df_results['uniform_KL_div_kde_hsj'],\n",
    "             df_results['uniform_KL_div_adapative_dantzig'],\n",
    "             df_results['uniform_KL_div_weight_estim']])\n",
    "plt.gca().axes.xaxis.set_ticklabels(['KDE-SHJ', 'KDE', 'AD', 'MLE'])\n",
    "boxplot_params(boxplotElements)\n",
    "plt.title(\"uniform dict KL div\")\n",
    "#L2 norm\n",
    "plt.subplot(428)\n",
    "boxplotElements = plt.boxplot([df_results['uniform_L2_norm_kde'],\n",
    "             df_results['uniform_L2_norm_kde_hsj'],\n",
    "             df_results['uniform_L2_norm_adapative_dantzig'],\n",
    "             df_results['uniform_L2_norm_weight_estim']])\n",
    "plt.gca().axes.xaxis.set_ticklabels(['KDE-SHJ', 'KDE', 'AD', 'MLE'])\n",
    "boxplot_params(boxplotElements)\n",
    "plt.title(\"uniform dict L2 norm\")\n",
    "plt.savefig(\"./plot_\"+str(uuid.uuid4()), dpi=300)\n"
   ]
  },
  {
   "cell_type": "markdown",
   "metadata": {},
   "source": [
    "# Analysis"
   ]
  },
  {
   "cell_type": "code",
   "execution_count": null,
   "metadata": {
    "collapsed": false
   },
   "outputs": [],
   "source": [
    "df_results[\"lapl_gauss_KL_div_kde\"].median()"
   ]
  },
  {
   "cell_type": "code",
   "execution_count": null,
   "metadata": {
    "collapsed": false
   },
   "outputs": [],
   "source": [
    "df_results[\"lapl_gauss_KL_div_kde_hsj\"].hist(bins=100)"
   ]
  },
  {
   "cell_type": "code",
   "execution_count": null,
   "metadata": {
    "collapsed": false
   },
   "outputs": [],
   "source": [
    "d = pickle.load(open(\"./simus_n_1000_27-04-2017/res_K0N1000_01c93584-8adb-436b-8f04-45ebef6f4ae3\"))\n",
    "X = d[\"lapl_gauss_not_dict_data\"]\n",
    "X"
   ]
  },
  {
   "cell_type": "code",
   "execution_count": null,
   "metadata": {
    "collapsed": false
   },
   "outputs": [],
   "source": [
    "d.keys()"
   ]
  },
  {
   "cell_type": "code",
   "execution_count": null,
   "metadata": {
    "collapsed": false
   },
   "outputs": [],
   "source": [
    "df_results['lapl_gauss_not_dict_L2_norm_kde_hsj'].median()"
   ]
  },
  {
   "cell_type": "code",
   "execution_count": null,
   "metadata": {
    "collapsed": true
   },
   "outputs": [],
   "source": []
  }
 ],
 "metadata": {
  "kernelspec": {
   "display_name": "Python 2",
   "language": "python",
   "name": "python2"
  },
  "language_info": {
   "codemirror_mode": {
    "name": "ipython",
    "version": 2
   },
   "file_extension": ".py",
   "mimetype": "text/x-python",
   "name": "python",
   "nbconvert_exporter": "python",
   "pygments_lexer": "ipython2",
   "version": "2.7.12"
  }
 },
 "nbformat": 4,
 "nbformat_minor": 1
}
