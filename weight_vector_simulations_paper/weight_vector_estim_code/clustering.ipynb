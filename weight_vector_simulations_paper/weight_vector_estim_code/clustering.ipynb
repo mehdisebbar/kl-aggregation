{
 "cells": [
  {
   "cell_type": "code",
   "execution_count": 7,
   "metadata": {
    "collapsed": true
   },
   "outputs": [],
   "source": [
    "%load_ext autoreload\n",
    "%autoreload 2"
   ]
  },
  {
   "cell_type": "code",
   "execution_count": 8,
   "metadata": {
    "collapsed": false
   },
   "outputs": [
    {
     "name": "stdout",
     "output_type": "stream",
     "text": [
      "/Users/mehdi/Dropbox/working folder/PHd/weight_vector_simulations_paper/weight_vector_estim_code\n"
     ]
    }
   ],
   "source": [
    "cd /Users/mehdi/Documents/WorkingFolder/PHd/weight_vector_simulations_paper/weight_vector_estim_code/"
   ]
  },
  {
   "cell_type": "code",
   "execution_count": 9,
   "metadata": {
    "collapsed": false
   },
   "outputs": [],
   "source": [
    "from algorithm import WeightEstimator"
   ]
  },
  {
   "cell_type": "code",
   "execution_count": 10,
   "metadata": {
    "collapsed": true
   },
   "outputs": [],
   "source": [
    "from sklearn.mixture import GaussianMixture\n",
    "import numpy as np\n",
    "from scipy.stats import multivariate_normal"
   ]
  },
  {
   "cell_type": "code",
   "execution_count": 15,
   "metadata": {
    "collapsed": false
   },
   "outputs": [],
   "source": [
    "n_samples = 100\n",
    "\n",
    "# Generate random sample, two components\n",
    "np.random.seed(0)\n",
    "C = np.array([[0., -0.1], [1.7, .4]])\n",
    "X = np.r_[np.dot(np.random.randn(n_samples, 2), C),\n",
    "          .7 * np.random.randn(n_samples, 2) + np.array([-6, 3])]\n"
   ]
  },
  {
   "cell_type": "code",
   "execution_count": null,
   "metadata": {
    "collapsed": false
   },
   "outputs": [],
   "source": []
  },
  {
   "cell_type": "code",
   "execution_count": 16,
   "metadata": {
    "collapsed": false
   },
   "outputs": [],
   "source": [
    "densities =[]\n",
    "for x in np.linspace(-10,10,20):\n",
    "    for y in np.linspace(-10,10,20):\n",
    "        for var in [5, 1, 1e-1]:\n",
    "            densities.append(multivariate_normal([x,y], var*np.diag([1,1])))"
   ]
  },
  {
   "cell_type": "code",
   "execution_count": 13,
   "metadata": {
    "collapsed": false
   },
   "outputs": [],
   "source": [
    "%matplotlib inline"
   ]
  },
  {
   "cell_type": "code",
   "execution_count": 14,
   "metadata": {
    "collapsed": false
   },
   "outputs": [
    {
     "ename": "NameError",
     "evalue": "name 'res' is not defined",
     "output_type": "error",
     "traceback": [
      "\u001b[0;31m---------------------------------------------------------------------------\u001b[0m",
      "\u001b[0;31mNameError\u001b[0m                                 Traceback (most recent call last)",
      "\u001b[0;32m<ipython-input-14-fc7f497a7564>\u001b[0m in \u001b[0;36m<module>\u001b[0;34m()\u001b[0m\n\u001b[1;32m      7\u001b[0m \u001b[0;34m\u001b[0m\u001b[0m\n\u001b[1;32m      8\u001b[0m \u001b[0msplot\u001b[0m\u001b[0;34m.\u001b[0m\u001b[0mscatter\u001b[0m\u001b[0;34m(\u001b[0m\u001b[0mX\u001b[0m\u001b[0;34m[\u001b[0m\u001b[0;34m:\u001b[0m\u001b[0;34m,\u001b[0m\u001b[0;36m0\u001b[0m\u001b[0;34m]\u001b[0m\u001b[0;34m,\u001b[0m\u001b[0mX\u001b[0m\u001b[0;34m[\u001b[0m\u001b[0;34m:\u001b[0m\u001b[0;34m,\u001b[0m\u001b[0;36m1\u001b[0m\u001b[0;34m]\u001b[0m\u001b[0;34m,\u001b[0m \u001b[0;36m.8\u001b[0m\u001b[0;34m)\u001b[0m\u001b[0;34m\u001b[0m\u001b[0m\n\u001b[0;32m----> 9\u001b[0;31m \u001b[0;32mfor\u001b[0m \u001b[0mi\u001b[0m\u001b[0;34m,\u001b[0m\u001b[0m_\u001b[0m \u001b[0;32min\u001b[0m \u001b[0mres\u001b[0m\u001b[0;34m:\u001b[0m\u001b[0;34m\u001b[0m\u001b[0m\n\u001b[0m\u001b[1;32m     10\u001b[0m     \u001b[0md\u001b[0m \u001b[0;34m=\u001b[0m \u001b[0mdensities\u001b[0m\u001b[0;34m[\u001b[0m\u001b[0mi\u001b[0m\u001b[0;34m]\u001b[0m\u001b[0;34m\u001b[0m\u001b[0m\n\u001b[1;32m     11\u001b[0m     \u001b[0mmean\u001b[0m\u001b[0;34m,\u001b[0m \u001b[0mcovar\u001b[0m \u001b[0;34m=\u001b[0m \u001b[0md\u001b[0m\u001b[0;34m.\u001b[0m\u001b[0mmean\u001b[0m\u001b[0;34m,\u001b[0m \u001b[0md\u001b[0m\u001b[0;34m.\u001b[0m\u001b[0mcov\u001b[0m\u001b[0;34m\u001b[0m\u001b[0m\n",
      "\u001b[0;31mNameError\u001b[0m: name 'res' is not defined"
     ]
    },
    {
     "data": {
      "image/png": "[encoded data removed]",
      "text/plain": [
       "<matplotlib.figure.Figure at 0x112332a50>"
      ]
     },
     "metadata": {},
     "output_type": "display_data"
    }
   ],
   "source": [
    "import matplotlib.pyplot as plt\n",
    "import matplotlib as mpl\n",
    "from scipy import linalg\n",
    "from pylab import rcParams\n",
    "rcParams['figure.figsize'] = 15, 10\n",
    "splot = plt.subplot(1, 1, 1)\n",
    "\n",
    "splot.scatter(X[:,0],X[:,1], .8)\n",
    "for i,_ in res:\n",
    "    d = densities[i]\n",
    "    mean, covar = d.mean, d.cov\n",
    "    v, w = linalg.eigh(covar)\n",
    "    v = 2. * np.sqrt(2.) * np.sqrt(v)\n",
    "    u = w[0] / linalg.norm(w[0])\n",
    "    # Plot an ellipse to show the Gaussian component\n",
    "    angle = np.arctan(u[1] / u[0])\n",
    "    angle = 180. * angle / np.pi  # convert to degrees\n",
    "    ell = mpl.patches.Ellipse(mean, v[0], v[1], 180. + angle)\n",
    "    ell.set_alpha(0.5)\n",
    "    splot.add_artist(ell)"
   ]
  },
  {
   "cell_type": "code",
   "execution_count": 12,
   "metadata": {
    "collapsed": false
   },
   "outputs": [
    {
     "data": {
      "text/plain": [
       "GaussianMixture(covariance_type='full', init_params='kmeans', max_iter=100,\n",
       "        means_init=None, n_components=20, n_init=1, precisions_init=None,\n",
       "        random_state=None, reg_covar=1e-06, tol=0.001, verbose=0,\n",
       "        verbose_interval=10, warm_start=False, weights_init=None)"
      ]
     },
     "execution_count": 12,
     "metadata": {},
     "output_type": "execute_result"
    }
   ],
   "source": [
    "gmm = GaussianMixture(20)\n",
    "gmm.fit(X)"
   ]
  },
  {
   "cell_type": "code",
   "execution_count": 13,
   "metadata": {
    "collapsed": false
   },
   "outputs": [],
   "source": [
    "densities =[]\n",
    "for mean, var in zip(gmm.means_, gmm.covariances_):\n",
    "    densities.append(multivariate_normal(mean, var))"
   ]
  },
  {
   "cell_type": "code",
   "execution_count": 8,
   "metadata": {
    "collapsed": false
   },
   "outputs": [
    {
     "name": "stdout",
     "output_type": "stream",
     "text": [
      "[ 0.  0.  0. ...,  0.  0.  0.]\n"
     ]
    }
   ],
   "source": [
    "cl = WeightEstimator(densities_dict=densities, select_threshold=1e-3)\n",
    "cl.fit(X)\n"
   ]
  },
  {
   "cell_type": "code",
   "execution_count": 10,
   "metadata": {
    "collapsed": false
   },
   "outputs": [
    {
     "data": {
      "text/plain": [
       "array([ 0.00315446,  0.08360719,  0.00423585,  0.03617514,  0.15839016,\n",
       "        0.14192934,  0.07263215,  0.00818737,  0.04433308,  0.06530192,\n",
       "        0.09671991,  0.12418801,  0.08540385,  0.05481422,  0.02092736])"
      ]
     },
     "execution_count": 10,
     "metadata": {},
     "output_type": "execute_result"
    }
   ],
   "source": [
    "cl.pi_final[cl.pi_final > 0]"
   ]
  },
  {
   "cell_type": "code",
   "execution_count": 14,
   "metadata": {
    "collapsed": true
   },
   "outputs": [],
   "source": [
    "#On va essayer de faire une grille de l'espace et faire tourner EM et kde sur chaque portion\n",
    "#pour construire le dictionaire\n"
   ]
  },
  {
   "cell_type": "code",
   "execution_count": 15,
   "metadata": {
    "collapsed": false
   },
   "outputs": [],
   "source": [
    "from sklearn.preprocessing import StandardScaler\n",
    "sc = StandardScaler()\n",
    "X0 = sc.fit_transform(X)"
   ]
  },
  {
   "cell_type": "code",
   "execution_count": 16,
   "metadata": {
    "collapsed": false
   },
   "outputs": [
    {
     "ename": "NameError",
     "evalue": "name 'grid_length' is not defined",
     "output_type": "error",
     "traceback": [
      "\u001b[0;31m---------------------------------------------------------------------------\u001b[0m",
      "\u001b[0;31mNameError\u001b[0m                                 Traceback (most recent call last)",
      "\u001b[0;32m<ipython-input-16-9edcc37cd717>\u001b[0m in \u001b[0;36m<module>\u001b[0;34m()\u001b[0m\n\u001b[1;32m      1\u001b[0m \u001b[0mk_em\u001b[0m \u001b[0;34m=\u001b[0m \u001b[0;36m2\u001b[0m\u001b[0;34m\u001b[0m\u001b[0m\n\u001b[1;32m      2\u001b[0m \u001b[0mx_min\u001b[0m\u001b[0;34m,\u001b[0m \u001b[0mx_max\u001b[0m\u001b[0;34m,\u001b[0m \u001b[0my_min\u001b[0m\u001b[0;34m,\u001b[0m \u001b[0my_max\u001b[0m \u001b[0;34m=\u001b[0m \u001b[0mX0\u001b[0m\u001b[0;34m[\u001b[0m\u001b[0;34m:\u001b[0m\u001b[0;34m,\u001b[0m\u001b[0;36m0\u001b[0m\u001b[0;34m]\u001b[0m\u001b[0;34m.\u001b[0m\u001b[0mmin\u001b[0m\u001b[0;34m(\u001b[0m\u001b[0;34m)\u001b[0m\u001b[0;34m,\u001b[0m \u001b[0mX0\u001b[0m\u001b[0;34m[\u001b[0m\u001b[0;34m:\u001b[0m\u001b[0;34m,\u001b[0m\u001b[0;36m0\u001b[0m\u001b[0;34m]\u001b[0m\u001b[0;34m.\u001b[0m\u001b[0mmax\u001b[0m\u001b[0;34m(\u001b[0m\u001b[0;34m)\u001b[0m\u001b[0;34m,\u001b[0m \u001b[0mX0\u001b[0m\u001b[0;34m[\u001b[0m\u001b[0;34m:\u001b[0m\u001b[0;34m,\u001b[0m\u001b[0;36m1\u001b[0m\u001b[0;34m]\u001b[0m\u001b[0;34m.\u001b[0m\u001b[0mmin\u001b[0m\u001b[0;34m(\u001b[0m\u001b[0;34m)\u001b[0m\u001b[0;34m,\u001b[0m \u001b[0mX0\u001b[0m\u001b[0;34m[\u001b[0m\u001b[0;34m:\u001b[0m\u001b[0;34m,\u001b[0m\u001b[0;36m1\u001b[0m\u001b[0;34m]\u001b[0m\u001b[0;34m.\u001b[0m\u001b[0mmax\u001b[0m\u001b[0;34m(\u001b[0m\u001b[0;34m)\u001b[0m\u001b[0;34m\u001b[0m\u001b[0m\n\u001b[0;32m----> 3\u001b[0;31m \u001b[0mx_steps\u001b[0m \u001b[0;34m=\u001b[0m \u001b[0mnp\u001b[0m\u001b[0;34m.\u001b[0m\u001b[0mlinspace\u001b[0m\u001b[0;34m(\u001b[0m\u001b[0mx_min\u001b[0m\u001b[0;34m,\u001b[0m \u001b[0mx_max\u001b[0m\u001b[0;34m,\u001b[0m \u001b[0mgrid_length\u001b[0m\u001b[0;34m)\u001b[0m\u001b[0;34m\u001b[0m\u001b[0m\n\u001b[0m\u001b[1;32m      4\u001b[0m \u001b[0my_steps\u001b[0m \u001b[0;34m=\u001b[0m \u001b[0mnp\u001b[0m\u001b[0;34m.\u001b[0m\u001b[0mlinspace\u001b[0m\u001b[0;34m(\u001b[0m\u001b[0my_min\u001b[0m\u001b[0;34m,\u001b[0m \u001b[0my_max\u001b[0m\u001b[0;34m,\u001b[0m \u001b[0mgrid_length\u001b[0m\u001b[0;34m)\u001b[0m\u001b[0;34m\u001b[0m\u001b[0m\n\u001b[1;32m      5\u001b[0m \u001b[0mdensities_dictionary\u001b[0m \u001b[0;34m=\u001b[0m \u001b[0;34m[\u001b[0m\u001b[0;34m]\u001b[0m\u001b[0;34m\u001b[0m\u001b[0m\n",
      "\u001b[0;31mNameError\u001b[0m: name 'grid_length' is not defined"
     ]
    }
   ],
   "source": [
    "k_em = 2\n",
    "x_min, x_max, y_min, y_max = X0[:,0].min(), X0[:,0].max(), X0[:,1].min(), X0[:,1].max()\n",
    "x_steps = np.linspace(x_min, x_max, grid_length)\n",
    "y_steps = np.linspace(y_min, y_max, grid_length)\n",
    "densities_dictionary = []\n",
    "for grid_length in [5]:\n",
    "    for idx, x_step in enumerate(x_steps[:-1]):\n",
    "        for idy, y_step in enumerate(y_steps[:-1]):\n",
    "            X_temp = X0[(X0[:,0] > x_step) & (X0[:,0] < x_steps[idx+1]) & (X0[:,1] > y_step) & (X0[:,1] < y_steps[idy+1]) ]\n",
    "            if X_temp.shape[0] > k_em:\n",
    "                gmm = GaussianMixture(3)\n",
    "                gmm.fit(X_temp)\n",
    "                for mean, var in zip(gmm.means_, gmm.covariances_):\n",
    "                    densities_dictionary.append(multivariate_normal(mean, var))"
   ]
  },
  {
   "cell_type": "code",
   "execution_count": null,
   "metadata": {
    "collapsed": false
   },
   "outputs": [],
   "source": [
    "cl = WeightEstimator(densities_dict=densities_dictionary, select_threshold=1e-10)"
   ]
  },
  {
   "cell_type": "code",
   "execution_count": null,
   "metadata": {
    "collapsed": false
   },
   "outputs": [],
   "source": [
    "cl.fit(X)"
   ]
  },
  {
   "cell_type": "code",
   "execution_count": null,
   "metadata": {
    "collapsed": false
   },
   "outputs": [],
   "source": [
    "res = cl.select_densities()"
   ]
  },
  {
   "cell_type": "code",
   "execution_count": null,
   "metadata": {
    "collapsed": false,
    "scrolled": false
   },
   "outputs": [],
   "source": [
    "import matplotlib.pyplot as plt\n",
    "import matplotlib as mpl\n",
    "from scipy import linalg\n",
    "from pylab import rcParams\n",
    "rcParams['figure.figsize'] = 15, 10\n",
    "splot = plt.subplot(1, 1, 1)\n",
    "\n",
    "splot.scatter(X0[:,0],X0[:,1], .8)\n",
    "for i,_ in res:\n",
    "    d = densities_dictionary[i]\n",
    "    mean, covar = d.mean, d.cov\n",
    "    v, w = linalg.eigh(covar)\n",
    "    v = 2. * np.sqrt(2.) * np.sqrt(v)\n",
    "    u = w[0] / linalg.norm(w[0])\n",
    "    # Plot an ellipse to show the Gaussian component\n",
    "    angle = np.arctan(u[1] / u[0])\n",
    "    angle = 180. * angle / np.pi  # convert to degrees\n",
    "    ell = mpl.patches.Ellipse(mean, v[0], v[1], 180. + angle)\n",
    "    ell.set_alpha(0.5)\n",
    "    splot.add_artist(ell)"
   ]
  },
  {
   "cell_type": "code",
   "execution_count": null,
   "metadata": {
    "collapsed": false
   },
   "outputs": [],
   "source": [
    "best_bic = 1e10\n",
    "for k in range(2,50):\n",
    "    gmm = GaussianMixture(k)\n",
    "    gmm.fit(X0)\n",
    "    bic = gmm.bic(X0)\n",
    "    if bic < best_bic:\n",
    "        best_bic = bic\n",
    "        score = gmm.score(X0)\n",
    "        print score\n",
    "        best_bic_param = (bic, score, gmm.covariances_, gmm.means_, gmm.weights_)\n",
    "    "
   ]
  },
  {
   "cell_type": "code",
   "execution_count": null,
   "metadata": {
    "collapsed": false
   },
   "outputs": [],
   "source": [
    "best_bic_param"
   ]
  },
  {
   "cell_type": "code",
   "execution_count": null,
   "metadata": {
    "collapsed": false
   },
   "outputs": [],
   "source": [
    "densities_em = []\n",
    "for cov, mean in zip(best_bic_param[2], best_bic_param[3]):\n",
    "    densities_em.append(multivariate_normal(mean, cov))\n"
   ]
  },
  {
   "cell_type": "code",
   "execution_count": null,
   "metadata": {
    "collapsed": false
   },
   "outputs": [],
   "source": [
    "X, Y = np.mgrid[x_min:x_max:100j, y_min:y_max:100j]\n",
    "X_grid = np.vstack([X.ravel(), Y.ravel()]).T\n",
    "X_grid"
   ]
  },
  {
   "cell_type": "code",
   "execution_count": null,
   "metadata": {
    "collapsed": false
   },
   "outputs": [],
   "source": [
    "def f(x):\n",
    "    fk = np.array([d.pdf(x) for d in densities_em])\n",
    "    return best_bic_param[-1].dot(fk)\n",
    "f_em = np.apply_along_axis(f, 1, X0)\n",
    "print np.log(f_em).sum()/X0.shape[0]"
   ]
  },
  {
   "cell_type": "code",
   "execution_count": 48,
   "metadata": {
    "collapsed": false
   },
   "outputs": [
    {
     "data": {
      "text/plain": [
       "-54.882235678734169"
      ]
     },
     "execution_count": 48,
     "metadata": {},
     "output_type": "execute_result"
    }
   ],
   "source": [
    "selected_densities_estim, weights_estim = np.array(zip(*res2))\n",
    "f_weight_estim = np.apply_along_axis(lambda x: weights_estim.dot(np.array([densities[i].pdf(x) for i in selected_densities_estim.astype(int)])), 1, X0)\n",
    "log_lik = np.log(f_weight_estim).sum()/X0.shape[0]\n",
    "log_lik"
   ]
  },
  {
   "cell_type": "code",
   "execution_count": 17,
   "metadata": {
    "collapsed": false
   },
   "outputs": [
    {
     "data": {
      "text/plain": [
       "[(218, 0.06889282692661267),\n",
       " (221, 0.035466544430183496),\n",
       " (277, 0.10231750989867713),\n",
       " (278, 0.1456275319223059),\n",
       " (281, 0.10825819703086038),\n",
       " (338, 0.01906926295800231),\n",
       " (449, 0.04082022119365628),\n",
       " (509, 0.07447416210326328),\n",
       " (569, 0.126301475765866),\n",
       " (632, 0.1256061852841631),\n",
       " (692, 0.06665509095610522),\n",
       " (752, 0.037483876841484486),\n",
       " (812, 0.01421875846189462)]"
      ]
     },
     "execution_count": 17,
     "metadata": {},
     "output_type": "execute_result"
    }
   ],
   "source": [
    "res"
   ]
  },
  {
   "cell_type": "code",
   "execution_count": 17,
   "metadata": {
    "collapsed": false
   },
   "outputs": [],
   "source": [
    "from algorithm import WeightEstimator\n",
    "cl = WeightEstimator(densities_dict=densities, select_threshold=1e-2)\n",
    "cl.fit(X)\n",
    "a = cl.pi_final"
   ]
  },
  {
   "cell_type": "code",
   "execution_count": 18,
   "metadata": {
    "collapsed": false
   },
   "outputs": [
    {
     "name": "stdout",
     "output_type": "stream",
     "text": [
      "[Errno 2] No such file or directory: '../weight_vector_simulations_paper/weight_vector_estim_code/'\n",
      "/Users/mehdi/Dropbox/working folder/PHd/weight_vector_simulations_paper/weight_vector_estim_code\n"
     ]
    }
   ],
   "source": [
    "cd ../weight_vector_simulations_paper/weight_vector_estim_code/"
   ]
  },
  {
   "cell_type": "code",
   "execution_count": 19,
   "metadata": {
    "collapsed": false
   },
   "outputs": [],
   "source": [
    "F = np.array([densities[i].pdf(X) for i in range(len(densities))]).T"
   ]
  },
  {
   "cell_type": "code",
   "execution_count": 20,
   "metadata": {
    "collapsed": false
   },
   "outputs": [],
   "source": [
    "def f0(pi,F):\n",
    "    return -np.log((pi*F).sum(axis=1)).sum()"
   ]
  },
  {
   "cell_type": "code",
   "execution_count": 26,
   "metadata": {
    "collapsed": false
   },
   "outputs": [],
   "source": [
    "from sklearn.mixture import GaussianMixture\n",
    "def mle_bic(X, kmax):\n",
    "    best_bic = 1e10\n",
    "    best_model = None\n",
    "    for k in range(2,kmax):\n",
    "        cl = GaussianMixture(n_components=k)\n",
    "        cl.fit(X)\n",
    "        bic = cl.bic(X)\n",
    "        if bic < best_bic:\n",
    "            best_bic = bic\n",
    "            best_model = cl\n",
    "    return best_bic, best_model"
   ]
  },
  {
   "cell_type": "code",
   "execution_count": 28,
   "metadata": {
    "collapsed": false
   },
   "outputs": [
    {
     "data": {
      "text/plain": [
       "(956.66188635617254,\n",
       " GaussianMixture(covariance_type='full', init_params='kmeans', max_iter=100,\n",
       "         means_init=None, n_components=2, n_init=1, precisions_init=None,\n",
       "         random_state=None, reg_covar=1e-06, tol=0.001, verbose=0,\n",
       "         verbose_interval=10, warm_start=False, weights_init=None))"
      ]
     },
     "execution_count": 28,
     "metadata": {},
     "output_type": "execute_result"
    }
   ],
   "source": []
  },
  {
   "cell_type": "code",
   "execution_count": 38,
   "metadata": {
    "collapsed": false
   },
   "outputs": [
    {
     "name": "stdout",
     "output_type": "stream",
     "text": [
      "/Users/mehdi/Dropbox/working folder/PHd/phd-clustering-models/tools\n"
     ]
    }
   ],
   "source": [
    "cd /Users/mehdi/Documents/WorkingFolder/PHd/phd-clustering-models/tools/"
   ]
  },
  {
   "cell_type": "code",
   "execution_count": 41,
   "metadata": {
    "collapsed": false
   },
   "outputs": [],
   "source": [
    "from gm_tools import gaussian_mixture_sample, gm_params_generator, best_cont_matrix\n",
    "weights, centers, cov = gm_params_generator(2,5)\n",
    "X, Y = gaussian_mixture_sample(weights, centers, cov, 1000)"
   ]
  },
  {
   "cell_type": "code",
   "execution_count": 42,
   "metadata": {
    "collapsed": false
   },
   "outputs": [
    {
     "data": {
      "text/plain": [
       "(-3015.5472245981714,\n",
       " GaussianMixture(covariance_type='full', init_params='kmeans', max_iter=100,\n",
       "         means_init=None, n_components=5, n_init=1, precisions_init=None,\n",
       "         random_state=None, reg_covar=1e-06, tol=0.001, verbose=0,\n",
       "         verbose_interval=10, warm_start=False, weights_init=None))"
      ]
     },
     "execution_count": 42,
     "metadata": {},
     "output_type": "execute_result"
    }
   ],
   "source": [
    "mle_bic(X,15)"
   ]
  },
  {
   "cell_type": "code",
   "execution_count": 47,
   "metadata": {
    "collapsed": false
   },
   "outputs": [
    {
     "name": "stdout",
     "output_type": "stream",
     "text": [
      "/Users/mehdi/Dropbox/working folder/PHd/weight_vector_simulations_paper/weight_vector_estim_code\n"
     ]
    }
   ],
   "source": [
    "cd /Users/mehdi/Documents/WorkingFolder/PHd/weight_vector_simulations_paper/weight_vector_estim_code/"
   ]
  },
  {
   "cell_type": "code",
   "execution_count": 48,
   "metadata": {
    "collapsed": true
   },
   "outputs": [],
   "source": [
    "from DensitiesGenerator import DensityGenerator"
   ]
  },
  {
   "cell_type": "code",
   "execution_count": 49,
   "metadata": {
    "collapsed": true
   },
   "outputs": [],
   "source": [
    "dg = DensityGenerator(n_pdf= 1000)"
   ]
  },
  {
   "cell_type": "code",
   "execution_count": 58,
   "metadata": {
    "collapsed": false
   },
   "outputs": [],
   "source": [
    "import numpy as np\n",
    "from scipy.stats import multivariate_normal\n",
    "from scipy.stats import laplace\n",
    "from scipy.integrate import simps\n",
    "nodes_gauss = [0, 0.2, 0.4, 0.6, 0.8, 1]\n",
    "var_list = [1, 10**(-1), 10**(-2), 10**(-3)]\n",
    "densities = []\n",
    "for m in nodes_gauss:\n",
    "    for var in var_list:\n",
    "        densities.append(multivariate_normal(m, var))\n",
    "scales =[0.05, 0.1, 0.2, 0.5, 1]\n",
    "nodes_lapl = [0, 0.2, 0.4, 0.6, 0.8, 1]\n",
    "for m in nodes_lapl:\n",
    "    for scale in scales:\n",
    "        densities.append(laplace(loc=m, scale=scale))\n",
    "X = dg.generate_uniform(n_points=100)\n"
   ]
  },
  {
   "cell_type": "code",
   "execution_count": 63,
   "metadata": {
    "collapsed": false
   },
   "outputs": [],
   "source": [
    "Y = X[0].reshape(-1,1)"
   ]
  },
  {
   "cell_type": "code",
   "execution_count": 64,
   "metadata": {
    "collapsed": false
   },
   "outputs": [
    {
     "data": {
      "text/plain": [
       "(47.474573931065919,\n",
       " GaussianMixture(covariance_type='full', init_params='kmeans', max_iter=100,\n",
       "         means_init=None, n_components=3, n_init=1, precisions_init=None,\n",
       "         random_state=None, reg_covar=1e-06, tol=0.001, verbose=0,\n",
       "         verbose_interval=10, warm_start=False, weights_init=None))"
      ]
     },
     "execution_count": 64,
     "metadata": {},
     "output_type": "execute_result"
    }
   ],
   "source": [
    "mle_bic(Y,15)"
   ]
  },
  {
   "cell_type": "code",
   "execution_count": 138,
   "metadata": {
    "collapsed": false
   },
   "outputs": [
    {
     "data": {
      "text/plain": [
       "[<matplotlib.lines.Line2D at 0x115693610>]"
      ]
     },
     "execution_count": 138,
     "metadata": {},
     "output_type": "execute_result"
    },
    {
     "data": {
      "image/png": "[encoded data removed]",
      "text/plain": [
       "<matplotlib.figure.Figure at 0x11553b8d0>"
      ]
     },
     "metadata": {},
     "output_type": "display_data"
    }
   ],
   "source": [
    "%matplotlib inline\n",
    "import matplotlib.pyplot as plt\n",
    "from scipy.stats import uniform\n",
    "rv = uniform(0.2,0.5)\n",
    "x = np.linspace(0,1, 100)\n",
    "plt.plot(x, rv.pdf(x),'r-', lw=5, alpha=0.6, label='uniform pdf')"
   ]
  },
  {
   "cell_type": "code",
   "execution_count": 150,
   "metadata": {
    "collapsed": false
   },
   "outputs": [],
   "source": [
    "densities = []\n",
    "for i in range(50):\n",
    "        densities.append(uniform_nonzero(i*1./50,1./50))"
   ]
  },
  {
   "cell_type": "code",
   "execution_count": 151,
   "metadata": {
    "collapsed": false
   },
   "outputs": [
    {
     "data": {
      "image/png": "[encoded data removed]",
      "text/plain": [
       "<matplotlib.figure.Figure at 0x115cf8810>"
      ]
     },
     "metadata": {},
     "output_type": "display_data"
    }
   ],
   "source": [
    "x = np.linspace(0, 1, 1000)\n",
    "for d in densities:\n",
    "    plt.plot(x, d.pdf(x))"
   ]
  },
  {
   "cell_type": "code",
   "execution_count": 152,
   "metadata": {
    "collapsed": false
   },
   "outputs": [
    {
     "data": {
      "text/plain": [
       "[<matplotlib.lines.Line2D at 0x1160cfc10>]"
      ]
     },
     "execution_count": 152,
     "metadata": {},
     "output_type": "execute_result"
    },
    {
     "data": {
      "image/png": "[encoded data removed]",
      "text/plain": [
       "<matplotlib.figure.Figure at 0x115a8dc90>"
      ]
     },
     "metadata": {},
     "output_type": "display_data"
    }
   ],
   "source": [
    "plt.plot(x, densities[2].pdf(x))"
   ]
  },
  {
   "cell_type": "markdown",
   "metadata": {},
   "source": [
    "# Generation du dictionnaire"
   ]
  },
  {
   "cell_type": "code",
   "execution_count": 17,
   "metadata": {
    "collapsed": false
   },
   "outputs": [
    {
     "data": {
      "text/plain": [
       "<matplotlib.collections.PathCollection at 0x112a26390>"
      ]
     },
     "execution_count": 17,
     "metadata": {},
     "output_type": "execute_result"
    },
    {
     "data": {
      "image/png": "[encoded data removed]",
      "text/plain": [
       "<matplotlib.figure.Figure at 0x1124329d0>"
      ]
     },
     "metadata": {},
     "output_type": "display_data"
    }
   ],
   "source": [
    "X = sc.fit_transform(X)\n",
    "plt.scatter(X[:,0],X[:,1], .8)"
   ]
  },
  {
   "cell_type": "code",
   "execution_count": 18,
   "metadata": {
    "collapsed": true
   },
   "outputs": [],
   "source": [
    "from sklearn.decomposition import PCA\n",
    "from sklearn.preprocessing import StandardScaler"
   ]
  },
  {
   "cell_type": "code",
   "execution_count": 19,
   "metadata": {
    "collapsed": true
   },
   "outputs": [],
   "source": [
    "pc = PCA(2)\n",
    "sc = StandardScaler()"
   ]
  },
  {
   "cell_type": "code",
   "execution_count": 31,
   "metadata": {
    "collapsed": false
   },
   "outputs": [
    {
     "data": {
      "text/plain": [
       "array([[-0.70710678,  0.70710678],\n",
       "       [-0.70710678, -0.70710678]])"
      ]
     },
     "execution_count": 31,
     "metadata": {},
     "output_type": "execute_result"
    }
   ],
   "source": [
    "X_pca = pc.fit_transform(sc.fit_transform(X))\n",
    "pc.components_"
   ]
  },
  {
   "cell_type": "code",
   "execution_count": 32,
   "metadata": {
    "collapsed": false
   },
   "outputs": [
    {
     "data": {
      "text/plain": [
       "<matplotlib.collections.PathCollection at 0x1131d0910>"
      ]
     },
     "execution_count": 32,
     "metadata": {},
     "output_type": "execute_result"
    },
    {
     "data": {
      "image/png": "[encoded data removed]",
      "text/plain": [
       "<matplotlib.figure.Figure at 0x112f51410>"
      ]
     },
     "metadata": {},
     "output_type": "display_data"
    }
   ],
   "source": [
    "plt.scatter(X_pca[:,0], X_pca[:,1])"
   ]
  },
  {
   "cell_type": "code",
   "execution_count": 22,
   "metadata": {
    "collapsed": false
   },
   "outputs": [],
   "source": [
    "from sklearn.cluster import KMeans\n",
    "km = KMeans(5)\n",
    "X_temp0= km.fit_predict(X_pca[:,0].reshape(-1,1))\n",
    "X_temp1= km.fit_predict(X_pca[:,1].reshape(-1,1))"
   ]
  },
  {
   "cell_type": "code",
   "execution_count": 23,
   "metadata": {
    "collapsed": false
   },
   "outputs": [
    {
     "data": {
      "text/plain": [
       "2"
      ]
     },
     "execution_count": 23,
     "metadata": {},
     "output_type": "execute_result"
    }
   ],
   "source": [
    "X_temp1[0]"
   ]
  },
  {
   "cell_type": "code",
   "execution_count": 166,
   "metadata": {
    "collapsed": false
   },
   "outputs": [],
   "source": [
    "\n",
    "    "
   ]
  },
  {
   "cell_type": "code",
   "execution_count": 43,
   "metadata": {
    "collapsed": false
   },
   "outputs": [
    {
     "data": {
      "text/plain": [
       "KMeans(algorithm='auto', copy_x=True, init='k-means++', max_iter=300,\n",
       "    n_clusters=2, n_init=10, n_jobs=1, precompute_distances='auto',\n",
       "    random_state=None, tol=0.0001, verbose=0)"
      ]
     },
     "execution_count": 43,
     "metadata": {},
     "output_type": "execute_result"
    }
   ],
   "source": [
    "kmeans = KMeans(2)\n",
    "kmeans.fit(X)"
   ]
  },
  {
   "cell_type": "code",
   "execution_count": 46,
   "metadata": {
    "collapsed": false
   },
   "outputs": [],
   "source": [
    "y = kmeans.labels_"
   ]
  },
  {
   "cell_type": "code",
   "execution_count": 51,
   "metadata": {
    "collapsed": false
   },
   "outputs": [
    {
     "data": {
      "text/plain": [
       "array([1, 1, 1, 1, 1, 1, 1, 1, 1, 1, 1, 1, 1, 1, 1, 1, 1, 1, 1, 1, 1, 1, 1,\n",
       "       1, 1, 1, 1, 1, 1, 1, 1, 1, 1, 1, 1, 1, 1, 1, 1, 1, 1, 1, 1, 1, 1, 1,\n",
       "       1, 1, 1, 1, 1, 1, 1, 1, 1, 1, 1, 1, 1, 1, 1, 1, 1, 1, 1, 1, 1, 1, 1,\n",
       "       1, 1, 1, 1, 1, 1, 1, 1, 1, 1, 1, 1, 1, 1, 1, 1, 1, 1, 1, 1, 1, 1, 1,\n",
       "       1, 1, 1, 1, 1, 1, 1, 1], dtype=int32)"
      ]
     },
     "execution_count": 51,
     "metadata": {},
     "output_type": "execute_result"
    }
   ],
   "source": [
    "y[np.where(y==1)]"
   ]
  },
  {
   "cell_type": "code",
   "execution_count": 122,
   "metadata": {
    "collapsed": false
   },
   "outputs": [
    {
     "name": "stdout",
     "output_type": "stream",
     "text": [
      "/Users/mehdi/Dropbox/working folder/PHd/phd-clustering-models/tools\n"
     ]
    }
   ],
   "source": [
    "cd ../tools/"
   ]
  },
  {
   "cell_type": "code",
   "execution_count": 159,
   "metadata": {
    "collapsed": false
   },
   "outputs": [],
   "source": [
    "from gm_tools import gaussian_mixture_sample, gm_params_generator, best_cont_matrix\n",
    "weights, centers, cov = gm_params_generator(10,3)\n",
    "X, Y = gaussian_mixture_sample(weights, centers, cov, 1000)"
   ]
  },
  {
   "cell_type": "code",
   "execution_count": 160,
   "metadata": {
    "collapsed": false
   },
   "outputs": [
    {
     "data": {
      "text/plain": [
       "array([[ 0.03717608, -1.15220815, -0.63477926, ...,  1.30554143,\n",
       "         2.22423824,  1.51622318],\n",
       "       [-0.07206821, -0.91839595, -0.62778374, ...,  1.43750006,\n",
       "         2.33168   ,  1.69296087],\n",
       "       [ 1.47955317, -1.10682111, -2.62963366, ...,  0.3303743 ,\n",
       "         2.13341828, -0.6861456 ],\n",
       "       ..., \n",
       "       [-0.43803426, -1.28543693, -0.91326653, ...,  0.9660687 ,\n",
       "         1.85596215,  1.45977998],\n",
       "       [-0.43260847, -1.55075385, -0.80510266, ...,  1.07989485,\n",
       "         1.7797362 ,  1.39173138],\n",
       "       [-0.26803614, -1.35060715, -0.89429421, ...,  1.06051135,\n",
       "         1.72468985,  1.45074475]])"
      ]
     },
     "execution_count": 160,
     "metadata": {},
     "output_type": "execute_result"
    }
   ],
   "source": [
    "X"
   ]
  },
  {
   "cell_type": "code",
   "execution_count": 167,
   "metadata": {
    "collapsed": true
   },
   "outputs": [],
   "source": [
    "dg = DictionaryGenerator(max_pca_comp=5)"
   ]
  },
  {
   "cell_type": "code",
   "execution_count": 168,
   "metadata": {
    "collapsed": false
   },
   "outputs": [
    {
     "data": {
      "text/plain": [
       "[[<scipy.stats._multivariate.multivariate_normal_frozen at 0x1146ec4d0>,\n",
       "  <scipy.stats._multivariate.multivariate_normal_frozen at 0x1146ec150>],\n",
       " [<scipy.stats._multivariate.multivariate_normal_frozen at 0x1146ef110>,\n",
       "  <scipy.stats._multivariate.multivariate_normal_frozen at 0x1146ef090>],\n",
       " [<scipy.stats._multivariate.multivariate_normal_frozen at 0x1146ef2d0>,\n",
       "  <scipy.stats._multivariate.multivariate_normal_frozen at 0x1146ef390>],\n",
       " [<scipy.stats._multivariate.multivariate_normal_frozen at 0x1146ef450>,\n",
       "  <scipy.stats._multivariate.multivariate_normal_frozen at 0x1146ef510>],\n",
       " [<scipy.stats._multivariate.multivariate_normal_frozen at 0x1146ef5d0>,\n",
       "  <scipy.stats._multivariate.multivariate_normal_frozen at 0x1146ef690>],\n",
       " [<scipy.stats._multivariate.multivariate_normal_frozen at 0x1146ef710>,\n",
       "  <scipy.stats._multivariate.multivariate_normal_frozen at 0x1146ef7d0>],\n",
       " [<scipy.stats._multivariate.multivariate_normal_frozen at 0x1146ef890>,\n",
       "  <scipy.stats._multivariate.multivariate_normal_frozen at 0x1146ef950>],\n",
       " [<scipy.stats._multivariate.multivariate_normal_frozen at 0x1146efa10>,\n",
       "  <scipy.stats._multivariate.multivariate_normal_frozen at 0x1146efad0>],\n",
       " [<scipy.stats._multivariate.multivariate_normal_frozen at 0x1146efb90>,\n",
       "  <scipy.stats._multivariate.multivariate_normal_frozen at 0x1146efc50>],\n",
       " [<scipy.stats._multivariate.multivariate_normal_frozen at 0x1146efd10>,\n",
       "  <scipy.stats._multivariate.multivariate_normal_frozen at 0x1146eff90>]]"
      ]
     },
     "execution_count": 168,
     "metadata": {},
     "output_type": "execute_result"
    }
   ],
   "source": [
    "dg.fit(X )\n",
    "dg.densities"
   ]
  },
  {
   "cell_type": "code",
   "execution_count": 79,
   "metadata": {
    "collapsed": false
   },
   "outputs": [
    {
     "data": {
      "text/plain": [
       "array([[[ 0.03863992, -0.0073086 ],\n",
       "        [-0.0073086 ,  0.17751361]],\n",
       "\n",
       "       [[ 0.25322626,  0.13426231],\n",
       "        [ 0.13426231,  0.07563479]]])"
      ]
     },
     "execution_count": 79,
     "metadata": {},
     "output_type": "execute_result"
    }
   ],
   "source": [
    "from sklearn.mixture import GaussianMixture\n",
    "gm = GaussianMixture(2)\n",
    "gm.fit(X)\n",
    "gm.covariances_"
   ]
  },
  {
   "cell_type": "code",
   "execution_count": 173,
   "metadata": {
    "collapsed": false
   },
   "outputs": [],
   "source": [
    "import pypmc"
   ]
  },
  {
   "cell_type": "code",
   "execution_count": 181,
   "metadata": {
    "collapsed": false
   },
   "outputs": [],
   "source": [
    "from pypmc.sampler.importance_sampling import ImportanceSampler\n"
   ]
  },
  {
   "cell_type": "code",
   "execution_count": 175,
   "metadata": {
    "collapsed": false
   },
   "outputs": [
    {
     "name": "stdout",
     "output_type": "stream",
     "text": [
      "-2.68449893153 1.9113202268\n",
      "-1.88855044146 1.60213288427\n",
      "-2.74197546065 -0.32963205798\n",
      "-2.81993508036 2.55187166683\n",
      "-2.01797346592 1.08148826271\n",
      "-2.48619196342 0.0539009970857\n",
      "-2.75843006585 0.557241085456\n",
      "-2.48493987178 1.6740202351\n",
      "1.29569806977 2.64557118809\n",
      "-1.73689129564 1.95689548016\n"
     ]
    }
   ],
   "source": [
    "for i in range(X.shape[1]):\n",
    "    print X[:,i].min(), X[:,i].max()"
   ]
  },
  {
   "cell_type": "code",
   "execution_count": 176,
   "metadata": {
    "collapsed": true
   },
   "outputs": [],
   "source": [
    "from pypmc.tools.indicator import merge_function_with_indicator\n",
    "\n",
    "# define indicator\n",
    "ind_lower = [-3 for _ in range(X.shape[1])]\n",
    "ind_upper = [3 for _ in range(X.shape[1])]\n",
    "ind = pypmc.tools.indicator.hyperrectangle(ind_lower, ind_upper)\n"
   ]
  },
  {
   "cell_type": "code",
   "execution_count": 298,
   "metadata": {
    "collapsed": false
   },
   "outputs": [],
   "source": [
    "from pypmc.density.mixture import create_gaussian_mixture\n",
    "\n",
    "\n",
    "\n",
    "class Gaussian_mixture_gen(object):\n",
    "    \"\"\"\n",
    "    Simple gaussian mixture class\n",
    "    \"\"\"\n",
    "    def __init__(self, p, weights):\n",
    "        self.K = len(weights)\n",
    "        self.weights = weights\n",
    "        self.centers = self.binary_centers(self.K, p)\n",
    "        self.cov = np.array([1e-2*np.diag(np.ones(p)) for _ in range(self.K)])\n",
    "        \n",
    "    def binary_centers(self, K,p):\n",
    "        if K > 2**p:\n",
    "            print \"Warning: not enough nodes\"\n",
    "            K_ = 2**p\n",
    "        else:\n",
    "            K_ = K\n",
    "        centers = []\n",
    "        for i in range(K_):\n",
    "            bin_array = list(bin(i).split(\"b\")[1])\n",
    "            zeros_arr = [0]*(p-len(bin_array))\n",
    "            centers.append(np.array(map(int, zeros_arr+bin_array)))\n",
    "        return np.array(centers)\n",
    "    \n",
    "    def get_params(self):\n",
    "        return self.centers, self.cov\n",
    "    \n",
    "    def sample(self, N):\n",
    "        mixture = create_gaussian_mixture(self.centers, self.cov, self.weights)\n",
    "        return mixture.propose(N)\n",
    "        "
   ]
  },
  {
   "cell_type": "code",
   "execution_count": 187,
   "metadata": {
    "collapsed": false
   },
   "outputs": [],
   "source": [
    "y = np.ma.array([1, 2, 3], mask = [0, 1, 0])"
   ]
  },
  {
   "cell_type": "code",
   "execution_count": 188,
   "metadata": {
    "collapsed": false
   },
   "outputs": [
    {
     "data": {
      "text/plain": [
       "masked_array(data = [1 -- 3],\n",
       "             mask = [False  True False],\n",
       "       fill_value = 999999)"
      ]
     },
     "execution_count": 188,
     "metadata": {},
     "output_type": "execute_result"
    }
   ],
   "source": []
  },
  {
   "cell_type": "code",
   "execution_count": 238,
   "metadata": {
    "collapsed": false
   },
   "outputs": [
    {
     "data": {
      "text/plain": [
       "array([[ 1.,  0.,  0.,  0.,  0.],\n",
       "       [ 0.,  1.,  0.,  0.,  0.],\n",
       "       [ 0.,  0.,  1.,  0.,  0.],\n",
       "       [ 0.,  0.,  0.,  1.,  0.],\n",
       "       [ 0.,  0.,  0.,  0.,  1.]])"
      ]
     },
     "execution_count": 238,
     "metadata": {},
     "output_type": "execute_result"
    }
   ],
   "source": [
    "np.diag(np.ones(5))"
   ]
  },
  {
   "cell_type": "code",
   "execution_count": 234,
   "metadata": {
    "collapsed": false
   },
   "outputs": [
    {
     "data": {
      "text/plain": [
       "array([[0, 0, 0, ..., 0, 0, 0],\n",
       "       [0, 0, 0, ..., 0, 0, 1],\n",
       "       [0, 0, 0, ..., 0, 1, 0],\n",
       "       ..., \n",
       "       [0, 0, 0, ..., 1, 1, 1],\n",
       "       [0, 0, 0, ..., 0, 0, 0],\n",
       "       [0, 0, 0, ..., 0, 0, 1]])"
      ]
     },
     "execution_count": 234,
     "metadata": {},
     "output_type": "execute_result"
    }
   ],
   "source": [
    "binary_centers(50,22)"
   ]
  },
  {
   "cell_type": "code",
   "execution_count": 299,
   "metadata": {
    "collapsed": false
   },
   "outputs": [],
   "source": [
    "K = 10\n",
    "N = 100\n",
    "p = 5\n",
    "weights = 1./K*np.ones(K)\n",
    "gg = Gaussian_mixture_gen(p, weights)\n",
    "X2 = sc.fit_transform(gg.sample(N))"
   ]
  },
  {
   "cell_type": "code",
   "execution_count": 300,
   "metadata": {
    "collapsed": false
   },
   "outputs": [
    {
     "data": {
      "text/plain": [
       "<matplotlib.collections.PathCollection at 0x117366cd0>"
      ]
     },
     "execution_count": 300,
     "metadata": {},
     "output_type": "execute_result"
    },
    {
     "data": {
      "image/png": "[encoded data removed]",
      "text/plain": [
       "<matplotlib.figure.Figure at 0x1170b9310>"
      ]
     },
     "metadata": {},
     "output_type": "display_data"
    }
   ],
   "source": [
    "plt.scatter(X2[:,1], X2[:,2])"
   ]
  },
  {
   "cell_type": "code",
   "execution_count": 301,
   "metadata": {
    "collapsed": false
   },
   "outputs": [
    {
     "data": {
      "text/plain": [
       "(array([[0, 0, 0, 0, 0],\n",
       "        [0, 0, 0, 0, 1],\n",
       "        [0, 0, 0, 1, 0],\n",
       "        [0, 0, 0, 1, 1],\n",
       "        [0, 0, 1, 0, 0],\n",
       "        [0, 0, 1, 0, 1],\n",
       "        [0, 0, 1, 1, 0],\n",
       "        [0, 0, 1, 1, 1],\n",
       "        [0, 1, 0, 0, 0],\n",
       "        [0, 1, 0, 0, 1]]), array([[[ 0.01,  0.  ,  0.  ,  0.  ,  0.  ],\n",
       "         [ 0.  ,  0.01,  0.  ,  0.  ,  0.  ],\n",
       "         [ 0.  ,  0.  ,  0.01,  0.  ,  0.  ],\n",
       "         [ 0.  ,  0.  ,  0.  ,  0.01,  0.  ],\n",
       "         [ 0.  ,  0.  ,  0.  ,  0.  ,  0.01]],\n",
       " \n",
       "        [[ 0.01,  0.  ,  0.  ,  0.  ,  0.  ],\n",
       "         [ 0.  ,  0.01,  0.  ,  0.  ,  0.  ],\n",
       "         [ 0.  ,  0.  ,  0.01,  0.  ,  0.  ],\n",
       "         [ 0.  ,  0.  ,  0.  ,  0.01,  0.  ],\n",
       "         [ 0.  ,  0.  ,  0.  ,  0.  ,  0.01]],\n",
       " \n",
       "        [[ 0.01,  0.  ,  0.  ,  0.  ,  0.  ],\n",
       "         [ 0.  ,  0.01,  0.  ,  0.  ,  0.  ],\n",
       "         [ 0.  ,  0.  ,  0.01,  0.  ,  0.  ],\n",
       "         [ 0.  ,  0.  ,  0.  ,  0.01,  0.  ],\n",
       "         [ 0.  ,  0.  ,  0.  ,  0.  ,  0.01]],\n",
       " \n",
       "        [[ 0.01,  0.  ,  0.  ,  0.  ,  0.  ],\n",
       "         [ 0.  ,  0.01,  0.  ,  0.  ,  0.  ],\n",
       "         [ 0.  ,  0.  ,  0.01,  0.  ,  0.  ],\n",
       "         [ 0.  ,  0.  ,  0.  ,  0.01,  0.  ],\n",
       "         [ 0.  ,  0.  ,  0.  ,  0.  ,  0.01]],\n",
       " \n",
       "        [[ 0.01,  0.  ,  0.  ,  0.  ,  0.  ],\n",
       "         [ 0.  ,  0.01,  0.  ,  0.  ,  0.  ],\n",
       "         [ 0.  ,  0.  ,  0.01,  0.  ,  0.  ],\n",
       "         [ 0.  ,  0.  ,  0.  ,  0.01,  0.  ],\n",
       "         [ 0.  ,  0.  ,  0.  ,  0.  ,  0.01]],\n",
       " \n",
       "        [[ 0.01,  0.  ,  0.  ,  0.  ,  0.  ],\n",
       "         [ 0.  ,  0.01,  0.  ,  0.  ,  0.  ],\n",
       "         [ 0.  ,  0.  ,  0.01,  0.  ,  0.  ],\n",
       "         [ 0.  ,  0.  ,  0.  ,  0.01,  0.  ],\n",
       "         [ 0.  ,  0.  ,  0.  ,  0.  ,  0.01]],\n",
       " \n",
       "        [[ 0.01,  0.  ,  0.  ,  0.  ,  0.  ],\n",
       "         [ 0.  ,  0.01,  0.  ,  0.  ,  0.  ],\n",
       "         [ 0.  ,  0.  ,  0.01,  0.  ,  0.  ],\n",
       "         [ 0.  ,  0.  ,  0.  ,  0.01,  0.  ],\n",
       "         [ 0.  ,  0.  ,  0.  ,  0.  ,  0.01]],\n",
       " \n",
       "        [[ 0.01,  0.  ,  0.  ,  0.  ,  0.  ],\n",
       "         [ 0.  ,  0.01,  0.  ,  0.  ,  0.  ],\n",
       "         [ 0.  ,  0.  ,  0.01,  0.  ,  0.  ],\n",
       "         [ 0.  ,  0.  ,  0.  ,  0.01,  0.  ],\n",
       "         [ 0.  ,  0.  ,  0.  ,  0.  ,  0.01]],\n",
       " \n",
       "        [[ 0.01,  0.  ,  0.  ,  0.  ,  0.  ],\n",
       "         [ 0.  ,  0.01,  0.  ,  0.  ,  0.  ],\n",
       "         [ 0.  ,  0.  ,  0.01,  0.  ,  0.  ],\n",
       "         [ 0.  ,  0.  ,  0.  ,  0.01,  0.  ],\n",
       "         [ 0.  ,  0.  ,  0.  ,  0.  ,  0.01]],\n",
       " \n",
       "        [[ 0.01,  0.  ,  0.  ,  0.  ,  0.  ],\n",
       "         [ 0.  ,  0.01,  0.  ,  0.  ,  0.  ],\n",
       "         [ 0.  ,  0.  ,  0.01,  0.  ,  0.  ],\n",
       "         [ 0.  ,  0.  ,  0.  ,  0.01,  0.  ],\n",
       "         [ 0.  ,  0.  ,  0.  ,  0.  ,  0.01]]]))"
      ]
     },
     "execution_count": 301,
     "metadata": {},
     "output_type": "execute_result"
    }
   ],
   "source": [
    "gg.get_params()"
   ]
  },
  {
   "cell_type": "code",
   "execution_count": 9,
   "metadata": {
    "collapsed": true
   },
   "outputs": [],
   "source": [
    "from tools import get_results\n",
    "import pickle"
   ]
  },
  {
   "cell_type": "code",
   "execution_count": 8,
   "metadata": {
    "collapsed": false
   },
   "outputs": [
    {
     "name": "stderr",
     "output_type": "stream",
     "text": [
      "/usr/local/lib/python2.7/site-packages/sklearn/base.py:315: UserWarning: Trying to unpickle estimator GaussianMixture from version 0.18.1 when using version 0.18. This might lead to breaking code or invalid results. Use at your own risk.\n",
      "  UserWarning)\n"
     ]
    },
    {
     "ename": "KeyboardInterrupt",
     "evalue": "",
     "output_type": "error",
     "traceback": [
      "\u001b[0;31m---------------------------------------------------------------------------\u001b[0m",
      "\u001b[0;31mKeyboardInterrupt\u001b[0m                         Traceback (most recent call last)",
      "\u001b[0;32m<ipython-input-8-b4e3b50e8c12>\u001b[0m in \u001b[0;36m<module>\u001b[0;34m()\u001b[0m\n\u001b[1;32m      1\u001b[0m \u001b[0mfolder\u001b[0m \u001b[0;34m=\u001b[0m \u001b[0;34m\"/Users/mehdi/temp/simus weight vector/GLU_valid_2017-06-12_18.37.51/\"\u001b[0m\u001b[0;34m\u001b[0m\u001b[0m\n\u001b[0;32m----> 2\u001b[0;31m \u001b[0mdf\u001b[0m \u001b[0;34m=\u001b[0m \u001b[0mget_results\u001b[0m\u001b[0;34m(\u001b[0m\u001b[0mfolder\u001b[0m\u001b[0;34m)\u001b[0m\u001b[0;34m\u001b[0m\u001b[0m\n\u001b[0m",
      "\u001b[0;32m/Users/mehdi/Dropbox/working folder/PHd/weight_vector_simulations_paper/weight_vector_estim_code/tools.py\u001b[0m in \u001b[0;36mget_results\u001b[0;34m(folder)\u001b[0m\n\u001b[1;32m     21\u001b[0m     \u001b[0mres\u001b[0m \u001b[0;34m=\u001b[0m \u001b[0;34m[\u001b[0m\u001b[0;34m]\u001b[0m\u001b[0;34m\u001b[0m\u001b[0m\n\u001b[1;32m     22\u001b[0m     \u001b[0;32mfor\u001b[0m \u001b[0mf\u001b[0m \u001b[0;32min\u001b[0m \u001b[0monlyfiles\u001b[0m\u001b[0;34m:\u001b[0m\u001b[0;34m\u001b[0m\u001b[0m\n\u001b[0;32m---> 23\u001b[0;31m         \u001b[0mres\u001b[0m\u001b[0;34m.\u001b[0m\u001b[0mappend\u001b[0m\u001b[0;34m(\u001b[0m\u001b[0mpickle\u001b[0m\u001b[0;34m.\u001b[0m\u001b[0mload\u001b[0m\u001b[0;34m(\u001b[0m\u001b[0mopen\u001b[0m\u001b[0;34m(\u001b[0m\u001b[0mfolder\u001b[0m\u001b[0;34m+\u001b[0m\u001b[0mf\u001b[0m\u001b[0;34m)\u001b[0m\u001b[0;34m)\u001b[0m\u001b[0;34m)\u001b[0m\u001b[0;34m\u001b[0m\u001b[0m\n\u001b[0m\u001b[1;32m     24\u001b[0m     \u001b[0;32mreturn\u001b[0m \u001b[0mpd\u001b[0m\u001b[0;34m.\u001b[0m\u001b[0mDataFrame\u001b[0m\u001b[0;34m(\u001b[0m\u001b[0mres\u001b[0m\u001b[0;34m)\u001b[0m\u001b[0;34m\u001b[0m\u001b[0m\n\u001b[1;32m     25\u001b[0m \u001b[0;34m\u001b[0m\u001b[0m\n",
      "\u001b[0;32m/usr/local/Cellar/python/2.7.12_2/Frameworks/Python.framework/Versions/2.7/lib/python2.7/pickle.pyc\u001b[0m in \u001b[0;36mload\u001b[0;34m(file)\u001b[0m\n\u001b[1;32m   1382\u001b[0m \u001b[0;34m\u001b[0m\u001b[0m\n\u001b[1;32m   1383\u001b[0m \u001b[0;32mdef\u001b[0m \u001b[0mload\u001b[0m\u001b[0;34m(\u001b[0m\u001b[0mfile\u001b[0m\u001b[0;34m)\u001b[0m\u001b[0;34m:\u001b[0m\u001b[0;34m\u001b[0m\u001b[0m\n\u001b[0;32m-> 1384\u001b[0;31m     \u001b[0;32mreturn\u001b[0m \u001b[0mUnpickler\u001b[0m\u001b[0;34m(\u001b[0m\u001b[0mfile\u001b[0m\u001b[0;34m)\u001b[0m\u001b[0;34m.\u001b[0m\u001b[0mload\u001b[0m\u001b[0;34m(\u001b[0m\u001b[0;34m)\u001b[0m\u001b[0;34m\u001b[0m\u001b[0m\n\u001b[0m\u001b[1;32m   1385\u001b[0m \u001b[0;34m\u001b[0m\u001b[0m\n\u001b[1;32m   1386\u001b[0m \u001b[0;32mdef\u001b[0m \u001b[0mloads\u001b[0m\u001b[0;34m(\u001b[0m\u001b[0mstr\u001b[0m\u001b[0;34m)\u001b[0m\u001b[0;34m:\u001b[0m\u001b[0;34m\u001b[0m\u001b[0m\n",
      "\u001b[0;32m/usr/local/Cellar/python/2.7.12_2/Frameworks/Python.framework/Versions/2.7/lib/python2.7/pickle.pyc\u001b[0m in \u001b[0;36mload\u001b[0;34m(self)\u001b[0m\n\u001b[1;32m    862\u001b[0m             \u001b[0;32mwhile\u001b[0m \u001b[0;36m1\u001b[0m\u001b[0;34m:\u001b[0m\u001b[0;34m\u001b[0m\u001b[0m\n\u001b[1;32m    863\u001b[0m                 \u001b[0mkey\u001b[0m \u001b[0;34m=\u001b[0m \u001b[0mread\u001b[0m\u001b[0;34m(\u001b[0m\u001b[0;36m1\u001b[0m\u001b[0;34m)\u001b[0m\u001b[0;34m\u001b[0m\u001b[0m\n\u001b[0;32m--> 864\u001b[0;31m                 \u001b[0mdispatch\u001b[0m\u001b[0;34m[\u001b[0m\u001b[0mkey\u001b[0m\u001b[0;34m]\u001b[0m\u001b[0;34m(\u001b[0m\u001b[0mself\u001b[0m\u001b[0;34m)\u001b[0m\u001b[0;34m\u001b[0m\u001b[0m\n\u001b[0m\u001b[1;32m    865\u001b[0m         \u001b[0;32mexcept\u001b[0m \u001b[0m_Stop\u001b[0m\u001b[0;34m,\u001b[0m \u001b[0mstopinst\u001b[0m\u001b[0;34m:\u001b[0m\u001b[0;34m\u001b[0m\u001b[0m\n\u001b[1;32m    866\u001b[0m             \u001b[0;32mreturn\u001b[0m \u001b[0mstopinst\u001b[0m\u001b[0;34m.\u001b[0m\u001b[0mvalue\u001b[0m\u001b[0;34m\u001b[0m\u001b[0m\n",
      "\u001b[0;32m/usr/local/Cellar/python/2.7.12_2/Frameworks/Python.framework/Versions/2.7/lib/python2.7/pickle.pyc\u001b[0m in \u001b[0;36mload_string\u001b[0;34m(self)\u001b[0m\n\u001b[1;32m    975\u001b[0m         \u001b[0;32melse\u001b[0m\u001b[0;34m:\u001b[0m\u001b[0;34m\u001b[0m\u001b[0m\n\u001b[1;32m    976\u001b[0m             \u001b[0;32mraise\u001b[0m \u001b[0mValueError\u001b[0m\u001b[0;34m,\u001b[0m \u001b[0;34m\"insecure string pickle\"\u001b[0m\u001b[0;34m\u001b[0m\u001b[0m\n\u001b[0;32m--> 977\u001b[0;31m         \u001b[0mself\u001b[0m\u001b[0;34m.\u001b[0m\u001b[0mappend\u001b[0m\u001b[0;34m(\u001b[0m\u001b[0mrep\u001b[0m\u001b[0;34m.\u001b[0m\u001b[0mdecode\u001b[0m\u001b[0;34m(\u001b[0m\u001b[0;34m\"string-escape\"\u001b[0m\u001b[0;34m)\u001b[0m\u001b[0;34m)\u001b[0m\u001b[0;34m\u001b[0m\u001b[0m\n\u001b[0m\u001b[1;32m    978\u001b[0m     \u001b[0mdispatch\u001b[0m\u001b[0;34m[\u001b[0m\u001b[0mSTRING\u001b[0m\u001b[0;34m]\u001b[0m \u001b[0;34m=\u001b[0m \u001b[0mload_string\u001b[0m\u001b[0;34m\u001b[0m\u001b[0m\n\u001b[1;32m    979\u001b[0m \u001b[0;34m\u001b[0m\u001b[0m\n",
      "\u001b[0;31mKeyboardInterrupt\u001b[0m: "
     ]
    }
   ],
   "source": [
    "folder = \"/Users/mehdi/temp/simus weight vector/GLU_valid_2017-06-12_18.37.51/\"\n",
    "df = get_results(folder)"
   ]
  },
  {
   "cell_type": "code",
   "execution_count": 11,
   "metadata": {
    "collapsed": false
   },
   "outputs": [],
   "source": [
    "a = pickle.load(open(\"/Users/mehdi/temp/simus weight vector/GLU_valid_2017-06-12_18.37.51/res_K0N100_00f94cec-513f-4268-9d05-57dedcbeea42\"))"
   ]
  },
  {
   "cell_type": "code",
   "execution_count": 14,
   "metadata": {
    "collapsed": false
   },
   "outputs": [
    {
     "ename": "KeyError",
     "evalue": "('rect_mle_time', 'rect_mle_bic_time', 'uniform_kde')",
     "output_type": "error",
     "traceback": [
      "\u001b[0;31m---------------------------------------------------------------------------\u001b[0m",
      "\u001b[0;31mKeyError\u001b[0m                                  Traceback (most recent call last)",
      "\u001b[0;32m<ipython-input-14-9ff6f77b6edc>\u001b[0m in \u001b[0;36m<module>\u001b[0;34m()\u001b[0m\n\u001b[1;32m      1\u001b[0m a['rect_mle_time',\n\u001b[1;32m      2\u001b[0m  \u001b[0;34m'rect_mle_bic_time'\u001b[0m\u001b[0;34m,\u001b[0m\u001b[0;34m\u001b[0m\u001b[0m\n\u001b[0;32m----> 3\u001b[0;31m  'uniform_kde']\n\u001b[0m",
      "\u001b[0;31mKeyError\u001b[0m: ('rect_mle_time', 'rect_mle_bic_time', 'uniform_kde')"
     ]
    }
   ],
   "source": [
    "a['rect_mle_time',\n",
    " 'rect_mle_bic_time',\n",
    " 'uniform_kde']"
   ]
  },
  {
   "cell_type": "code",
   "execution_count": null,
   "metadata": {
    "collapsed": true
   },
   "outputs": [],
   "source": []
  }
 ],
 "metadata": {
  "kernelspec": {
   "display_name": "Python 2",
   "language": "python",
   "name": "python2"
  },
  "language_info": {
   "codemirror_mode": {
    "name": "ipython",
    "version": 2
   },
   "file_extension": ".py",
   "mimetype": "text/x-python",
   "name": "python",
   "nbconvert_exporter": "python",
   "pygments_lexer": "ipython2",
   "version": "2.7.12"
  }
 },
 "nbformat": 4,
 "nbformat_minor": 1
}
