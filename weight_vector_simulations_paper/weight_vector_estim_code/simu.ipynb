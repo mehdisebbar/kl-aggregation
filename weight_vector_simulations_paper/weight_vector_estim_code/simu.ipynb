{
 "cells": [
  {
   "cell_type": "code",
   "execution_count": 1,
   "metadata": {
    "collapsed": true
   },
   "outputs": [],
   "source": [
    "import math\n",
    "import numpy as np"
   ]
  },
  {
   "cell_type": "code",
   "execution_count": 2,
   "metadata": {
    "collapsed": false
   },
   "outputs": [],
   "source": [
    "%load_ext autoreload\n",
    "%autoreload 2"
   ]
  },
  {
   "cell_type": "code",
   "execution_count": 3,
   "metadata": {
    "collapsed": false
   },
   "outputs": [],
   "source": [
    "%matplotlib inline"
   ]
  },
  {
   "cell_type": "code",
   "execution_count": 4,
   "metadata": {
    "collapsed": false
   },
   "outputs": [],
   "source": [
    "def generate_sample_f_star(N, t=\"uniform\", densities=None, selected_densities=None, s=5, cvx_rand=False, dist_rect=None, N_pdf=1000):\n",
    "    # Generate a sample of n points in [0,1]\n",
    "    # t can be uniform, convex, rect, in the case of convex, a convex combination of elements of gaussian \n",
    "    # densities will be taken with a sparsity s\n",
    "    #we return also return the distribution on [0,1], 1000 points\n",
    "    if t==\"uniform\":\n",
    "        X_ = np.random.uniform(low=0, high=1, size=N)\n",
    "        return X_, 1./N_pdf*np.ones(N_pdf)\n",
    "    if t==\"convex\":\n",
    "        if densities == None:\n",
    "            raise ValueError(\"Densities were not given\")\n",
    "        def generate_points(N, s, densities, selected_densities, sample_repartition_among_clusters, weights):\n",
    "            print \"selected densities: \", sorted(zip(selected_densities,weights))\n",
    "            X = np.array([])\n",
    "            t=0\n",
    "            #We generate the sample according to the selected densities and the weights\n",
    "            for i in range(s):\n",
    "                X=np.hstack((X, densities[selected_densities[i]].rvs(sample_repartition_among_clusters[i])))\n",
    "            np.random.shuffle(X)\n",
    "            return X, np.apply_along_axis(lambda x: weights.dot(np.array([densities[i].pdf(x) for i in selected_densities])), 0, np.linspace(0,1,N_pdf)), weights, selected_densities\n",
    "        # We select randomly s elements in densities, then we have two possibilities depending on cvx_rand:\n",
    "        # false: equal weight for each densities, w=1/s\n",
    "        # true: random weights\n",
    "        if selected_densities == None:\n",
    "            selected_densities = np.random.choice(len(densities), s, replace=False)\n",
    "        s = len(selected_densities)\n",
    "        if cvx_rand:\n",
    "            #We generate the weights\n",
    "            weights = np.random.randint(N*100, size=(1, s))[0]\n",
    "            weights = 1.*weights/weights.sum()\n",
    "            sample_repartition_among_clusters = np.random.multinomial(N, weights, size=1)[0]\n",
    "            return generate_points(N, s, densities, selected_densities, sample_repartition_among_clusters, weights)\n",
    "        else:\n",
    "            a = round(N/s)*np.ones(s)\n",
    "            #We adjust the size to the last element\n",
    "            a[-1]= a[-1]-(a.sum()-N)\n",
    "            sample_repartition_among_clusters = a.astype(int)\n",
    "            return generate_points(N, s, densities, selected_densities, sample_repartition_among_clusters, a/a.sum())\n",
    "    if t==\"rect\":\n",
    "        def prob_estim(x, dist_rect):\n",
    "            for intval in sorted(dist_rect.keys()):\n",
    "                if x <= intval[1]:\n",
    "                    return dist_rect[intval]\n",
    "        X_ = np.linspace(0,1,10*N)\n",
    "        proba = np.array([prob_estim(x, dist_rect) for x in X_])\n",
    "        proba = proba/proba.sum()\n",
    "        return np.random.choice(X_, size=N, p=proba), np.array([prob_estim(x,dist_rect) for x in np.linspace(0, 1, N_pdf)])\n",
    "                \n",
    "            \n",
    "\n",
    "        \n",
    "        \n",
    "        \n",
    "        "
   ]
  },
  {
   "cell_type": "code",
   "execution_count": 5,
   "metadata": {
    "collapsed": false
   },
   "outputs": [
    {
     "name": "stdout",
     "output_type": "stream",
     "text": [
      "selected densities:  [(2, 0.12767269147319424), (12, 0.0456543972166732), (22, 0.31498332106706939), (29, 0.45284497672595891), (39, 0.058844613517104273)]\n"
     ]
    },
    {
     "data": {
      "image/png": "[encoded data removed]",
      "text/plain": [
       "<matplotlib.figure.Figure at 0x10551c750>"
      ]
     },
     "metadata": {},
     "output_type": "display_data"
    }
   ],
   "source": [
    "from scipy.stats import multivariate_normal\n",
    "import numpy as np\n",
    "import matplotlib.pyplot as plt\n",
    "from algorithm import WeightEstimator\n",
    "\n",
    "nodes = np.linspace(0, 1, 50)\n",
    "var = 10**(-4)\n",
    "densities = [multivariate_normal(m, var) for m in nodes]\n",
    "dist_rect = {\n",
    "    (0,1./5) : 10./7,\n",
    "    (1./5,2./5) : 5./7,\n",
    "    (2./5,3./5) : 10./7,\n",
    "    (3./5,4./5) : 0,\n",
    "    (4./5,1) : 10./7\n",
    "}\n",
    "n_pdf = 100000\n",
    "#X, f_star = generate_sample_f_star(10000, t=\"rect\", densities=densities, cvx_rand=False, s=5, dist_rect=dist_rect, N_pdf=n_pdf)\n",
    "#X, f_star = generate_sample_f_star(1000, t=\"uniform\", densities=densities, cvx_rand=False, s=5, dist_rect=dist_rect,  N_pdf=n_pdf)#\n",
    "X, f_star,  weights_star, selected_densities_star = generate_sample_f_star(1000, t=\"convex\", densities=densities, cvx_rand=True, s=5, dist_rect=dist_rect,  N_pdf=n_pdf)\n",
    "#X, f_star, weights_star, selected_densities_star = generate_sample_f_star(100, t=\"convex\", densities=densities, cvx_rand=False, s=5, dist_rect=dist_rect,  N_pdf=n_pdf)\n",
    "#plt.hist(X, bins=1000)  # plt.hist passes it's arguments to np.histogram\n",
    "\n",
    "#estimation\n",
    "cl = WeightEstimator(densities_dict=densities, select_threshold=10e-3)\n",
    "cl.fit(X)\n",
    "estim_weighted_densities=cl.select_densities()\n",
    "selected_densities_estim, weights_estim = np.array(zip(*estim_weighted_densities))\n",
    "f_estim = np.apply_along_axis(lambda x: weights_estim.dot(np.array([densities[i].pdf(x) for i in selected_densities_estim.astype(int)])), 0, np.linspace(0,1,n_pdf))\n",
    "\n",
    "plt.plot(np.linspace(0,1,n_pdf),f_star)\n",
    "plt.plot(np.linspace(0,1,n_pdf),f_estim)\n",
    "plt.show()\n"
   ]
  },
  {
   "cell_type": "markdown",
   "metadata": {},
   "source": [
    "# Evaluation"
   ]
  },
  {
   "cell_type": "code",
   "execution_count": 6,
   "metadata": {
    "collapsed": false
   },
   "outputs": [
    {
     "name": "stdout",
     "output_type": "stream",
     "text": [
      "KL-div: 0.00544466308297\n",
      "L2 norm 0.0380521915451\n",
      "[ 0.08  0.07  0.34  0.36  0.15] [ 0.32239702  0.05492519  0.06815647  0.36851417  0.18600715]\n"
     ]
    }
   ],
   "source": [
    "#Kullback Leibler:\n",
    "\n",
    "from scipy.stats import entropy\n",
    "#import scipy.integrate as integrate\n",
    "#integrate.quad(lambda x: x**2, 0, 1)\n",
    "\n",
    "print \"KL-div:\", entropy(f_star, f_estim)\n",
    "print \"L2 norm\", 1./n_pdf*np.linalg.norm(f_star-f_estim,axis=0)**2\n",
    "print weights_estim, weights_star"
   ]
  },
  {
   "cell_type": "markdown",
   "metadata": {
    "collapsed": true
   },
   "source": [
    "# SPADES Implementation"
   ]
  },
  {
   "cell_type": "code",
   "execution_count": 7,
   "metadata": {
    "collapsed": false
   },
   "outputs": [],
   "source": [
    "#from SPADES AND MIXTURE MODELS\n",
    "#By Florentina Bunea, Alexandre B. Tsybakov,\n",
    "#Marten H. Wegkamp and Adrian Barbu\n",
    "#another implementation\n",
    "\n",
    "from cvxpy import *"
   ]
  },
  {
   "cell_type": "code",
   "execution_count": 8,
   "metadata": {
    "collapsed": false
   },
   "outputs": [],
   "source": [
    "def F(x):\n",
    "    return np.array([d.pdf(x) for d in densities]).T"
   ]
  },
  {
   "cell_type": "code",
   "execution_count": 9,
   "metadata": {
    "collapsed": false
   },
   "outputs": [],
   "source": [
    "#objective = Minimize(-2./X.shape[0]*sum_entries(F_X*lambda_) + norm2_f_sq + 2*norm1(w*lambda_) )\n",
    "#prob = Problem(objective)\n",
    "#prob.solve()"
   ]
  },
  {
   "cell_type": "markdown",
   "metadata": {},
   "source": [
    "## selection des poids pour spades"
   ]
  },
  {
   "cell_type": "code",
   "execution_count": 10,
   "metadata": {
    "collapsed": false
   },
   "outputs": [],
   "source": [
    "#n=10000\n",
    "#(1./n*np.array([x**2 for x in np.linspace(0,1,n)])).sum()\n",
    "F_X=F(X)"
   ]
  },
  {
   "cell_type": "code",
   "execution_count": 11,
   "metadata": {
    "collapsed": false
   },
   "outputs": [],
   "source": [
    "import scipy.integrate as integrate\n",
    "from numba import jit\n",
    "K = len(densities)\n",
    "\n",
    "@jit()\n",
    "def couple_dens(x,i,j):\n",
    "    return densities[i].pdf(x)*densities[j].pdf(x)\n",
    "\n",
    "#this code generate a matrix where the comp.(i,j) is int(densities[i]*densities[j])\n",
    "def F_int_prod_matrix():\n",
    "    F_int_prod_matrix = np.zeros([K,K])\n",
    "    for i in range(K):\n",
    "        for j in range(i,K):\n",
    "            F_int_prod_matrix[i,j]=integrate.quad(couple_dens,-np.inf,np.inf,args=(i,j))[0]\n",
    "    return F_int_prod_matrix + np.triu(F_int_prod_matrix,1).T\n",
    "\n",
    "#differential of -2/n * sum_{i=1}^K(f_lambd(X_i))+ ||f_lambd||^2\n",
    "# which is -2/n * sum_{i=1}^K f_l(X_i) + 2*sum_{i=1}^K lambd_j*int(f_j(x)*f_l(x))\n",
    "#@jit()\n",
    "def f_diff(l, lambd, F_X, f_int_prod_matrix):\n",
    "    #import pdb; pdb.set_trace()\n",
    "    return -2./F_X.shape[0]*F_X[:,l].sum() + 2*f_int_prod_matrix[:,l].dot(lambd)\n",
    "\n",
    "#Evaluation of the norm2 of f_lambd\n",
    "def norm_2_integrand(x,lambd_):\n",
    "    return (np.array([d.pdf(x) for d in densities]).dot(lambd_))**2\n",
    "\n",
    "def f_norm2(lambd_):\n",
    "    return integrate.quad(norm_2_integrand,-np.inf,np.inf,args=lambd_)[0]\n",
    "\n",
    "#for line search\n",
    "#@jit()\n",
    "def f(lambd_, w, F_X):\n",
    "    return -2./F_X.shape[0]*F_X.dot(lambd_).sum()+f_norm2(lambd_) + w*np.linalg.norm(lambd_,1)\n",
    "\n",
    "#grad for line search\n",
    "def f_grad(lambd_, w):\n",
    "    return np.array([f_diff(l,lambd_) for l in range(K)]) + w*np.sign(lambd_)\n",
    "\n"
   ]
  },
  {
   "cell_type": "code",
   "execution_count": 12,
   "metadata": {
    "collapsed": true
   },
   "outputs": [],
   "source": [
    "f_int_prod_matrix = F_int_prod_matrix()"
   ]
  },
  {
   "cell_type": "code",
   "execution_count": 13,
   "metadata": {
    "collapsed": false
   },
   "outputs": [],
   "source": [
    "def min_direct(lambd, l, F_X, w):\n",
    "    lambda_ = Variable(K)\n",
    "    #pour le calcul de l'integrale\n",
    "    X_int = np.linspace(0,1,10000)\n",
    "    F_int = F(X_int)*lambda_\n",
    "    norm2_f_sq = sum_entries(F_int**2)\n",
    "    #prepare constraints\n",
    "    lst_cst = range(K,l)\n",
    "    constraints = [lambda_[i]==lambd[i] for i in lst_cst]\n",
    "    #problem\n",
    "    objective = Minimize(-2./F_X.shape[0]*sum_entries(F_X*lambda_) + norm2_f_sq + 2*norm1(w*lambda_) )\n",
    "    prob = Problem(objective,constraints)\n",
    "    prob.solve()\n",
    "    return np.array(lambda_.value).reshape(1,K)[0]"
   ]
  },
  {
   "cell_type": "code",
   "execution_count": 14,
   "metadata": {
    "collapsed": false
   },
   "outputs": [],
   "source": [
    "from scipy.optimize import minimize\n",
    "#@jit()\n",
    "def f_one_direct(y, l, lambd_, w, F_X, f_int_prod_matrix):\n",
    "    lambd_[l]=y\n",
    "    return f(lambd_, w, F_X)\n",
    "\n",
    "def f_grad_one_direct(y, l, lambd_, w, F_X, F_int_prod_matrix):\n",
    "    #import pdb; pdb.set_trace()\n",
    "    return -2./F_X.shape[0]*F_X[:,l].sum() + 2*f_int_prod_matrix[:,l].dot(lambd_) + w*np.sign(y)\n",
    "\n",
    "\n",
    "#@jit()\n",
    "def min_direct_2(lambd, l, w, F_X, f_int_prod_matrix):\n",
    "    res = minimize(f_one_direct, \n",
    "                   lambd[l], \n",
    "                   args=(l, lambd, w, F_X, f_int_prod_matrix), \n",
    "                   method=\"BFGS\",\n",
    "                   jac=f_grad_one_direct, \n",
    "                   options={\"maxiter\":1,\n",
    "                            \"disp\": True\n",
    "                           \n",
    "                           }\n",
    "                  )[\"x\"][0]\n",
    "    lambd_res = np.copy(lambd)\n",
    "    lambd_res[l]=res\n",
    "    return lambd_res\n",
    "        \n",
    "    "
   ]
  },
  {
   "cell_type": "code",
   "execution_count": null,
   "metadata": {
    "collapsed": true
   },
   "outputs": [],
   "source": []
  },
  {
   "cell_type": "code",
   "execution_count": 162,
   "metadata": {
    "collapsed": false
   },
   "outputs": [],
   "source": [
    "#@jit()\n",
    "def spades(w, F_X, f_int_prod_matrix):\n",
    "    eps_tresh = 1e-5\n",
    "    lambd = 1./K*np.ones(K)\n",
    "    lambd_old = np.zeros(K)\n",
    "    #import pdb; pdb.set_trace()\n",
    "    it = 0\n",
    "    while np.linalg.norm(lambd-lambd_old,1) > eps_tresh:\n",
    "        #print \"iteration: \", it, \"norm: \", np.linalg.norm(lambd-lambd_old,1)\n",
    "        for j in range(K):\n",
    "            lambd_old = np.copy(lambd)\n",
    "            lambd_j_0 = np.copy(lambd)\n",
    "            lambd_j_0[j]=0\n",
    "            if np.abs(f_diff(j, lambd_j_0, F_X, f_int_prod_matrix)) < w:\n",
    "                lambd = lambd_j_0\n",
    "            else:\n",
    "                #lambd = min_direct_2(lambd, j, w, F_X, F_int_prod_matrix)\n",
    "                lambd = min_direct(lambd, j, F_X, w)\n",
    "        it+=1\n",
    "    return lambd"
   ]
  },
  {
   "cell_type": "code",
   "execution_count": 156,
   "metadata": {
    "collapsed": false
   },
   "outputs": [
    {
     "name": "stdout",
     "output_type": "stream",
     "text": [
      "iteration:  0 norm:  1.0\n",
      "[  2.13897095e-12   4.58383968e-12  -5.18772794e-11   2.60160027e-10\n",
      "  -5.24786297e-10  -3.57837194e-09   8.23722973e-09   3.67388163e-06\n",
      "  -7.23131019e-08  -2.21121909e-08   4.27210178e-09  -1.66118273e-10\n",
      "  -1.46081763e-10   4.63177732e-11   4.34154741e-11  -1.12069134e-10\n",
      "  -2.86289010e-10   3.87907520e-09  -1.51532463e-08  -5.14009429e-08\n",
      "   1.13947313e-06   4.39159013e-05   4.53084115e-06  -2.34165937e-08\n",
      "   3.45736548e-07   9.13613936e-06  -6.45428393e-08  -1.78535127e-08\n",
      "   3.70470541e-09  -2.44142970e-10  -9.65224624e-11   4.88809145e-11\n",
      "  -1.43257378e-11   3.24332278e-12  -5.69467593e-13   5.07909470e-14\n",
      "   2.19664873e-14   5.67209066e-14  -7.00292500e-13   4.08600683e-12\n",
      "  -1.80090440e-11   6.02860365e-11  -1.13997011e-10  -2.88763912e-10\n",
      "   3.89925095e-09  -1.53667063e-08  -5.30107661e-08   1.36304775e-06\n",
      "   3.35921702e-05   4.09606622e-06]\n",
      "[  2.13897095e-12   0.00000000e+00  -5.18772794e-11   2.60160027e-10\n",
      "  -5.24786297e-10  -3.57837194e-09   8.23722973e-09   3.67388163e-06\n",
      "  -7.23131019e-08  -2.21121909e-08   4.27210178e-09  -1.66118273e-10\n",
      "  -1.46081763e-10   4.63177732e-11   4.34154741e-11  -1.12069134e-10\n",
      "  -2.86289010e-10   3.87907520e-09  -1.51532463e-08  -5.14009429e-08\n",
      "   1.13947313e-06   4.39159013e-05   4.53084115e-06  -2.34165937e-08\n",
      "   3.45736548e-07   9.13613936e-06  -6.45428393e-08  -1.78535127e-08\n",
      "   3.70470541e-09  -2.44142970e-10  -9.65224624e-11   4.88809145e-11\n",
      "  -1.43257378e-11   3.24332278e-12  -5.69467593e-13   5.07909470e-14\n",
      "   2.19664873e-14   5.67209066e-14  -7.00292500e-13   4.08600683e-12\n",
      "  -1.80090440e-11   6.02860365e-11  -1.13997011e-10  -2.88763912e-10\n",
      "   3.89925095e-09  -1.53667063e-08  -5.30107661e-08   1.36304775e-06\n",
      "   3.35921702e-05   4.09606622e-06]\n",
      "[  2.13897095e-12   0.00000000e+00   0.00000000e+00   2.60160027e-10\n",
      "  -5.24786297e-10  -3.57837194e-09   8.23722973e-09   3.67388163e-06\n",
      "  -7.23131019e-08  -2.21121909e-08   4.27210178e-09  -1.66118273e-10\n",
      "  -1.46081763e-10   4.63177732e-11   4.34154741e-11  -1.12069134e-10\n",
      "  -2.86289010e-10   3.87907520e-09  -1.51532463e-08  -5.14009429e-08\n",
      "   1.13947313e-06   4.39159013e-05   4.53084115e-06  -2.34165937e-08\n",
      "   3.45736548e-07   9.13613936e-06  -6.45428393e-08  -1.78535127e-08\n",
      "   3.70470541e-09  -2.44142970e-10  -9.65224624e-11   4.88809145e-11\n",
      "  -1.43257378e-11   3.24332278e-12  -5.69467593e-13   5.07909470e-14\n",
      "   2.19664873e-14   5.67209066e-14  -7.00292500e-13   4.08600683e-12\n",
      "  -1.80090440e-11   6.02860365e-11  -1.13997011e-10  -2.88763912e-10\n",
      "   3.89925095e-09  -1.53667063e-08  -5.30107661e-08   1.36304775e-06\n",
      "   3.35921702e-05   4.09606622e-06]\n",
      "[  2.13897095e-12   0.00000000e+00   0.00000000e+00   0.00000000e+00\n",
      "  -5.24786297e-10  -3.57837194e-09   8.23722973e-09   3.67388163e-06\n",
      "  -7.23131019e-08  -2.21121909e-08   4.27210178e-09  -1.66118273e-10\n",
      "  -1.46081763e-10   4.63177732e-11   4.34154741e-11  -1.12069134e-10\n",
      "  -2.86289010e-10   3.87907520e-09  -1.51532463e-08  -5.14009429e-08\n",
      "   1.13947313e-06   4.39159013e-05   4.53084115e-06  -2.34165937e-08\n",
      "   3.45736548e-07   9.13613936e-06  -6.45428393e-08  -1.78535127e-08\n",
      "   3.70470541e-09  -2.44142970e-10  -9.65224624e-11   4.88809145e-11\n",
      "  -1.43257378e-11   3.24332278e-12  -5.69467593e-13   5.07909470e-14\n",
      "   2.19664873e-14   5.67209066e-14  -7.00292500e-13   4.08600683e-12\n",
      "  -1.80090440e-11   6.02860365e-11  -1.13997011e-10  -2.88763912e-10\n",
      "   3.89925095e-09  -1.53667063e-08  -5.30107661e-08   1.36304775e-06\n",
      "   3.35921702e-05   4.09606622e-06]\n",
      "[  2.13897095e-12   0.00000000e+00   0.00000000e+00   0.00000000e+00\n",
      "   0.00000000e+00  -3.57837194e-09   8.23722973e-09   3.67388163e-06\n",
      "  -7.23131019e-08  -2.21121909e-08   4.27210178e-09  -1.66118273e-10\n",
      "  -1.46081763e-10   4.63177732e-11   4.34154741e-11  -1.12069134e-10\n",
      "  -2.86289010e-10   3.87907520e-09  -1.51532463e-08  -5.14009429e-08\n",
      "   1.13947313e-06   4.39159013e-05   4.53084115e-06  -2.34165937e-08\n",
      "   3.45736548e-07   9.13613936e-06  -6.45428393e-08  -1.78535127e-08\n",
      "   3.70470541e-09  -2.44142970e-10  -9.65224624e-11   4.88809145e-11\n",
      "  -1.43257378e-11   3.24332278e-12  -5.69467593e-13   5.07909470e-14\n",
      "   2.19664873e-14   5.67209066e-14  -7.00292500e-13   4.08600683e-12\n",
      "  -1.80090440e-11   6.02860365e-11  -1.13997011e-10  -2.88763912e-10\n",
      "   3.89925095e-09  -1.53667063e-08  -5.30107661e-08   1.36304775e-06\n",
      "   3.35921702e-05   4.09606622e-06]\n",
      "[  2.13897095e-12   0.00000000e+00   0.00000000e+00   0.00000000e+00\n",
      "   0.00000000e+00   0.00000000e+00   8.23722973e-09   3.67388163e-06\n",
      "  -7.23131019e-08  -2.21121909e-08   4.27210178e-09  -1.66118273e-10\n",
      "  -1.46081763e-10   4.63177732e-11   4.34154741e-11  -1.12069134e-10\n",
      "  -2.86289010e-10   3.87907520e-09  -1.51532463e-08  -5.14009429e-08\n",
      "   1.13947313e-06   4.39159013e-05   4.53084115e-06  -2.34165937e-08\n",
      "   3.45736548e-07   9.13613936e-06  -6.45428393e-08  -1.78535127e-08\n",
      "   3.70470541e-09  -2.44142970e-10  -9.65224624e-11   4.88809145e-11\n",
      "  -1.43257378e-11   3.24332278e-12  -5.69467593e-13   5.07909470e-14\n",
      "   2.19664873e-14   5.67209066e-14  -7.00292500e-13   4.08600683e-12\n",
      "  -1.80090440e-11   6.02860365e-11  -1.13997011e-10  -2.88763912e-10\n",
      "   3.89925095e-09  -1.53667063e-08  -5.30107661e-08   1.36304775e-06\n",
      "   3.35921702e-05   4.09606622e-06]\n",
      "[  2.13897095e-12   4.58383968e-12  -5.18772794e-11   2.60160027e-10\n",
      "  -5.24786297e-10  -3.57837194e-09   8.23722973e-09   3.67388163e-06\n",
      "  -7.23131019e-08  -2.21121909e-08   4.27210178e-09  -1.66118273e-10\n",
      "  -1.46081763e-10   4.63177732e-11   4.34154741e-11  -1.12069134e-10\n",
      "  -2.86289010e-10   3.87907520e-09  -1.51532463e-08  -5.14009429e-08\n",
      "   1.13947313e-06   4.39159013e-05   4.53084115e-06  -2.34165937e-08\n",
      "   3.45736548e-07   9.13613936e-06  -6.45428393e-08  -1.78535127e-08\n",
      "   3.70470541e-09  -2.44142970e-10  -9.65224624e-11   4.88809145e-11\n",
      "  -1.43257378e-11   3.24332278e-12  -5.69467593e-13   5.07909470e-14\n",
      "   2.19664873e-14   5.67209066e-14  -7.00292500e-13   4.08600683e-12\n",
      "  -1.80090440e-11   6.02860365e-11  -1.13997011e-10  -2.88763912e-10\n",
      "   3.89925095e-09  -1.53667063e-08  -5.30107661e-08   1.36304775e-06\n",
      "   3.35921702e-05   4.09606622e-06]\n",
      "[  2.13897095e-12   4.58383968e-12  -5.18772794e-11   2.60160027e-10\n",
      "  -5.24786297e-10  -3.57837194e-09   8.23722973e-09   3.67388163e-06\n",
      "  -7.23131019e-08  -2.21121909e-08   4.27210178e-09  -1.66118273e-10\n",
      "  -1.46081763e-10   4.63177732e-11   4.34154741e-11  -1.12069134e-10\n",
      "  -2.86289010e-10   3.87907520e-09  -1.51532463e-08  -5.14009429e-08\n",
      "   1.13947313e-06   4.39159013e-05   4.53084115e-06  -2.34165937e-08\n",
      "   3.45736548e-07   9.13613936e-06  -6.45428393e-08  -1.78535127e-08\n",
      "   3.70470541e-09  -2.44142970e-10  -9.65224624e-11   4.88809145e-11\n",
      "  -1.43257378e-11   3.24332278e-12  -5.69467593e-13   5.07909470e-14\n",
      "   2.19664873e-14   5.67209066e-14  -7.00292500e-13   4.08600683e-12\n",
      "  -1.80090440e-11   6.02860365e-11  -1.13997011e-10  -2.88763912e-10\n",
      "   3.89925095e-09  -1.53667063e-08  -5.30107661e-08   1.36304775e-06\n",
      "   3.35921702e-05   4.09606622e-06]\n",
      "[  2.13897095e-12   4.58383968e-12  -5.18772794e-11   2.60160027e-10\n",
      "  -5.24786297e-10  -3.57837194e-09   8.23722973e-09   3.67388163e-06\n",
      "  -7.23131019e-08  -2.21121909e-08   4.27210178e-09  -1.66118273e-10\n",
      "  -1.46081763e-10   4.63177732e-11   4.34154741e-11  -1.12069134e-10\n",
      "  -2.86289010e-10   3.87907520e-09  -1.51532463e-08  -5.14009429e-08\n",
      "   1.13947313e-06   4.39159013e-05   4.53084115e-06  -2.34165937e-08\n",
      "   3.45736548e-07   9.13613936e-06  -6.45428393e-08  -1.78535127e-08\n",
      "   3.70470541e-09  -2.44142970e-10  -9.65224624e-11   4.88809145e-11\n",
      "  -1.43257378e-11   3.24332278e-12  -5.69467593e-13   5.07909470e-14\n",
      "   2.19664873e-14   5.67209066e-14  -7.00292500e-13   4.08600683e-12\n",
      "  -1.80090440e-11   6.02860365e-11  -1.13997011e-10  -2.88763912e-10\n",
      "   3.89925095e-09  -1.53667063e-08  -5.30107661e-08   1.36304775e-06\n",
      "   3.35921702e-05   4.09606622e-06]\n",
      "[  2.13897095e-12   4.58383968e-12  -5.18772794e-11   2.60160027e-10\n",
      "  -5.24786297e-10  -3.57837194e-09   8.23722973e-09   3.67388163e-06\n",
      "  -7.23131019e-08   0.00000000e+00   4.27210178e-09  -1.66118273e-10\n",
      "  -1.46081763e-10   4.63177732e-11   4.34154741e-11  -1.12069134e-10\n",
      "  -2.86289010e-10   3.87907520e-09  -1.51532463e-08  -5.14009429e-08\n",
      "   1.13947313e-06   4.39159013e-05   4.53084115e-06  -2.34165937e-08\n",
      "   3.45736548e-07   9.13613936e-06  -6.45428393e-08  -1.78535127e-08\n",
      "   3.70470541e-09  -2.44142970e-10  -9.65224624e-11   4.88809145e-11\n",
      "  -1.43257378e-11   3.24332278e-12  -5.69467593e-13   5.07909470e-14\n",
      "   2.19664873e-14   5.67209066e-14  -7.00292500e-13   4.08600683e-12\n",
      "  -1.80090440e-11   6.02860365e-11  -1.13997011e-10  -2.88763912e-10\n",
      "   3.89925095e-09  -1.53667063e-08  -5.30107661e-08   1.36304775e-06\n",
      "   3.35921702e-05   4.09606622e-06]\n",
      "[  2.13897095e-12   4.58383968e-12  -5.18772794e-11   2.60160027e-10\n",
      "  -5.24786297e-10  -3.57837194e-09   8.23722973e-09   3.67388163e-06\n",
      "  -7.23131019e-08   0.00000000e+00   0.00000000e+00  -1.66118273e-10\n",
      "  -1.46081763e-10   4.63177732e-11   4.34154741e-11  -1.12069134e-10\n",
      "  -2.86289010e-10   3.87907520e-09  -1.51532463e-08  -5.14009429e-08\n",
      "   1.13947313e-06   4.39159013e-05   4.53084115e-06  -2.34165937e-08\n",
      "   3.45736548e-07   9.13613936e-06  -6.45428393e-08  -1.78535127e-08\n",
      "   3.70470541e-09  -2.44142970e-10  -9.65224624e-11   4.88809145e-11\n",
      "  -1.43257378e-11   3.24332278e-12  -5.69467593e-13   5.07909470e-14\n",
      "   2.19664873e-14   5.67209066e-14  -7.00292500e-13   4.08600683e-12\n",
      "  -1.80090440e-11   6.02860365e-11  -1.13997011e-10  -2.88763912e-10\n",
      "   3.89925095e-09  -1.53667063e-08  -5.30107661e-08   1.36304775e-06\n",
      "   3.35921702e-05   4.09606622e-06]\n",
      "[  2.13897095e-12   4.58383968e-12  -5.18772794e-11   2.60160027e-10\n",
      "  -5.24786297e-10  -3.57837194e-09   8.23722973e-09   3.67388163e-06\n",
      "  -7.23131019e-08   0.00000000e+00   0.00000000e+00   0.00000000e+00\n",
      "  -1.46081763e-10   4.63177732e-11   4.34154741e-11  -1.12069134e-10\n",
      "  -2.86289010e-10   3.87907520e-09  -1.51532463e-08  -5.14009429e-08\n",
      "   1.13947313e-06   4.39159013e-05   4.53084115e-06  -2.34165937e-08\n",
      "   3.45736548e-07   9.13613936e-06  -6.45428393e-08  -1.78535127e-08\n",
      "   3.70470541e-09  -2.44142970e-10  -9.65224624e-11   4.88809145e-11\n",
      "  -1.43257378e-11   3.24332278e-12  -5.69467593e-13   5.07909470e-14\n",
      "   2.19664873e-14   5.67209066e-14  -7.00292500e-13   4.08600683e-12\n",
      "  -1.80090440e-11   6.02860365e-11  -1.13997011e-10  -2.88763912e-10\n",
      "   3.89925095e-09  -1.53667063e-08  -5.30107661e-08   1.36304775e-06\n",
      "   3.35921702e-05   4.09606622e-06]\n",
      "[  2.13897095e-12   4.58383968e-12  -5.18772794e-11   2.60160027e-10\n",
      "  -5.24786297e-10  -3.57837194e-09   8.23722973e-09   3.67388163e-06\n",
      "  -7.23131019e-08   0.00000000e+00   0.00000000e+00   0.00000000e+00\n",
      "   0.00000000e+00   4.63177732e-11   4.34154741e-11  -1.12069134e-10\n",
      "  -2.86289010e-10   3.87907520e-09  -1.51532463e-08  -5.14009429e-08\n",
      "   1.13947313e-06   4.39159013e-05   4.53084115e-06  -2.34165937e-08\n",
      "   3.45736548e-07   9.13613936e-06  -6.45428393e-08  -1.78535127e-08\n",
      "   3.70470541e-09  -2.44142970e-10  -9.65224624e-11   4.88809145e-11\n",
      "  -1.43257378e-11   3.24332278e-12  -5.69467593e-13   5.07909470e-14\n",
      "   2.19664873e-14   5.67209066e-14  -7.00292500e-13   4.08600683e-12\n",
      "  -1.80090440e-11   6.02860365e-11  -1.13997011e-10  -2.88763912e-10\n",
      "   3.89925095e-09  -1.53667063e-08  -5.30107661e-08   1.36304775e-06\n",
      "   3.35921702e-05   4.09606622e-06]\n",
      "[  2.13897095e-12   4.58383968e-12  -5.18772794e-11   2.60160027e-10\n",
      "  -5.24786297e-10  -3.57837194e-09   8.23722973e-09   3.67388163e-06\n",
      "  -7.23131019e-08   0.00000000e+00   0.00000000e+00   0.00000000e+00\n",
      "   0.00000000e+00   0.00000000e+00   4.34154741e-11  -1.12069134e-10\n",
      "  -2.86289010e-10   3.87907520e-09  -1.51532463e-08  -5.14009429e-08\n",
      "   1.13947313e-06   4.39159013e-05   4.53084115e-06  -2.34165937e-08\n",
      "   3.45736548e-07   9.13613936e-06  -6.45428393e-08  -1.78535127e-08\n",
      "   3.70470541e-09  -2.44142970e-10  -9.65224624e-11   4.88809145e-11\n",
      "  -1.43257378e-11   3.24332278e-12  -5.69467593e-13   5.07909470e-14\n",
      "   2.19664873e-14   5.67209066e-14  -7.00292500e-13   4.08600683e-12\n",
      "  -1.80090440e-11   6.02860365e-11  -1.13997011e-10  -2.88763912e-10\n",
      "   3.89925095e-09  -1.53667063e-08  -5.30107661e-08   1.36304775e-06\n",
      "   3.35921702e-05   4.09606622e-06]\n",
      "[  2.13897095e-12   4.58383968e-12  -5.18772794e-11   2.60160027e-10\n",
      "  -5.24786297e-10  -3.57837194e-09   8.23722973e-09   3.67388163e-06\n",
      "  -7.23131019e-08   0.00000000e+00   0.00000000e+00   0.00000000e+00\n",
      "   0.00000000e+00   0.00000000e+00   0.00000000e+00  -1.12069134e-10\n",
      "  -2.86289010e-10   3.87907520e-09  -1.51532463e-08  -5.14009429e-08\n",
      "   1.13947313e-06   4.39159013e-05   4.53084115e-06  -2.34165937e-08\n",
      "   3.45736548e-07   9.13613936e-06  -6.45428393e-08  -1.78535127e-08\n",
      "   3.70470541e-09  -2.44142970e-10  -9.65224624e-11   4.88809145e-11\n",
      "  -1.43257378e-11   3.24332278e-12  -5.69467593e-13   5.07909470e-14\n",
      "   2.19664873e-14   5.67209066e-14  -7.00292500e-13   4.08600683e-12\n",
      "  -1.80090440e-11   6.02860365e-11  -1.13997011e-10  -2.88763912e-10\n",
      "   3.89925095e-09  -1.53667063e-08  -5.30107661e-08   1.36304775e-06\n",
      "   3.35921702e-05   4.09606622e-06]\n",
      "[  2.13897095e-12   4.58383968e-12  -5.18772794e-11   2.60160027e-10\n",
      "  -5.24786297e-10  -3.57837194e-09   8.23722973e-09   3.67388163e-06\n",
      "  -7.23131019e-08   0.00000000e+00   0.00000000e+00   0.00000000e+00\n",
      "   0.00000000e+00   0.00000000e+00   0.00000000e+00   0.00000000e+00\n",
      "  -2.86289010e-10   3.87907520e-09  -1.51532463e-08  -5.14009429e-08\n",
      "   1.13947313e-06   4.39159013e-05   4.53084115e-06  -2.34165937e-08\n",
      "   3.45736548e-07   9.13613936e-06  -6.45428393e-08  -1.78535127e-08\n",
      "   3.70470541e-09  -2.44142970e-10  -9.65224624e-11   4.88809145e-11\n",
      "  -1.43257378e-11   3.24332278e-12  -5.69467593e-13   5.07909470e-14\n",
      "   2.19664873e-14   5.67209066e-14  -7.00292500e-13   4.08600683e-12\n",
      "  -1.80090440e-11   6.02860365e-11  -1.13997011e-10  -2.88763912e-10\n",
      "   3.89925095e-09  -1.53667063e-08  -5.30107661e-08   1.36304775e-06\n",
      "   3.35921702e-05   4.09606622e-06]\n",
      "[  2.13897095e-12   4.58383968e-12  -5.18772794e-11   2.60160027e-10\n",
      "  -5.24786297e-10  -3.57837194e-09   8.23722973e-09   3.67388163e-06\n",
      "  -7.23131019e-08   0.00000000e+00   0.00000000e+00   0.00000000e+00\n",
      "   0.00000000e+00   0.00000000e+00   0.00000000e+00   0.00000000e+00\n",
      "   0.00000000e+00   3.87907520e-09  -1.51532463e-08  -5.14009429e-08\n",
      "   1.13947313e-06   4.39159013e-05   4.53084115e-06  -2.34165937e-08\n",
      "   3.45736548e-07   9.13613936e-06  -6.45428393e-08  -1.78535127e-08\n",
      "   3.70470541e-09  -2.44142970e-10  -9.65224624e-11   4.88809145e-11\n",
      "  -1.43257378e-11   3.24332278e-12  -5.69467593e-13   5.07909470e-14\n",
      "   2.19664873e-14   5.67209066e-14  -7.00292500e-13   4.08600683e-12\n",
      "  -1.80090440e-11   6.02860365e-11  -1.13997011e-10  -2.88763912e-10\n",
      "   3.89925095e-09  -1.53667063e-08  -5.30107661e-08   1.36304775e-06\n",
      "   3.35921702e-05   4.09606622e-06]\n",
      "[  2.13897095e-12   4.58383968e-12  -5.18772794e-11   2.60160027e-10\n",
      "  -5.24786297e-10  -3.57837194e-09   8.23722973e-09   3.67388163e-06\n",
      "  -7.23131019e-08   0.00000000e+00   0.00000000e+00   0.00000000e+00\n",
      "   0.00000000e+00   0.00000000e+00   0.00000000e+00   0.00000000e+00\n",
      "   0.00000000e+00   0.00000000e+00  -1.51532463e-08  -5.14009429e-08\n",
      "   1.13947313e-06   4.39159013e-05   4.53084115e-06  -2.34165937e-08\n",
      "   3.45736548e-07   9.13613936e-06  -6.45428393e-08  -1.78535127e-08\n",
      "   3.70470541e-09  -2.44142970e-10  -9.65224624e-11   4.88809145e-11\n",
      "  -1.43257378e-11   3.24332278e-12  -5.69467593e-13   5.07909470e-14\n",
      "   2.19664873e-14   5.67209066e-14  -7.00292500e-13   4.08600683e-12\n",
      "  -1.80090440e-11   6.02860365e-11  -1.13997011e-10  -2.88763912e-10\n",
      "   3.89925095e-09  -1.53667063e-08  -5.30107661e-08   1.36304775e-06\n",
      "   3.35921702e-05   4.09606622e-06]\n",
      "[  2.13897095e-12   4.58383968e-12  -5.18772794e-11   2.60160027e-10\n",
      "  -5.24786297e-10  -3.57837194e-09   8.23722973e-09   3.67388163e-06\n",
      "  -7.23131019e-08   0.00000000e+00   0.00000000e+00   0.00000000e+00\n",
      "   0.00000000e+00   0.00000000e+00   0.00000000e+00   0.00000000e+00\n",
      "   0.00000000e+00   0.00000000e+00   0.00000000e+00  -5.14009429e-08\n",
      "   1.13947313e-06   4.39159013e-05   4.53084115e-06  -2.34165937e-08\n",
      "   3.45736548e-07   9.13613936e-06  -6.45428393e-08  -1.78535127e-08\n",
      "   3.70470541e-09  -2.44142970e-10  -9.65224624e-11   4.88809145e-11\n",
      "  -1.43257378e-11   3.24332278e-12  -5.69467593e-13   5.07909470e-14\n",
      "   2.19664873e-14   5.67209066e-14  -7.00292500e-13   4.08600683e-12\n",
      "  -1.80090440e-11   6.02860365e-11  -1.13997011e-10  -2.88763912e-10\n",
      "   3.89925095e-09  -1.53667063e-08  -5.30107661e-08   1.36304775e-06\n",
      "   3.35921702e-05   4.09606622e-06]\n",
      "[  2.13897095e-12   4.58383968e-12  -5.18772794e-11   2.60160027e-10\n",
      "  -5.24786297e-10  -3.57837194e-09   8.23722973e-09   3.67388163e-06\n",
      "  -7.23131019e-08  -2.21121909e-08   4.27210178e-09  -1.66118273e-10\n",
      "  -1.46081763e-10   4.63177732e-11   4.34154741e-11  -1.12069134e-10\n",
      "  -2.86289010e-10   3.87907520e-09  -1.51532463e-08  -5.14009429e-08\n",
      "   1.13947313e-06   4.39159013e-05   4.53084115e-06  -2.34165937e-08\n",
      "   3.45736548e-07   9.13613936e-06  -6.45428393e-08  -1.78535127e-08\n",
      "   3.70470541e-09  -2.44142970e-10  -9.65224624e-11   4.88809145e-11\n",
      "  -1.43257378e-11   3.24332278e-12  -5.69467593e-13   5.07909470e-14\n",
      "   2.19664873e-14   5.67209066e-14  -7.00292500e-13   4.08600683e-12\n",
      "  -1.80090440e-11   6.02860365e-11  -1.13997011e-10  -2.88763912e-10\n",
      "   3.89925095e-09  -1.53667063e-08  -5.30107661e-08   1.36304775e-06\n",
      "   3.35921702e-05   4.09606622e-06]\n",
      "[  2.13897095e-12   4.58383968e-12  -5.18772794e-11   2.60160027e-10\n",
      "  -5.24786297e-10  -3.57837194e-09   8.23722973e-09   3.67388163e-06\n",
      "  -7.23131019e-08  -2.21121909e-08   4.27210178e-09  -1.66118273e-10\n",
      "  -1.46081763e-10   4.63177732e-11   4.34154741e-11  -1.12069134e-10\n",
      "  -2.86289010e-10   3.87907520e-09  -1.51532463e-08  -5.14009429e-08\n",
      "   1.13947313e-06   4.39159013e-05   4.53084115e-06  -2.34165937e-08\n",
      "   3.45736548e-07   9.13613936e-06  -6.45428393e-08  -1.78535127e-08\n",
      "   3.70470541e-09  -2.44142970e-10  -9.65224624e-11   4.88809145e-11\n",
      "  -1.43257378e-11   3.24332278e-12  -5.69467593e-13   5.07909470e-14\n",
      "   2.19664873e-14   5.67209066e-14  -7.00292500e-13   4.08600683e-12\n",
      "  -1.80090440e-11   6.02860365e-11  -1.13997011e-10  -2.88763912e-10\n",
      "   3.89925095e-09  -1.53667063e-08  -5.30107661e-08   1.36304775e-06\n",
      "   3.35921702e-05   4.09606622e-06]\n",
      "[  2.13897095e-12   4.58383968e-12  -5.18772794e-11   2.60160027e-10\n",
      "  -5.24786297e-10  -3.57837194e-09   8.23722973e-09   3.67388163e-06\n",
      "  -7.23131019e-08  -2.21121909e-08   4.27210178e-09  -1.66118273e-10\n",
      "  -1.46081763e-10   4.63177732e-11   4.34154741e-11  -1.12069134e-10\n",
      "  -2.86289010e-10   3.87907520e-09  -1.51532463e-08  -5.14009429e-08\n",
      "   1.13947313e-06   4.39159013e-05   4.53084115e-06  -2.34165937e-08\n",
      "   3.45736548e-07   9.13613936e-06  -6.45428393e-08  -1.78535127e-08\n",
      "   3.70470541e-09  -2.44142970e-10  -9.65224624e-11   4.88809145e-11\n",
      "  -1.43257378e-11   3.24332278e-12  -5.69467593e-13   5.07909470e-14\n",
      "   2.19664873e-14   5.67209066e-14  -7.00292500e-13   4.08600683e-12\n",
      "  -1.80090440e-11   6.02860365e-11  -1.13997011e-10  -2.88763912e-10\n",
      "   3.89925095e-09  -1.53667063e-08  -5.30107661e-08   1.36304775e-06\n",
      "   3.35921702e-05   4.09606622e-06]\n",
      "[  2.13897095e-12   4.58383968e-12  -5.18772794e-11   2.60160027e-10\n",
      "  -5.24786297e-10  -3.57837194e-09   8.23722973e-09   3.67388163e-06\n",
      "  -7.23131019e-08  -2.21121909e-08   4.27210178e-09  -1.66118273e-10\n",
      "  -1.46081763e-10   4.63177732e-11   4.34154741e-11  -1.12069134e-10\n",
      "  -2.86289010e-10   3.87907520e-09  -1.51532463e-08  -5.14009429e-08\n",
      "   1.13947313e-06   4.39159013e-05   4.53084115e-06  -2.34165937e-08\n",
      "   3.45736548e-07   9.13613936e-06  -6.45428393e-08  -1.78535127e-08\n",
      "   3.70470541e-09  -2.44142970e-10  -9.65224624e-11   4.88809145e-11\n",
      "  -1.43257378e-11   3.24332278e-12  -5.69467593e-13   5.07909470e-14\n",
      "   2.19664873e-14   5.67209066e-14  -7.00292500e-13   4.08600683e-12\n",
      "  -1.80090440e-11   6.02860365e-11  -1.13997011e-10  -2.88763912e-10\n",
      "   3.89925095e-09  -1.53667063e-08  -5.30107661e-08   1.36304775e-06\n",
      "   3.35921702e-05   4.09606622e-06]\n",
      "[  2.13897095e-12   4.58383968e-12  -5.18772794e-11   2.60160027e-10\n",
      "  -5.24786297e-10  -3.57837194e-09   8.23722973e-09   3.67388163e-06\n",
      "  -7.23131019e-08  -2.21121909e-08   4.27210178e-09  -1.66118273e-10\n",
      "  -1.46081763e-10   4.63177732e-11   4.34154741e-11  -1.12069134e-10\n",
      "  -2.86289010e-10   3.87907520e-09  -1.51532463e-08  -5.14009429e-08\n",
      "   1.13947313e-06   4.39159013e-05   4.53084115e-06  -2.34165937e-08\n",
      "   3.45736548e-07   9.13613936e-06  -6.45428393e-08  -1.78535127e-08\n",
      "   3.70470541e-09  -2.44142970e-10  -9.65224624e-11   4.88809145e-11\n",
      "  -1.43257378e-11   3.24332278e-12  -5.69467593e-13   5.07909470e-14\n",
      "   2.19664873e-14   5.67209066e-14  -7.00292500e-13   4.08600683e-12\n",
      "  -1.80090440e-11   6.02860365e-11  -1.13997011e-10  -2.88763912e-10\n",
      "   3.89925095e-09  -1.53667063e-08  -5.30107661e-08   1.36304775e-06\n",
      "   3.35921702e-05   4.09606622e-06]\n",
      "[  2.13897095e-12   4.58383968e-12  -5.18772794e-11   2.60160027e-10\n",
      "  -5.24786297e-10  -3.57837194e-09   8.23722973e-09   3.67388163e-06\n",
      "  -7.23131019e-08  -2.21121909e-08   4.27210178e-09  -1.66118273e-10\n",
      "  -1.46081763e-10   4.63177732e-11   4.34154741e-11  -1.12069134e-10\n",
      "  -2.86289010e-10   3.87907520e-09  -1.51532463e-08  -5.14009429e-08\n",
      "   1.13947313e-06   4.39159013e-05   4.53084115e-06  -2.34165937e-08\n",
      "   3.45736548e-07   9.13613936e-06  -6.45428393e-08  -1.78535127e-08\n",
      "   3.70470541e-09  -2.44142970e-10  -9.65224624e-11   4.88809145e-11\n",
      "  -1.43257378e-11   3.24332278e-12  -5.69467593e-13   5.07909470e-14\n",
      "   2.19664873e-14   5.67209066e-14  -7.00292500e-13   4.08600683e-12\n",
      "  -1.80090440e-11   6.02860365e-11  -1.13997011e-10  -2.88763912e-10\n",
      "   3.89925095e-09  -1.53667063e-08  -5.30107661e-08   1.36304775e-06\n",
      "   3.35921702e-05   4.09606622e-06]\n",
      "[  2.13897095e-12   4.58383968e-12  -5.18772794e-11   2.60160027e-10\n",
      "  -5.24786297e-10  -3.57837194e-09   8.23722973e-09   3.67388163e-06\n",
      "  -7.23131019e-08  -2.21121909e-08   4.27210178e-09  -1.66118273e-10\n",
      "  -1.46081763e-10   4.63177732e-11   4.34154741e-11  -1.12069134e-10\n",
      "  -2.86289010e-10   3.87907520e-09  -1.51532463e-08  -5.14009429e-08\n",
      "   1.13947313e-06   4.39159013e-05   4.53084115e-06  -2.34165937e-08\n",
      "   3.45736548e-07   9.13613936e-06  -6.45428393e-08  -1.78535127e-08\n",
      "   3.70470541e-09  -2.44142970e-10  -9.65224624e-11   4.88809145e-11\n",
      "  -1.43257378e-11   3.24332278e-12  -5.69467593e-13   5.07909470e-14\n",
      "   2.19664873e-14   5.67209066e-14  -7.00292500e-13   4.08600683e-12\n",
      "  -1.80090440e-11   6.02860365e-11  -1.13997011e-10  -2.88763912e-10\n",
      "   3.89925095e-09  -1.53667063e-08  -5.30107661e-08   1.36304775e-06\n",
      "   3.35921702e-05   4.09606622e-06]\n",
      "[  2.13897095e-12   4.58383968e-12  -5.18772794e-11   2.60160027e-10\n",
      "  -5.24786297e-10  -3.57837194e-09   8.23722973e-09   3.67388163e-06\n",
      "  -7.23131019e-08  -2.21121909e-08   4.27210178e-09  -1.66118273e-10\n",
      "  -1.46081763e-10   4.63177732e-11   4.34154741e-11  -1.12069134e-10\n",
      "  -2.86289010e-10   3.87907520e-09  -1.51532463e-08  -5.14009429e-08\n",
      "   1.13947313e-06   4.39159013e-05   4.53084115e-06  -2.34165937e-08\n",
      "   3.45736548e-07   9.13613936e-06  -6.45428393e-08  -1.78535127e-08\n",
      "   3.70470541e-09  -2.44142970e-10  -9.65224624e-11   4.88809145e-11\n",
      "  -1.43257378e-11   3.24332278e-12  -5.69467593e-13   5.07909470e-14\n",
      "   2.19664873e-14   5.67209066e-14  -7.00292500e-13   4.08600683e-12\n",
      "  -1.80090440e-11   6.02860365e-11  -1.13997011e-10  -2.88763912e-10\n",
      "   3.89925095e-09  -1.53667063e-08  -5.30107661e-08   1.36304775e-06\n",
      "   3.35921702e-05   4.09606622e-06]\n",
      "[  2.13897095e-12   4.58383968e-12  -5.18772794e-11   2.60160027e-10\n",
      "  -5.24786297e-10  -3.57837194e-09   8.23722973e-09   3.67388163e-06\n",
      "  -7.23131019e-08  -2.21121909e-08   4.27210178e-09  -1.66118273e-10\n",
      "  -1.46081763e-10   4.63177732e-11   4.34154741e-11  -1.12069134e-10\n",
      "  -2.86289010e-10   3.87907520e-09  -1.51532463e-08  -5.14009429e-08\n",
      "   1.13947313e-06   4.39159013e-05   4.53084115e-06  -2.34165937e-08\n",
      "   3.45736548e-07   9.13613936e-06  -6.45428393e-08   0.00000000e+00\n",
      "   3.70470541e-09  -2.44142970e-10  -9.65224624e-11   4.88809145e-11\n",
      "  -1.43257378e-11   3.24332278e-12  -5.69467593e-13   5.07909470e-14\n",
      "   2.19664873e-14   5.67209066e-14  -7.00292500e-13   4.08600683e-12\n",
      "  -1.80090440e-11   6.02860365e-11  -1.13997011e-10  -2.88763912e-10\n",
      "   3.89925095e-09  -1.53667063e-08  -5.30107661e-08   1.36304775e-06\n",
      "   3.35921702e-05   4.09606622e-06]\n",
      "[  2.13897095e-12   4.58383968e-12  -5.18772794e-11   2.60160027e-10\n",
      "  -5.24786297e-10  -3.57837194e-09   8.23722973e-09   3.67388163e-06\n",
      "  -7.23131019e-08  -2.21121909e-08   4.27210178e-09  -1.66118273e-10\n",
      "  -1.46081763e-10   4.63177732e-11   4.34154741e-11  -1.12069134e-10\n",
      "  -2.86289010e-10   3.87907520e-09  -1.51532463e-08  -5.14009429e-08\n",
      "   1.13947313e-06   4.39159013e-05   4.53084115e-06  -2.34165937e-08\n",
      "   3.45736548e-07   9.13613936e-06  -6.45428393e-08   0.00000000e+00\n",
      "   0.00000000e+00  -2.44142970e-10  -9.65224624e-11   4.88809145e-11\n",
      "  -1.43257378e-11   3.24332278e-12  -5.69467593e-13   5.07909470e-14\n",
      "   2.19664873e-14   5.67209066e-14  -7.00292500e-13   4.08600683e-12\n",
      "  -1.80090440e-11   6.02860365e-11  -1.13997011e-10  -2.88763912e-10\n",
      "   3.89925095e-09  -1.53667063e-08  -5.30107661e-08   1.36304775e-06\n",
      "   3.35921702e-05   4.09606622e-06]\n",
      "[  2.13897095e-12   4.58383968e-12  -5.18772794e-11   2.60160027e-10\n",
      "  -5.24786297e-10  -3.57837194e-09   8.23722973e-09   3.67388163e-06\n",
      "  -7.23131019e-08  -2.21121909e-08   4.27210178e-09  -1.66118273e-10\n",
      "  -1.46081763e-10   4.63177732e-11   4.34154741e-11  -1.12069134e-10\n",
      "  -2.86289010e-10   3.87907520e-09  -1.51532463e-08  -5.14009429e-08\n",
      "   1.13947313e-06   4.39159013e-05   4.53084115e-06  -2.34165937e-08\n",
      "   3.45736548e-07   9.13613936e-06  -6.45428393e-08   0.00000000e+00\n",
      "   0.00000000e+00   0.00000000e+00  -9.65224624e-11   4.88809145e-11\n",
      "  -1.43257378e-11   3.24332278e-12  -5.69467593e-13   5.07909470e-14\n",
      "   2.19664873e-14   5.67209066e-14  -7.00292500e-13   4.08600683e-12\n",
      "  -1.80090440e-11   6.02860365e-11  -1.13997011e-10  -2.88763912e-10\n",
      "   3.89925095e-09  -1.53667063e-08  -5.30107661e-08   1.36304775e-06\n",
      "   3.35921702e-05   4.09606622e-06]\n",
      "[  2.13897095e-12   4.58383968e-12  -5.18772794e-11   2.60160027e-10\n",
      "  -5.24786297e-10  -3.57837194e-09   8.23722973e-09   3.67388163e-06\n",
      "  -7.23131019e-08  -2.21121909e-08   4.27210178e-09  -1.66118273e-10\n",
      "  -1.46081763e-10   4.63177732e-11   4.34154741e-11  -1.12069134e-10\n",
      "  -2.86289010e-10   3.87907520e-09  -1.51532463e-08  -5.14009429e-08\n",
      "   1.13947313e-06   4.39159013e-05   4.53084115e-06  -2.34165937e-08\n",
      "   3.45736548e-07   9.13613936e-06  -6.45428393e-08   0.00000000e+00\n",
      "   0.00000000e+00   0.00000000e+00   0.00000000e+00   4.88809145e-11\n",
      "  -1.43257378e-11   3.24332278e-12  -5.69467593e-13   5.07909470e-14\n",
      "   2.19664873e-14   5.67209066e-14  -7.00292500e-13   4.08600683e-12\n",
      "  -1.80090440e-11   6.02860365e-11  -1.13997011e-10  -2.88763912e-10\n",
      "   3.89925095e-09  -1.53667063e-08  -5.30107661e-08   1.36304775e-06\n",
      "   3.35921702e-05   4.09606622e-06]\n",
      "[  2.13897095e-12   4.58383968e-12  -5.18772794e-11   2.60160027e-10\n",
      "  -5.24786297e-10  -3.57837194e-09   8.23722973e-09   3.67388163e-06\n",
      "  -7.23131019e-08  -2.21121909e-08   4.27210178e-09  -1.66118273e-10\n",
      "  -1.46081763e-10   4.63177732e-11   4.34154741e-11  -1.12069134e-10\n",
      "  -2.86289010e-10   3.87907520e-09  -1.51532463e-08  -5.14009429e-08\n",
      "   1.13947313e-06   4.39159013e-05   4.53084115e-06  -2.34165937e-08\n",
      "   3.45736548e-07   9.13613936e-06  -6.45428393e-08   0.00000000e+00\n",
      "   0.00000000e+00   0.00000000e+00   0.00000000e+00   0.00000000e+00\n",
      "  -1.43257378e-11   3.24332278e-12  -5.69467593e-13   5.07909470e-14\n",
      "   2.19664873e-14   5.67209066e-14  -7.00292500e-13   4.08600683e-12\n",
      "  -1.80090440e-11   6.02860365e-11  -1.13997011e-10  -2.88763912e-10\n",
      "   3.89925095e-09  -1.53667063e-08  -5.30107661e-08   1.36304775e-06\n",
      "   3.35921702e-05   4.09606622e-06]\n",
      "[  2.13897095e-12   4.58383968e-12  -5.18772794e-11   2.60160027e-10\n",
      "  -5.24786297e-10  -3.57837194e-09   8.23722973e-09   3.67388163e-06\n",
      "  -7.23131019e-08  -2.21121909e-08   4.27210178e-09  -1.66118273e-10\n",
      "  -1.46081763e-10   4.63177732e-11   4.34154741e-11  -1.12069134e-10\n",
      "  -2.86289010e-10   3.87907520e-09  -1.51532463e-08  -5.14009429e-08\n",
      "   1.13947313e-06   4.39159013e-05   4.53084115e-06  -2.34165937e-08\n",
      "   3.45736548e-07   9.13613936e-06  -6.45428393e-08   0.00000000e+00\n",
      "   0.00000000e+00   0.00000000e+00   0.00000000e+00   0.00000000e+00\n",
      "   0.00000000e+00   3.24332278e-12  -5.69467593e-13   5.07909470e-14\n",
      "   2.19664873e-14   5.67209066e-14  -7.00292500e-13   4.08600683e-12\n",
      "  -1.80090440e-11   6.02860365e-11  -1.13997011e-10  -2.88763912e-10\n",
      "   3.89925095e-09  -1.53667063e-08  -5.30107661e-08   1.36304775e-06\n",
      "   3.35921702e-05   4.09606622e-06]\n",
      "[  2.13897095e-12   4.58383968e-12  -5.18772794e-11   2.60160027e-10\n",
      "  -5.24786297e-10  -3.57837194e-09   8.23722973e-09   3.67388163e-06\n",
      "  -7.23131019e-08  -2.21121909e-08   4.27210178e-09  -1.66118273e-10\n",
      "  -1.46081763e-10   4.63177732e-11   4.34154741e-11  -1.12069134e-10\n",
      "  -2.86289010e-10   3.87907520e-09  -1.51532463e-08  -5.14009429e-08\n",
      "   1.13947313e-06   4.39159013e-05   4.53084115e-06  -2.34165937e-08\n",
      "   3.45736548e-07   9.13613936e-06  -6.45428393e-08   0.00000000e+00\n",
      "   0.00000000e+00   0.00000000e+00   0.00000000e+00   0.00000000e+00\n",
      "   0.00000000e+00   0.00000000e+00  -5.69467593e-13   5.07909470e-14\n",
      "   2.19664873e-14   5.67209066e-14  -7.00292500e-13   4.08600683e-12\n",
      "  -1.80090440e-11   6.02860365e-11  -1.13997011e-10  -2.88763912e-10\n",
      "   3.89925095e-09  -1.53667063e-08  -5.30107661e-08   1.36304775e-06\n",
      "   3.35921702e-05   4.09606622e-06]\n",
      "[  2.13897095e-12   4.58383968e-12  -5.18772794e-11   2.60160027e-10\n",
      "  -5.24786297e-10  -3.57837194e-09   8.23722973e-09   3.67388163e-06\n",
      "  -7.23131019e-08  -2.21121909e-08   4.27210178e-09  -1.66118273e-10\n",
      "  -1.46081763e-10   4.63177732e-11   4.34154741e-11  -1.12069134e-10\n",
      "  -2.86289010e-10   3.87907520e-09  -1.51532463e-08  -5.14009429e-08\n",
      "   1.13947313e-06   4.39159013e-05   4.53084115e-06  -2.34165937e-08\n",
      "   3.45736548e-07   9.13613936e-06  -6.45428393e-08   0.00000000e+00\n",
      "   0.00000000e+00   0.00000000e+00   0.00000000e+00   0.00000000e+00\n",
      "   0.00000000e+00   0.00000000e+00   0.00000000e+00   5.07909470e-14\n",
      "   2.19664873e-14   5.67209066e-14  -7.00292500e-13   4.08600683e-12\n",
      "  -1.80090440e-11   6.02860365e-11  -1.13997011e-10  -2.88763912e-10\n",
      "   3.89925095e-09  -1.53667063e-08  -5.30107661e-08   1.36304775e-06\n",
      "   3.35921702e-05   4.09606622e-06]\n",
      "[  2.13897095e-12   4.58383968e-12  -5.18772794e-11   2.60160027e-10\n",
      "  -5.24786297e-10  -3.57837194e-09   8.23722973e-09   3.67388163e-06\n",
      "  -7.23131019e-08  -2.21121909e-08   4.27210178e-09  -1.66118273e-10\n",
      "  -1.46081763e-10   4.63177732e-11   4.34154741e-11  -1.12069134e-10\n",
      "  -2.86289010e-10   3.87907520e-09  -1.51532463e-08  -5.14009429e-08\n",
      "   1.13947313e-06   4.39159013e-05   4.53084115e-06  -2.34165937e-08\n",
      "   3.45736548e-07   9.13613936e-06  -6.45428393e-08   0.00000000e+00\n",
      "   0.00000000e+00   0.00000000e+00   0.00000000e+00   0.00000000e+00\n",
      "   0.00000000e+00   0.00000000e+00   0.00000000e+00   0.00000000e+00\n",
      "   2.19664873e-14   5.67209066e-14  -7.00292500e-13   4.08600683e-12\n",
      "  -1.80090440e-11   6.02860365e-11  -1.13997011e-10  -2.88763912e-10\n",
      "   3.89925095e-09  -1.53667063e-08  -5.30107661e-08   1.36304775e-06\n",
      "   3.35921702e-05   4.09606622e-06]\n",
      "[  2.13897095e-12   4.58383968e-12  -5.18772794e-11   2.60160027e-10\n",
      "  -5.24786297e-10  -3.57837194e-09   8.23722973e-09   3.67388163e-06\n",
      "  -7.23131019e-08  -2.21121909e-08   4.27210178e-09  -1.66118273e-10\n",
      "  -1.46081763e-10   4.63177732e-11   4.34154741e-11  -1.12069134e-10\n",
      "  -2.86289010e-10   3.87907520e-09  -1.51532463e-08  -5.14009429e-08\n",
      "   1.13947313e-06   4.39159013e-05   4.53084115e-06  -2.34165937e-08\n",
      "   3.45736548e-07   9.13613936e-06  -6.45428393e-08   0.00000000e+00\n",
      "   0.00000000e+00   0.00000000e+00   0.00000000e+00   0.00000000e+00\n",
      "   0.00000000e+00   0.00000000e+00   0.00000000e+00   0.00000000e+00\n",
      "   0.00000000e+00   5.67209066e-14  -7.00292500e-13   4.08600683e-12\n",
      "  -1.80090440e-11   6.02860365e-11  -1.13997011e-10  -2.88763912e-10\n",
      "   3.89925095e-09  -1.53667063e-08  -5.30107661e-08   1.36304775e-06\n",
      "   3.35921702e-05   4.09606622e-06]\n",
      "[  2.13897095e-12   4.58383968e-12  -5.18772794e-11   2.60160027e-10\n",
      "  -5.24786297e-10  -3.57837194e-09   8.23722973e-09   3.67388163e-06\n",
      "  -7.23131019e-08  -2.21121909e-08   4.27210178e-09  -1.66118273e-10\n",
      "  -1.46081763e-10   4.63177732e-11   4.34154741e-11  -1.12069134e-10\n",
      "  -2.86289010e-10   3.87907520e-09  -1.51532463e-08  -5.14009429e-08\n",
      "   1.13947313e-06   4.39159013e-05   4.53084115e-06  -2.34165937e-08\n",
      "   3.45736548e-07   9.13613936e-06  -6.45428393e-08   0.00000000e+00\n",
      "   0.00000000e+00   0.00000000e+00   0.00000000e+00   0.00000000e+00\n",
      "   0.00000000e+00   0.00000000e+00   0.00000000e+00   0.00000000e+00\n",
      "   0.00000000e+00   0.00000000e+00  -7.00292500e-13   4.08600683e-12\n",
      "  -1.80090440e-11   6.02860365e-11  -1.13997011e-10  -2.88763912e-10\n",
      "   3.89925095e-09  -1.53667063e-08  -5.30107661e-08   1.36304775e-06\n",
      "   3.35921702e-05   4.09606622e-06]\n",
      "[  2.13897095e-12   4.58383968e-12  -5.18772794e-11   2.60160027e-10\n",
      "  -5.24786297e-10  -3.57837194e-09   8.23722973e-09   3.67388163e-06\n",
      "  -7.23131019e-08  -2.21121909e-08   4.27210178e-09  -1.66118273e-10\n",
      "  -1.46081763e-10   4.63177732e-11   4.34154741e-11  -1.12069134e-10\n",
      "  -2.86289010e-10   3.87907520e-09  -1.51532463e-08  -5.14009429e-08\n",
      "   1.13947313e-06   4.39159013e-05   4.53084115e-06  -2.34165937e-08\n",
      "   3.45736548e-07   9.13613936e-06  -6.45428393e-08   0.00000000e+00\n",
      "   0.00000000e+00   0.00000000e+00   0.00000000e+00   0.00000000e+00\n",
      "   0.00000000e+00   0.00000000e+00   0.00000000e+00   0.00000000e+00\n",
      "   0.00000000e+00   0.00000000e+00   0.00000000e+00   4.08600683e-12\n",
      "  -1.80090440e-11   6.02860365e-11  -1.13997011e-10  -2.88763912e-10\n",
      "   3.89925095e-09  -1.53667063e-08  -5.30107661e-08   1.36304775e-06\n",
      "   3.35921702e-05   4.09606622e-06]\n",
      "[  2.13897095e-12   4.58383968e-12  -5.18772794e-11   2.60160027e-10\n",
      "  -5.24786297e-10  -3.57837194e-09   8.23722973e-09   3.67388163e-06\n",
      "  -7.23131019e-08  -2.21121909e-08   4.27210178e-09  -1.66118273e-10\n",
      "  -1.46081763e-10   4.63177732e-11   4.34154741e-11  -1.12069134e-10\n",
      "  -2.86289010e-10   3.87907520e-09  -1.51532463e-08  -5.14009429e-08\n",
      "   1.13947313e-06   4.39159013e-05   4.53084115e-06  -2.34165937e-08\n",
      "   3.45736548e-07   9.13613936e-06  -6.45428393e-08   0.00000000e+00\n",
      "   0.00000000e+00   0.00000000e+00   0.00000000e+00   0.00000000e+00\n",
      "   0.00000000e+00   0.00000000e+00   0.00000000e+00   0.00000000e+00\n",
      "   0.00000000e+00   0.00000000e+00   0.00000000e+00   0.00000000e+00\n",
      "  -1.80090440e-11   6.02860365e-11  -1.13997011e-10  -2.88763912e-10\n",
      "   3.89925095e-09  -1.53667063e-08  -5.30107661e-08   1.36304775e-06\n",
      "   3.35921702e-05   4.09606622e-06]\n",
      "[  2.13897095e-12   4.58383968e-12  -5.18772794e-11   2.60160027e-10\n",
      "  -5.24786297e-10  -3.57837194e-09   8.23722973e-09   3.67388163e-06\n",
      "  -7.23131019e-08  -2.21121909e-08   4.27210178e-09  -1.66118273e-10\n",
      "  -1.46081763e-10   4.63177732e-11   4.34154741e-11  -1.12069134e-10\n",
      "  -2.86289010e-10   3.87907520e-09  -1.51532463e-08  -5.14009429e-08\n",
      "   1.13947313e-06   4.39159013e-05   4.53084115e-06  -2.34165937e-08\n",
      "   3.45736548e-07   9.13613936e-06  -6.45428393e-08   0.00000000e+00\n",
      "   0.00000000e+00   0.00000000e+00   0.00000000e+00   0.00000000e+00\n",
      "   0.00000000e+00   0.00000000e+00   0.00000000e+00   0.00000000e+00\n",
      "   0.00000000e+00   0.00000000e+00   0.00000000e+00   0.00000000e+00\n",
      "   0.00000000e+00   6.02860365e-11  -1.13997011e-10  -2.88763912e-10\n",
      "   3.89925095e-09  -1.53667063e-08  -5.30107661e-08   1.36304775e-06\n",
      "   3.35921702e-05   4.09606622e-06]\n",
      "[  2.13897095e-12   4.58383968e-12  -5.18772794e-11   2.60160027e-10\n",
      "  -5.24786297e-10  -3.57837194e-09   8.23722973e-09   3.67388163e-06\n",
      "  -7.23131019e-08  -2.21121909e-08   4.27210178e-09  -1.66118273e-10\n",
      "  -1.46081763e-10   4.63177732e-11   4.34154741e-11  -1.12069134e-10\n",
      "  -2.86289010e-10   3.87907520e-09  -1.51532463e-08  -5.14009429e-08\n",
      "   1.13947313e-06   4.39159013e-05   4.53084115e-06  -2.34165937e-08\n",
      "   3.45736548e-07   9.13613936e-06  -6.45428393e-08   0.00000000e+00\n",
      "   0.00000000e+00   0.00000000e+00   0.00000000e+00   0.00000000e+00\n",
      "   0.00000000e+00   0.00000000e+00   0.00000000e+00   0.00000000e+00\n",
      "   0.00000000e+00   0.00000000e+00   0.00000000e+00   0.00000000e+00\n",
      "   0.00000000e+00   0.00000000e+00  -1.13997011e-10  -2.88763912e-10\n",
      "   3.89925095e-09  -1.53667063e-08  -5.30107661e-08   1.36304775e-06\n",
      "   3.35921702e-05   4.09606622e-06]\n",
      "[  2.13897095e-12   4.58383968e-12  -5.18772794e-11   2.60160027e-10\n",
      "  -5.24786297e-10  -3.57837194e-09   8.23722973e-09   3.67388163e-06\n",
      "  -7.23131019e-08  -2.21121909e-08   4.27210178e-09  -1.66118273e-10\n",
      "  -1.46081763e-10   4.63177732e-11   4.34154741e-11  -1.12069134e-10\n",
      "  -2.86289010e-10   3.87907520e-09  -1.51532463e-08  -5.14009429e-08\n",
      "   1.13947313e-06   4.39159013e-05   4.53084115e-06  -2.34165937e-08\n",
      "   3.45736548e-07   9.13613936e-06  -6.45428393e-08   0.00000000e+00\n",
      "   0.00000000e+00   0.00000000e+00   0.00000000e+00   0.00000000e+00\n",
      "   0.00000000e+00   0.00000000e+00   0.00000000e+00   0.00000000e+00\n",
      "   0.00000000e+00   0.00000000e+00   0.00000000e+00   0.00000000e+00\n",
      "   0.00000000e+00   0.00000000e+00   0.00000000e+00  -2.88763912e-10\n",
      "   3.89925095e-09  -1.53667063e-08  -5.30107661e-08   1.36304775e-06\n",
      "   3.35921702e-05   4.09606622e-06]\n",
      "[  2.13897095e-12   4.58383968e-12  -5.18772794e-11   2.60160027e-10\n",
      "  -5.24786297e-10  -3.57837194e-09   8.23722973e-09   3.67388163e-06\n",
      "  -7.23131019e-08  -2.21121909e-08   4.27210178e-09  -1.66118273e-10\n",
      "  -1.46081763e-10   4.63177732e-11   4.34154741e-11  -1.12069134e-10\n",
      "  -2.86289010e-10   3.87907520e-09  -1.51532463e-08  -5.14009429e-08\n",
      "   1.13947313e-06   4.39159013e-05   4.53084115e-06  -2.34165937e-08\n",
      "   3.45736548e-07   9.13613936e-06  -6.45428393e-08   0.00000000e+00\n",
      "   0.00000000e+00   0.00000000e+00   0.00000000e+00   0.00000000e+00\n",
      "   0.00000000e+00   0.00000000e+00   0.00000000e+00   0.00000000e+00\n",
      "   0.00000000e+00   0.00000000e+00   0.00000000e+00   0.00000000e+00\n",
      "   0.00000000e+00   0.00000000e+00   0.00000000e+00   0.00000000e+00\n",
      "   3.89925095e-09  -1.53667063e-08  -5.30107661e-08   1.36304775e-06\n",
      "   3.35921702e-05   4.09606622e-06]\n",
      "[  2.13897095e-12   4.58383968e-12  -5.18772794e-11   2.60160027e-10\n",
      "  -5.24786297e-10  -3.57837194e-09   8.23722973e-09   3.67388163e-06\n",
      "  -7.23131019e-08  -2.21121909e-08   4.27210178e-09  -1.66118273e-10\n",
      "  -1.46081763e-10   4.63177732e-11   4.34154741e-11  -1.12069134e-10\n",
      "  -2.86289010e-10   3.87907520e-09  -1.51532463e-08  -5.14009429e-08\n",
      "   1.13947313e-06   4.39159013e-05   4.53084115e-06  -2.34165937e-08\n",
      "   3.45736548e-07   9.13613936e-06  -6.45428393e-08   0.00000000e+00\n",
      "   0.00000000e+00   0.00000000e+00   0.00000000e+00   0.00000000e+00\n",
      "   0.00000000e+00   0.00000000e+00   0.00000000e+00   0.00000000e+00\n",
      "   0.00000000e+00   0.00000000e+00   0.00000000e+00   0.00000000e+00\n",
      "   0.00000000e+00   0.00000000e+00   0.00000000e+00   0.00000000e+00\n",
      "   0.00000000e+00  -1.53667063e-08  -5.30107661e-08   1.36304775e-06\n",
      "   3.35921702e-05   4.09606622e-06]\n",
      "[  2.13897095e-12   4.58383968e-12  -5.18772794e-11   2.60160027e-10\n",
      "  -5.24786297e-10  -3.57837194e-09   8.23722973e-09   3.67388163e-06\n",
      "  -7.23131019e-08  -2.21121909e-08   4.27210178e-09  -1.66118273e-10\n",
      "  -1.46081763e-10   4.63177732e-11   4.34154741e-11  -1.12069134e-10\n",
      "  -2.86289010e-10   3.87907520e-09  -1.51532463e-08  -5.14009429e-08\n",
      "   1.13947313e-06   4.39159013e-05   4.53084115e-06  -2.34165937e-08\n",
      "   3.45736548e-07   9.13613936e-06  -6.45428393e-08   0.00000000e+00\n",
      "   0.00000000e+00   0.00000000e+00   0.00000000e+00   0.00000000e+00\n",
      "   0.00000000e+00   0.00000000e+00   0.00000000e+00   0.00000000e+00\n",
      "   0.00000000e+00   0.00000000e+00   0.00000000e+00   0.00000000e+00\n",
      "   0.00000000e+00   0.00000000e+00   0.00000000e+00   0.00000000e+00\n",
      "   0.00000000e+00   0.00000000e+00  -5.30107661e-08   1.36304775e-06\n",
      "   3.35921702e-05   4.09606622e-06]\n",
      "[  2.13897095e-12   4.58383968e-12  -5.18772794e-11   2.60160027e-10\n",
      "  -5.24786297e-10  -3.57837194e-09   8.23722973e-09   3.67388163e-06\n",
      "  -7.23131019e-08  -2.21121909e-08   4.27210178e-09  -1.66118273e-10\n",
      "  -1.46081763e-10   4.63177732e-11   4.34154741e-11  -1.12069134e-10\n",
      "  -2.86289010e-10   3.87907520e-09  -1.51532463e-08  -5.14009429e-08\n",
      "   1.13947313e-06   4.39159013e-05   4.53084115e-06  -2.34165937e-08\n",
      "   3.45736548e-07   9.13613936e-06  -6.45428393e-08  -1.78535127e-08\n",
      "   3.70470541e-09  -2.44142970e-10  -9.65224624e-11   4.88809145e-11\n",
      "  -1.43257378e-11   3.24332278e-12  -5.69467593e-13   5.07909470e-14\n",
      "   2.19664873e-14   5.67209066e-14  -7.00292500e-13   4.08600683e-12\n",
      "  -1.80090440e-11   6.02860365e-11  -1.13997011e-10  -2.88763912e-10\n",
      "   3.89925095e-09  -1.53667063e-08  -5.30107661e-08   1.36304775e-06\n",
      "   3.35921702e-05   4.09606622e-06]\n",
      "[  2.13897095e-12   4.58383968e-12  -5.18772794e-11   2.60160027e-10\n",
      "  -5.24786297e-10  -3.57837194e-09   8.23722973e-09   3.67388163e-06\n",
      "  -7.23131019e-08  -2.21121909e-08   4.27210178e-09  -1.66118273e-10\n",
      "  -1.46081763e-10   4.63177732e-11   4.34154741e-11  -1.12069134e-10\n",
      "  -2.86289010e-10   3.87907520e-09  -1.51532463e-08  -5.14009429e-08\n",
      "   1.13947313e-06   4.39159013e-05   4.53084115e-06  -2.34165937e-08\n",
      "   3.45736548e-07   9.13613936e-06  -6.45428393e-08  -1.78535127e-08\n",
      "   3.70470541e-09  -2.44142970e-10  -9.65224624e-11   4.88809145e-11\n",
      "  -1.43257378e-11   3.24332278e-12  -5.69467593e-13   5.07909470e-14\n",
      "   2.19664873e-14   5.67209066e-14  -7.00292500e-13   4.08600683e-12\n",
      "  -1.80090440e-11   6.02860365e-11  -1.13997011e-10  -2.88763912e-10\n",
      "   3.89925095e-09  -1.53667063e-08  -5.30107661e-08   1.36304775e-06\n",
      "   3.35921702e-05   4.09606622e-06]\n",
      "[  2.13897095e-12   4.58383968e-12  -5.18772794e-11   2.60160027e-10\n",
      "  -5.24786297e-10  -3.57837194e-09   8.23722973e-09   3.67388163e-06\n",
      "  -7.23131019e-08  -2.21121909e-08   4.27210178e-09  -1.66118273e-10\n",
      "  -1.46081763e-10   4.63177732e-11   4.34154741e-11  -1.12069134e-10\n",
      "  -2.86289010e-10   3.87907520e-09  -1.51532463e-08  -5.14009429e-08\n",
      "   1.13947313e-06   4.39159013e-05   4.53084115e-06  -2.34165937e-08\n",
      "   3.45736548e-07   9.13613936e-06  -6.45428393e-08  -1.78535127e-08\n",
      "   3.70470541e-09  -2.44142970e-10  -9.65224624e-11   4.88809145e-11\n",
      "  -1.43257378e-11   3.24332278e-12  -5.69467593e-13   5.07909470e-14\n",
      "   2.19664873e-14   5.67209066e-14  -7.00292500e-13   4.08600683e-12\n",
      "  -1.80090440e-11   6.02860365e-11  -1.13997011e-10  -2.88763912e-10\n",
      "   3.89925095e-09  -1.53667063e-08  -5.30107661e-08   1.36304775e-06\n",
      "   3.35921702e-05   4.09606622e-06]\n",
      "[  2.13897095e-12   4.58383968e-12  -5.18772794e-11   2.60160027e-10\n",
      "  -5.24786297e-10  -3.57837194e-09   8.23722973e-09   3.67388163e-06\n",
      "  -7.23131019e-08  -2.21121909e-08   4.27210178e-09  -1.66118273e-10\n",
      "  -1.46081763e-10   4.63177732e-11   4.34154741e-11  -1.12069134e-10\n",
      "  -2.86289010e-10   3.87907520e-09  -1.51532463e-08  -5.14009429e-08\n",
      "   1.13947313e-06   4.39159013e-05   4.53084115e-06  -2.34165937e-08\n",
      "   3.45736548e-07   9.13613936e-06  -6.45428393e-08  -1.78535127e-08\n",
      "   3.70470541e-09  -2.44142970e-10  -9.65224624e-11   4.88809145e-11\n",
      "  -1.43257378e-11   3.24332278e-12  -5.69467593e-13   5.07909470e-14\n",
      "   2.19664873e-14   5.67209066e-14  -7.00292500e-13   4.08600683e-12\n",
      "  -1.80090440e-11   6.02860365e-11  -1.13997011e-10  -2.88763912e-10\n",
      "   3.89925095e-09  -1.53667063e-08  -5.30107661e-08   1.36304775e-06\n",
      "   3.35921702e-05   4.09606622e-06]\n"
     ]
    },
    {
     "data": {
      "text/plain": [
       "2.1389709525726919e-12"
      ]
     },
     "execution_count": 156,
     "metadata": {},
     "output_type": "execute_result"
    }
   ],
   "source": [
    "lambd = spades(0.1, F_X, f_int_prod_matrix)\n",
    "lambd[0]"
   ]
  },
  {
   "cell_type": "code",
   "execution_count": 137,
   "metadata": {
    "collapsed": false
   },
   "outputs": [
    {
     "data": {
      "text/plain": [
       "array([ -7.42177716e-15,   1.21005498e-13,   1.22271415e-12,\n",
       "        -2.22223528e-11,  -2.37625973e-10,  -1.96460198e-10,\n",
       "         2.82405831e-09,   3.66738723e-05,  -3.81108594e-07,\n",
       "        -1.06168805e-08,  -1.23601098e-09,   2.82730368e-11,\n",
       "         6.84061167e-12,  -1.67039356e-13,  -2.16227370e-13,\n",
       "         4.21079968e-12,   3.55471633e-11,  -9.04410010e-10,\n",
       "        -9.64101284e-09,  -2.22250294e-08,   1.11927545e-05,\n",
       "         4.39659022e-04,   4.52351111e-05,  -7.50091458e-09,\n",
       "         3.44653781e-06,   9.12277358e-05,  -4.03869909e-08,\n",
       "        -1.33837385e-08,  -1.23392677e-09,   1.95374407e-11,\n",
       "         5.52120918e-12,  -3.58714121e-14,  -5.15776227e-14,\n",
       "         6.56854547e-15,  -2.50620326e-15,   2.08202054e-14,\n",
       "         6.37168691e-15,  -1.78764203e-12,  -1.02136506e-11,\n",
       "         3.96203083e-10,   3.42024754e-09,   7.21287473e-09,\n",
       "        -6.00362833e-06,   3.17280424e-05,  -1.08012467e-04,\n",
       "         3.25324075e-04,  -9.41361113e-04,   2.68686984e-03,\n",
       "        -7.18647484e-03,   2.00000009e-02])"
      ]
     },
     "execution_count": 137,
     "metadata": {},
     "output_type": "execute_result"
    }
   ],
   "source": [
    "lambd.reshape(1,K)[0]"
   ]
  },
  {
   "cell_type": "code",
   "execution_count": null,
   "metadata": {
    "collapsed": false
   },
   "outputs": [],
   "source": [
    "weight_spades_2 = np.array([lambd[i] if type(lambd[i]) == int else np.array(lambd[i])[0][0] for i in range(K)])"
   ]
  },
  {
   "cell_type": "code",
   "execution_count": null,
   "metadata": {
    "collapsed": false
   },
   "outputs": [],
   "source": [
    "f_estim_spades_2 = np.apply_along_axis(lambda x: weight_spades_2.dot(np.array([d.pdf(x) for d in densities])), 0, np.linspace(0,1,n_pdf))\n",
    "\n",
    "#plt.plot(np.linspace(0,1,n_pdf),f_star)\n",
    "plt.plot(np.linspace(0,1,n_pdf),f_estim_spades_2)\n",
    "plt.show()"
   ]
  },
  {
   "cell_type": "code",
   "execution_count": null,
   "metadata": {
    "collapsed": false
   },
   "outputs": [],
   "source": [
    "def spades_full(w, F_X):\n",
    "    lambda_ = Variable(K)\n",
    "    X_int = np.linspace(0,1,10000)\n",
    "    F_int = F(X_int).T*lambda_\n",
    "    norm2_f_sq = sum_entries(F_int**2)\n",
    "    objective = Minimize(-2/X.shape[0]*sum_entries(F_X*lambda_) + norm2_f_sq + 2*norm1(w*lambda_) )\n",
    "    prob = Problem(objective)\n",
    "    prob.solve()\n",
    "    return np.array(lambda_.value)\n"
   ]
  },
  {
   "cell_type": "code",
   "execution_count": null,
   "metadata": {
    "collapsed": false
   },
   "outputs": [],
   "source": [
    "for i in range(10):\n",
    "    w=10**(2-i)\n",
    "    weights_spades = np.array(spades_full(w)).reshape(K)\n",
    "    f_estim_spades = np.apply_along_axis(lambda x: weights_spades.dot(np.array([d.pdf(x) for d in densities])), 0, np.linspace(0,1,n_pdf))\n",
    "    \n",
    "    plt.plot(np.linspace(0,1,n_pdf),f_star)\n",
    "    plt.plot(np.linspace(0,1,n_pdf),f_estim_spades)\n",
    "    plt.show()"
   ]
  },
  {
   "cell_type": "code",
   "execution_count": null,
   "metadata": {
    "collapsed": false
   },
   "outputs": [],
   "source": [
    "1e-3"
   ]
  },
  {
   "cell_type": "code",
   "execution_count": null,
   "metadata": {
    "collapsed": false
   },
   "outputs": [],
   "source": [
    "weights_spades.dot(np.array([d.pdf(0) for d in densities]))"
   ]
  },
  {
   "cell_type": "code",
   "execution_count": 102,
   "metadata": {
    "collapsed": true
   },
   "outputs": [],
   "source": [
    "def non_zero_elemts(w, F_X, f_int_prod_matrix):\n",
    "    lambd = spades(w, F_X, f_int_prod_matrix)\n",
    "    return len(lambd[lambd>1e-10]), lambd"
   ]
  },
  {
   "cell_type": "code",
   "execution_count": 103,
   "metadata": {
    "collapsed": false
   },
   "outputs": [],
   "source": [
    "#GBM Methods\n",
    "from queue import Queue\n",
    "alpha = 1e-2\n",
    "def gbm(X, F_X, f_int_prod_matrix, alpha=1e-2):\n",
    "    w_vect = -np.ones(K)\n",
    "    w_vect[0] = 100\n",
    "    w_vect[-1] = 0\n",
    "    #import pdb; pdb.set_trace()\n",
    "    q = Queue()\n",
    "    q.put((w_vect[0],w_vect[-1]))\n",
    "    while not q.empty():\n",
    "        a,b = q.get()\n",
    "        w = 1.0*(a+b)/2\n",
    "        k = non_zero_elemts(w, F_X, f_int_prod_matrix)[0]-1\n",
    "        if w_vect[k]==(-1):\n",
    "            w_vect[k]=w\n",
    "        t = non_zero_elemts(a, F_X, f_int_prod_matrix)[0]\n",
    "        if np.abs(t-k) > 1 and np.abs(a-w) > alpha:\n",
    "            print \"put a,w\",a,w\n",
    "            q.put((a,w))\n",
    "        t = non_zero_elemts(b, F_X, f_int_prod_matrix)[0]\n",
    "        if np.abs(t-k) > 1 and np.abs(b-w) > alpha:\n",
    "            print \"put b, w \", b, w\n",
    "            q.put((w,b))\n",
    "    return w_vect"
   ]
  },
  {
   "cell_type": "code",
   "execution_count": 104,
   "metadata": {
    "collapsed": false
   },
   "outputs": [
    {
     "ename": "KeyboardInterrupt",
     "evalue": "",
     "output_type": "error",
     "traceback": [
      "\u001b[0;31m---------------------------------------------------------------------------\u001b[0m",
      "\u001b[0;31mKeyboardInterrupt\u001b[0m                         Traceback (most recent call last)",
      "\u001b[0;32m<ipython-input-104-b4a66bc1be2b>\u001b[0m in \u001b[0;36m<module>\u001b[0;34m()\u001b[0m\n\u001b[0;32m----> 1\u001b[0;31m \u001b[0mnon_zero_elemts\u001b[0m\u001b[0;34m(\u001b[0m\u001b[0;36m1\u001b[0m\u001b[0;34m,\u001b[0m \u001b[0mF_X\u001b[0m\u001b[0;34m,\u001b[0m \u001b[0mf_int_prod_matrix\u001b[0m\u001b[0;34m)\u001b[0m\u001b[0;34m\u001b[0m\u001b[0m\n\u001b[0m",
      "\u001b[0;32m<ipython-input-102-d1e388954e38>\u001b[0m in \u001b[0;36mnon_zero_elemts\u001b[0;34m(w, F_X, f_int_prod_matrix)\u001b[0m\n\u001b[1;32m      1\u001b[0m \u001b[0;32mdef\u001b[0m \u001b[0mnon_zero_elemts\u001b[0m\u001b[0;34m(\u001b[0m\u001b[0mw\u001b[0m\u001b[0;34m,\u001b[0m \u001b[0mF_X\u001b[0m\u001b[0;34m,\u001b[0m \u001b[0mf_int_prod_matrix\u001b[0m\u001b[0;34m)\u001b[0m\u001b[0;34m:\u001b[0m\u001b[0;34m\u001b[0m\u001b[0m\n\u001b[0;32m----> 2\u001b[0;31m     \u001b[0mlambd\u001b[0m \u001b[0;34m=\u001b[0m \u001b[0mspades\u001b[0m\u001b[0;34m(\u001b[0m\u001b[0mw\u001b[0m\u001b[0;34m,\u001b[0m \u001b[0mF_X\u001b[0m\u001b[0;34m,\u001b[0m \u001b[0mf_int_prod_matrix\u001b[0m\u001b[0;34m)\u001b[0m\u001b[0;34m\u001b[0m\u001b[0m\n\u001b[0m\u001b[1;32m      3\u001b[0m     \u001b[0;32mreturn\u001b[0m \u001b[0mlen\u001b[0m\u001b[0;34m(\u001b[0m\u001b[0mlambd\u001b[0m\u001b[0;34m[\u001b[0m\u001b[0mlambd\u001b[0m\u001b[0;34m>\u001b[0m\u001b[0;36m1e-10\u001b[0m\u001b[0;34m]\u001b[0m\u001b[0;34m)\u001b[0m\u001b[0;34m,\u001b[0m \u001b[0mlambd\u001b[0m\u001b[0;34m\u001b[0m\u001b[0m\n",
      "\u001b[0;32m<ipython-input-93-0a351ab632fb>\u001b[0m in \u001b[0;36mspades\u001b[0;34m(w, F_X, f_int_prod_matrix)\u001b[0m\n\u001b[1;32m     15\u001b[0m                 \u001b[0mlambd\u001b[0m \u001b[0;34m=\u001b[0m \u001b[0mlambd_j_0\u001b[0m\u001b[0;34m\u001b[0m\u001b[0m\n\u001b[1;32m     16\u001b[0m             \u001b[0;32melse\u001b[0m\u001b[0;34m:\u001b[0m\u001b[0;34m\u001b[0m\u001b[0m\n\u001b[0;32m---> 17\u001b[0;31m                 \u001b[0mlambd\u001b[0m \u001b[0;34m=\u001b[0m \u001b[0mmin_direct_2\u001b[0m\u001b[0;34m(\u001b[0m\u001b[0mlambd\u001b[0m\u001b[0;34m,\u001b[0m \u001b[0mj\u001b[0m\u001b[0;34m,\u001b[0m \u001b[0mw\u001b[0m\u001b[0;34m,\u001b[0m \u001b[0mF_X\u001b[0m\u001b[0;34m,\u001b[0m \u001b[0mF_int_prod_matrix\u001b[0m\u001b[0;34m)\u001b[0m\u001b[0;34m\u001b[0m\u001b[0m\n\u001b[0m\u001b[1;32m     18\u001b[0m                 \u001b[0;31m#lambd = min_direct(lambd, j, F_X, w)\u001b[0m\u001b[0;34m\u001b[0m\u001b[0;34m\u001b[0m\u001b[0m\n\u001b[1;32m     19\u001b[0m         \u001b[0mit\u001b[0m\u001b[0;34m+=\u001b[0m\u001b[0;36m1\u001b[0m\u001b[0;34m\u001b[0m\u001b[0m\n",
      "\u001b[0;32m<ipython-input-101-7ae51c145c16>\u001b[0m in \u001b[0;36mmin_direct_2\u001b[0;34m(lambd, l, w, F_X, f_int_prod_matrix)\u001b[0m\n\u001b[1;32m     17\u001b[0m                    \u001b[0mmethod\u001b[0m\u001b[0;34m=\u001b[0m\u001b[0;34m\"BFGS\"\u001b[0m\u001b[0;34m,\u001b[0m\u001b[0;34m\u001b[0m\u001b[0m\n\u001b[1;32m     18\u001b[0m                    \u001b[0mjac\u001b[0m\u001b[0;34m=\u001b[0m\u001b[0mf_grad_one_direct\u001b[0m\u001b[0;34m,\u001b[0m\u001b[0;34m\u001b[0m\u001b[0m\n\u001b[0;32m---> 19\u001b[0;31m                    \u001b[0moptions\u001b[0m\u001b[0;34m=\u001b[0m\u001b[0;34m{\u001b[0m\u001b[0;34m\"maxiter\"\u001b[0m\u001b[0;34m:\u001b[0m\u001b[0;36m3\u001b[0m\u001b[0;34m}\u001b[0m\u001b[0;34m\u001b[0m\u001b[0m\n\u001b[0m\u001b[1;32m     20\u001b[0m                   )[\"x\"][0]\n\u001b[1;32m     21\u001b[0m     \u001b[0mlambd_res\u001b[0m \u001b[0;34m=\u001b[0m \u001b[0mnp\u001b[0m\u001b[0;34m.\u001b[0m\u001b[0mcopy\u001b[0m\u001b[0;34m(\u001b[0m\u001b[0mlambd\u001b[0m\u001b[0;34m)\u001b[0m\u001b[0;34m\u001b[0m\u001b[0m\n",
      "\u001b[0;32m/usr/local/lib/python2.7/site-packages/scipy/optimize/_minimize.pyc\u001b[0m in \u001b[0;36mminimize\u001b[0;34m(fun, x0, args, method, jac, hess, hessp, bounds, constraints, tol, callback, options)\u001b[0m\n\u001b[1;32m    442\u001b[0m         \u001b[0;32mreturn\u001b[0m \u001b[0m_minimize_cg\u001b[0m\u001b[0;34m(\u001b[0m\u001b[0mfun\u001b[0m\u001b[0;34m,\u001b[0m \u001b[0mx0\u001b[0m\u001b[0;34m,\u001b[0m \u001b[0margs\u001b[0m\u001b[0;34m,\u001b[0m \u001b[0mjac\u001b[0m\u001b[0;34m,\u001b[0m \u001b[0mcallback\u001b[0m\u001b[0;34m,\u001b[0m \u001b[0;34m**\u001b[0m\u001b[0moptions\u001b[0m\u001b[0;34m)\u001b[0m\u001b[0;34m\u001b[0m\u001b[0m\n\u001b[1;32m    443\u001b[0m     \u001b[0;32melif\u001b[0m \u001b[0mmeth\u001b[0m \u001b[0;34m==\u001b[0m \u001b[0;34m'bfgs'\u001b[0m\u001b[0;34m:\u001b[0m\u001b[0;34m\u001b[0m\u001b[0m\n\u001b[0;32m--> 444\u001b[0;31m         \u001b[0;32mreturn\u001b[0m \u001b[0m_minimize_bfgs\u001b[0m\u001b[0;34m(\u001b[0m\u001b[0mfun\u001b[0m\u001b[0;34m,\u001b[0m \u001b[0mx0\u001b[0m\u001b[0;34m,\u001b[0m \u001b[0margs\u001b[0m\u001b[0;34m,\u001b[0m \u001b[0mjac\u001b[0m\u001b[0;34m,\u001b[0m \u001b[0mcallback\u001b[0m\u001b[0;34m,\u001b[0m \u001b[0;34m**\u001b[0m\u001b[0moptions\u001b[0m\u001b[0;34m)\u001b[0m\u001b[0;34m\u001b[0m\u001b[0m\n\u001b[0m\u001b[1;32m    445\u001b[0m     \u001b[0;32melif\u001b[0m \u001b[0mmeth\u001b[0m \u001b[0;34m==\u001b[0m \u001b[0;34m'newton-cg'\u001b[0m\u001b[0;34m:\u001b[0m\u001b[0;34m\u001b[0m\u001b[0m\n\u001b[1;32m    446\u001b[0m         return _minimize_newtoncg(fun, x0, args, jac, hess, hessp, callback,\n",
      "\u001b[0;32m/usr/local/lib/python2.7/site-packages/scipy/optimize/optimize.pyc\u001b[0m in \u001b[0;36m_minimize_bfgs\u001b[0;34m(fun, x0, args, jac, callback, gtol, norm, eps, maxiter, disp, return_all, **unknown_options)\u001b[0m\n\u001b[1;32m    932\u001b[0m             \u001b[0malpha_k\u001b[0m\u001b[0;34m,\u001b[0m \u001b[0mfc\u001b[0m\u001b[0;34m,\u001b[0m \u001b[0mgc\u001b[0m\u001b[0;34m,\u001b[0m \u001b[0mold_fval\u001b[0m\u001b[0;34m,\u001b[0m \u001b[0mold_old_fval\u001b[0m\u001b[0;34m,\u001b[0m \u001b[0mgfkp1\u001b[0m \u001b[0;34m=\u001b[0m\u001b[0;31m \u001b[0m\u001b[0;31m\\\u001b[0m\u001b[0;34m\u001b[0m\u001b[0m\n\u001b[1;32m    933\u001b[0m                      _line_search_wolfe12(f, myfprime, xk, pk, gfk,\n\u001b[0;32m--> 934\u001b[0;31m                                           old_fval, old_old_fval, amin=1e-100, amax=1e100)\n\u001b[0m\u001b[1;32m    935\u001b[0m         \u001b[0;32mexcept\u001b[0m \u001b[0m_LineSearchError\u001b[0m\u001b[0;34m:\u001b[0m\u001b[0;34m\u001b[0m\u001b[0m\n\u001b[1;32m    936\u001b[0m             \u001b[0;31m# Line search failed to find a better solution.\u001b[0m\u001b[0;34m\u001b[0m\u001b[0;34m\u001b[0m\u001b[0m\n",
      "\u001b[0;32m/usr/local/lib/python2.7/site-packages/scipy/optimize/optimize.pyc\u001b[0m in \u001b[0;36m_line_search_wolfe12\u001b[0;34m(f, fprime, xk, pk, gfk, old_fval, old_old_fval, **kwargs)\u001b[0m\n\u001b[1;32m    763\u001b[0m     ret = line_search_wolfe1(f, fprime, xk, pk, gfk,\n\u001b[1;32m    764\u001b[0m                              \u001b[0mold_fval\u001b[0m\u001b[0;34m,\u001b[0m \u001b[0mold_old_fval\u001b[0m\u001b[0;34m,\u001b[0m\u001b[0;34m\u001b[0m\u001b[0m\n\u001b[0;32m--> 765\u001b[0;31m                              **kwargs)\n\u001b[0m\u001b[1;32m    766\u001b[0m \u001b[0;34m\u001b[0m\u001b[0m\n\u001b[1;32m    767\u001b[0m     \u001b[0;32mif\u001b[0m \u001b[0mret\u001b[0m\u001b[0;34m[\u001b[0m\u001b[0;36m0\u001b[0m\u001b[0;34m]\u001b[0m \u001b[0;32mis\u001b[0m \u001b[0mNone\u001b[0m\u001b[0;34m:\u001b[0m\u001b[0;34m\u001b[0m\u001b[0m\n",
      "\u001b[0;32m/usr/local/lib/python2.7/site-packages/scipy/optimize/linesearch.pyc\u001b[0m in \u001b[0;36mline_search_wolfe1\u001b[0;34m(f, fprime, xk, pk, gfk, old_fval, old_old_fval, args, c1, c2, amax, amin, xtol)\u001b[0m\n\u001b[1;32m     99\u001b[0m     stp, fval, old_fval = scalar_search_wolfe1(\n\u001b[1;32m    100\u001b[0m             \u001b[0mphi\u001b[0m\u001b[0;34m,\u001b[0m \u001b[0mderphi\u001b[0m\u001b[0;34m,\u001b[0m \u001b[0mold_fval\u001b[0m\u001b[0;34m,\u001b[0m \u001b[0mold_old_fval\u001b[0m\u001b[0;34m,\u001b[0m \u001b[0mderphi0\u001b[0m\u001b[0;34m,\u001b[0m\u001b[0;34m\u001b[0m\u001b[0m\n\u001b[0;32m--> 101\u001b[0;31m             c1=c1, c2=c2, amax=amax, amin=amin, xtol=xtol)\n\u001b[0m\u001b[1;32m    102\u001b[0m \u001b[0;34m\u001b[0m\u001b[0m\n\u001b[1;32m    103\u001b[0m     \u001b[0;32mreturn\u001b[0m \u001b[0mstp\u001b[0m\u001b[0;34m,\u001b[0m \u001b[0mfc\u001b[0m\u001b[0;34m[\u001b[0m\u001b[0;36m0\u001b[0m\u001b[0;34m]\u001b[0m\u001b[0;34m,\u001b[0m \u001b[0mgc\u001b[0m\u001b[0;34m[\u001b[0m\u001b[0;36m0\u001b[0m\u001b[0;34m]\u001b[0m\u001b[0;34m,\u001b[0m \u001b[0mfval\u001b[0m\u001b[0;34m,\u001b[0m \u001b[0mold_fval\u001b[0m\u001b[0;34m,\u001b[0m \u001b[0mgval\u001b[0m\u001b[0;34m[\u001b[0m\u001b[0;36m0\u001b[0m\u001b[0;34m]\u001b[0m\u001b[0;34m\u001b[0m\u001b[0m\n",
      "\u001b[0;32m/usr/local/lib/python2.7/site-packages/scipy/optimize/linesearch.pyc\u001b[0m in \u001b[0;36mscalar_search_wolfe1\u001b[0;34m(phi, derphi, phi0, old_phi0, derphi0, c1, c2, amax, amin, xtol)\u001b[0m\n\u001b[1;32m    172\u001b[0m         \u001b[0;32mif\u001b[0m \u001b[0mtask\u001b[0m\u001b[0;34m[\u001b[0m\u001b[0;34m:\u001b[0m\u001b[0;36m2\u001b[0m\u001b[0;34m]\u001b[0m \u001b[0;34m==\u001b[0m \u001b[0;34mb'FG'\u001b[0m\u001b[0;34m:\u001b[0m\u001b[0;34m\u001b[0m\u001b[0m\n\u001b[1;32m    173\u001b[0m             \u001b[0malpha1\u001b[0m \u001b[0;34m=\u001b[0m \u001b[0mstp\u001b[0m\u001b[0;34m\u001b[0m\u001b[0m\n\u001b[0;32m--> 174\u001b[0;31m             \u001b[0mphi1\u001b[0m \u001b[0;34m=\u001b[0m \u001b[0mphi\u001b[0m\u001b[0;34m(\u001b[0m\u001b[0mstp\u001b[0m\u001b[0;34m)\u001b[0m\u001b[0;34m\u001b[0m\u001b[0m\n\u001b[0m\u001b[1;32m    175\u001b[0m             \u001b[0mderphi1\u001b[0m \u001b[0;34m=\u001b[0m \u001b[0mderphi\u001b[0m\u001b[0;34m(\u001b[0m\u001b[0mstp\u001b[0m\u001b[0;34m)\u001b[0m\u001b[0;34m\u001b[0m\u001b[0m\n\u001b[1;32m    176\u001b[0m         \u001b[0;32melse\u001b[0m\u001b[0;34m:\u001b[0m\u001b[0;34m\u001b[0m\u001b[0m\n",
      "\u001b[0;32m/usr/local/lib/python2.7/site-packages/scipy/optimize/linesearch.pyc\u001b[0m in \u001b[0;36mphi\u001b[0;34m(s)\u001b[0m\n\u001b[1;32m     85\u001b[0m     \u001b[0;32mdef\u001b[0m \u001b[0mphi\u001b[0m\u001b[0;34m(\u001b[0m\u001b[0ms\u001b[0m\u001b[0;34m)\u001b[0m\u001b[0;34m:\u001b[0m\u001b[0;34m\u001b[0m\u001b[0m\n\u001b[1;32m     86\u001b[0m         \u001b[0mfc\u001b[0m\u001b[0;34m[\u001b[0m\u001b[0;36m0\u001b[0m\u001b[0;34m]\u001b[0m \u001b[0;34m+=\u001b[0m \u001b[0;36m1\u001b[0m\u001b[0;34m\u001b[0m\u001b[0m\n\u001b[0;32m---> 87\u001b[0;31m         \u001b[0;32mreturn\u001b[0m \u001b[0mf\u001b[0m\u001b[0;34m(\u001b[0m\u001b[0mxk\u001b[0m \u001b[0;34m+\u001b[0m \u001b[0ms\u001b[0m\u001b[0;34m*\u001b[0m\u001b[0mpk\u001b[0m\u001b[0;34m,\u001b[0m \u001b[0;34m*\u001b[0m\u001b[0margs\u001b[0m\u001b[0;34m)\u001b[0m\u001b[0;34m\u001b[0m\u001b[0m\n\u001b[0m\u001b[1;32m     88\u001b[0m \u001b[0;34m\u001b[0m\u001b[0m\n\u001b[1;32m     89\u001b[0m     \u001b[0;32mdef\u001b[0m \u001b[0mderphi\u001b[0m\u001b[0;34m(\u001b[0m\u001b[0ms\u001b[0m\u001b[0;34m)\u001b[0m\u001b[0;34m:\u001b[0m\u001b[0;34m\u001b[0m\u001b[0m\n",
      "\u001b[0;32m/usr/local/lib/python2.7/site-packages/scipy/optimize/optimize.pyc\u001b[0m in \u001b[0;36mfunction_wrapper\u001b[0;34m(*wrapper_args)\u001b[0m\n\u001b[1;32m    290\u001b[0m     \u001b[0;32mdef\u001b[0m \u001b[0mfunction_wrapper\u001b[0m\u001b[0;34m(\u001b[0m\u001b[0;34m*\u001b[0m\u001b[0mwrapper_args\u001b[0m\u001b[0;34m)\u001b[0m\u001b[0;34m:\u001b[0m\u001b[0;34m\u001b[0m\u001b[0m\n\u001b[1;32m    291\u001b[0m         \u001b[0mncalls\u001b[0m\u001b[0;34m[\u001b[0m\u001b[0;36m0\u001b[0m\u001b[0;34m]\u001b[0m \u001b[0;34m+=\u001b[0m \u001b[0;36m1\u001b[0m\u001b[0;34m\u001b[0m\u001b[0m\n\u001b[0;32m--> 292\u001b[0;31m         \u001b[0;32mreturn\u001b[0m \u001b[0mfunction\u001b[0m\u001b[0;34m(\u001b[0m\u001b[0;34m*\u001b[0m\u001b[0;34m(\u001b[0m\u001b[0mwrapper_args\u001b[0m \u001b[0;34m+\u001b[0m \u001b[0margs\u001b[0m\u001b[0;34m)\u001b[0m\u001b[0;34m)\u001b[0m\u001b[0;34m\u001b[0m\u001b[0m\n\u001b[0m\u001b[1;32m    293\u001b[0m \u001b[0;34m\u001b[0m\u001b[0m\n\u001b[1;32m    294\u001b[0m     \u001b[0;32mreturn\u001b[0m \u001b[0mncalls\u001b[0m\u001b[0;34m,\u001b[0m \u001b[0mfunction_wrapper\u001b[0m\u001b[0;34m\u001b[0m\u001b[0m\n",
      "\u001b[0;32m<ipython-input-101-7ae51c145c16>\u001b[0m in \u001b[0;36mf_one_direct\u001b[0;34m(y, l, lambd_, w, F_X, f_int_prod_matrix)\u001b[0m\n\u001b[1;32m      3\u001b[0m \u001b[0;32mdef\u001b[0m \u001b[0mf_one_direct\u001b[0m\u001b[0;34m(\u001b[0m\u001b[0my\u001b[0m\u001b[0;34m,\u001b[0m \u001b[0ml\u001b[0m\u001b[0;34m,\u001b[0m \u001b[0mlambd_\u001b[0m\u001b[0;34m,\u001b[0m \u001b[0mw\u001b[0m\u001b[0;34m,\u001b[0m \u001b[0mF_X\u001b[0m\u001b[0;34m,\u001b[0m \u001b[0mf_int_prod_matrix\u001b[0m\u001b[0;34m)\u001b[0m\u001b[0;34m:\u001b[0m\u001b[0;34m\u001b[0m\u001b[0m\n\u001b[1;32m      4\u001b[0m     \u001b[0mlambd_\u001b[0m\u001b[0;34m[\u001b[0m\u001b[0ml\u001b[0m\u001b[0;34m]\u001b[0m\u001b[0;34m=\u001b[0m\u001b[0my\u001b[0m\u001b[0;34m\u001b[0m\u001b[0m\n\u001b[0;32m----> 5\u001b[0;31m     \u001b[0;32mreturn\u001b[0m \u001b[0mf\u001b[0m\u001b[0;34m(\u001b[0m\u001b[0mlambd_\u001b[0m\u001b[0;34m,\u001b[0m \u001b[0mw\u001b[0m\u001b[0;34m)\u001b[0m\u001b[0;34m\u001b[0m\u001b[0m\n\u001b[0m\u001b[1;32m      6\u001b[0m \u001b[0;34m\u001b[0m\u001b[0m\n\u001b[1;32m      7\u001b[0m \u001b[0;32mdef\u001b[0m \u001b[0mf_grad_one_direct\u001b[0m\u001b[0;34m(\u001b[0m\u001b[0my\u001b[0m\u001b[0;34m,\u001b[0m \u001b[0ml\u001b[0m\u001b[0;34m,\u001b[0m \u001b[0mlambd_\u001b[0m\u001b[0;34m,\u001b[0m \u001b[0mw\u001b[0m\u001b[0;34m,\u001b[0m \u001b[0mF_X\u001b[0m\u001b[0;34m,\u001b[0m \u001b[0mF_int_prod_matrix\u001b[0m\u001b[0;34m)\u001b[0m\u001b[0;34m:\u001b[0m\u001b[0;34m\u001b[0m\u001b[0m\n",
      "\u001b[0;32m<ipython-input-80-65f818a12afa>\u001b[0m in \u001b[0;36mf\u001b[0;34m(lambd_, w)\u001b[0m\n\u001b[1;32m     32\u001b[0m \u001b[0;31m#@jit()\u001b[0m\u001b[0;34m\u001b[0m\u001b[0;34m\u001b[0m\u001b[0m\n\u001b[1;32m     33\u001b[0m \u001b[0;32mdef\u001b[0m \u001b[0mf\u001b[0m\u001b[0;34m(\u001b[0m\u001b[0mlambd_\u001b[0m\u001b[0;34m,\u001b[0m \u001b[0mw\u001b[0m\u001b[0;34m)\u001b[0m\u001b[0;34m:\u001b[0m\u001b[0;34m\u001b[0m\u001b[0m\n\u001b[0;32m---> 34\u001b[0;31m     \u001b[0;32mreturn\u001b[0m \u001b[0;34m-\u001b[0m\u001b[0;36m2.\u001b[0m\u001b[0;34m/\u001b[0m\u001b[0mX\u001b[0m\u001b[0;34m.\u001b[0m\u001b[0mshape\u001b[0m\u001b[0;34m[\u001b[0m\u001b[0;36m0\u001b[0m\u001b[0;34m]\u001b[0m\u001b[0;34m*\u001b[0m\u001b[0mF_X\u001b[0m\u001b[0;34m.\u001b[0m\u001b[0mdot\u001b[0m\u001b[0;34m(\u001b[0m\u001b[0mlambd_\u001b[0m\u001b[0;34m)\u001b[0m\u001b[0;34m.\u001b[0m\u001b[0msum\u001b[0m\u001b[0;34m(\u001b[0m\u001b[0;34m)\u001b[0m\u001b[0;34m+\u001b[0m\u001b[0mf_norm2\u001b[0m\u001b[0;34m(\u001b[0m\u001b[0mlambd_\u001b[0m\u001b[0;34m)\u001b[0m \u001b[0;34m+\u001b[0m \u001b[0mw\u001b[0m\u001b[0;34m*\u001b[0m\u001b[0mnp\u001b[0m\u001b[0;34m.\u001b[0m\u001b[0mlinalg\u001b[0m\u001b[0;34m.\u001b[0m\u001b[0mnorm\u001b[0m\u001b[0;34m(\u001b[0m\u001b[0mlambd_\u001b[0m\u001b[0;34m,\u001b[0m\u001b[0;36m1\u001b[0m\u001b[0;34m)\u001b[0m\u001b[0;34m\u001b[0m\u001b[0m\n\u001b[0m\u001b[1;32m     35\u001b[0m \u001b[0;34m\u001b[0m\u001b[0m\n\u001b[1;32m     36\u001b[0m \u001b[0;31m#grad for line search\u001b[0m\u001b[0;34m\u001b[0m\u001b[0;34m\u001b[0m\u001b[0m\n",
      "\u001b[0;32m<ipython-input-80-65f818a12afa>\u001b[0m in \u001b[0;36mf_norm2\u001b[0;34m(lambd_)\u001b[0m\n\u001b[1;32m     27\u001b[0m \u001b[0;34m\u001b[0m\u001b[0m\n\u001b[1;32m     28\u001b[0m \u001b[0;32mdef\u001b[0m \u001b[0mf_norm2\u001b[0m\u001b[0;34m(\u001b[0m\u001b[0mlambd_\u001b[0m\u001b[0;34m)\u001b[0m\u001b[0;34m:\u001b[0m\u001b[0;34m\u001b[0m\u001b[0m\n\u001b[0;32m---> 29\u001b[0;31m     \u001b[0;32mreturn\u001b[0m \u001b[0mintegrate\u001b[0m\u001b[0;34m.\u001b[0m\u001b[0mquad\u001b[0m\u001b[0;34m(\u001b[0m\u001b[0mnorm_2_integrand\u001b[0m\u001b[0;34m,\u001b[0m\u001b[0;34m-\u001b[0m\u001b[0mnp\u001b[0m\u001b[0;34m.\u001b[0m\u001b[0minf\u001b[0m\u001b[0;34m,\u001b[0m\u001b[0mnp\u001b[0m\u001b[0;34m.\u001b[0m\u001b[0minf\u001b[0m\u001b[0;34m,\u001b[0m\u001b[0margs\u001b[0m\u001b[0;34m=\u001b[0m\u001b[0mlambd_\u001b[0m\u001b[0;34m)\u001b[0m\u001b[0;34m[\u001b[0m\u001b[0;36m0\u001b[0m\u001b[0;34m]\u001b[0m\u001b[0;34m\u001b[0m\u001b[0m\n\u001b[0m\u001b[1;32m     30\u001b[0m \u001b[0;34m\u001b[0m\u001b[0m\n\u001b[1;32m     31\u001b[0m \u001b[0;31m#for line search\u001b[0m\u001b[0;34m\u001b[0m\u001b[0;34m\u001b[0m\u001b[0m\n",
      "\u001b[0;32m/usr/local/lib/python2.7/site-packages/scipy/integrate/quadpack.pyc\u001b[0m in \u001b[0;36mquad\u001b[0;34m(func, a, b, args, full_output, epsabs, epsrel, limit, points, weight, wvar, wopts, maxp1, limlst)\u001b[0m\n\u001b[1;32m    313\u001b[0m     \u001b[0;32mif\u001b[0m \u001b[0;34m(\u001b[0m\u001b[0mweight\u001b[0m \u001b[0;32mis\u001b[0m \u001b[0mNone\u001b[0m\u001b[0;34m)\u001b[0m\u001b[0;34m:\u001b[0m\u001b[0;34m\u001b[0m\u001b[0m\n\u001b[1;32m    314\u001b[0m         retval = _quad(func, a, b, args, full_output, epsabs, epsrel, limit,\n\u001b[0;32m--> 315\u001b[0;31m                        points)\n\u001b[0m\u001b[1;32m    316\u001b[0m     \u001b[0;32melse\u001b[0m\u001b[0;34m:\u001b[0m\u001b[0;34m\u001b[0m\u001b[0m\n\u001b[1;32m    317\u001b[0m         retval = _quad_weight(func, a, b, args, full_output, epsabs, epsrel,\n",
      "\u001b[0;32m/usr/local/lib/python2.7/site-packages/scipy/integrate/quadpack.pyc\u001b[0m in \u001b[0;36m_quad\u001b[0;34m(func, a, b, args, full_output, epsabs, epsrel, limit, points)\u001b[0m\n\u001b[1;32m    380\u001b[0m             \u001b[0;32mreturn\u001b[0m \u001b[0m_quadpack\u001b[0m\u001b[0;34m.\u001b[0m\u001b[0m_qagse\u001b[0m\u001b[0;34m(\u001b[0m\u001b[0mfunc\u001b[0m\u001b[0;34m,\u001b[0m\u001b[0ma\u001b[0m\u001b[0;34m,\u001b[0m\u001b[0mb\u001b[0m\u001b[0;34m,\u001b[0m\u001b[0margs\u001b[0m\u001b[0;34m,\u001b[0m\u001b[0mfull_output\u001b[0m\u001b[0;34m,\u001b[0m\u001b[0mepsabs\u001b[0m\u001b[0;34m,\u001b[0m\u001b[0mepsrel\u001b[0m\u001b[0;34m,\u001b[0m\u001b[0mlimit\u001b[0m\u001b[0;34m)\u001b[0m\u001b[0;34m\u001b[0m\u001b[0m\n\u001b[1;32m    381\u001b[0m         \u001b[0;32melse\u001b[0m\u001b[0;34m:\u001b[0m\u001b[0;34m\u001b[0m\u001b[0m\n\u001b[0;32m--> 382\u001b[0;31m             \u001b[0;32mreturn\u001b[0m \u001b[0m_quadpack\u001b[0m\u001b[0;34m.\u001b[0m\u001b[0m_qagie\u001b[0m\u001b[0;34m(\u001b[0m\u001b[0mfunc\u001b[0m\u001b[0;34m,\u001b[0m\u001b[0mbound\u001b[0m\u001b[0;34m,\u001b[0m\u001b[0minfbounds\u001b[0m\u001b[0;34m,\u001b[0m\u001b[0margs\u001b[0m\u001b[0;34m,\u001b[0m\u001b[0mfull_output\u001b[0m\u001b[0;34m,\u001b[0m\u001b[0mepsabs\u001b[0m\u001b[0;34m,\u001b[0m\u001b[0mepsrel\u001b[0m\u001b[0;34m,\u001b[0m\u001b[0mlimit\u001b[0m\u001b[0;34m)\u001b[0m\u001b[0;34m\u001b[0m\u001b[0m\n\u001b[0m\u001b[1;32m    383\u001b[0m     \u001b[0;32melse\u001b[0m\u001b[0;34m:\u001b[0m\u001b[0;34m\u001b[0m\u001b[0m\n\u001b[1;32m    384\u001b[0m         \u001b[0;32mif\u001b[0m \u001b[0minfbounds\u001b[0m \u001b[0;34m!=\u001b[0m \u001b[0;36m0\u001b[0m\u001b[0;34m:\u001b[0m\u001b[0;34m\u001b[0m\u001b[0m\n",
      "\u001b[0;32m<ipython-input-80-65f818a12afa>\u001b[0m in \u001b[0;36mnorm_2_integrand\u001b[0;34m(x, lambd_)\u001b[0m\n\u001b[1;32m     24\u001b[0m \u001b[0;31m#Evaluation of the norm2 of f_lambd\u001b[0m\u001b[0;34m\u001b[0m\u001b[0;34m\u001b[0m\u001b[0m\n\u001b[1;32m     25\u001b[0m \u001b[0;32mdef\u001b[0m \u001b[0mnorm_2_integrand\u001b[0m\u001b[0;34m(\u001b[0m\u001b[0mx\u001b[0m\u001b[0;34m,\u001b[0m\u001b[0mlambd_\u001b[0m\u001b[0;34m)\u001b[0m\u001b[0;34m:\u001b[0m\u001b[0;34m\u001b[0m\u001b[0m\n\u001b[0;32m---> 26\u001b[0;31m     \u001b[0;32mreturn\u001b[0m \u001b[0;34m(\u001b[0m\u001b[0mnp\u001b[0m\u001b[0;34m.\u001b[0m\u001b[0marray\u001b[0m\u001b[0;34m(\u001b[0m\u001b[0;34m[\u001b[0m\u001b[0md\u001b[0m\u001b[0;34m.\u001b[0m\u001b[0mpdf\u001b[0m\u001b[0;34m(\u001b[0m\u001b[0mx\u001b[0m\u001b[0;34m)\u001b[0m \u001b[0;32mfor\u001b[0m \u001b[0md\u001b[0m \u001b[0;32min\u001b[0m \u001b[0mdensities\u001b[0m\u001b[0;34m]\u001b[0m\u001b[0;34m)\u001b[0m\u001b[0;34m.\u001b[0m\u001b[0mdot\u001b[0m\u001b[0;34m(\u001b[0m\u001b[0mlambd_\u001b[0m\u001b[0;34m)\u001b[0m\u001b[0;34m)\u001b[0m\u001b[0;34m**\u001b[0m\u001b[0;36m2\u001b[0m\u001b[0;34m\u001b[0m\u001b[0m\n\u001b[0m\u001b[1;32m     27\u001b[0m \u001b[0;34m\u001b[0m\u001b[0m\n\u001b[1;32m     28\u001b[0m \u001b[0;32mdef\u001b[0m \u001b[0mf_norm2\u001b[0m\u001b[0;34m(\u001b[0m\u001b[0mlambd_\u001b[0m\u001b[0;34m)\u001b[0m\u001b[0;34m:\u001b[0m\u001b[0;34m\u001b[0m\u001b[0m\n",
      "\u001b[0;32m/usr/local/lib/python2.7/site-packages/scipy/stats/_multivariate.pyc\u001b[0m in \u001b[0;36mpdf\u001b[0;34m(self, x)\u001b[0m\n\u001b[1;32m    606\u001b[0m \u001b[0;34m\u001b[0m\u001b[0m\n\u001b[1;32m    607\u001b[0m     \u001b[0;32mdef\u001b[0m \u001b[0mpdf\u001b[0m\u001b[0;34m(\u001b[0m\u001b[0mself\u001b[0m\u001b[0;34m,\u001b[0m \u001b[0mx\u001b[0m\u001b[0;34m)\u001b[0m\u001b[0;34m:\u001b[0m\u001b[0;34m\u001b[0m\u001b[0m\n\u001b[0;32m--> 608\u001b[0;31m         \u001b[0;32mreturn\u001b[0m \u001b[0mnp\u001b[0m\u001b[0;34m.\u001b[0m\u001b[0mexp\u001b[0m\u001b[0;34m(\u001b[0m\u001b[0mself\u001b[0m\u001b[0;34m.\u001b[0m\u001b[0mlogpdf\u001b[0m\u001b[0;34m(\u001b[0m\u001b[0mx\u001b[0m\u001b[0;34m)\u001b[0m\u001b[0;34m)\u001b[0m\u001b[0;34m\u001b[0m\u001b[0m\n\u001b[0m\u001b[1;32m    609\u001b[0m \u001b[0;34m\u001b[0m\u001b[0m\n\u001b[1;32m    610\u001b[0m     \u001b[0;32mdef\u001b[0m \u001b[0mrvs\u001b[0m\u001b[0;34m(\u001b[0m\u001b[0mself\u001b[0m\u001b[0;34m,\u001b[0m \u001b[0msize\u001b[0m\u001b[0;34m=\u001b[0m\u001b[0;36m1\u001b[0m\u001b[0;34m,\u001b[0m \u001b[0mrandom_state\u001b[0m\u001b[0;34m=\u001b[0m\u001b[0mNone\u001b[0m\u001b[0;34m)\u001b[0m\u001b[0;34m:\u001b[0m\u001b[0;34m\u001b[0m\u001b[0m\n",
      "\u001b[0;32m/usr/local/lib/python2.7/site-packages/scipy/stats/_multivariate.pyc\u001b[0m in \u001b[0;36mlogpdf\u001b[0;34m(self, x)\u001b[0m\n\u001b[1;32m    602\u001b[0m         \u001b[0mx\u001b[0m \u001b[0;34m=\u001b[0m \u001b[0mself\u001b[0m\u001b[0;34m.\u001b[0m\u001b[0m_dist\u001b[0m\u001b[0;34m.\u001b[0m\u001b[0m_process_quantiles\u001b[0m\u001b[0;34m(\u001b[0m\u001b[0mx\u001b[0m\u001b[0;34m,\u001b[0m \u001b[0mself\u001b[0m\u001b[0;34m.\u001b[0m\u001b[0mdim\u001b[0m\u001b[0;34m)\u001b[0m\u001b[0;34m\u001b[0m\u001b[0m\n\u001b[1;32m    603\u001b[0m         out = self._dist._logpdf(x, self.mean, self.cov_info.U,\n\u001b[0;32m--> 604\u001b[0;31m                                  self.cov_info.log_pdet, self.cov_info.rank)\n\u001b[0m\u001b[1;32m    605\u001b[0m         \u001b[0;32mreturn\u001b[0m \u001b[0m_squeeze_output\u001b[0m\u001b[0;34m(\u001b[0m\u001b[0mout\u001b[0m\u001b[0;34m)\u001b[0m\u001b[0;34m\u001b[0m\u001b[0m\n\u001b[1;32m    606\u001b[0m \u001b[0;34m\u001b[0m\u001b[0m\n",
      "\u001b[0;32m/usr/local/lib/python2.7/site-packages/scipy/stats/_multivariate.pyc\u001b[0m in \u001b[0;36m_logpdf\u001b[0;34m(self, x, mean, prec_U, log_det_cov, rank)\u001b[0m\n\u001b[1;32m    451\u001b[0m         \"\"\"\n\u001b[1;32m    452\u001b[0m         \u001b[0mdev\u001b[0m \u001b[0;34m=\u001b[0m \u001b[0mx\u001b[0m \u001b[0;34m-\u001b[0m \u001b[0mmean\u001b[0m\u001b[0;34m\u001b[0m\u001b[0m\n\u001b[0;32m--> 453\u001b[0;31m         \u001b[0mmaha\u001b[0m \u001b[0;34m=\u001b[0m \u001b[0mnp\u001b[0m\u001b[0;34m.\u001b[0m\u001b[0msum\u001b[0m\u001b[0;34m(\u001b[0m\u001b[0mnp\u001b[0m\u001b[0;34m.\u001b[0m\u001b[0msquare\u001b[0m\u001b[0;34m(\u001b[0m\u001b[0mnp\u001b[0m\u001b[0;34m.\u001b[0m\u001b[0mdot\u001b[0m\u001b[0;34m(\u001b[0m\u001b[0mdev\u001b[0m\u001b[0;34m,\u001b[0m \u001b[0mprec_U\u001b[0m\u001b[0;34m)\u001b[0m\u001b[0;34m)\u001b[0m\u001b[0;34m,\u001b[0m \u001b[0maxis\u001b[0m\u001b[0;34m=\u001b[0m\u001b[0;34m-\u001b[0m\u001b[0;36m1\u001b[0m\u001b[0;34m)\u001b[0m\u001b[0;34m\u001b[0m\u001b[0m\n\u001b[0m\u001b[1;32m    454\u001b[0m         \u001b[0;32mreturn\u001b[0m \u001b[0;34m-\u001b[0m\u001b[0;36m0.5\u001b[0m \u001b[0;34m*\u001b[0m \u001b[0;34m(\u001b[0m\u001b[0mrank\u001b[0m \u001b[0;34m*\u001b[0m \u001b[0m_LOG_2PI\u001b[0m \u001b[0;34m+\u001b[0m \u001b[0mlog_det_cov\u001b[0m \u001b[0;34m+\u001b[0m \u001b[0mmaha\u001b[0m\u001b[0;34m)\u001b[0m\u001b[0;34m\u001b[0m\u001b[0m\n\u001b[1;32m    455\u001b[0m \u001b[0;34m\u001b[0m\u001b[0m\n",
      "\u001b[0;31mKeyboardInterrupt\u001b[0m: "
     ]
    }
   ],
   "source": [
    "non_zero_elemts(1, F_X, f_int_prod_matrix)"
   ]
  },
  {
   "cell_type": "code",
   "execution_count": 159,
   "metadata": {
    "collapsed": false
   },
   "outputs": [
    {
     "name": "stdout",
     "output_type": "stream",
     "text": [
      "iteration:  0 norm:  1.0\n",
      "iteration:  1 norm:  0.02\n",
      "iteration:  0 norm:  1.0\n",
      "iteration:  1 norm:  0.02\n",
      "iteration:  0 norm:  1.0\n"
     ]
    },
    {
     "ename": "SolverError",
     "evalue": "Solver 'ECOS' failed. Try another solver.",
     "output_type": "error",
     "traceback": [
      "\u001b[0;31m---------------------------------------------------------------------------\u001b[0m",
      "\u001b[0;31mSolverError\u001b[0m                               Traceback (most recent call last)",
      "\u001b[0;32m<ipython-input-159-eb9ed6518432>\u001b[0m in \u001b[0;36m<module>\u001b[0;34m()\u001b[0m\n\u001b[0;32m----> 1\u001b[0;31m \u001b[0mgbm\u001b[0m\u001b[0;34m(\u001b[0m\u001b[0mX\u001b[0m\u001b[0;34m,\u001b[0m \u001b[0mF_X\u001b[0m\u001b[0;34m,\u001b[0m\u001b[0mf_int_prod_matrix\u001b[0m\u001b[0;34m)\u001b[0m\u001b[0;34m\u001b[0m\u001b[0m\n\u001b[0m",
      "\u001b[0;32m<ipython-input-103-f6eb1a47ee64>\u001b[0m in \u001b[0;36mgbm\u001b[0;34m(X, F_X, f_int_prod_matrix, alpha)\u001b[0m\n\u001b[1;32m     19\u001b[0m             \u001b[0;32mprint\u001b[0m \u001b[0;34m\"put a,w\"\u001b[0m\u001b[0;34m,\u001b[0m\u001b[0ma\u001b[0m\u001b[0;34m,\u001b[0m\u001b[0mw\u001b[0m\u001b[0;34m\u001b[0m\u001b[0m\n\u001b[1;32m     20\u001b[0m             \u001b[0mq\u001b[0m\u001b[0;34m.\u001b[0m\u001b[0mput\u001b[0m\u001b[0;34m(\u001b[0m\u001b[0;34m(\u001b[0m\u001b[0ma\u001b[0m\u001b[0;34m,\u001b[0m\u001b[0mw\u001b[0m\u001b[0;34m)\u001b[0m\u001b[0;34m)\u001b[0m\u001b[0;34m\u001b[0m\u001b[0m\n\u001b[0;32m---> 21\u001b[0;31m         \u001b[0mt\u001b[0m \u001b[0;34m=\u001b[0m \u001b[0mnon_zero_elemts\u001b[0m\u001b[0;34m(\u001b[0m\u001b[0mb\u001b[0m\u001b[0;34m,\u001b[0m \u001b[0mF_X\u001b[0m\u001b[0;34m,\u001b[0m \u001b[0mf_int_prod_matrix\u001b[0m\u001b[0;34m)\u001b[0m\u001b[0;34m[\u001b[0m\u001b[0;36m0\u001b[0m\u001b[0;34m]\u001b[0m\u001b[0;34m\u001b[0m\u001b[0m\n\u001b[0m\u001b[1;32m     22\u001b[0m         \u001b[0;32mif\u001b[0m \u001b[0mnp\u001b[0m\u001b[0;34m.\u001b[0m\u001b[0mabs\u001b[0m\u001b[0;34m(\u001b[0m\u001b[0mt\u001b[0m\u001b[0;34m-\u001b[0m\u001b[0mk\u001b[0m\u001b[0;34m)\u001b[0m \u001b[0;34m>\u001b[0m \u001b[0;36m1\u001b[0m \u001b[0;32mand\u001b[0m \u001b[0mnp\u001b[0m\u001b[0;34m.\u001b[0m\u001b[0mabs\u001b[0m\u001b[0;34m(\u001b[0m\u001b[0mb\u001b[0m\u001b[0;34m-\u001b[0m\u001b[0mw\u001b[0m\u001b[0;34m)\u001b[0m \u001b[0;34m>\u001b[0m \u001b[0malpha\u001b[0m\u001b[0;34m:\u001b[0m\u001b[0;34m\u001b[0m\u001b[0m\n\u001b[1;32m     23\u001b[0m             \u001b[0;32mprint\u001b[0m \u001b[0;34m\"put b, w \"\u001b[0m\u001b[0;34m,\u001b[0m \u001b[0mb\u001b[0m\u001b[0;34m,\u001b[0m \u001b[0mw\u001b[0m\u001b[0;34m\u001b[0m\u001b[0m\n",
      "\u001b[0;32m<ipython-input-102-d1e388954e38>\u001b[0m in \u001b[0;36mnon_zero_elemts\u001b[0;34m(w, F_X, f_int_prod_matrix)\u001b[0m\n\u001b[1;32m      1\u001b[0m \u001b[0;32mdef\u001b[0m \u001b[0mnon_zero_elemts\u001b[0m\u001b[0;34m(\u001b[0m\u001b[0mw\u001b[0m\u001b[0;34m,\u001b[0m \u001b[0mF_X\u001b[0m\u001b[0;34m,\u001b[0m \u001b[0mf_int_prod_matrix\u001b[0m\u001b[0;34m)\u001b[0m\u001b[0;34m:\u001b[0m\u001b[0;34m\u001b[0m\u001b[0m\n\u001b[0;32m----> 2\u001b[0;31m     \u001b[0mlambd\u001b[0m \u001b[0;34m=\u001b[0m \u001b[0mspades\u001b[0m\u001b[0;34m(\u001b[0m\u001b[0mw\u001b[0m\u001b[0;34m,\u001b[0m \u001b[0mF_X\u001b[0m\u001b[0;34m,\u001b[0m \u001b[0mf_int_prod_matrix\u001b[0m\u001b[0;34m)\u001b[0m\u001b[0;34m\u001b[0m\u001b[0m\n\u001b[0m\u001b[1;32m      3\u001b[0m     \u001b[0;32mreturn\u001b[0m \u001b[0mlen\u001b[0m\u001b[0;34m(\u001b[0m\u001b[0mlambd\u001b[0m\u001b[0;34m[\u001b[0m\u001b[0mlambd\u001b[0m\u001b[0;34m>\u001b[0m\u001b[0;36m1e-10\u001b[0m\u001b[0;34m]\u001b[0m\u001b[0;34m)\u001b[0m\u001b[0;34m,\u001b[0m \u001b[0mlambd\u001b[0m\u001b[0;34m\u001b[0m\u001b[0m\n",
      "\u001b[0;32m<ipython-input-158-66e929073010>\u001b[0m in \u001b[0;36mspades\u001b[0;34m(w, F_X, f_int_prod_matrix)\u001b[0m\n\u001b[1;32m     16\u001b[0m             \u001b[0;32melse\u001b[0m\u001b[0;34m:\u001b[0m\u001b[0;34m\u001b[0m\u001b[0m\n\u001b[1;32m     17\u001b[0m                 \u001b[0;31m#lambd = min_direct_2(lambd, j, w, F_X, F_int_prod_matrix)\u001b[0m\u001b[0;34m\u001b[0m\u001b[0;34m\u001b[0m\u001b[0m\n\u001b[0;32m---> 18\u001b[0;31m                 \u001b[0mlambd\u001b[0m \u001b[0;34m=\u001b[0m \u001b[0mmin_direct\u001b[0m\u001b[0;34m(\u001b[0m\u001b[0mlambd\u001b[0m\u001b[0;34m,\u001b[0m \u001b[0mj\u001b[0m\u001b[0;34m,\u001b[0m \u001b[0mF_X\u001b[0m\u001b[0;34m,\u001b[0m \u001b[0mw\u001b[0m\u001b[0;34m)\u001b[0m\u001b[0;34m\u001b[0m\u001b[0m\n\u001b[0m\u001b[1;32m     19\u001b[0m         \u001b[0mit\u001b[0m\u001b[0;34m+=\u001b[0m\u001b[0;36m1\u001b[0m\u001b[0;34m\u001b[0m\u001b[0m\n\u001b[1;32m     20\u001b[0m     \u001b[0;32mreturn\u001b[0m \u001b[0mlambd\u001b[0m\u001b[0;34m\u001b[0m\u001b[0m\n",
      "\u001b[0;32m<ipython-input-154-c257a7abf991>\u001b[0m in \u001b[0;36mmin_direct\u001b[0;34m(lambd, l, F_X, w)\u001b[0m\n\u001b[1;32m     11\u001b[0m     \u001b[0mobjective\u001b[0m \u001b[0;34m=\u001b[0m \u001b[0mMinimize\u001b[0m\u001b[0;34m(\u001b[0m\u001b[0;34m-\u001b[0m\u001b[0;36m2.\u001b[0m\u001b[0;34m/\u001b[0m\u001b[0mF_X\u001b[0m\u001b[0;34m.\u001b[0m\u001b[0mshape\u001b[0m\u001b[0;34m[\u001b[0m\u001b[0;36m0\u001b[0m\u001b[0;34m]\u001b[0m\u001b[0;34m*\u001b[0m\u001b[0msum_entries\u001b[0m\u001b[0;34m(\u001b[0m\u001b[0mF_X\u001b[0m\u001b[0;34m*\u001b[0m\u001b[0mlambda_\u001b[0m\u001b[0;34m)\u001b[0m \u001b[0;34m+\u001b[0m \u001b[0mnorm2_f_sq\u001b[0m \u001b[0;34m+\u001b[0m \u001b[0;36m2\u001b[0m\u001b[0;34m*\u001b[0m\u001b[0mnorm1\u001b[0m\u001b[0;34m(\u001b[0m\u001b[0mw\u001b[0m\u001b[0;34m*\u001b[0m\u001b[0mlambda_\u001b[0m\u001b[0;34m)\u001b[0m \u001b[0;34m)\u001b[0m\u001b[0;34m\u001b[0m\u001b[0m\n\u001b[1;32m     12\u001b[0m     \u001b[0mprob\u001b[0m \u001b[0;34m=\u001b[0m \u001b[0mProblem\u001b[0m\u001b[0;34m(\u001b[0m\u001b[0mobjective\u001b[0m\u001b[0;34m,\u001b[0m\u001b[0mconstraints\u001b[0m\u001b[0;34m)\u001b[0m\u001b[0;34m\u001b[0m\u001b[0m\n\u001b[0;32m---> 13\u001b[0;31m     \u001b[0mprob\u001b[0m\u001b[0;34m.\u001b[0m\u001b[0msolve\u001b[0m\u001b[0;34m(\u001b[0m\u001b[0;34m)\u001b[0m\u001b[0;34m\u001b[0m\u001b[0m\n\u001b[0m\u001b[1;32m     14\u001b[0m     \u001b[0;32mreturn\u001b[0m \u001b[0mnp\u001b[0m\u001b[0;34m.\u001b[0m\u001b[0marray\u001b[0m\u001b[0;34m(\u001b[0m\u001b[0mlambda_\u001b[0m\u001b[0;34m.\u001b[0m\u001b[0mvalue\u001b[0m\u001b[0;34m)\u001b[0m\u001b[0;34m.\u001b[0m\u001b[0mreshape\u001b[0m\u001b[0;34m(\u001b[0m\u001b[0;36m1\u001b[0m\u001b[0;34m,\u001b[0m\u001b[0mK\u001b[0m\u001b[0;34m)\u001b[0m\u001b[0;34m[\u001b[0m\u001b[0;36m0\u001b[0m\u001b[0;34m]\u001b[0m\u001b[0;34m\u001b[0m\u001b[0m\n",
      "\u001b[0;32m/usr/local/lib/python2.7/site-packages/cvxpy/problems/problem.pyc\u001b[0m in \u001b[0;36msolve\u001b[0;34m(self, *args, **kwargs)\u001b[0m\n\u001b[1;32m    208\u001b[0m             \u001b[0;32mreturn\u001b[0m \u001b[0mfunc\u001b[0m\u001b[0;34m(\u001b[0m\u001b[0mself\u001b[0m\u001b[0;34m,\u001b[0m \u001b[0;34m*\u001b[0m\u001b[0margs\u001b[0m\u001b[0;34m,\u001b[0m \u001b[0;34m**\u001b[0m\u001b[0mkwargs\u001b[0m\u001b[0;34m)\u001b[0m\u001b[0;34m\u001b[0m\u001b[0m\n\u001b[1;32m    209\u001b[0m         \u001b[0;32melse\u001b[0m\u001b[0;34m:\u001b[0m\u001b[0;34m\u001b[0m\u001b[0m\n\u001b[0;32m--> 210\u001b[0;31m             \u001b[0;32mreturn\u001b[0m \u001b[0mself\u001b[0m\u001b[0;34m.\u001b[0m\u001b[0m_solve\u001b[0m\u001b[0;34m(\u001b[0m\u001b[0;34m*\u001b[0m\u001b[0margs\u001b[0m\u001b[0;34m,\u001b[0m \u001b[0;34m**\u001b[0m\u001b[0mkwargs\u001b[0m\u001b[0;34m)\u001b[0m\u001b[0;34m\u001b[0m\u001b[0m\n\u001b[0m\u001b[1;32m    211\u001b[0m \u001b[0;34m\u001b[0m\u001b[0m\n\u001b[1;32m    212\u001b[0m     \u001b[0;34m@\u001b[0m\u001b[0mclassmethod\u001b[0m\u001b[0;34m\u001b[0m\u001b[0m\n",
      "\u001b[0;32m/usr/local/lib/python2.7/site-packages/cvxpy/problems/problem.pyc\u001b[0m in \u001b[0;36m_solve\u001b[0;34m(self, solver, ignore_dcp, warm_start, verbose, parallel, **kwargs)\u001b[0m\n\u001b[1;32m    334\u001b[0m         \u001b[0;32melse\u001b[0m\u001b[0;34m:\u001b[0m\u001b[0;34m\u001b[0m\u001b[0m\n\u001b[1;32m    335\u001b[0m             \u001b[0mresults_dict\u001b[0m \u001b[0;34m=\u001b[0m \u001b[0;34m{\u001b[0m\u001b[0ms\u001b[0m\u001b[0;34m.\u001b[0m\u001b[0mSTATUS\u001b[0m\u001b[0;34m:\u001b[0m \u001b[0msym_data\u001b[0m\u001b[0;34m.\u001b[0m\u001b[0mpresolve_status\u001b[0m\u001b[0;34m}\u001b[0m\u001b[0;34m\u001b[0m\u001b[0m\n\u001b[0;32m--> 336\u001b[0;31m         \u001b[0mself\u001b[0m\u001b[0;34m.\u001b[0m\u001b[0m_update_problem_state\u001b[0m\u001b[0;34m(\u001b[0m\u001b[0mresults_dict\u001b[0m\u001b[0;34m,\u001b[0m \u001b[0msym_data\u001b[0m\u001b[0;34m,\u001b[0m \u001b[0msolver\u001b[0m\u001b[0;34m)\u001b[0m\u001b[0;34m\u001b[0m\u001b[0m\n\u001b[0m\u001b[1;32m    337\u001b[0m         \u001b[0;32mreturn\u001b[0m \u001b[0mself\u001b[0m\u001b[0;34m.\u001b[0m\u001b[0mvalue\u001b[0m\u001b[0;34m\u001b[0m\u001b[0m\n\u001b[1;32m    338\u001b[0m \u001b[0;34m\u001b[0m\u001b[0m\n",
      "\u001b[0;32m/usr/local/lib/python2.7/site-packages/cvxpy/problems/problem.pyc\u001b[0m in \u001b[0;36m_update_problem_state\u001b[0;34m(self, results_dict, sym_data, solver)\u001b[0m\n\u001b[1;32m    446\u001b[0m         \u001b[0;32melse\u001b[0m\u001b[0;34m:\u001b[0m\u001b[0;34m\u001b[0m\u001b[0m\n\u001b[1;32m    447\u001b[0m             raise SolverError(\n\u001b[0;32m--> 448\u001b[0;31m                 \"Solver '%s' failed. Try another solver.\" % solver.name())\n\u001b[0m\u001b[1;32m    449\u001b[0m         \u001b[0mself\u001b[0m\u001b[0;34m.\u001b[0m\u001b[0m_status\u001b[0m \u001b[0;34m=\u001b[0m \u001b[0mresults_dict\u001b[0m\u001b[0;34m[\u001b[0m\u001b[0ms\u001b[0m\u001b[0;34m.\u001b[0m\u001b[0mSTATUS\u001b[0m\u001b[0;34m]\u001b[0m\u001b[0;34m\u001b[0m\u001b[0m\n\u001b[1;32m    450\u001b[0m         \u001b[0mself\u001b[0m\u001b[0;34m.\u001b[0m\u001b[0m_solver_stats\u001b[0m \u001b[0;34m=\u001b[0m \u001b[0mSolverStats\u001b[0m\u001b[0;34m(\u001b[0m\u001b[0mresults_dict\u001b[0m\u001b[0;34m,\u001b[0m \u001b[0msolver\u001b[0m\u001b[0;34m.\u001b[0m\u001b[0mname\u001b[0m\u001b[0;34m(\u001b[0m\u001b[0;34m)\u001b[0m\u001b[0;34m)\u001b[0m\u001b[0;34m\u001b[0m\u001b[0m\n",
      "\u001b[0;31mSolverError\u001b[0m: Solver 'ECOS' failed. Try another solver."
     ]
    }
   ],
   "source": [
    "gbm(X, F_X,f_int_prod_matrix)"
   ]
  },
  {
   "cell_type": "code",
   "execution_count": 160,
   "metadata": {
    "collapsed": false
   },
   "outputs": [],
   "source": [
    "def D_comp(X, j, p):\n",
    "    mask = np.ones(X.shape, dtype=bool)\n",
    "    mask[X.shape[0]/p*j:X.shape[0]/p*(j+1)] = False\n",
    "    return X[mask]\n",
    "\n",
    "def weight_select_proc(X):\n",
    "    f_int_prod_matrix = F_int_prod_matrix()\n",
    "    p=10\n",
    "    #Dj\n",
    "    part_X = [X[X.shape[0]/p*i:X.shape[0]/p*(i+1)] for i in range(p)]\n",
    "    #we create D-j : D\\Dj\n",
    "    part_X_comp = [D_comp(X,l,p) for l in range(K)]\n",
    "    L = np.zeros([K,p])\n",
    "    #import pdb; pdb.set_trace()\n",
    "\n",
    "    for k in range(K):\n",
    "        for j in range(p):\n",
    "            F_X_j = F(part_X_comp[j])\n",
    "            w_k_j = gbm(part_X_comp[j], F_X_j, f_int_prod_matrix)\n",
    "            print w_k_j"
   ]
  },
  {
   "cell_type": "code",
   "execution_count": 165,
   "metadata": {
    "collapsed": false,
    "scrolled": false
   },
   "outputs": [
    {
     "name": "stdout",
     "output_type": "stream",
     "text": [
      "put b, w  0.0 50.0\n",
      "put b, w  0.0 25.0\n",
      "put b, w  0.0 12.5\n",
      "put b, w  0.0 6.25\n",
      "put b, w  0.0 3.125\n",
      "put b, w  0.0 1.5625\n",
      "put b, w  0.0 0.78125\n",
      "put a,w 0.78125 0.390625\n",
      "put b, w  0.0 0.390625\n",
      "put b, w  0.390625 0.5859375\n",
      "put b, w  0.0 0.1953125\n",
      "put a,w 0.5859375 0.48828125\n",
      "put b, w  0.390625 0.48828125\n",
      "put b, w  0.0 0.09765625\n",
      "put a,w 0.5859375 0.537109375\n",
      "put b, w  0.48828125 0.537109375\n",
      "put a,w 0.48828125 0.439453125\n",
      "put a,w 0.09765625 0.048828125\n",
      "put b, w  0.0 0.048828125\n",
      "put b, w  0.537109375 0.5615234375\n",
      "put b, w  0.48828125 0.5126953125\n",
      "put b, w  0.439453125 0.4638671875\n",
      "put a,w 0.09765625 0.0732421875\n",
      "put b, w  0.048828125 0.0732421875\n",
      "put b, w  0.0 0.0244140625\n",
      "put a,w 0.09765625 0.08544921875\n",
      "put b, w  0.0732421875 0.08544921875\n",
      "put a,w 0.0732421875 0.06103515625\n",
      "put b, w  0.048828125 0.06103515625\n",
      "put a,w 0.0244140625 0.01220703125\n",
      "[  1.00000000e+02   6.25000000e+00  -1.00000000e+00   1.56250000e+00\n",
      "  -1.00000000e+00   7.81250000e-01  -1.00000000e+00   5.85937500e-01\n",
      "  -1.00000000e+00   5.61523438e-01  -1.00000000e+00   5.37109375e-01\n",
      "   4.88281250e-01  -1.00000000e+00   3.90625000e-01   4.39453125e-01\n",
      "   1.95312500e-01   9.76562500e-02   6.10351562e-02   6.71386719e-02\n",
      "   4.88281250e-02   2.44140625e-02  -1.00000000e+00   1.83105469e-02\n",
      "  -1.00000000e+00   1.22070312e-02  -1.00000000e+00  -1.00000000e+00\n",
      "  -1.00000000e+00  -1.00000000e+00  -1.00000000e+00  -1.00000000e+00\n",
      "  -1.00000000e+00  -1.00000000e+00  -1.00000000e+00  -1.00000000e+00\n",
      "  -1.00000000e+00  -1.00000000e+00  -1.00000000e+00  -1.00000000e+00\n",
      "  -1.00000000e+00  -1.00000000e+00  -1.00000000e+00  -1.00000000e+00\n",
      "  -1.00000000e+00  -1.00000000e+00  -1.00000000e+00  -1.00000000e+00\n",
      "  -1.00000000e+00   0.00000000e+00]\n",
      "put b, w  0.0 50.0\n",
      "put b, w  0.0 25.0\n",
      "put b, w  0.0 12.5\n",
      "put b, w  0.0 6.25\n",
      "put b, w  0.0 3.125\n",
      "put b, w  0.0 1.5625\n",
      "put a,w 1.5625 0.78125\n",
      "put b, w  0.0 0.78125\n",
      "put b, w  0.78125 1.171875\n",
      "put a,w 0.78125 0.390625\n",
      "put b, w  0.0 0.390625\n",
      "put b, w  0.78125 0.9765625\n",
      "put b, w  0.390625 0.5859375\n",
      "put a,w 0.390625 0.1953125\n",
      "put b, w  0.0 0.1953125\n",
      "put b, w  0.78125 0.87890625\n",
      "put b, w  0.390625 0.48828125\n",
      "put a,w 0.390625 0.29296875\n",
      "put a,w 0.1953125 0.09765625\n",
      "put b, w  0.0 0.09765625\n",
      "put b, w  0.78125 0.830078125\n",
      "put a,w 0.48828125 0.439453125\n",
      "put b, w  0.390625 0.439453125\n",
      "put a,w 0.390625 0.341796875\n",
      "put a,w 0.1953125 0.146484375\n",
      "put a,w 0.09765625 0.048828125\n",
      "put b, w  0.0 0.048828125\n",
      "put b, w  0.78125 0.8056640625\n",
      "put a,w 0.48828125 0.4638671875\n",
      "put a,w 0.439453125 0.4150390625\n",
      "put b, w  0.390625 0.4150390625\n",
      "put a,w 0.390625 0.3662109375\n",
      "put b, w  0.146484375 0.1708984375\n",
      "put a,w 0.09765625 0.0732421875\n",
      "put b, w  0.048828125 0.0732421875\n",
      "put a,w 0.048828125 0.0244140625\n"
     ]
    },
    {
     "ename": "KeyboardInterrupt",
     "evalue": "",
     "output_type": "error",
     "traceback": [
      "\u001b[0;31m---------------------------------------------------------------------------\u001b[0m",
      "\u001b[0;31mKeyboardInterrupt\u001b[0m                         Traceback (most recent call last)",
      "\u001b[0;32m<ipython-input-165-3357a4a16b81>\u001b[0m in \u001b[0;36m<module>\u001b[0;34m()\u001b[0m\n\u001b[0;32m----> 1\u001b[0;31m \u001b[0ma\u001b[0m \u001b[0;34m=\u001b[0m \u001b[0mweight_select_proc\u001b[0m\u001b[0;34m(\u001b[0m\u001b[0mX\u001b[0m\u001b[0;34m)\u001b[0m\u001b[0;34m\u001b[0m\u001b[0m\n\u001b[0m",
      "\u001b[0;32m<ipython-input-160-bfd67fef7cc4>\u001b[0m in \u001b[0;36mweight_select_proc\u001b[0;34m(X)\u001b[0m\n\u001b[1;32m     17\u001b[0m         \u001b[0;32mfor\u001b[0m \u001b[0mj\u001b[0m \u001b[0;32min\u001b[0m \u001b[0mrange\u001b[0m\u001b[0;34m(\u001b[0m\u001b[0mp\u001b[0m\u001b[0;34m)\u001b[0m\u001b[0;34m:\u001b[0m\u001b[0;34m\u001b[0m\u001b[0m\n\u001b[1;32m     18\u001b[0m             \u001b[0mF_X_j\u001b[0m \u001b[0;34m=\u001b[0m \u001b[0mF\u001b[0m\u001b[0;34m(\u001b[0m\u001b[0mpart_X_comp\u001b[0m\u001b[0;34m[\u001b[0m\u001b[0mj\u001b[0m\u001b[0;34m]\u001b[0m\u001b[0;34m)\u001b[0m\u001b[0;34m\u001b[0m\u001b[0m\n\u001b[0;32m---> 19\u001b[0;31m             \u001b[0mw_k_j\u001b[0m \u001b[0;34m=\u001b[0m \u001b[0mgbm\u001b[0m\u001b[0;34m(\u001b[0m\u001b[0mpart_X_comp\u001b[0m\u001b[0;34m[\u001b[0m\u001b[0mj\u001b[0m\u001b[0;34m]\u001b[0m\u001b[0;34m,\u001b[0m \u001b[0mF_X_j\u001b[0m\u001b[0;34m,\u001b[0m \u001b[0mf_int_prod_matrix\u001b[0m\u001b[0;34m)\u001b[0m\u001b[0;34m\u001b[0m\u001b[0m\n\u001b[0m\u001b[1;32m     20\u001b[0m             \u001b[0;32mprint\u001b[0m \u001b[0mw_k_j\u001b[0m\u001b[0;34m\u001b[0m\u001b[0m\n",
      "\u001b[0;32m<ipython-input-103-f6eb1a47ee64>\u001b[0m in \u001b[0;36mgbm\u001b[0;34m(X, F_X, f_int_prod_matrix, alpha)\u001b[0m\n\u001b[1;32m     19\u001b[0m             \u001b[0;32mprint\u001b[0m \u001b[0;34m\"put a,w\"\u001b[0m\u001b[0;34m,\u001b[0m\u001b[0ma\u001b[0m\u001b[0;34m,\u001b[0m\u001b[0mw\u001b[0m\u001b[0;34m\u001b[0m\u001b[0m\n\u001b[1;32m     20\u001b[0m             \u001b[0mq\u001b[0m\u001b[0;34m.\u001b[0m\u001b[0mput\u001b[0m\u001b[0;34m(\u001b[0m\u001b[0;34m(\u001b[0m\u001b[0ma\u001b[0m\u001b[0;34m,\u001b[0m\u001b[0mw\u001b[0m\u001b[0;34m)\u001b[0m\u001b[0;34m)\u001b[0m\u001b[0;34m\u001b[0m\u001b[0m\n\u001b[0;32m---> 21\u001b[0;31m         \u001b[0mt\u001b[0m \u001b[0;34m=\u001b[0m \u001b[0mnon_zero_elemts\u001b[0m\u001b[0;34m(\u001b[0m\u001b[0mb\u001b[0m\u001b[0;34m,\u001b[0m \u001b[0mF_X\u001b[0m\u001b[0;34m,\u001b[0m \u001b[0mf_int_prod_matrix\u001b[0m\u001b[0;34m)\u001b[0m\u001b[0;34m[\u001b[0m\u001b[0;36m0\u001b[0m\u001b[0;34m]\u001b[0m\u001b[0;34m\u001b[0m\u001b[0m\n\u001b[0m\u001b[1;32m     22\u001b[0m         \u001b[0;32mif\u001b[0m \u001b[0mnp\u001b[0m\u001b[0;34m.\u001b[0m\u001b[0mabs\u001b[0m\u001b[0;34m(\u001b[0m\u001b[0mt\u001b[0m\u001b[0;34m-\u001b[0m\u001b[0mk\u001b[0m\u001b[0;34m)\u001b[0m \u001b[0;34m>\u001b[0m \u001b[0;36m1\u001b[0m \u001b[0;32mand\u001b[0m \u001b[0mnp\u001b[0m\u001b[0;34m.\u001b[0m\u001b[0mabs\u001b[0m\u001b[0;34m(\u001b[0m\u001b[0mb\u001b[0m\u001b[0;34m-\u001b[0m\u001b[0mw\u001b[0m\u001b[0;34m)\u001b[0m \u001b[0;34m>\u001b[0m \u001b[0malpha\u001b[0m\u001b[0;34m:\u001b[0m\u001b[0;34m\u001b[0m\u001b[0m\n\u001b[1;32m     23\u001b[0m             \u001b[0;32mprint\u001b[0m \u001b[0;34m\"put b, w \"\u001b[0m\u001b[0;34m,\u001b[0m \u001b[0mb\u001b[0m\u001b[0;34m,\u001b[0m \u001b[0mw\u001b[0m\u001b[0;34m\u001b[0m\u001b[0m\n",
      "\u001b[0;32m<ipython-input-102-d1e388954e38>\u001b[0m in \u001b[0;36mnon_zero_elemts\u001b[0;34m(w, F_X, f_int_prod_matrix)\u001b[0m\n\u001b[1;32m      1\u001b[0m \u001b[0;32mdef\u001b[0m \u001b[0mnon_zero_elemts\u001b[0m\u001b[0;34m(\u001b[0m\u001b[0mw\u001b[0m\u001b[0;34m,\u001b[0m \u001b[0mF_X\u001b[0m\u001b[0;34m,\u001b[0m \u001b[0mf_int_prod_matrix\u001b[0m\u001b[0;34m)\u001b[0m\u001b[0;34m:\u001b[0m\u001b[0;34m\u001b[0m\u001b[0m\n\u001b[0;32m----> 2\u001b[0;31m     \u001b[0mlambd\u001b[0m \u001b[0;34m=\u001b[0m \u001b[0mspades\u001b[0m\u001b[0;34m(\u001b[0m\u001b[0mw\u001b[0m\u001b[0;34m,\u001b[0m \u001b[0mF_X\u001b[0m\u001b[0;34m,\u001b[0m \u001b[0mf_int_prod_matrix\u001b[0m\u001b[0;34m)\u001b[0m\u001b[0;34m\u001b[0m\u001b[0m\n\u001b[0m\u001b[1;32m      3\u001b[0m     \u001b[0;32mreturn\u001b[0m \u001b[0mlen\u001b[0m\u001b[0;34m(\u001b[0m\u001b[0mlambd\u001b[0m\u001b[0;34m[\u001b[0m\u001b[0mlambd\u001b[0m\u001b[0;34m>\u001b[0m\u001b[0;36m1e-10\u001b[0m\u001b[0;34m]\u001b[0m\u001b[0;34m)\u001b[0m\u001b[0;34m,\u001b[0m \u001b[0mlambd\u001b[0m\u001b[0;34m\u001b[0m\u001b[0m\n",
      "\u001b[0;32m<ipython-input-162-c5f730a71dd7>\u001b[0m in \u001b[0;36mspades\u001b[0;34m(w, F_X, f_int_prod_matrix)\u001b[0m\n\u001b[1;32m     16\u001b[0m             \u001b[0;32melse\u001b[0m\u001b[0;34m:\u001b[0m\u001b[0;34m\u001b[0m\u001b[0m\n\u001b[1;32m     17\u001b[0m                 \u001b[0;31m#lambd = min_direct_2(lambd, j, w, F_X, F_int_prod_matrix)\u001b[0m\u001b[0;34m\u001b[0m\u001b[0;34m\u001b[0m\u001b[0m\n\u001b[0;32m---> 18\u001b[0;31m                 \u001b[0mlambd\u001b[0m \u001b[0;34m=\u001b[0m \u001b[0mmin_direct\u001b[0m\u001b[0;34m(\u001b[0m\u001b[0mlambd\u001b[0m\u001b[0;34m,\u001b[0m \u001b[0mj\u001b[0m\u001b[0;34m,\u001b[0m \u001b[0mF_X\u001b[0m\u001b[0;34m,\u001b[0m \u001b[0mw\u001b[0m\u001b[0;34m)\u001b[0m\u001b[0;34m\u001b[0m\u001b[0m\n\u001b[0m\u001b[1;32m     19\u001b[0m         \u001b[0mit\u001b[0m\u001b[0;34m+=\u001b[0m\u001b[0;36m1\u001b[0m\u001b[0;34m\u001b[0m\u001b[0m\n\u001b[1;32m     20\u001b[0m     \u001b[0;32mreturn\u001b[0m \u001b[0mlambd\u001b[0m\u001b[0;34m\u001b[0m\u001b[0m\n",
      "\u001b[0;32m<ipython-input-154-c257a7abf991>\u001b[0m in \u001b[0;36mmin_direct\u001b[0;34m(lambd, l, F_X, w)\u001b[0m\n\u001b[1;32m     11\u001b[0m     \u001b[0mobjective\u001b[0m \u001b[0;34m=\u001b[0m \u001b[0mMinimize\u001b[0m\u001b[0;34m(\u001b[0m\u001b[0;34m-\u001b[0m\u001b[0;36m2.\u001b[0m\u001b[0;34m/\u001b[0m\u001b[0mF_X\u001b[0m\u001b[0;34m.\u001b[0m\u001b[0mshape\u001b[0m\u001b[0;34m[\u001b[0m\u001b[0;36m0\u001b[0m\u001b[0;34m]\u001b[0m\u001b[0;34m*\u001b[0m\u001b[0msum_entries\u001b[0m\u001b[0;34m(\u001b[0m\u001b[0mF_X\u001b[0m\u001b[0;34m*\u001b[0m\u001b[0mlambda_\u001b[0m\u001b[0;34m)\u001b[0m \u001b[0;34m+\u001b[0m \u001b[0mnorm2_f_sq\u001b[0m \u001b[0;34m+\u001b[0m \u001b[0;36m2\u001b[0m\u001b[0;34m*\u001b[0m\u001b[0mnorm1\u001b[0m\u001b[0;34m(\u001b[0m\u001b[0mw\u001b[0m\u001b[0;34m*\u001b[0m\u001b[0mlambda_\u001b[0m\u001b[0;34m)\u001b[0m \u001b[0;34m)\u001b[0m\u001b[0;34m\u001b[0m\u001b[0m\n\u001b[1;32m     12\u001b[0m     \u001b[0mprob\u001b[0m \u001b[0;34m=\u001b[0m \u001b[0mProblem\u001b[0m\u001b[0;34m(\u001b[0m\u001b[0mobjective\u001b[0m\u001b[0;34m,\u001b[0m\u001b[0mconstraints\u001b[0m\u001b[0;34m)\u001b[0m\u001b[0;34m\u001b[0m\u001b[0m\n\u001b[0;32m---> 13\u001b[0;31m     \u001b[0mprob\u001b[0m\u001b[0;34m.\u001b[0m\u001b[0msolve\u001b[0m\u001b[0;34m(\u001b[0m\u001b[0;34m)\u001b[0m\u001b[0;34m\u001b[0m\u001b[0m\n\u001b[0m\u001b[1;32m     14\u001b[0m     \u001b[0;32mreturn\u001b[0m \u001b[0mnp\u001b[0m\u001b[0;34m.\u001b[0m\u001b[0marray\u001b[0m\u001b[0;34m(\u001b[0m\u001b[0mlambda_\u001b[0m\u001b[0;34m.\u001b[0m\u001b[0mvalue\u001b[0m\u001b[0;34m)\u001b[0m\u001b[0;34m.\u001b[0m\u001b[0mreshape\u001b[0m\u001b[0;34m(\u001b[0m\u001b[0;36m1\u001b[0m\u001b[0;34m,\u001b[0m\u001b[0mK\u001b[0m\u001b[0;34m)\u001b[0m\u001b[0;34m[\u001b[0m\u001b[0;36m0\u001b[0m\u001b[0;34m]\u001b[0m\u001b[0;34m\u001b[0m\u001b[0m\n",
      "\u001b[0;32m/usr/local/lib/python2.7/site-packages/cvxpy/problems/problem.pyc\u001b[0m in \u001b[0;36msolve\u001b[0;34m(self, *args, **kwargs)\u001b[0m\n\u001b[1;32m    208\u001b[0m             \u001b[0;32mreturn\u001b[0m \u001b[0mfunc\u001b[0m\u001b[0;34m(\u001b[0m\u001b[0mself\u001b[0m\u001b[0;34m,\u001b[0m \u001b[0;34m*\u001b[0m\u001b[0margs\u001b[0m\u001b[0;34m,\u001b[0m \u001b[0;34m**\u001b[0m\u001b[0mkwargs\u001b[0m\u001b[0;34m)\u001b[0m\u001b[0;34m\u001b[0m\u001b[0m\n\u001b[1;32m    209\u001b[0m         \u001b[0;32melse\u001b[0m\u001b[0;34m:\u001b[0m\u001b[0;34m\u001b[0m\u001b[0m\n\u001b[0;32m--> 210\u001b[0;31m             \u001b[0;32mreturn\u001b[0m \u001b[0mself\u001b[0m\u001b[0;34m.\u001b[0m\u001b[0m_solve\u001b[0m\u001b[0;34m(\u001b[0m\u001b[0;34m*\u001b[0m\u001b[0margs\u001b[0m\u001b[0;34m,\u001b[0m \u001b[0;34m**\u001b[0m\u001b[0mkwargs\u001b[0m\u001b[0;34m)\u001b[0m\u001b[0;34m\u001b[0m\u001b[0m\n\u001b[0m\u001b[1;32m    211\u001b[0m \u001b[0;34m\u001b[0m\u001b[0m\n\u001b[1;32m    212\u001b[0m     \u001b[0;34m@\u001b[0m\u001b[0mclassmethod\u001b[0m\u001b[0;34m\u001b[0m\u001b[0m\n",
      "\u001b[0;32m/usr/local/lib/python2.7/site-packages/cvxpy/problems/problem.pyc\u001b[0m in \u001b[0;36m_solve\u001b[0;34m(self, solver, ignore_dcp, warm_start, verbose, parallel, **kwargs)\u001b[0m\n\u001b[1;32m    330\u001b[0m             results_dict = solver.solve(objective, constraints,\n\u001b[1;32m    331\u001b[0m                                         \u001b[0mself\u001b[0m\u001b[0;34m.\u001b[0m\u001b[0m_cached_data\u001b[0m\u001b[0;34m,\u001b[0m \u001b[0mwarm_start\u001b[0m\u001b[0;34m,\u001b[0m \u001b[0mverbose\u001b[0m\u001b[0;34m,\u001b[0m\u001b[0;34m\u001b[0m\u001b[0m\n\u001b[0;32m--> 332\u001b[0;31m                                         kwargs)\n\u001b[0m\u001b[1;32m    333\u001b[0m         \u001b[0;31m# Presolve determined problem was unbounded or infeasible.\u001b[0m\u001b[0;34m\u001b[0m\u001b[0;34m\u001b[0m\u001b[0m\n\u001b[1;32m    334\u001b[0m         \u001b[0;32melse\u001b[0m\u001b[0;34m:\u001b[0m\u001b[0;34m\u001b[0m\u001b[0m\n",
      "\u001b[0;32m/usr/local/lib/python2.7/site-packages/cvxpy/problems/solvers/ecos_intf.pyc\u001b[0m in \u001b[0;36msolve\u001b[0;34m(self, objective, constraints, cached_data, warm_start, verbose, solver_opts)\u001b[0m\n\u001b[1;32m    119\u001b[0m         \"\"\"\n\u001b[1;32m    120\u001b[0m         \u001b[0;32mimport\u001b[0m \u001b[0mecos\u001b[0m\u001b[0;34m\u001b[0m\u001b[0m\n\u001b[0;32m--> 121\u001b[0;31m         \u001b[0mdata\u001b[0m \u001b[0;34m=\u001b[0m \u001b[0mself\u001b[0m\u001b[0;34m.\u001b[0m\u001b[0mget_problem_data\u001b[0m\u001b[0;34m(\u001b[0m\u001b[0mobjective\u001b[0m\u001b[0;34m,\u001b[0m \u001b[0mconstraints\u001b[0m\u001b[0;34m,\u001b[0m \u001b[0mcached_data\u001b[0m\u001b[0;34m)\u001b[0m\u001b[0;34m\u001b[0m\u001b[0m\n\u001b[0m\u001b[1;32m    122\u001b[0m         \u001b[0mdata\u001b[0m\u001b[0;34m[\u001b[0m\u001b[0ms\u001b[0m\u001b[0;34m.\u001b[0m\u001b[0mDIMS\u001b[0m\u001b[0;34m]\u001b[0m\u001b[0;34m[\u001b[0m\u001b[0;34m'e'\u001b[0m\u001b[0;34m]\u001b[0m \u001b[0;34m=\u001b[0m \u001b[0mdata\u001b[0m\u001b[0;34m[\u001b[0m\u001b[0ms\u001b[0m\u001b[0;34m.\u001b[0m\u001b[0mDIMS\u001b[0m\u001b[0;34m]\u001b[0m\u001b[0;34m[\u001b[0m\u001b[0ms\u001b[0m\u001b[0;34m.\u001b[0m\u001b[0mEXP_DIM\u001b[0m\u001b[0;34m]\u001b[0m\u001b[0;34m\u001b[0m\u001b[0m\n\u001b[1;32m    123\u001b[0m         results_dict = ecos.solve(data[s.C], data[s.G], data[s.H],\n",
      "\u001b[0;32m/usr/local/lib/python2.7/site-packages/cvxpy/problems/solvers/solver.pyc\u001b[0m in \u001b[0;36mget_problem_data\u001b[0;34m(self, objective, constraints, cached_data)\u001b[0m\n\u001b[1;32m    229\u001b[0m         \u001b[0msym_data\u001b[0m \u001b[0;34m=\u001b[0m \u001b[0mself\u001b[0m\u001b[0;34m.\u001b[0m\u001b[0mget_sym_data\u001b[0m\u001b[0;34m(\u001b[0m\u001b[0mobjective\u001b[0m\u001b[0;34m,\u001b[0m \u001b[0mconstraints\u001b[0m\u001b[0;34m,\u001b[0m \u001b[0mcached_data\u001b[0m\u001b[0;34m)\u001b[0m\u001b[0;34m\u001b[0m\u001b[0m\n\u001b[1;32m    230\u001b[0m         matrix_data = self.get_matrix_data(objective, constraints,\n\u001b[0;32m--> 231\u001b[0;31m                                            cached_data)\n\u001b[0m\u001b[1;32m    232\u001b[0m         \u001b[0mdata\u001b[0m \u001b[0;34m=\u001b[0m \u001b[0;34m{\u001b[0m\u001b[0;34m}\u001b[0m\u001b[0;34m\u001b[0m\u001b[0m\n\u001b[1;32m    233\u001b[0m         \u001b[0mdata\u001b[0m\u001b[0;34m[\u001b[0m\u001b[0ms\u001b[0m\u001b[0;34m.\u001b[0m\u001b[0mC\u001b[0m\u001b[0;34m]\u001b[0m\u001b[0;34m,\u001b[0m \u001b[0mdata\u001b[0m\u001b[0;34m[\u001b[0m\u001b[0ms\u001b[0m\u001b[0;34m.\u001b[0m\u001b[0mOFFSET\u001b[0m\u001b[0;34m]\u001b[0m \u001b[0;34m=\u001b[0m \u001b[0mmatrix_data\u001b[0m\u001b[0;34m.\u001b[0m\u001b[0mget_objective\u001b[0m\u001b[0;34m(\u001b[0m\u001b[0;34m)\u001b[0m\u001b[0;34m\u001b[0m\u001b[0m\n",
      "\u001b[0;32m/usr/local/lib/python2.7/site-packages/cvxpy/problems/solvers/solver.pyc\u001b[0m in \u001b[0;36mget_matrix_data\u001b[0;34m(self, objective, constraints, cached_data)\u001b[0m\n\u001b[1;32m    207\u001b[0m                                                \u001b[0mself\u001b[0m\u001b[0;34m.\u001b[0m\u001b[0mvec_intf\u001b[0m\u001b[0;34m(\u001b[0m\u001b[0;34m)\u001b[0m\u001b[0;34m,\u001b[0m\u001b[0;34m\u001b[0m\u001b[0m\n\u001b[1;32m    208\u001b[0m                                                \u001b[0mself\u001b[0m\u001b[0;34m,\u001b[0m\u001b[0;34m\u001b[0m\u001b[0m\n\u001b[0;32m--> 209\u001b[0;31m                                                self.nonlin_constr())\n\u001b[0m\u001b[1;32m    210\u001b[0m         \u001b[0;32mreturn\u001b[0m \u001b[0mprob_data\u001b[0m\u001b[0;34m.\u001b[0m\u001b[0mmatrix_data\u001b[0m\u001b[0;34m\u001b[0m\u001b[0m\n\u001b[1;32m    211\u001b[0m \u001b[0;34m\u001b[0m\u001b[0m\n",
      "\u001b[0;32m/usr/local/lib/python2.7/site-packages/cvxpy/problems/problem_data/matrix_data.pyc\u001b[0m in \u001b[0;36m__init__\u001b[0;34m(self, sym_data, matrix_intf, vec_intf, solver, nonlin)\u001b[0m\n\u001b[1;32m     91\u001b[0m         self.ineq_cache = self._init_matrix_cache(ineq_constr,\n\u001b[1;32m     92\u001b[0m                                                   self.sym_data.x_length)\n\u001b[0;32m---> 93\u001b[0;31m         \u001b[0mself\u001b[0m\u001b[0;34m.\u001b[0m\u001b[0m_lin_matrix\u001b[0m\u001b[0;34m(\u001b[0m\u001b[0mself\u001b[0m\u001b[0;34m.\u001b[0m\u001b[0mineq_cache\u001b[0m\u001b[0;34m,\u001b[0m \u001b[0mcaching\u001b[0m\u001b[0;34m=\u001b[0m\u001b[0mTrue\u001b[0m\u001b[0;34m)\u001b[0m\u001b[0;34m\u001b[0m\u001b[0m\n\u001b[0m\u001b[1;32m     94\u001b[0m         \u001b[0;31m# Nonlinear constraints.\u001b[0m\u001b[0;34m\u001b[0m\u001b[0;34m\u001b[0m\u001b[0m\n\u001b[1;32m     95\u001b[0m         \u001b[0;32mif\u001b[0m \u001b[0mnonlin\u001b[0m\u001b[0;34m:\u001b[0m\u001b[0;34m\u001b[0m\u001b[0m\n",
      "\u001b[0;32m/usr/local/lib/python2.7/site-packages/cvxpy/problems/problem_data/matrix_data.pyc\u001b[0m in \u001b[0;36m_lin_matrix\u001b[0;34m(self, mat_cache, caching)\u001b[0m\n\u001b[1;32m    182\u001b[0m                 \u001b[0mactive_constr\u001b[0m\u001b[0;34m,\u001b[0m\u001b[0;34m\u001b[0m\u001b[0m\n\u001b[1;32m    183\u001b[0m                 \u001b[0mself\u001b[0m\u001b[0;34m.\u001b[0m\u001b[0msym_data\u001b[0m\u001b[0;34m.\u001b[0m\u001b[0mvar_offsets\u001b[0m\u001b[0;34m,\u001b[0m\u001b[0;34m\u001b[0m\u001b[0m\n\u001b[0;32m--> 184\u001b[0;31m                 \u001b[0mconstr_offsets\u001b[0m\u001b[0;34m\u001b[0m\u001b[0m\n\u001b[0m\u001b[1;32m    185\u001b[0m             )\n\u001b[1;32m    186\u001b[0m             \u001b[0;31m# Convert the constant offset to the correct data type.\u001b[0m\u001b[0;34m\u001b[0m\u001b[0;34m\u001b[0m\u001b[0m\n",
      "\u001b[0;32m/usr/local/lib/python2.7/site-packages/canonInterface.pyc\u001b[0m in \u001b[0;36mget_problem_matrix\u001b[0;34m(constrs, id_to_col, constr_offsets)\u001b[0m\n\u001b[1;32m     62\u001b[0m             \u001b[0mconstr_offsets_C\u001b[0m\u001b[0;34m.\u001b[0m\u001b[0mpush_back\u001b[0m\u001b[0;34m(\u001b[0m\u001b[0mint\u001b[0m\u001b[0;34m(\u001b[0m\u001b[0moffset\u001b[0m\u001b[0;34m)\u001b[0m\u001b[0;34m)\u001b[0m\u001b[0;34m\u001b[0m\u001b[0m\n\u001b[1;32m     63\u001b[0m         problemData = CVXcanon.build_matrix(lin_vec, id_to_col_C,\n\u001b[0;32m---> 64\u001b[0;31m                                             constr_offsets_C)\n\u001b[0m\u001b[1;32m     65\u001b[0m \u001b[0;34m\u001b[0m\u001b[0m\n\u001b[1;32m     66\u001b[0m     \u001b[0;31m# Unpacking\u001b[0m\u001b[0;34m\u001b[0m\u001b[0;34m\u001b[0m\u001b[0m\n",
      "\u001b[0;31mKeyboardInterrupt\u001b[0m: "
     ]
    }
   ],
   "source": [
    "a = weight_select_proc(X)"
   ]
  },
  {
   "cell_type": "code",
   "execution_count": 46,
   "metadata": {
    "collapsed": false
   },
   "outputs": [
    {
     "ename": "SyntaxError",
     "evalue": "invalid syntax (<ipython-input-46-ef8ce26d37fb>, line 1)",
     "output_type": "error",
     "traceback": [
      "\u001b[0;36m  File \u001b[0;32m\"<ipython-input-46-ef8ce26d37fb>\"\u001b[0;36m, line \u001b[0;32m1\u001b[0m\n\u001b[0;31m    X[np.ones(X.shape, dtype=bool)[X.shape[0]/10*3:X.shape[0]/10*(3+1)] = False]\u001b[0m\n\u001b[0m                                                                        ^\u001b[0m\n\u001b[0;31mSyntaxError\u001b[0m\u001b[0;31m:\u001b[0m invalid syntax\n"
     ]
    }
   ],
   "source": [
    "mask = np.ones(X.shape, dtype=bool)\n",
    "mask[X.shape[0]/10*3:X.shape[0]/10*(3+1)] = False\n",
    "X[mask]"
   ]
  },
  {
   "cell_type": "code",
   "execution_count": 50,
   "metadata": {
    "collapsed": false
   },
   "outputs": [
    {
     "data": {
      "text/plain": [
       "1"
      ]
     },
     "execution_count": 50,
     "metadata": {},
     "output_type": "execute_result"
    }
   ],
   "source": [
    "np.array([[1,2],[4,5]])[0,0]"
   ]
  },
  {
   "cell_type": "code",
   "execution_count": 57,
   "metadata": {
    "collapsed": false
   },
   "outputs": [
    {
     "data": {
      "text/plain": [
       "(1000, 50)"
      ]
     },
     "execution_count": 57,
     "metadata": {},
     "output_type": "execute_result"
    }
   ],
   "source": [
    "F_X.shape"
   ]
  },
  {
   "cell_type": "code",
   "execution_count": 153,
   "metadata": {
    "collapsed": false
   },
   "outputs": [
    {
     "data": {
      "text/plain": [
       "[]"
      ]
     },
     "execution_count": 153,
     "metadata": {},
     "output_type": "execute_result"
    }
   ],
   "source": [
    "pwet = range(K)\n",
    "l =5\n",
    "range(K,5)"
   ]
  },
  {
   "cell_type": "code",
   "execution_count": 7,
   "metadata": {
    "collapsed": false
   },
   "outputs": [
    {
     "data": {
      "text/plain": [
       "[<scipy.stats._multivariate.multivariate_normal_frozen at 0x10641da50>,\n",
       " <scipy.stats._multivariate.multivariate_normal_frozen at 0x10641dad0>,\n",
       " <scipy.stats._multivariate.multivariate_normal_frozen at 0x10641dcd0>,\n",
       " <scipy.stats._multivariate.multivariate_normal_frozen at 0x10641dd90>,\n",
       " <scipy.stats._multivariate.multivariate_normal_frozen at 0x10641de50>]"
      ]
     },
     "execution_count": 7,
     "metadata": {},
     "output_type": "execute_result"
    }
   ],
   "source": [
    "densities"
   ]
  },
  {
   "cell_type": "code",
   "execution_count": 53,
   "metadata": {
    "collapsed": false
   },
   "outputs": [],
   "source": [
    "from spades import SpadesEstimator\n",
    "se =SpadesEstimator(densities)"
   ]
  },
  {
   "cell_type": "code",
   "execution_count": null,
   "metadata": {
    "collapsed": false
   },
   "outputs": [],
   "source": []
  },
  {
   "cell_type": "code",
   "execution_count": 54,
   "metadata": {
    "collapsed": false,
    "scrolled": false
   },
   "outputs": [
    {
     "name": "stdout",
     "output_type": "stream",
     "text": [
      "a,b =  100.0 0.0\n",
      "put w, b  50.0 0.0\n",
      "a,b =  50.0 0.0\n",
      "put w, b  25.0 0.0\n",
      "a,b =  25.0 0.0\n",
      "put w, b  12.5 0.0\n",
      "a,b =  12.5 0.0\n",
      "put a,w 12.5 6.25\n",
      "put w, b  6.25 0.0\n",
      "a,b =  12.5 6.25\n",
      "put w, b  9.375 6.25\n",
      "a,b =  6.25 0.0\n",
      "put w, b  3.125 0.0\n",
      "a,b =  9.375 6.25\n",
      "put w, b  7.8125 6.25\n",
      "a,b =  3.125 0.0\n",
      "put w, b  1.5625 0.0\n",
      "a,b =  7.8125 6.25\n",
      "put a,w 7.8125 7.03125\n",
      "a,b =  1.5625 0.0\n",
      "put w, b  0.78125 0.0\n",
      "a,b =  7.8125 7.03125\n",
      "put a,w 7.8125 7.421875\n",
      "a,b =  0.78125 0.0\n",
      "put a,w 0.78125 0.390625\n",
      "put w, b  0.390625 0.0\n",
      "a,b =  7.8125 7.421875\n",
      "put w, b  7.6171875 7.421875\n",
      "a,b =  0.78125 0.390625\n",
      "a,b =  0.390625 0.0\n",
      "put a,w 0.390625 0.1953125\n",
      "put w, b  0.1953125 0.0\n",
      "a,b =  7.6171875 7.421875\n",
      "a,b =  0.390625 0.1953125\n",
      "put w, b  0.29296875 0.1953125\n",
      "a,b =  0.1953125 0.0\n",
      "put w, b  0.09765625 0.0\n",
      "a,b =  0.29296875 0.1953125\n",
      "a,b =  0.09765625 0.0\n",
      "put a,w 0.09765625 0.048828125\n",
      "put w, b  0.048828125 0.0\n",
      "a,b =  0.09765625 0.048828125\n",
      "put w, b  0.0732421875 0.048828125\n",
      "a,b =  0.048828125 0.0\n",
      "put w, b  0.0244140625 0.0\n",
      "a,b =  0.0732421875 0.048828125\n",
      "a,b =  0.0244140625 0.0\n",
      "put a,w 0.0244140625 0.01220703125\n",
      "put w, b  0.01220703125 0.0\n",
      "a,b =  0.0244140625 0.01220703125\n",
      "put a,w 0.0244140625 0.018310546875\n",
      "a,b =  0.01220703125 0.0\n",
      "put a,w 0.01220703125 0.006103515625\n",
      "put w, b  0.006103515625 0.0\n",
      "a,b =  0.0244140625 0.018310546875\n",
      "put a,w 0.0244140625 0.0213623046875\n",
      "a,b =  0.01220703125 0.006103515625\n",
      "put a,w 0.01220703125 0.0091552734375\n",
      "put w, b  0.0091552734375 0.006103515625\n",
      "a,b =  0.006103515625 0.0\n",
      "put a,w 0.006103515625 0.0030517578125\n",
      "put w, b  0.0030517578125 0.0\n",
      "a,b =  0.0244140625 0.0213623046875\n",
      "put w, b  0.0228881835938 0.0213623046875\n",
      "a,b =  0.01220703125 0.0091552734375\n",
      "put w, b  0.0106811523438 0.0091552734375\n",
      "a,b =  0.0091552734375 0.006103515625\n",
      "put a,w 0.0091552734375 0.00762939453125\n",
      "a,b =  0.006103515625 0.0030517578125\n",
      "put w, b  0.00457763671875 0.0030517578125\n",
      "a,b =  0.0030517578125 0.0\n",
      "put a,w 0.0030517578125 0.00152587890625\n",
      "put w, b  0.00152587890625 0.0\n",
      "a,b =  0.0228881835938 0.0213623046875\n",
      "a,b =  0.0106811523438 0.0091552734375\n",
      "a,b =  0.0091552734375 0.00762939453125\n",
      "a,b =  0.00457763671875 0.0030517578125\n",
      "a,b =  0.0030517578125 0.00152587890625\n",
      "a,b =  0.00152587890625 0.0\n"
     ]
    }
   ],
   "source": [
    "b = se.gbm(F_X)"
   ]
  },
  {
   "cell_type": "code",
   "execution_count": 57,
   "metadata": {
    "collapsed": false
   },
   "outputs": [],
   "source": [
    "res = se.spades_solver(b,F_X)"
   ]
  },
  {
   "cell_type": "code",
   "execution_count": 58,
   "metadata": {
    "collapsed": false
   },
   "outputs": [
    {
     "data": {
      "image/png": "[encoded data removed]",
      "text/plain": [
       "<matplotlib.figure.Figure at 0x11351eb50>"
      ]
     },
     "metadata": {},
     "output_type": "display_data"
    }
   ],
   "source": [
    "res = res.reshape(50)\n",
    "f_estim_spades_2 = np.apply_along_axis(lambda x: res.dot(np.array([d.pdf(x) for d in densities])), 0, np.linspace(0,1,n_pdf))\n"
   ]
  },
  {
   "cell_type": "code",
   "execution_count": 59,
   "metadata": {
    "collapsed": false
   },
   "outputs": [
    {
     "data": {
      "image/png": "[encoded data removed]",
      "text/plain": [
       "<matplotlib.figure.Figure at 0x11068e7d0>"
      ]
     },
     "metadata": {},
     "output_type": "display_data"
    }
   ],
   "source": [
    "#plt.plot(np.linspace(0,1,n_pdf),f_star)\n",
    "res = res.reshape(50)\n",
    "f_estim_spades_2 = np.apply_along_axis(lambda x: res.dot(np.array([d.pdf(x) for d in densities])), 0, np.linspace(0,1,n_pdf))\n",
    "\n",
    "plt.plot(np.linspace(0,1,n_pdf),f_star)\n",
    "plt.plot(np.linspace(0,1,n_pdf),f_estim_spades_2)\n",
    "plt.show()"
   ]
  },
  {
   "cell_type": "code",
   "execution_count": 34,
   "metadata": {
    "collapsed": false
   },
   "outputs": [
    {
     "name": "stdout",
     "output_type": "stream",
     "text": [
      "(900, 50)\n",
      "a,b =  100.0 0.0\n",
      "put w, b  50.0 0.0\n",
      "a,b =  50.0 0.0\n",
      "put w, b  25.0 0.0\n",
      "a,b =  25.0 0.0\n",
      "put a,w 25.0 12.5\n",
      "put w, b  12.5 0.0\n",
      "a,b =  25.0 12.5\n",
      "a,b =  12.5 0.0\n",
      "put a,w 12.5 6.25\n",
      "put w, b  6.25 0.0\n",
      "a,b =  12.5 6.25\n",
      "put w, b  9.375 6.25\n",
      "a,b =  6.25 0.0\n",
      "put w, b  3.125 0.0\n",
      "a,b =  9.375 6.25\n",
      "put a,w 9.375 7.8125\n",
      "a,b =  3.125 0.0\n",
      "put w, b  1.5625 0.0\n",
      "a,b =  9.375 7.8125\n",
      "put a,w 9.375 8.59375\n",
      "a,b =  1.5625 0.0\n",
      "put a,w 1.5625 0.78125\n",
      "put w, b  0.78125 0.0\n",
      "a,b =  9.375 8.59375\n",
      "a,b =  1.5625 0.78125\n",
      "put w, b  1.171875 0.78125\n",
      "a,b =  0.78125 0.0\n",
      "put a,w 0.78125 0.390625\n",
      "put w, b  0.390625 0.0\n",
      "a,b =  1.171875 0.78125\n",
      "a,b =  0.78125 0.390625\n",
      "put w, b  0.5859375 0.390625\n",
      "a,b =  0.390625 0.0\n",
      "put a,w 0.390625 0.1953125\n",
      "put w, b  0.1953125 0.0\n",
      "a,b =  0.5859375 0.390625\n",
      "put a,w 0.5859375 0.48828125\n",
      "a,b =  0.390625 0.1953125\n",
      "put w, b  0.29296875 0.1953125\n",
      "a,b =  0.1953125 0.0\n",
      "put w, b  0.09765625 0.0\n",
      "a,b =  0.5859375 0.48828125\n",
      "put w, b  0.537109375 0.48828125\n",
      "a,b =  0.29296875 0.1953125\n",
      "put w, b  0.244140625 0.1953125\n",
      "a,b =  0.09765625 0.0\n",
      "put w, b  0.048828125 0.0\n",
      "a,b =  0.537109375 0.48828125\n",
      "a,b =  0.244140625 0.1953125\n"
     ]
    },
    {
     "ename": "SolverError",
     "evalue": "Solver 'ECOS' failed. Try another solver.",
     "output_type": "error",
     "traceback": [
      "\u001b[0;31m---------------------------------------------------------------------------\u001b[0m",
      "\u001b[0;31mSolverError\u001b[0m                               Traceback (most recent call last)",
      "\u001b[0;32m<ipython-input-34-349be3bba68d>\u001b[0m in \u001b[0;36m<module>\u001b[0;34m()\u001b[0m\n\u001b[1;32m      1\u001b[0m \u001b[0mse\u001b[0m\u001b[0;34m.\u001b[0m\u001b[0mN\u001b[0m \u001b[0;34m=\u001b[0m \u001b[0mX\u001b[0m\u001b[0;34m.\u001b[0m\u001b[0mshape\u001b[0m\u001b[0;34m[\u001b[0m\u001b[0;36m0\u001b[0m\u001b[0;34m]\u001b[0m\u001b[0;34m\u001b[0m\u001b[0m\n\u001b[0;32m----> 2\u001b[0;31m \u001b[0mse\u001b[0m\u001b[0;34m.\u001b[0m\u001b[0mw_select_cv\u001b[0m\u001b[0;34m(\u001b[0m\u001b[0mX\u001b[0m\u001b[0;34m)\u001b[0m\u001b[0;34m\u001b[0m\u001b[0m\n\u001b[0m",
      "\u001b[0;32m/Users/mehdi/Dropbox/working folder/PHd/Text/weight_vector_estim_paper/weight_vector_estim_code/spades.py\u001b[0m in \u001b[0;36mw_select_cv\u001b[0;34m(self, X)\u001b[0m\n\u001b[1;32m     98\u001b[0m                 \u001b[0mF_X_j\u001b[0m \u001b[0;34m=\u001b[0m \u001b[0mself\u001b[0m\u001b[0;34m.\u001b[0m\u001b[0mdens_matrix_f_x_gen\u001b[0m\u001b[0;34m(\u001b[0m\u001b[0mpart_X_comp\u001b[0m\u001b[0;34m[\u001b[0m\u001b[0mj\u001b[0m\u001b[0;34m]\u001b[0m\u001b[0;34m)\u001b[0m\u001b[0;34m\u001b[0m\u001b[0m\n\u001b[1;32m     99\u001b[0m                 \u001b[0;32mprint\u001b[0m \u001b[0mF_X_j\u001b[0m\u001b[0;34m.\u001b[0m\u001b[0mshape\u001b[0m\u001b[0;34m\u001b[0m\u001b[0m\n\u001b[0;32m--> 100\u001b[0;31m                 \u001b[0mw_k_j\u001b[0m \u001b[0;34m=\u001b[0m \u001b[0mself\u001b[0m\u001b[0;34m.\u001b[0m\u001b[0mgbm\u001b[0m\u001b[0;34m(\u001b[0m\u001b[0mF_X_j\u001b[0m\u001b[0;34m)\u001b[0m\u001b[0;34m\u001b[0m\u001b[0m\n\u001b[0m\u001b[1;32m    101\u001b[0m                 \u001b[0;32mprint\u001b[0m \u001b[0mw_k_j\u001b[0m\u001b[0;34m\u001b[0m\u001b[0m\n\u001b[1;32m    102\u001b[0m \u001b[0;34m\u001b[0m\u001b[0m\n",
      "\u001b[0;32m/Users/mehdi/Dropbox/working folder/PHd/Text/weight_vector_estim_paper/weight_vector_estim_code/spades.py\u001b[0m in \u001b[0;36mgbm\u001b[0;34m(self, f_x)\u001b[0m\n\u001b[1;32m     72\u001b[0m                 \u001b[0;32mprint\u001b[0m \u001b[0;34m\"put a,w\"\u001b[0m\u001b[0;34m,\u001b[0m \u001b[0ma\u001b[0m\u001b[0;34m,\u001b[0m \u001b[0mw\u001b[0m\u001b[0;34m\u001b[0m\u001b[0m\n\u001b[1;32m     73\u001b[0m                 \u001b[0mq\u001b[0m\u001b[0;34m.\u001b[0m\u001b[0mput\u001b[0m\u001b[0;34m(\u001b[0m\u001b[0;34m(\u001b[0m\u001b[0ma\u001b[0m\u001b[0;34m,\u001b[0m\u001b[0mw\u001b[0m\u001b[0;34m)\u001b[0m\u001b[0;34m)\u001b[0m\u001b[0;34m\u001b[0m\u001b[0m\n\u001b[0;32m---> 74\u001b[0;31m             \u001b[0mlambd\u001b[0m \u001b[0;34m=\u001b[0m \u001b[0mself\u001b[0m\u001b[0;34m.\u001b[0m\u001b[0mspades_solver\u001b[0m\u001b[0;34m(\u001b[0m\u001b[0mb\u001b[0m\u001b[0;34m,\u001b[0m \u001b[0mf_x\u001b[0m\u001b[0;34m)\u001b[0m\u001b[0;34m\u001b[0m\u001b[0m\n\u001b[0m\u001b[1;32m     75\u001b[0m             \u001b[0mk_temp\u001b[0m \u001b[0;34m=\u001b[0m \u001b[0mlen\u001b[0m\u001b[0;34m(\u001b[0m\u001b[0mlambd\u001b[0m\u001b[0;34m[\u001b[0m\u001b[0mlambd\u001b[0m\u001b[0;34m>\u001b[0m\u001b[0;36m0\u001b[0m\u001b[0;34m]\u001b[0m\u001b[0;34m)\u001b[0m\u001b[0;34m-\u001b[0m\u001b[0;36m1\u001b[0m\u001b[0;34m\u001b[0m\u001b[0m\n\u001b[1;32m     76\u001b[0m             \u001b[0;32mif\u001b[0m \u001b[0mnp\u001b[0m\u001b[0;34m.\u001b[0m\u001b[0mabs\u001b[0m\u001b[0;34m(\u001b[0m\u001b[0mk_temp\u001b[0m\u001b[0;34m-\u001b[0m\u001b[0mk\u001b[0m\u001b[0;34m)\u001b[0m \u001b[0;34m>\u001b[0m \u001b[0;36m1\u001b[0m \u001b[0;32mand\u001b[0m \u001b[0mnp\u001b[0m\u001b[0;34m.\u001b[0m\u001b[0mabs\u001b[0m\u001b[0;34m(\u001b[0m\u001b[0mb\u001b[0m\u001b[0;34m-\u001b[0m\u001b[0mw\u001b[0m\u001b[0;34m)\u001b[0m \u001b[0;34m>\u001b[0m \u001b[0mself\u001b[0m\u001b[0;34m.\u001b[0m\u001b[0mALPHA_GBM\u001b[0m\u001b[0;34m:\u001b[0m\u001b[0;34m\u001b[0m\u001b[0m\n",
      "\u001b[0;32m/usr/local/lib/python2.7/site-packages/cvxpy/problems/problem.pyc\u001b[0m in \u001b[0;36msolve\u001b[0;34m(self, *args, **kwargs)\u001b[0m\n\u001b[1;32m    208\u001b[0m             \u001b[0;32mreturn\u001b[0m \u001b[0mfunc\u001b[0m\u001b[0;34m(\u001b[0m\u001b[0mself\u001b[0m\u001b[0;34m,\u001b[0m \u001b[0;34m*\u001b[0m\u001b[0margs\u001b[0m\u001b[0;34m,\u001b[0m \u001b[0;34m**\u001b[0m\u001b[0mkwargs\u001b[0m\u001b[0;34m)\u001b[0m\u001b[0;34m\u001b[0m\u001b[0m\n\u001b[1;32m    209\u001b[0m         \u001b[0;32melse\u001b[0m\u001b[0;34m:\u001b[0m\u001b[0;34m\u001b[0m\u001b[0m\n\u001b[0;32m--> 210\u001b[0;31m             \u001b[0;32mreturn\u001b[0m \u001b[0mself\u001b[0m\u001b[0;34m.\u001b[0m\u001b[0m_solve\u001b[0m\u001b[0;34m(\u001b[0m\u001b[0;34m*\u001b[0m\u001b[0margs\u001b[0m\u001b[0;34m,\u001b[0m \u001b[0;34m**\u001b[0m\u001b[0mkwargs\u001b[0m\u001b[0;34m)\u001b[0m\u001b[0;34m\u001b[0m\u001b[0m\n\u001b[0m\u001b[1;32m    211\u001b[0m \u001b[0;34m\u001b[0m\u001b[0m\n\u001b[1;32m    212\u001b[0m     \u001b[0;34m@\u001b[0m\u001b[0mclassmethod\u001b[0m\u001b[0;34m\u001b[0m\u001b[0m\n",
      "\u001b[0;32m/usr/local/lib/python2.7/site-packages/cvxpy/problems/problem.pyc\u001b[0m in \u001b[0;36m_solve\u001b[0;34m(self, solver, ignore_dcp, warm_start, verbose, parallel, **kwargs)\u001b[0m\n\u001b[1;32m    334\u001b[0m         \u001b[0;32melse\u001b[0m\u001b[0;34m:\u001b[0m\u001b[0;34m\u001b[0m\u001b[0m\n\u001b[1;32m    335\u001b[0m             \u001b[0mresults_dict\u001b[0m \u001b[0;34m=\u001b[0m \u001b[0;34m{\u001b[0m\u001b[0ms\u001b[0m\u001b[0;34m.\u001b[0m\u001b[0mSTATUS\u001b[0m\u001b[0;34m:\u001b[0m \u001b[0msym_data\u001b[0m\u001b[0;34m.\u001b[0m\u001b[0mpresolve_status\u001b[0m\u001b[0;34m}\u001b[0m\u001b[0;34m\u001b[0m\u001b[0m\n\u001b[0;32m--> 336\u001b[0;31m         \u001b[0mself\u001b[0m\u001b[0;34m.\u001b[0m\u001b[0m_update_problem_state\u001b[0m\u001b[0;34m(\u001b[0m\u001b[0mresults_dict\u001b[0m\u001b[0;34m,\u001b[0m \u001b[0msym_data\u001b[0m\u001b[0;34m,\u001b[0m \u001b[0msolver\u001b[0m\u001b[0;34m)\u001b[0m\u001b[0;34m\u001b[0m\u001b[0m\n\u001b[0m\u001b[1;32m    337\u001b[0m         \u001b[0;32mreturn\u001b[0m \u001b[0mself\u001b[0m\u001b[0;34m.\u001b[0m\u001b[0mvalue\u001b[0m\u001b[0;34m\u001b[0m\u001b[0m\n\u001b[1;32m    338\u001b[0m \u001b[0;34m\u001b[0m\u001b[0m\n",
      "\u001b[0;32m/usr/local/lib/python2.7/site-packages/cvxpy/problems/problem.pyc\u001b[0m in \u001b[0;36m_update_problem_state\u001b[0;34m(self, results_dict, sym_data, solver)\u001b[0m\n\u001b[1;32m    446\u001b[0m         \u001b[0;32melse\u001b[0m\u001b[0;34m:\u001b[0m\u001b[0;34m\u001b[0m\u001b[0m\n\u001b[1;32m    447\u001b[0m             raise SolverError(\n\u001b[0;32m--> 448\u001b[0;31m                 \"Solver '%s' failed. Try another solver.\" % solver.name())\n\u001b[0m\u001b[1;32m    449\u001b[0m         \u001b[0mself\u001b[0m\u001b[0;34m.\u001b[0m\u001b[0m_status\u001b[0m \u001b[0;34m=\u001b[0m \u001b[0mresults_dict\u001b[0m\u001b[0;34m[\u001b[0m\u001b[0ms\u001b[0m\u001b[0;34m.\u001b[0m\u001b[0mSTATUS\u001b[0m\u001b[0;34m]\u001b[0m\u001b[0;34m\u001b[0m\u001b[0m\n\u001b[1;32m    450\u001b[0m         \u001b[0mself\u001b[0m\u001b[0;34m.\u001b[0m\u001b[0m_solver_stats\u001b[0m \u001b[0;34m=\u001b[0m \u001b[0mSolverStats\u001b[0m\u001b[0;34m(\u001b[0m\u001b[0mresults_dict\u001b[0m\u001b[0;34m,\u001b[0m \u001b[0msolver\u001b[0m\u001b[0;34m.\u001b[0m\u001b[0mname\u001b[0m\u001b[0;34m(\u001b[0m\u001b[0;34m)\u001b[0m\u001b[0;34m)\u001b[0m\u001b[0;34m\u001b[0m\u001b[0m\n",
      "\u001b[0;31mSolverError\u001b[0m: Solver 'ECOS' failed. Try another solver."
     ]
    }
   ],
   "source": [
    "se.N = X.shape[0]\n",
    "se.w_select_cv(X)"
   ]
  },
  {
   "cell_type": "code",
   "execution_count": 32,
   "metadata": {
    "collapsed": false
   },
   "outputs": [
    {
     "data": {
      "text/plain": [
       "(1000,)"
      ]
     },
     "execution_count": 32,
     "metadata": {},
     "output_type": "execute_result"
    }
   ],
   "source": [
    "X.shape"
   ]
  },
  {
   "cell_type": "code",
   "execution_count": 10,
   "metadata": {
    "collapsed": false
   },
   "outputs": [],
   "source": [
    "from spades import SpadesEstimator\n",
    "se =SpadesEstimator(densities)"
   ]
  },
  {
   "cell_type": "code",
   "execution_count": 11,
   "metadata": {
    "collapsed": false
   },
   "outputs": [],
   "source": [
    "se.w_select_cv(X)"
   ]
  },
  {
   "cell_type": "code",
   "execution_count": 50,
   "metadata": {
    "collapsed": false
   },
   "outputs": [
    {
     "data": {
      "text/plain": [
       "0.33350016683350014"
      ]
     },
     "execution_count": 50,
     "metadata": {},
     "output_type": "execute_result"
    }
   ],
   "source": [
    "x_int = np.linspace(0,1,1000)\n",
    "1./x_int.shape[0]*np.apply_along_axis(lambda x: x**2, 0, x_int).sum()"
   ]
  },
  {
   "cell_type": "code",
   "execution_count": 63,
   "metadata": {
    "collapsed": false
   },
   "outputs": [],
   "source": [
    "e = np.array([1,2,0,3,4,2,5])"
   ]
  },
  {
   "cell_type": "code",
   "execution_count": 64,
   "metadata": {
    "collapsed": false
   },
   "outputs": [
    {
     "data": {
      "text/plain": [
       "array([ 1.        ,  2.00345388,  0.00690776,  3.01036163,  4.01381551,\n",
       "        2.01726939,  5.02072327])"
      ]
     },
     "execution_count": 64,
     "metadata": {},
     "output_type": "execute_result"
    }
   ],
   "source": [
    "np.array([e[i] +0.5*i*np.log(X.shape[0])/X.shape[0] for i in range(len(e))])"
   ]
  },
  {
   "cell_type": "code",
   "execution_count": 65,
   "metadata": {
    "collapsed": false
   },
   "outputs": [
    {
     "data": {
      "text/plain": [
       "2.3025850929940459"
      ]
     },
     "execution_count": 65,
     "metadata": {},
     "output_type": "execute_result"
    }
   ],
   "source": [
    "np.log(10)"
   ]
  },
  {
   "cell_type": "code",
   "execution_count": 12,
   "metadata": {
    "collapsed": false
   },
   "outputs": [
    {
     "data": {
      "text/plain": [
       "array([  0.        ,  -3.13287591,  -6.83846244, -11.92532779, -12.76248605])"
      ]
     },
     "execution_count": 12,
     "metadata": {},
     "output_type": "execute_result"
    }
   ],
   "source": [
    "se.L_final"
   ]
  },
  {
   "cell_type": "code",
   "execution_count": 13,
   "metadata": {
    "collapsed": false
   },
   "outputs": [
    {
     "data": {
      "text/plain": [
       "4"
      ]
     },
     "execution_count": 13,
     "metadata": {},
     "output_type": "execute_result"
    }
   ],
   "source": [
    "se.k_final"
   ]
  },
  {
   "cell_type": "code",
   "execution_count": 68,
   "metadata": {
    "collapsed": true
   },
   "outputs": [],
   "source": []
  },
  {
   "cell_type": "code",
   "execution_count": 69,
   "metadata": {
    "collapsed": true
   },
   "outputs": [],
   "source": []
  },
  {
   "cell_type": "code",
   "execution_count": 17,
   "metadata": {
    "collapsed": false
   },
   "outputs": [
    {
     "data": {
      "text/plain": [
       "array([  2.23580168,   1.98809192,   9.05944834,  10.01390739,   3.70524816])"
      ]
     },
     "execution_count": 17,
     "metadata": {},
     "output_type": "execute_result"
    }
   ],
   "source": [
    "adapt_dantzig.beta_hat_gen(X)"
   ]
  },
  {
   "cell_type": "code",
   "execution_count": 18,
   "metadata": {
    "collapsed": false
   },
   "outputs": [
    {
     "data": {
      "text/plain": [
       "[<scipy.stats._multivariate.multivariate_normal_frozen at 0x112c574d0>,\n",
       " <scipy.stats._multivariate.multivariate_normal_frozen at 0x112c57510>,\n",
       " <scipy.stats._multivariate.multivariate_normal_frozen at 0x112fb3210>,\n",
       " <scipy.stats._multivariate.multivariate_normal_frozen at 0x112fb3350>,\n",
       " <scipy.stats._multivariate.multivariate_normal_frozen at 0x112fb3410>]"
      ]
     },
     "execution_count": 18,
     "metadata": {},
     "output_type": "execute_result"
    }
   ],
   "source": [
    "densities"
   ]
  },
  {
   "cell_type": "code",
   "execution_count": 19,
   "metadata": {
    "collapsed": false
   },
   "outputs": [
    {
     "name": "stdout",
     "output_type": "stream",
     "text": [
      "[ 0.]\n",
      "[ 0.25]\n",
      "[ 0.5]\n",
      "[ 0.75]\n",
      "[ 1.]\n"
     ]
    }
   ],
   "source": [
    "for d in densities:\n",
    "    print d.mean"
   ]
  },
  {
   "cell_type": "code",
   "execution_count": 20,
   "metadata": {
    "collapsed": false
   },
   "outputs": [
    {
     "data": {
      "text/plain": [
       "array([ 1.])"
      ]
     },
     "execution_count": 20,
     "metadata": {},
     "output_type": "execute_result"
    }
   ],
   "source": [
    "d.mean"
   ]
  },
  {
   "cell_type": "code",
   "execution_count": 21,
   "metadata": {
    "collapsed": false
   },
   "outputs": [
    {
     "data": {
      "text/plain": [
       "array([ 0.48442446,  0.25491306,  1.01092353,  0.00472832,  0.50223982,\n",
       "        0.00183039,  0.50316482,  0.49037946,  0.7509135 ,  0.49990594,\n",
       "        0.75242062,  0.7362281 ,  0.7582889 ,  0.25503542,  0.01238456,\n",
       "        0.74740327,  0.51128863,  0.75211333,  0.75527835,  0.99884283,\n",
       "        0.49207845,  0.48618657,  0.49884748,  0.74855012,  0.50787544,\n",
       "        0.75617411,  0.75071133,  0.5074367 ,  0.76090702,  0.4888139 ,\n",
       "        0.23130733,  0.9836731 ,  0.73145199,  0.49729719,  0.99995359,\n",
       "        0.75986035,  0.75214345,  0.73954261,  0.50587733,  0.75346333,\n",
       "        0.73933509,  0.7629689 ,  0.73234248,  1.0115914 ,  0.25286611,\n",
       "        0.49495355,  0.75621118, -0.02121087,  0.00563251,  0.52030684,\n",
       "        1.01104487,  0.73973606,  0.76309923,  0.7623868 ,  0.75273533,\n",
       "        0.98103154,  0.74145151,  1.01584234,  0.50230952,  0.7555648 ,\n",
       "        0.49915082,  0.24260613,  0.01424634,  0.99147673,  0.49662458,\n",
       "        0.76401275,  0.4819385 ,  0.4895665 ,  0.75075984,  0.76873399,\n",
       "        0.49057114,  0.0022609 ,  0.99196554,  0.52773325,  0.49694835,\n",
       "        0.7384882 ,  0.74750992,  0.73985489,  0.98903722,  0.99647423,\n",
       "        0.49314715,  0.75992017,  0.75650777,  0.00262112,  0.75940727,\n",
       "        0.50892567,  0.5064593 ,  0.75569688,  0.48706119,  0.51291637,\n",
       "        0.2619545 ,  0.4957053 ,  1.00708842,  0.48990864,  0.99919512,\n",
       "        0.51625899,  0.50620229,  0.98433103,  0.51500881,  0.24393274])"
      ]
     },
     "execution_count": 21,
     "metadata": {},
     "output_type": "execute_result"
    }
   ],
   "source": [
    "X"
   ]
  },
  {
   "cell_type": "code",
   "execution_count": 54,
   "metadata": {
    "collapsed": false
   },
   "outputs": [],
   "source": [
    "a = np.arange(1000).reshape([1000,1])\n"
   ]
  },
  {
   "cell_type": "code",
   "execution_count": 75,
   "metadata": {
    "collapsed": true
   },
   "outputs": [],
   "source": [
    "def test_1(a):\n",
    "    n = a.shape[0]\n",
    "    return 1./(a*(a-1))*np.triu((a.T-a)**2).sum()"
   ]
  },
  {
   "cell_type": "code",
   "execution_count": 67,
   "metadata": {
    "collapsed": false
   },
   "outputs": [
    {
     "name": "stdout",
     "output_type": "stream",
     "text": [
      "100 loops, best of 3: 9.91 ms per loop\n"
     ]
    }
   ],
   "source": [
    "%timeit test_1()"
   ]
  },
  {
   "cell_type": "code",
   "execution_count": 95,
   "metadata": {
    "collapsed": true
   },
   "outputs": [],
   "source": [
    "@jit\n",
    "def test(a):\n",
    "    r = 0\n",
    "    n = a.shape[0]\n",
    "    for i in range(a.shape[0]):\n",
    "        for j in range(i):\n",
    "            r+= (a[i]-a[j])**2\n",
    "    return 1./(n*(n-1))*r"
   ]
  },
  {
   "cell_type": "code",
   "execution_count": 65,
   "metadata": {
    "collapsed": false
   },
   "outputs": [
    {
     "name": "stdout",
     "output_type": "stream",
     "text": [
      "10000000 loops, best of 3: 34.3 ns per loop\n"
     ]
    }
   ],
   "source": [
    "%timeit test"
   ]
  },
  {
   "cell_type": "code",
   "execution_count": 166,
   "metadata": {
    "collapsed": false
   },
   "outputs": [],
   "source": [
    "\n",
    "from adaptiveDantzig import AdaptiveDantzigEstimator\n",
    "adapt_dantzig = AdaptiveDantzigEstimator(densities)"
   ]
  },
  {
   "cell_type": "code",
   "execution_count": 121,
   "metadata": {
    "collapsed": false
   },
   "outputs": [
    {
     "data": {
      "text/plain": [
       "array([  0.00000000e+000,   0.00000000e+000,   0.00000000e+000,\n",
       "         7.65392974e-135,   3.98942280e+001])"
      ]
     },
     "execution_count": 121,
     "metadata": {},
     "output_type": "execute_result"
    }
   ],
   "source": [
    "adapt_dantzig.fit(X)\n",
    "adapt_dantzig.beta_hat_gen(1)"
   ]
  },
  {
   "cell_type": "code",
   "execution_count": 101,
   "metadata": {
    "collapsed": false
   },
   "outputs": [
    {
     "name": "stdout",
     "output_type": "stream",
     "text": [
      "10 loops, best of 3: 30.3 ms per loop\n"
     ]
    }
   ],
   "source": [
    "%timeit adapt_dantzig.sigma_gen()"
   ]
  },
  {
   "cell_type": "code",
   "execution_count": 96,
   "metadata": {
    "collapsed": false
   },
   "outputs": [
    {
     "name": "stdout",
     "output_type": "stream",
     "text": [
      "The slowest run took 2762.69 times longer than the fastest. This could mean that an intermediate result is being cached.\n",
      "10000 loops, best of 3: 39.6 µs per loop\n"
     ]
    }
   ],
   "source": [
    "%timeit [test(F_X[:,m]) for m in range(K)]"
   ]
  },
  {
   "cell_type": "code",
   "execution_count": 87,
   "metadata": {
    "collapsed": false
   },
   "outputs": [
    {
     "data": {
      "text/plain": [
       "(100, 5)"
      ]
     },
     "execution_count": 87,
     "metadata": {},
     "output_type": "execute_result"
    }
   ],
   "source": [
    "F_X.shape"
   ]
  },
  {
   "cell_type": "code",
   "execution_count": 113,
   "metadata": {
    "collapsed": false
   },
   "outputs": [
    {
     "data": {
      "text/plain": [
       "array([ 1.95271114,  1.40466724,  2.57145267,  2.65564773,  1.77642686])"
      ]
     },
     "execution_count": 113,
     "metadata": {},
     "output_type": "execute_result"
    }
   ],
   "source": [
    "adapt_dantzig.eta_gamma_gen()"
   ]
  },
  {
   "cell_type": "code",
   "execution_count": 140,
   "metadata": {
    "collapsed": false
   },
   "outputs": [
    {
     "name": "stdout",
     "output_type": "stream",
     "text": [
      "1 loop, best of 3: 19.2 s per loop\n"
     ]
    }
   ],
   "source": [
    "%timeit adapt_dantzig.gram_matrix_gen()"
   ]
  },
  {
   "cell_type": "code",
   "execution_count": 146,
   "metadata": {
    "collapsed": false
   },
   "outputs": [],
   "source": [
    "adapt_dantzig.fit(X)"
   ]
  },
  {
   "cell_type": "code",
   "execution_count": 148,
   "metadata": {
    "collapsed": false
   },
   "outputs": [
    {
     "name": "stdout",
     "output_type": "stream",
     "text": [
      "1 loop, best of 3: 36.3 s per loop\n"
     ]
    }
   ],
   "source": [
    "%timeit adapt_dantzig.sigma_tilde_gen()"
   ]
  },
  {
   "cell_type": "code",
   "execution_count": 152,
   "metadata": {
    "collapsed": true
   },
   "outputs": [],
   "source": [
    "t = Variable(50)"
   ]
  },
  {
   "cell_type": "code",
   "execution_count": 151,
   "metadata": {
    "collapsed": false
   },
   "outputs": [],
   "source": [
    "G = adapt_dantzig.gram_matrix"
   ]
  },
  {
   "cell_type": "code",
   "execution_count": 158,
   "metadata": {
    "collapsed": false,
    "scrolled": true
   },
   "outputs": [
    {
     "data": {
      "text/plain": [
       "Expression(CONVEX, POSITIVE, (50, 50))"
      ]
     },
     "execution_count": 158,
     "metadata": {},
     "output_type": "execute_result"
    }
   ],
   "source": [
    "abs(G*t[1]-6)"
   ]
  },
  {
   "cell_type": "code",
   "execution_count": 181,
   "metadata": {
    "collapsed": false
   },
   "outputs": [
    {
     "name": "stdout",
     "output_type": "stream",
     "text": [
      "selected densities:  [(0, 0.066059679670366189), (5, 0.19957466604638799), (12, 0.094437429387917854), (15, 0.18488735296072306), (18, 0.45504087193460491)]\n"
     ]
    }
   ],
   "source": [
    "nodes = np.linspace(0, 1, 20)\n",
    "var = 10**(-4)\n",
    "densities = [multivariate_normal(m, var) for m in nodes]\n",
    "dist_rect = {\n",
    "    (0,1./5) : 10./7,\n",
    "    (1./5,2./5) : 5./7,\n",
    "    (2./5,3./5) : 10./7,\n",
    "    (3./5,4./5) : 0,\n",
    "    (4./5,1) : 10./7\n",
    "}\n",
    "n_pdf = 100000\n",
    "#X, f_star = generate_sample_f_star(10000, t=\"rect\", densities=densities, cvx_rand=False, s=5, dist_rect=dist_rect, N_pdf=n_pdf)\n",
    "#X, f_star = generate_sample_f_star(1000, t=\"uniform\", densities=densities, cvx_rand=False, s=5, dist_rect=dist_rect,  N_pdf=n_pdf)#\n",
    "X, f_star,  weights_star, selected_densities_star = generate_sample_f_star(100, t=\"convex\", densities=densities, cvx_rand=True, s=5, dist_rect=dist_rect,  N_pdf=n_pdf)\n",
    "#X, f_star, weights_star, selected_densities_star = generate_sample_f_star(100, t=\"convex\", densities=densities, cvx_rand=False, s=5, dist_rect=dist_rect,  N_pdf=n_pdf)\n",
    "#plt.hist(X, bins=1000)  # plt.hist passes it's arguments to np.histogram"
   ]
  },
  {
   "cell_type": "code",
   "execution_count": 183,
   "metadata": {
    "collapsed": false
   },
   "outputs": [
    {
     "data": {
      "text/plain": [
       "array([ -9.61920429e-15,  -1.93397912e-12,   1.71758154e-15,\n",
       "         8.91806258e-17,  -8.28242227e-14,   1.06405687e-01,\n",
       "         4.90001340e-13,  -2.36290151e-14,   2.16041425e-17,\n",
       "        -1.89643650e-20,   9.91740847e-16,  -1.09375085e-12,\n",
       "         1.97825666e-02,  -1.75688568e-05,  -1.34616306e-14,\n",
       "         8.22560673e-02,  -8.03850965e-14,   1.47661582e-14,\n",
       "         2.55642261e-01,  -5.97077574e-05])"
      ]
     },
     "execution_count": 183,
     "metadata": {},
     "output_type": "execute_result"
    }
   ],
   "source": [
    "from adaptiveDantzig import AdaptiveDantzigEstimator\n",
    "adapt_dantzig = AdaptiveDantzigEstimator(densities)\n",
    "lambda_dantzig = adapt_dantzig.fit(X)"
   ]
  },
  {
   "cell_type": "code",
   "execution_count": 191,
   "metadata": {
    "collapsed": false
   },
   "outputs": [],
   "source": [
    "cl = WeightEstimator(densities_dict=densities, select_threshold=10e-3)\n",
    "cl.fit(X)\n",
    "estim_weighted_densities=cl.select_densities()\n",
    "selected_densities_estim, weights_estim = np.array(zip(*estim_weighted_densities))\n",
    "f_estim = np.apply_along_axis(lambda x: weights_estim.dot(np.array([densities[i].pdf(x) for i in selected_densities_estim.astype(int)])), 0, np.linspace(0,1,n_pdf))\n"
   ]
  },
  {
   "cell_type": "code",
   "execution_count": 192,
   "metadata": {
    "collapsed": false
   },
   "outputs": [
    {
     "data": {
      "image/png": "[encoded data removed]",
      "text/plain": [
       "<matplotlib.figure.Figure at 0x1188e5890>"
      ]
     },
     "metadata": {},
     "output_type": "display_data"
    }
   ],
   "source": [
    "#plt.plot(np.linspace(0,1,n_pdf),f_star)\n",
    "f_estim_dantzig = np.apply_along_axis(lambda x: lambda_dantzig.dot(np.array([d.pdf(x) for d in densities])), 0, np.linspace(0,1,n_pdf))\n",
    "\n",
    "plt.plot(np.linspace(0,1,n_pdf),f_star)\n",
    "plt.plot(np.linspace(0,1,n_pdf),f_estim_dantzig)\n",
    "plt.plot(np.linspace(0,1,n_pdf),f_estim)\n",
    "plt.show()"
   ]
  },
  {
   "cell_type": "code",
   "execution_count": 188,
   "metadata": {
    "collapsed": false
   },
   "outputs": [
    {
     "data": {
      "text/plain": [
       "(100000,)"
      ]
     },
     "execution_count": 188,
     "metadata": {},
     "output_type": "execute_result"
    }
   ],
   "source": [
    "f_star.shape"
   ]
  },
  {
   "cell_type": "markdown",
   "metadata": {},
   "source": [
    "# threading test"
   ]
  },
  {
   "cell_type": "code",
   "execution_count": 193,
   "metadata": {
    "collapsed": false
   },
   "outputs": [
    {
     "name": "stdout",
     "output_type": "stream",
     "text": [
      "<!doctype html><html itemscope=\"\" itemtype=\"http://schema.org/WebPage\" lang=\"fr\"><head><meta content=\"text/html; charset=UTF-8\" http-equiv=\"Content-Type\"><meta content=\"/images/branding/googleg/1x/googleg_standard_color_128dp.png\" itemprop=\"image\"><title>Google</title><script>(function(){window.google={kEI:'QQZ4WPjcE8ujsAGxmZewAQ',kEXPI:'750722,1351903,1352298,3700272,4029815,4032678,4038012,4043492,4045841,4048347,4053261,4062666,4063220,4065787,4067860,4068550,4069839,4069840,4072602,4072777,4073405,4073726,4073958,4074955,4075961,4075963,4076095,4076930,4076999,4078430,4078438,4079105,4079441,4079894,4080167,4080383,4081038,4081647,4082618,4083476,4084343,4084716,4084956,4085336,4086011,4086071,4086697,4087192,4087708,4089003,4089106,4089538,4090090,4090093,4090105,4090368,4090555,4090657,4090806,4090876,4090893,4091029,4091043,4091807,4092470,4092889,4092932,4093107,4093109,8300095,8300273,8300481,8300484,8504110,8507380,8507420,8507861,8508206,8508497,8509066,8509226,8509597,10200083,13500021,13500024',authuser:0,kscs:'c9c918f0_24'};google.kHL='fr';})();(function(){google.lc=[];google.li=0;google.getEI=function(a){for(var b;a&&(!a.getAttribute||!(b=a.getAttribute(\"eid\")));)a=a.parentNode;return b||google.kEI};google.getLEI=function(a){for(var b=null;a&&(!a.getAttribute||!(b=a.getAttribute(\"leid\")));)a=a.parentNode;return b};google.https=function(){return\"https:\"==window.location.protocol};google.ml=function(){return null};google.wl=function(a,b){try{google.ml(Error(a),!1,b)}catch(c){}};google.time=function(){return(new Date).getTime()};google.log=function(a,b,c,d,g){a=google.logUrl(a,b,c,d,g);if(\"\"!=a){b=new Image;var e=google.lc,f=google.li;e[f]=b;b.onerror=b.onload=b.onabort=function(){delete e[f]};window.google&&window.google.vel&&window.google.vel.lu&&window.google.vel.lu(a);b.src=a;google.li=f+1}};google.logUrl=function(a,b,c,d,g){var e=\"\",f=google.ls||\"\";c||-1!=b.search(\"&ei=\")||(e=\"&ei=\"+google.getEI(d),-1==b.search(\"&lei=\")&&(d=google.getLEI(d))&&(e+=\"&lei=\"+d));a=c||\"/\"+(g||\"gen_204\")+\"?atyp=i&ct=\"+a+\"&cad=\"+b+e+f+\"&zx=\"+google.time();/^http:/i.test(a)&&google.https()&&(google.ml(Error(\"a\"),!1,{src:a,glmm:1}),a=\"\");return a};google.y={};google.x=function(a,b){google.y[a.id]=[a,b];return!1};google.lq=[];google.load=function(a,b,c){google.lq.push([[a],b,c])};google.loadAll=function(a,b){google.lq.push([a,b])};}).call(this);var a=window.location,b=a.href.indexOf(\"#\");if(0<=b){var c=a.href.substring(b+1);/(^|&)q=/.test(c)&&-1==c.indexOf(\"#\")&&a.replace(\"/search?\"+c.replace(/(^|&)fp=[^&]*/g,\"\")+\"&cad=h\")};</script><style>#gbar,#guser{font-size:13px;padding-top:1px !important;}#gbar{height:22px}#guser{padding-bottom:7px !important;text-align:right}.gbh,.gbd{border-top:1px solid #c9d7f1;font-size:1px}.gbh{height:0;position:absolute;top:24px;width:100%}@media all{.gb1{height:22px;margin-right:.5em;vertical-align:top}#gbar{float:left}}a.gb1,a.gb4{text-decoration:underline !important}a.gb1,a.gb4{color:#00c !important}.gbi .gb4{color:#dd8e27 !important}.gbf .gb4{color:#900 !important}\n",
      "</style><style>body,td,a,p,.h{font-family:arial,sans-serif}body{margin:0;overflow-y:scroll}#gog{padding:3px 8px 0}td{line-height:.8em}.gac_m td{line-height:17px}form{margin-bottom:20px}.h{color:#36c}.q{color:#00c}.ts td{padding:0}.ts{border-collapse:collapse}em{font-weight:bold;font-style:normal}.lst{height:25px;width:496px}.gsfi,.lst{font:18px arial,sans-serif}.gsfs{font:17px arial,sans-serif}.ds{display:inline-box;display:inline-block;margin:3px 0 4px;margin-left:4px}input{font-family:inherit}a.gb1,a.gb2,a.gb3,a.gb4{color:#11c !important}body{background:#fff;color:black}a{color:#11c;text-decoration:none}a:hover,a:active{text-decoration:underline}.fl a{color:#36c}a:visited{color:#551a8b}a.gb1,a.gb4{text-decoration:underline}a.gb3:hover{text-decoration:none}#ghead a.gb2:hover{color:#fff !important}.sblc{padding-top:5px}.sblc a{display:block;margin:2px 0;margin-left:13px;font-size:11px}.lsbb{background:#eee;border:solid 1px;border-color:#ccc #999 #999 #ccc;height:30px}.lsbb{display:block}.ftl,#fll a{display:inline-block;margin:0 12px}.lsb{background:url(/images/nav_logo229.png) 0 -261px repeat-x;border:none;color:#000;cursor:pointer;height:30px;margin:0;outline:0;font:15px arial,sans-serif;vertical-align:top}.lsb:active{background:#ccc}.lst:focus{outline:none}</style><script></script><link href=\"/images/branding/product/ico/googleg_lodp.ico\" rel=\"shortcut icon\"></head><body bgcolor=\"#fff\"><script>(function(){var src='/images/nav_logo229.png';var iesg=false;document.body.onload = function(){window.n && window.n();if (document.images){new Image().src=src;}\n",
      "if (!iesg){document.f&&document.f.q.focus();document.gbqf&&document.gbqf.q.focus();}\n",
      "}\n",
      "})();</script><div id=\"mngb\"> <div id=gbar><nobr><b class=gb1>Recherche</b> <a class=gb1 href=\"http://www.google.fr/imghp?hl=fr&tab=wi\">Images</a> <a class=gb1 href=\"http://maps.google.fr/maps?hl=fr&tab=wl\">Maps</a> <a class=gb1 href=\"https://play.google.com/?hl=fr&tab=w8\">Play</a> <a class=gb1 href=\"http://www.youtube.com/?gl=FR&tab=w1\">YouTube</a> <a class=gb1 href=\"http://news.google.fr/nwshp?hl=fr&tab=wn\">Actualit�s</a> <a class=gb1 href=\"https://mail.google.com/mail/?tab=wm\">Gmail</a> <a class=gb1 href=\"https://drive.google.com/?tab=wo\">Drive</a> <a class=gb1 style=\"text-decoration:none\" href=\"https://www.google.fr/intl/fr/options/\"><u>Plus</u> &raquo;</a></nobr></div><div id=guser width=100%><nobr><span id=gbn class=gbi></span><span id=gbf class=gbf></span><span id=gbe></span><a href=\"http://www.google.fr/history/optout?hl=fr\" class=gb4>Historique Web</a> | <a  href=\"/preferences?hl=fr\" class=gb4>Param�tres</a> | <a target=_top id=gb_70 href=\"https://accounts.google.com/ServiceLogin?hl=fr&passive=true&continue=http://www.google.fr/%3Fgfe_rd%3Dcr%26ei%3DQQZ4WKfUD-XU8geYjauoBg\" class=gb4>Connexion</a></nobr></div><div class=gbh style=left:0></div><div class=gbh style=right:0></div> </div><center><br clear=\"all\" id=\"lgpd\"><div id=\"lga\"><div style=\"padding:28px 0 3px\"><div style=\"height:110px;width:276px;background:url(/images/branding/googlelogo/1x/googlelogo_white_background_color_272x92dp.png) no-repeat\" title=\"Google\" align=\"left\" id=\"hplogo\" onload=\"window.lol&&lol()\"><div style=\"color:#777;font-size:16px;font-weight:bold;position:relative;top:70px;left:218px\" nowrap=\"\">France</div></div></div><br></div><form action=\"/search\" name=\"f\"><table cellpadding=\"0\" cellspacing=\"0\"><tr valign=\"top\"><td width=\"25%\">&nbsp;</td><td align=\"center\" nowrap=\"\"><input name=\"ie\" value=\"ISO-8859-1\" type=\"hidden\"><input value=\"fr\" name=\"hl\" type=\"hidden\"><input name=\"source\" type=\"hidden\" value=\"hp\"><input name=\"biw\" type=\"hidden\"><input name=\"bih\" type=\"hidden\"><div class=\"ds\" style=\"height:32px;margin:4px 0\"><input style=\"color:#000;margin:0;padding:5px 8px 0 6px;vertical-align:top\" autocomplete=\"off\" class=\"lst\" value=\"\" title=\"Recherche Google\" maxlength=\"2048\" name=\"q\" size=\"57\"></div><br style=\"line-height:0\"><span class=\"ds\"><span class=\"lsbb\"><input class=\"lsb\" value=\"Recherche Google\" name=\"btnG\" type=\"submit\"></span></span><span class=\"ds\"><span class=\"lsbb\"><input class=\"lsb\" value=\"J'ai de la chance\" name=\"btnI\" onclick=\"if(this.form.q.value)this.checked=1; else top.location='/doodles/'\" type=\"submit\"></span></span></td><td class=\"fl sblc\" align=\"left\" nowrap=\"\" width=\"25%\"><a href=\"/advanced_search?hl=fr&amp;authuser=0\">Recherche avanc�e</a><a href=\"/language_tools?hl=fr&amp;authuser=0\">Outils linguistiques</a></td></tr></table><input id=\"gbv\" name=\"gbv\" type=\"hidden\" value=\"1\"></form><div id=\"gac_scont\"></div><div style=\"font-size:83%;min-height:3.5em\"><br></div><span id=\"footer\"><div style=\"font-size:10pt\"><div style=\"margin:19px auto;text-align:center\" id=\"fll\"><a href=\"/intl/fr/ads/\">Solutions publicitaires</a><a href=\"/services/\">Solutions d'entreprise</a><a href=\"https://plus.google.com/106901486880272202822\" rel=\"publisher\">+Google</a><a href=\"/intl/fr/about.html\">� propos de Google</a><a href=\"http://www.google.fr/setprefdomain?prefdom=US&amp;sig=__6D-BNODTi25hLA1SHiVZ-PU8mpw%3D\" id=\"fehl\">Google.com</a></div></div><p style=\"color:#767676;font-size:8pt\">&copy; 2017 - <a href=\"/intl/fr/policies/privacy/\">Confidentialit�</a> - <a href=\"/intl/fr/policies/terms/\">Conditions</a></p></span></center><script>(function(){window.google.cdo={height:0,width:0};(function(){var a=window.innerWidth,b=window.innerHeight;if(!a||!b)var c=window.document,d=\"CSS1Compat\"==c.compatMode?c.documentElement:c.body,a=d.clientWidth,b=d.clientHeight;a&&b&&(a!=google.cdo.width||b!=google.cdo.height)&&google.log(\"\",\"\",\"/client_204?&atyp=i&biw=\"+a+\"&bih=\"+b+\"&ei=\"+google.kEI);}).call(this);})();</script><div id=\"xjsd\"></div><div id=\"xjsi\"><script>(function(){function c(b){window.setTimeout(function(){var a=document.createElement(\"script\");a.src=b;document.getElementById(\"xjsd\").appendChild(a)},0)}google.dljp=function(b,a){google.xjsu=b;c(a)};google.dlj=c;}).call(this);(function(){window.google.xjsrm=[];})();if(google.y)google.y.first=[];if(!google.xjs){window._=window._||{};window._._DumpException=function(e){throw e};if(google.timers&&google.timers.load.t){google.timers.load.t.xjsls=new Date().getTime();}google.dljp('/xjs/_/js/k\\x3dxjs.hp.en_US.p5VAGyYioiA.O/m\\x3dsb_he,d/rt\\x3dj/d\\x3d1/t\\x3dzcms/rs\\x3dACT90oHLM_wwKrKtz5GwOph_EW2UScW8Mw','/xjs/_/js/k\\x3dxjs.hp.en_US.p5VAGyYioiA.O/m\\x3dsb_he,d/rt\\x3dj/d\\x3d1/t\\x3dzcms/rs\\x3dACT90oHLM_wwKrKtz5GwOph_EW2UScW8Mw');google.xjs=1;}google.pmc={\"sb_he\":{\"agen\":true,\"cgen\":true,\"client\":\"heirloom-hp\",\"dh\":true,\"dhqt\":true,\"ds\":\"\",\"fl\":true,\"host\":\"google.fr\",\"isbh\":28,\"jam\":0,\"jsonp\":true,\"lm\":true,\"msgs\":{\"cibl\":\"Effacer la recherche\",\"dym\":\"Essayez avec cette orthographe :\",\"lcky\":\"J\\u0026#39;ai de la chance\",\"lml\":\"En savoir plus\",\"oskt\":\"Outils de saisie\",\"psrc\":\"Cette suggestion a bien �t� supprim�e de votre \\u003Ca href=\\\"/history\\\"\\u003Ehistorique Web\\u003C/a\\u003E.\",\"psrl\":\"Supprimer\",\"sbit\":\"Recherche par image\",\"srch\":\"Recherche Google\"},\"nds\":true,\"ovr\":{},\"pq\":\"\",\"refpd\":true,\"rfs\":[],\"scd\":10,\"sce\":5,\"stok\":\"McdOvxzb1tD2GBup9v1uhtqiBIU\"},\"d\":{}};google.y.first.push(function(){if(google.med){google.med('init');google.initHistory();google.med('history');}});if(google.j&&google.j.en&&google.j.xi){window.setTimeout(google.j.xi,0);}\n",
      "</script></div></body></html>\n"
     ]
    }
   ],
   "source": [
    "import Queue\n",
    "import threading\n",
    "import urllib2\n",
    "\n",
    "# called by each thread\n",
    "def get_url(q, url):\n",
    "    q.put(urllib2.urlopen(url).read())\n",
    "\n",
    "theurls = [\"http://google.com\", \"http://yahoo.com\"]\n",
    "\n",
    "q = Queue.Queue()\n",
    "\n",
    "for u in theurls:\n",
    "    t = threading.Thread(target=get_url, args = (q,u))\n",
    "    t.daemon = True\n",
    "    t.start()\n",
    "\n",
    "s = q.get()\n",
    "print s"
   ]
  },
  {
   "cell_type": "code",
   "execution_count": 209,
   "metadata": {
    "collapsed": false
   },
   "outputs": [
    {
     "name": "stdout",
     "output_type": "stream",
     "text": [
      "2017-01-13_00.01.33/  adaptiveDantzig.py   main.py\r\n",
      "2017-01-13_00.01.46/  adaptiveDantzig.pyc  simu-Copy1.ipynb\r\n",
      "2017-01-13_00.03.14/  algorithm.py\t   simu.ipynb\r\n",
      "2017-01-13_00.04.02/  algorithm.pyc\t   simus.py\r\n",
      "2017-01-13_00.10.11/  densities.py\t   spades.py\r\n",
      "2017-01-13_00.25.27/  densities.pyc\t   spades.pyc\r\n",
      "__pycache__/\t      densities_tools.py\r\n"
     ]
    }
   ],
   "source": [
    "ls"
   ]
  },
  {
   "cell_type": "code",
   "execution_count": 210,
   "metadata": {
    "collapsed": false
   },
   "outputs": [
    {
     "name": "stdout",
     "output_type": "stream",
     "text": [
      "/Users/mehdi/Dropbox/working folder/PHd/Text/weight_vector_estim_paper/weight_vector_estim_code/2017-01-13_00.25.27\n"
     ]
    }
   ],
   "source": [
    "cd 2017-01-13_00.25.27/\n"
   ]
  },
  {
   "cell_type": "code",
   "execution_count": 211,
   "metadata": {
    "collapsed": false
   },
   "outputs": [],
   "source": [
    "ls\n"
   ]
  },
  {
   "cell_type": "code",
   "execution_count": 202,
   "metadata": {
    "collapsed": false
   },
   "outputs": [],
   "source": [
    "from os import listdir\n",
    "from os.path import isfile, join\n",
    "folder = \"./\"\n",
    "onlyfiles = [f for f in listdir(folder) if (isfile(join(folder, f)) and f.startswith(\"res_K\"))]"
   ]
  },
  {
   "cell_type": "code",
   "execution_count": 204,
   "metadata": {
    "collapsed": false
   },
   "outputs": [
    {
     "name": "stdout",
     "output_type": "stream",
     "text": [
      "{'weight_vector_estim_lambda': [(0, 0.03000847281404928), (1, 0.08355772716276853), (2, 0.08552699490621746), (3, 0.09260099297849007), (4, 0.07930678430867902), (5, 0.1720296083200466), (6, 0.11945053640254823), (7, 0.17608382390634233), (8, 0.11071332960057036), (9, 0.05072163742410698)]}\n",
      "{'weight_vector_estim_lambda': [(0, 0.021114143197693613), (1, 0.09023989548854389), (2, 0.08194253915093139), (3, 0.07069513944107678), (4, 0.14149146313567892), (5, 0.1440885536821948), (6, 0.14855862627957658), (7, 0.12106442726258576), (8, 0.11976528931446008), (9, 0.06103983260604815)]}\n",
      "{'weight_vector_estim_lambda': [(0, 0.0795111037903125), (1, 0.15475190180579504), (2, 0.12231573493430106), (3, 0.07563821016432903), (4, 0.07272827217580424), (5, 0.09163978869400229), (6, 0.08007324774795627), (7, 0.11029482194120897), (8, 0.1692936713704029), (9, 0.04375315521575995)]}\n",
      "{'weight_vector_estim_lambda': [(0, 0.06576809509538847), (1, 0.09576399450735086), (2, 0.07090858064368671), (3, 0.10356862753445017), (4, 0.18063839637515983), (5, 0.12338460078881867), (6, 0.08583028267812068), (7, 0.09700038578800929), (8, 0.1269808484190913), (9, 0.05015607329072923)]}\n",
      "{'weight_vector_estim_lambda': [(0, 0.07066839536353048), (1, 0.07531888404064592), (2, 0.06586092348951082), (3, 0.10857540461968423), (4, 0.17679211174148587), (5, 0.1292104373761185), (6, 0.08850851322909879), (7, 0.13988688139528005), (8, 0.06514048505616005), (9, 0.08003780615500634)]}\n",
      "{'weight_vector_estim_lambda': [(0, 0.05723353346991653), (1, 0.06120737059947418), (2, 0.1045212436640962), (3, 0.12219270416373812), (4, 0.08179290702943323), (5, 0.06767606688673598), (6, 0.09558824457905502), (7, 0.1492092558656173), (8, 0.1275521372276834), (9, 0.13302633770537856)]}\n",
      "{'weight_vector_estim_lambda': [(0, 0.06113819965584214), (1, 0.08473391011949122), (2, 0.14534621356361302), (3, 0.0680090760445613), (4, 0.1035712095907839), (5, 0.10528708248229177), (6, 0.09461776712745336), (7, 0.09062494607380543), (8, 0.1495826239953871), (9, 0.09708893574045337)]}\n",
      "{'weight_vector_estim_lambda': [(0, 0.07018225998414172), (1, 0.07362307716662517), (2, 0.11044806599874693), (3, 0.15918613998480452), (4, 0.11674225831732396), (5, 0.1823547765424761), (6, 0.06124115670882015), (7, 0.10123133573513073), (8, 0.03284260122534299), (9, 0.09214823451077217)]}\n",
      "{'weight_vector_estim_lambda': [(0, 0.04004014564203745), (1, 0.0815837133605935), (2, 0.15063101526315434), (3, 0.07027579385471576), (4, 0.08047955216314268), (5, 0.08498818484471765), (6, 0.11115754350745567), (7, 0.10226191699453265), (8, 0.19846471932511492), (9, 0.08011732190508594)]}\n",
      "{'weight_vector_estim_lambda': [(0, 0.06566675526325723), (1, 0.06600456178327736), (2, 0.10800733518458897), (3, 0.16087154031727904), (4, 0.1001437703952342), (5, 0.10570327106087961), (6, 0.1250778756138282), (7, 0.12667296581328755), (8, 0.08138055824555385), (9, 0.06047107688953546)]}\n",
      "{'weight_vector_estim_lambda': [(0, 0.06364304199962031), (1, 0.1103646335552861), (2, 0.0975316167689413), (3, 0.09018156017922806), (4, 0.1250078969264819), (5, 0.16499743043078835), (6, 0.0712195785028568), (7, 0.10550089405240519), (8, 0.08837276124366644), (9, 0.08318046567817566)]}\n",
      "{'weight_vector_estim_lambda': [(0, 0.05005188973125202), (1, 0.09093663399940767), (2, 0.09129154095900464), (3, 0.09029688355506135), (4, 0.1286749022051132), (5, 0.10221748679029133), (6, 0.10687191909048213), (7, 0.12085166455934707), (8, 0.16871782308118213), (9, 0.05008908131307517)]}\n",
      "{'weight_vector_estim_lambda': [(0, 0.0400124022357163), (1, 0.12660963020191998), (2, 0.12603847046771807), (3, 0.11952917175796804), (4, 0.09003250149482807), (5, 0.146462288856822), (6, 0.12144109417195255), (7, 0.0962043098674812), (8, 0.08417548516189627), (9, 0.049494637326634124)]}\n",
      "{'weight_vector_estim_lambda': [(0, 0.06005448986137267), (1, 0.11537532236643461), (2, 0.09284913453081413), (3, 0.11097635273920474), (4, 0.1767301500770983), (5, 0.11111675476252982), (6, 0.07260296910055164), (7, 0.0939113411272642), (8, 0.12600013859746503), (9, 0.04038309132945693)]}\n",
      "{'weight_vector_estim_lambda': [(0, 0.030780676737586672), (1, 0.18994875253462706), (2, 0.08428774049809808), (3, 0.08227887975030392), (4, 0.13782826823890232), (5, 0.09159088644822376), (6, 0.1013086973263292), (7, 0.11415490332974705), (8, 0.10781607014198336), (9, 0.06000503400418667)]}\n",
      "{'weight_vector_estim_lambda': [(0, 0.09205338754526805), (1, 0.1179798051785128), (2, 0.12073873189465388), (3, 0.09022144666024991), (4, 0.13197107194010516), (5, 0.11705938962013693), (6, 0.10521960614946185), (7, 0.05229465471655279), (8, 0.12244591959586465), (9, 0.050015870852759305)]}\n",
      "{'weight_vector_estim_lambda': [(0, 0.04000203053268132), (1, 0.0906411202020075), (2, 0.08344152649286186), (3, 0.12881539326775232), (4, 0.09776373456650664), (5, 0.18575500043400275), (6, 0.07353195889520125), (7, 0.10515067922066375), (8, 0.11675171367399871), (9, 0.07814673287873947)]}\n",
      "{'weight_vector_estim_lambda': [(0, 0.03067668756419374), (1, 0.09027801987974358), (2, 0.11710081316313793), (3, 0.12547557979521762), (4, 0.14559143639717093), (5, 0.10043338874147548), (6, 0.030655218429082524), (7, 0.11002435514557027), (8, 0.17956569024353572), (9, 0.07019863766102255)]}\n",
      "{'weight_vector_estim_lambda': [(0, 0.023354909855917778), (1, 0.09410883391849016), (2, 0.1757809618224735), (3, 0.09087535811524772), (4, 0.11917196608607415), (5, 0.09850257689215614), (6, 0.11290820737098853), (7, 0.09048928283961147), (8, 0.13434712752933803), (9, 0.060460650365605335)]}\n",
      "{'weight_vector_estim_lambda': [(0, 0.03377108490134572), (1, 0.058817932755379373), (2, 0.0857038182668879), (3, 0.15417538329857514), (4, 0.08446794779691023), (5, 0.09957397456317744), (6, 0.15971430992586858), (7, 0.0900084027637411), (8, 0.12066129763591142), (9, 0.11310565165652485)]}\n",
      "{'weight_vector_estim_lambda': [(0, 0.060000641011118266), (1, 0.1189375729413426), (2, 0.1105735106842796), (3, 0.1305365204433188), (4, 0.08191334933250101), (5, 0.1426666791414225), (6, 0.1301749426413032), (7, 0.1053481333700658), (8, 0.09660729727879708), (9, 0.023241065173088396)]}\n",
      "{'weight_vector_estim_lambda': [(0, 0.10103283999530006), (1, 0.1736767279908698), (2, 0.12115110764234605), (3, 0.15039647880417847), (4, 0.06101669424863664), (5, 0.07818987944507956), (6, 0.054440094186323805), (7, 0.07383695866377875), (8, 0.1256814646500796), (9, 0.06057768015248189)]}\n",
      "{'weight_vector_estim_lambda': [(0, 0.07908587690495367), (1, 0.11887992567943977), (2, 0.10890663482019544), (3, 0.10000465677670053), (4, 0.07380310756273593), (5, 0.09981371861474905), (6, 0.11097065771833449), (7, 0.13114449027093159), (8, 0.14103145567519734), (9, 0.036359382095420105)]}\n",
      "{'weight_vector_estim_lambda': [(0, 0.050666534197598735), (1, 0.11893069172516824), (2, 0.19996354384798665), (3, 0.07850942467762329), (4, 0.0679160685649577), (5, 0.1840350580603552), (6, 0.10505732500509696), (7, 0.05005049046353826), (8, 0.07198267467570515), (9, 0.07288803891719604)]}\n",
      "{'weight_vector_estim_lambda': [(0, 0.010158684810825084), (1, 0.10418544823702065), (2, 0.1411295662511372), (3, 0.11802985932416032), (4, 0.19141813831867344), (5, 0.05151017966661808), (6, 0.09918797309681802), (7, 0.12155433243613217), (8, 0.08391106826254159), (9, 0.07891463824896003)]}\n",
      "{'weight_vector_estim_lambda': [(0, 0.03668515575339247), (1, 0.09548269245219082), (2, 0.10797539995219448), (3, 0.07056644706582352), (4, 0.13890608795419288), (5, 0.1430566758246501), (6, 0.11693348952705572), (7, 0.12902328434577326), (8, 0.0996777439166674), (9, 0.0616929064263587)]}\n",
      "{'weight_vector_estim_lambda': [(0, 0.05026951871292607), (1, 0.10458388755902087), (2, 0.07036338411090133), (3, 0.09237610165566164), (4, 0.10074173325303053), (5, 0.11193371887294193), (6, 0.15233164073101252), (7, 0.09014283493716556), (8, 0.14485576090043906), (9, 0.08240134607437978)]}\n",
      "{'weight_vector_estim_lambda': [(0, 0.03506047202306045), (1, 0.0770999984153736), (2, 0.1601959795308042), (3, 0.09022527590495069), (4, 0.08702463946169037), (5, 0.12166239394935582), (6, 0.13419465386050217), (7, 0.14061000124664327), (8, 0.12118284979593567), (9, 0.03274356843122904)]}\n",
      "{'weight_vector_estim_lambda': [(0, 0.02241581617752715), (1, 0.17167943702384325), (2, 0.16250709270756766), (3, 0.10583391873403068), (4, 0.07639990565320526), (5, 0.1176275957515978), (6, 0.08934676291359349), (7, 0.1068058888148514), (8, 0.08001732416770868), (9, 0.06736613683241748)]}\n",
      "{'weight_vector_estim_lambda': [(0, 0.060238738676755464), (1, 0.1299117274113685), (2, 0.08509262040744708), (3, 0.09570669766949973), (4, 0.13001272266004177), (5, 0.10097009135037753), (6, 0.14550677430447034), (7, 0.10278959944807968), (8, 0.081034469303875), (9, 0.06873645872245868)]}\n",
      "{'weight_vector_estim_lambda': [(0, 0.07078625905671), (1, 0.10643792026149174), (2, 0.03421352580080658), (3, 0.13092972432331448), (4, 0.09213332536282584), (5, 0.13697057537305213), (6, 0.16851331051804908), (7, 0.10106250995678677), (8, 0.07042982251529502), (9, 0.08852281473002224)]}\n",
      "{'weight_vector_estim_lambda': [(0, 0.040004221430577094), (1, 0.1308566135947319), (2, 0.1605402647982501), (3, 0.11715516548819425), (4, 0.05094298640627057), (5, 0.14527418209631243), (6, 0.10141689011501051), (7, 0.08265889155219804), (8, 0.16113503461787787), (9, 0.01001557682248994)]}\n",
      "{'weight_vector_estim_lambda': [(0, 0.11074253927969864), (1, 0.10228840547494913), (2, 0.06543708967860772), (3, 0.050380949660322964), (4, 0.12211441525570343), (5, 0.14465749286202084), (6, 0.10660922235658711), (7, 0.09504495550157793), (8, 0.12681537041342705), (9, 0.07590943668181088)]}\n",
      "{'weight_vector_estim_lambda': [(0, 0.07428927186256717), (1, 0.13966602994178473), (2, 0.041201375108481056), (3, 0.15923248016493238), (4, 0.04369432730236244), (5, 0.1588953602625046), (6, 0.1104883705048723), (7, 0.10674853221307323), (8, 0.10392608200328408), (9, 0.06185808348337617)]}\n",
      "{'weight_vector_estim_lambda': [(0, 0.06533692571671182), (1, 0.2012967339814677), (2, 0.1225901745836001), (3, 0.054554324417305324), (4, 0.10878523325814357), (5, 0.050002362340806523), (6, 0.11040768858076534), (7, 0.10301836478032324), (8, 0.10113421555965404), (9, 0.08287391510160234)]}\n",
      "{'weight_vector_estim_lambda': [(0, 0.0730894900694708), (1, 0.08052028566378469), (2, 0.1535181768284406), (3, 0.15459115372831597), (4, 0.07876424553076768), (5, 0.07635999941912305), (6, 0.060001867635053684), (7, 0.13572137103230383), (8, 0.14710120149603617), (9, 0.0403320772579727)]}\n",
      "{'weight_vector_estim_lambda': [(0, 0.059021436598802914), (1, 0.1478736755682628), (2, 0.045516968010139575), (3, 0.14691235439320302), (4, 0.08200176536191105), (5, 0.061358476587156895), (6, 0.07978815161163863), (7, 0.08165518067338637), (8, 0.18072314690089575), (9, 0.11514855610099117)]}\n",
      "{'weight_vector_estim_lambda': [(0, 0.050013641978316474), (1, 0.10241214204267453), (2, 0.06674732959418878), (3, 0.0977354691432591), (4, 0.06926037042762939), (5, 0.13609957786381155), (6, 0.16004288316707432), (7, 0.08067170199001976), (8, 0.1583239737107016), (9, 0.07869241739949338)]}\n",
      "{'weight_vector_estim_lambda': [(0, 0.04011116590823154), (1, 0.09088099694001771), (2, 0.13181577409567677), (3, 0.1015576104600219), (4, 0.1657353083629204), (5, 0.11017902408113371), (6, 0.1065113819770785), (7, 0.11571894479477601), (8, 0.1274891574802205), (9, 0.010000534968454926)]}\n",
      "{'weight_vector_estim_lambda': [(0, 0.07684192220995119), (1, 0.1766617475292302), (2, 0.09383124712917254), (3, 0.11657467340749568), (4, 0.12760665802739216), (5, 0.13464917046173197), (6, 0.04754751932095215), (7, 0.12670870255405925), (8, 0.07897639995550168), (9, 0.020601834848221513)]}\n",
      "{'weight_vector_estim_lambda': [(0, 0.06184498355016735), (1, 0.0707530252169564), (2, 0.1253019667180091), (3, 0.13677770279106718), (4, 0.14669953921140136), (5, 0.08051912195872651), (6, 0.08250212756761231), (7, 0.08049682275898451), (8, 0.14507811995347583), (9, 0.07002640865540474)]}\n",
      "{'weight_vector_estim_lambda': [(0, 0.09799324524841196), (1, 0.09699959270257028), (2, 0.080887638328316), (3, 0.11136289459253015), (4, 0.15435952321270924), (5, 0.12155637077351994), (6, 0.08313286823256592), (7, 0.10257559558702282), (8, 0.13047047435097234), (9, 0.02066102662579131)]}\n",
      "{'weight_vector_estim_lambda': [(0, 0.07371146652647845), (1, 0.1274722015396792), (2, 0.1586886518926143), (3, 0.07586500475460232), (4, 0.1538524833870206), (5, 0.12520703747474402), (6, 0.09001103017820213), (7, 0.12751497766221354), (8, 0.03731107453387938), (9, 0.030366014463742794)]}\n",
      "{'weight_vector_estim_lambda': [(0, 0.012617303824283225), (1, 0.118021853609338), (2, 0.05944087416967003), (3, 0.08780708934901602), (4, 0.12420409107213665), (5, 0.1577205411687285), (6, 0.10906017354903542), (7, 0.17504526906446694), (8, 0.09437135688482244), (9, 0.06171133194581623)]}\n",
      "{'weight_vector_estim_lambda': [(0, 0.07001555234915774), (1, 0.09573434881732854), (2, 0.1348436385205968), (3, 0.08014416042516627), (4, 0.14144463137830204), (5, 0.08343882878104275), (6, 0.11916235901380236), (7, 0.13756118908174553), (8, 0.09542790954780027), (9, 0.04222692312554732)]}\n",
      "{'weight_vector_estim_lambda': [(0, 0.045095931429394935), (1, 0.13524692531667837), (2, 0.07184073694957069), (3, 0.08307735284213848), (4, 0.08090148511567465), (5, 0.10474233838600762), (6, 0.1252192888044087), (7, 0.1500926850467244), (8, 0.09865668590178611), (9, 0.10512644342317735)]}\n",
      "{'weight_vector_estim_lambda': [(0, 0.0542136162321425), (1, 0.15401843354194084), (2, 0.06053279649262549), (3, 0.08033783423775978), (4, 0.10776224295286155), (5, 0.1340120648496599), (6, 0.1314500394173727), (7, 0.14082439694985313), (8, 0.08488136980531426), (9, 0.051967090587229654)]}\n",
      "{'weight_vector_estim_lambda': [(0, 0.029579870912562912), (1, 0.09299610216465597), (2, 0.2120806312081471), (3, 0.07865256671113321), (4, 0.14063490508958001), (5, 0.0901704862928564), (6, 0.1000226547028767), (7, 0.1347545681900688), (8, 0.03008445175565822), (9, 0.09102354177167787)]}\n",
      "{'weight_vector_estim_lambda': [(0, 0.04007654277442823), (1, 0.12368773583334189), (2, 0.05156471773360767), (3, 0.13444427159546996), (4, 0.08283168909083548), (5, 0.06686509678366752), (6, 0.13492696255765338), (7, 0.10787565771436329), (8, 0.22707910686208746), (9, 0.03064795193811136)]}\n",
      "{'weight_vector_estim_lambda': [(1, 0.11290216405133413), (2, 0.10248957133145457), (3, 0.09944293480726674), (4, 0.07049549865394143), (5, 0.1294809260596718), (6, 0.16568582975266694), (7, 0.12615615017655396), (8, 0.12981251671404773), (9, 0.06353331851190817)]}\n",
      "{'weight_vector_estim_lambda': [(0, 0.029181195505597564), (1, 0.181527093044536), (2, 0.11820847505645163), (3, 0.05017280683536979), (4, 0.07645231005890417), (5, 0.14085140149002134), (6, 0.11171145759801968), (7, 0.06138545934887917), (8, 0.16294723918736578), (9, 0.06756228883893178)]}\n",
      "{'weight_vector_estim_lambda': [(0, 0.061425068086024076), (1, 0.08587535122405206), (2, 0.20912091260351692), (3, 0.07360028591028361), (4, 0.07095949976209168), (5, 0.05046972102333427), (6, 0.13106442323543563), (7, 0.12818741216409454), (8, 0.13546300565435926), (9, 0.0538342181568272)]}\n",
      "{'weight_vector_estim_lambda': [(0, 0.0685639422809667), (1, 0.08396555157434223), (2, 0.1015176510204398), (3, 0.11124537773675217), (4, 0.14368267819617728), (5, 0.0652408200298377), (6, 0.10203787608615342), (7, 0.14453912607320937), (8, 0.09812959812343748), (9, 0.08107711884528726)]}\n",
      "{'weight_vector_estim_lambda': [(0, 0.053116926253901985), (1, 0.1107956021363474), (2, 0.11707762442132022), (3, 0.13055110517843335), (4, 0.15566505544913467), (5, 0.09113798667318988), (6, 0.12842206060544004), (7, 0.09125689028804101), (8, 0.04058983514972931), (9, 0.08138687338839061)]}\n",
      "{'weight_vector_estim_lambda': [(0, 0.046543958274601165), (1, 0.15984615500921534), (2, 0.11478381455519207), (3, 0.09211961482776562), (4, 0.13279203973284331), (5, 0.08319494188415226), (6, 0.0968994456919553), (7, 0.11661373207675582), (8, 0.1469484987527113), (9, 0.010257401932680935)]}\n",
      "{'weight_vector_estim_lambda': [(0, 0.08993147100142808), (1, 0.08423097035656578), (2, 0.07873036185286854), (3, 0.12228021746575451), (4, 0.0769707042057261), (5, 0.08674191125846337), (6, 0.0935113131032907), (7, 0.20554299560955305), (8, 0.07131534527625477), (9, 0.09074461258137301)]}\n",
      "{'weight_vector_estim_lambda': [(0, 0.030004222623804824), (1, 0.0802291311672401), (2, 0.13070749206952278), (3, 0.16235372957992622), (4, 0.10462948561753224), (5, 0.12435875220662981), (6, 0.10426385342202404), (7, 0.0702357282735024), (8, 0.17214905338389552), (9, 0.021068287548465396)]}\n",
      "{'weight_vector_estim_lambda': [(0, 0.0200037049980492), (1, 0.09754455725144813), (2, 0.1903030420658585), (3, 0.14605578071206957), (4, 0.09304285063792922), (5, 0.06000523118810539), (6, 0.0770170008327181), (7, 0.1659406704763988), (8, 0.10559406338480087), (9, 0.0444929348135575)]}\n",
      "{'weight_vector_estim_lambda': [(0, 0.02103924246238326), (1, 0.09254303099908752), (2, 0.13434077509083966), (3, 0.11065489932136652), (4, 0.10454277962409782), (5, 0.12926094732141888), (6, 0.09643513210972751), (7, 0.1011419824600533), (8, 0.15378339093514098), (9, 0.056257590522479195)]}\n",
      "{'weight_vector_estim_lambda': [(0, 0.05425968043298141), (1, 0.16194238937310546), (2, 0.13000970391525382), (3, 0.11932133916841539), (4, 0.11312315253399874), (5, 0.06251745621395012), (6, 0.12112236113744232), (7, 0.1261875465408937), (8, 0.060435958798767786), (9, 0.05108013761296346)]}\n",
      "{'weight_vector_estim_lambda': [(0, 0.10102085133869809), (1, 0.1720652779519552), (2, 0.025263395930763544), (3, 0.06763807471194618), (4, 0.2573147089712119), (5, 0.08846218425491333), (6, 0.09319660786368265), (7, 0.06274484187499216), (8, 0.09085686296596367), (9, 0.04143710691041891)]}\n",
      "{'weight_vector_estim_lambda': [(0, 0.03988986023762597), (1, 0.15233012014063482), (2, 0.07901167659748366), (3, 0.1578008634158206), (4, 0.10319086708170026), (5, 0.184709230403333), (6, 0.053472387101548835), (7, 0.0779981094063067), (8, 0.09117286272215652), (9, 0.06042391067394169)]}\n",
      "{'weight_vector_estim_lambda': [(0, 0.047647015101846234), (1, 0.11324384827219479), (2, 0.07633662045811358), (3, 0.15502326116863194), (4, 0.12306237251200325), (5, 0.030807214992913286), (6, 0.10565490395778608), (7, 0.1210528482612872), (8, 0.14332271047776943), (9, 0.08384912144119468)]}\n",
      "{'weight_vector_estim_lambda': [(0, 0.043697666873367395), (1, 0.10962442687578407), (2, 0.13108298145364733), (3, 0.16993920648119407), (4, 0.11327931231755806), (5, 0.13617138517834293), (6, 0.06458193562121047), (7, 0.13330037522602536), (8, 0.08831942994843464), (9, 0.010003210819967136)]}\n",
      "{'weight_vector_estim_lambda': [(0, 0.08527767023519668), (1, 0.10071642382260615), (2, 0.16416826460812506), (3, 0.07201911525047063), (4, 0.14788329097505845), (5, 0.05105015216478922), (6, 0.12247727958956436), (7, 0.12376335735792349), (8, 0.09003573155798052), (9, 0.04260830591012826)]}\n",
      "{'weight_vector_estim_lambda': [(0, 0.030883861335037958), (1, 0.13234292703591513), (2, 0.10228193762879083), (3, 0.10030183667476877), (4, 0.15723978511331085), (5, 0.06491444647990843), (6, 0.14631404695765157), (7, 0.13149375146207076), (8, 0.062426764329475824), (9, 0.07180053744279351)]}\n",
      "{'weight_vector_estim_lambda': [(0, 0.06211542826569935), (1, 0.07097274776068573), (2, 0.16097956472506672), (3, 0.03008201652131577), (4, 0.195728417720118), (5, 0.09942529134818393), (6, 0.11549997816915786), (7, 0.17661000804870577), (8, 0.07857478730215373), (9, 0.010011675343343176)]}\n",
      "{'weight_vector_estim_lambda': [(0, 0.043701552845794314), (1, 0.09072422076746434), (2, 0.1242402572456891), (3, 0.12045057506862655), (4, 0.20696160639237032), (5, 0.09036372509980106), (6, 0.10305621506355067), (7, 0.12040344957482567), (8, 0.09009722745569547), (9, 0.010001109953256997)]}\n",
      "{'weight_vector_estim_lambda': [(0, 0.04036106240947416), (1, 0.1025484344587675), (2, 0.09140857402025696), (3, 0.24041288226776722), (4, 0.09899990653670881), (5, 0.03440163137505953), (6, 0.12330787804591757), (7, 0.12373848213670961), (8, 0.0937289215356195), (9, 0.05109207787591416)]}\n",
      "{'weight_vector_estim_lambda': [(0, 0.022115250999108608), (1, 0.170157175310478), (2, 0.15543753446217545), (3, 0.0531262165097723), (4, 0.14196606741109077), (5, 0.11755406449856667), (6, 0.12258505154846511), (7, 0.05329484576070217), (8, 0.12369694958021563), (9, 0.0400666410372345)]}\n",
      "{'weight_vector_estim_lambda': [(0, 0.09956836394680599), (1, 0.08730093737125688), (2, 0.11950929969648447), (3, 0.07844103918861871), (4, 0.1504691645007236), (5, 0.09438483233131584), (6, 0.10001398573108469), (7, 0.10030610515231407), (8, 0.07859582051271963), (9, 0.09141033852284061)]}\n",
      "{'weight_vector_estim_lambda': [(0, 0.04000230777797705), (1, 0.15404187572229036), (2, 0.11850873262627308), (3, 0.08459575109497443), (4, 0.07953187805101339), (5, 0.09208148984861346), (6, 0.11467069974635649), (7, 0.1112437784346482), (8, 0.1216520834266025), (9, 0.08367124881322181)]}\n",
      "{'weight_vector_estim_lambda': [(0, 0.030901739880889262), (1, 0.10668779529207252), (2, 0.15658395542097758), (3, 0.13482399519044533), (4, 0.08858403448601794), (5, 0.19179234973173445), (6, 0.12134801955370329), (7, 0.06359778492879631), (8, 0.05273473559593403), (9, 0.05294515794627552)]}\n",
      "{'weight_vector_estim_lambda': [(0, 0.05171979129277846), (1, 0.09290641125213744), (2, 0.11735435578414549), (3, 0.07041734052366759), (4, 0.12054636480761596), (5, 0.10583665173731982), (6, 0.15497625814271337), (7, 0.13078486624389288), (8, 0.09254817509631547), (9, 0.06290970302841875)]}\n",
      "{'weight_vector_estim_lambda': [(0, 0.05006160676214065), (1, 0.09000517343486877), (2, 0.10955816813394575), (3, 0.127259002853107), (4, 0.17057188593127287), (5, 0.10860930307645945), (6, 0.10118998130674729), (7, 0.096510056857183), (8, 0.11320456725777889), (9, 0.033030132854970924)]}\n",
      "{'weight_vector_estim_lambda': [(1, 0.09724445090551156), (2, 0.10274390873373161), (3, 0.19575470792582386), (4, 0.093783377172858), (5, 0.13067975041301794), (6, 0.05450060853716509), (7, 0.2004766969240899), (8, 0.09840333443175879), (9, 0.026412593197951494)]}\n",
      "{'weight_vector_estim_lambda': [(0, 0.02409749424356522), (1, 0.06385268006388556), (2, 0.20387185639242192), (3, 0.18478235869163456), (4, 0.07305996426531229), (5, 0.09366734042549404), (6, 0.12994871923372234), (7, 0.0804502822351303), (8, 0.11019076426870436), (9, 0.0360783780846458)]}\n",
      "{'weight_vector_estim_lambda': [(0, 0.05033340718392127), (1, 0.07483557271143937), (2, 0.2103771302093833), (3, 0.07816845205015036), (4, 0.1518869353623731), (5, 0.055773365616403954), (6, 0.14372165444412516), (7, 0.12757127732380655), (8, 0.072000885446516), (9, 0.03533124834918792)]}\n",
      "{'weight_vector_estim_lambda': [(0, 0.07489610691938571), (1, 0.1355514698705379), (2, 0.07007979900710815), (3, 0.10313209190288192), (4, 0.12354421492002485), (5, 0.17779369962801003), (6, 0.09026853495129754), (7, 0.07578806773680859), (8, 0.09262169791449465), (9, 0.05632415944711566)]}\n",
      "{'weight_vector_estim_lambda': [(0, 0.0801285748878645), (1, 0.15397786794570356), (2, 0.07035159832297935), (3, 0.07000138093309567), (4, 0.14977097512817494), (5, 0.08846230431609742), (6, 0.1147315797735157), (7, 0.14074254333965408), (8, 0.08363830872293408), (9, 0.048194806043115074)]}\n",
      "{'weight_vector_estim_lambda': [(0, 0.09404746383467416), (1, 0.11041914025405064), (2, 0.09020882385972495), (3, 0.10304651666912974), (4, 0.1468347986870718), (5, 0.1385870325148661), (6, 0.0719642560676336), (7, 0.10939367672841475), (8, 0.05596302855472282), (9, 0.07953520810976944)]}\n",
      "{'weight_vector_estim_lambda': [(0, 0.11332248054768951), (1, 0.13094760694801538), (2, 0.10420732485115405), (3, 0.10481096960888911), (4, 0.09665756600401416), (5, 0.1313507371433208), (6, 0.08259423824554736), (7, 0.09316359305563741), (8, 0.09011005829498128), (9, 0.05283533140935445)]}\n",
      "{'weight_vector_estim_lambda': [(0, 0.07389493502740185), (1, 0.17264132071479774), (2, 0.10033034393620775), (3, 0.049892259570618686), (4, 0.07451591708025365), (5, 0.07747344359108257), (6, 0.17775539494010614), (7, 0.09331522574503193), (8, 0.11948468131862043), (9, 0.06069594370638459)]}\n",
      "{'weight_vector_estim_lambda': [(0, 0.03661992151765406), (1, 0.13859579456072482), (2, 0.10606534354674312), (3, 0.10366849251221195), (4, 0.06588975157717729), (5, 0.10005514671301226), (6, 0.14205017081166188), (7, 0.1562664894443152), (8, 0.10708763394290279), (9, 0.04370114810050513)]}\n",
      "{'weight_vector_estim_lambda': [(0, 0.05516089816372393), (1, 0.13132636298885178), (2, 0.1162853828467756), (3, 0.1141022909113026), (4, 0.11605506233848722), (5, 0.09807867424230263), (6, 0.10954542001011923), (7, 0.053201359168350046), (8, 0.10291485956010697), (9, 0.10332957383983786)]}\n",
      "{'weight_vector_estim_lambda': [(0, 0.1500895594466566), (1, 0.07403512026352789), (2, 0.05319671307687643), (3, 0.08008324963185784), (4, 0.13641260485170412), (5, 0.09161139426926877), (6, 0.07121828628734116), (7, 0.09595204098419922), (8, 0.2072554375265944), (9, 0.04014551387720196)]}\n",
      "{'weight_vector_estim_lambda': [(0, 0.04547911338015523), (1, 0.16530085970145494), (2, 0.11579910316897199), (3, 0.08482919380981607), (4, 0.12111616247963865), (5, 0.09851060880194101), (6, 0.13829528359111437), (7, 0.03812296995544059), (8, 0.1008511990200473), (9, 0.09169511355574284)]}\n",
      "{'weight_vector_estim_lambda': [(0, 0.045361471906672314), (1, 0.07267819140770027), (2, 0.15836414402137028), (3, 0.12011757765552752), (4, 0.09754475887262999), (5, 0.10053704625680501), (6, 0.08055911881118169), (7, 0.10038299092348119), (8, 0.1094266457846348), (9, 0.11502793537971946)]}\n",
      "{'weight_vector_estim_lambda': [(0, 0.04434776204096941), (1, 0.10640697626238269), (2, 0.12852171923731756), (3, 0.060212498130479866), (4, 0.11018057341838333), (5, 0.10896332803324094), (6, 0.11974458332149432), (7, 0.0948288228108181), (8, 0.19678640910924433), (9, 0.03000719011336427)]}\n",
      "{'weight_vector_estim_lambda': [(0, 0.09544720163611588), (1, 0.07678122981088249), (2, 0.10668319622316755), (3, 0.13671876117166734), (4, 0.15662932473438762), (5, 0.058308796071918356), (6, 0.07249448595037951), (7, 0.10261071870263001), (8, 0.0998921993388198), (9, 0.0944340212490412)]}\n",
      "{'weight_vector_estim_lambda': [(0, 0.060092644238146226), (1, 0.1508961706372882), (2, 0.09010282125453005), (3, 0.16817658939841948), (4, 0.11721027231725424), (5, 0.08444603217239477), (6, 0.10065422529607332), (7, 0.11817498266942116), (8, 0.07024231060315998), (9, 0.04000381731500648)]}\n",
      "{'weight_vector_estim_lambda': [(0, 0.07112393163226488), (1, 0.14375209109148257), (2, 0.12328346052228875), (3, 0.060534960086028974), (4, 0.06781219807309495), (5, 0.09295327499591982), (6, 0.10424870142430205), (7, 0.13967603343132506), (8, 0.13065186275670554), (9, 0.06596339394665357)]}\n",
      "{'weight_vector_estim_lambda': [(0, 0.030609027993821855), (1, 0.1573507601353218), (2, 0.12801011432918946), (3, 0.12054778085951548), (4, 0.09246153483453606), (5, 0.11804431874215844), (6, 0.14031557206633197), (7, 0.0771572252987143), (8, 0.08172200959614896), (9, 0.05378151778974937)]}\n",
      "{'weight_vector_estim_lambda': [(0, 0.04023632048990772), (1, 0.13108648617062585), (2, 0.10530072559462011), (3, 0.08110708721178893), (4, 0.07963036177182302), (5, 0.1288936478314552), (6, 0.14023369688169016), (7, 0.10767634163095388), (8, 0.11582715938500025), (9, 0.07000799613210172)]}\n",
      "{'weight_vector_estim_lambda': [(0, 0.030481707058644048), (1, 0.12494169446239725), (2, 0.15204950032820677), (3, 0.15201896628183303), (4, 0.04469892592213501), (5, 0.09005013743400045), (6, 0.1747173079013351), (7, 0.07488168579228935), (8, 0.09823862929228558), (9, 0.05792136361791392)]}\n",
      "{'weight_vector_estim_lambda': [(0, 0.07786664542699812), (1, 0.14158938893887751), (2, 0.14536814876580556), (3, 0.0733508027816518), (4, 0.09915254009061183), (5, 0.07774514967716513), (6, 0.06749233586697825), (7, 0.10598824722468968), (8, 0.1406833082167449), (9, 0.07076329432524235)]}\n",
      "{'weight_vector_estim_lambda': [(0, 0.032118833645532974), (1, 0.12423847660040316), (2, 0.04182821564680899), (3, 0.153450053482698), (4, 0.10016971561529149), (5, 0.07861149772633597), (6, 0.13347754455499566), (7, 0.14453923225685159), (8, 0.10036701690350536), (9, 0.09119936883469135)]}\n",
      "{'weight_vector_estim_lambda': [(0, 0.03101784121718829), (1, 0.15168731640545755), (2, 0.09042430961770609), (3, 0.0935250714066213), (4, 0.12194667020987406), (5, 0.12655360388830386), (6, 0.1338293284599751), (7, 0.09630602323412404), (8, 0.1145088292275366), (9, 0.04020094156706397)]}\n",
      "{'weight_vector_estim_lambda': [(0, 0.07001519995905137), (1, 0.07797043095608482), (2, 0.1803293289056974), (3, 0.11438729364497457), (4, 0.09213846739353616), (5, 0.0789165068524031), (6, 0.20776596353135887), (7, 0.08075714423279653), (8, 0.05742532442093699), (9, 0.040294162163794306)]}\n",
      "{'weight_vector_estim_lambda': [(0, 0.0406737630032679), (1, 0.11980667991533844), (2, 0.045553226336322784), (3, 0.08295628999980818), (4, 0.1468522154502969), (5, 0.1188579541011722), (6, 0.11327324989419711), (7, 0.15873703708491435), (8, 0.1276958484086879), (9, 0.0455936607373653)]}\n"
     ]
    }
   ],
   "source": [
    "import pickle\n",
    "for f in onlyfiles:\n",
    "    print pickle.load(open(folder+f))"
   ]
  },
  {
   "cell_type": "code",
   "execution_count": 207,
   "metadata": {
    "collapsed": false
   },
   "outputs": [
    {
     "name": "stdout",
     "output_type": "stream",
     "text": [
      "0\n",
      "10000\n",
      "2500\n",
      "22500\n",
      "40000\n",
      "10201\n",
      "2601\n",
      "1\n",
      "22801\n",
      "40401\n",
      "10404\n",
      "2704\n",
      "40804\n",
      "4\n",
      "23104\n",
      "10609\n",
      "2809\n",
      "41209\n",
      "9\n",
      "23409\n",
      "2916\n",
      "10816\n",
      "41616\n",
      "16\n",
      "23716\n",
      "11025\n",
      "3025\n",
      "42025\n",
      "25\n",
      "3136\n",
      "11236\n",
      "24025\n",
      "42436\n",
      "36\n",
      "3249\n",
      "11449\n",
      "24336\n",
      "42849\n",
      "3364\n",
      "49\n",
      "11664\n",
      "43264\n",
      "24649\n",
      "64\n",
      "3481\n",
      "11881\n",
      "43681\n",
      "24964\n",
      "81\n",
      "3600\n",
      "44100\n",
      "100\n",
      "12100\n",
      "25281\n",
      "44521\n",
      "25600\n",
      "3721\n",
      "121\n",
      "12321\n",
      "12544\n",
      "3844\n",
      "44944\n",
      "25921\n",
      "144\n",
      "12769\n",
      "45369\n",
      "3969\n",
      "26244\n",
      "169\n",
      "4096\n",
      "45796\n",
      "12996\n",
      "26569\n",
      "4225\n",
      "196\n",
      "13225\n",
      "46225\n",
      "26896\n",
      "4356\n",
      "225\n",
      "13456\n",
      "256\n",
      "46656\n",
      "27225\n",
      "4489\n",
      "13689\n",
      "289\n",
      "27556\n",
      "47089\n",
      "13924\n",
      "4624\n",
      "324\n",
      "27889\n",
      "14161\n",
      "47524\n",
      "4761\n",
      "28224\n",
      "361\n",
      "47961\n",
      "14400\n",
      "4900\n",
      "28561\n",
      "400\n",
      "14641\n",
      "48400\n",
      "5041\n",
      "14884\n",
      "28900\n",
      "441\n",
      "48841\n",
      "5184\n",
      "484\n",
      "15129\n",
      "29241\n",
      "49284\n",
      "29584\n",
      "15376\n",
      "5329\n",
      "529\n",
      "49729\n",
      "15625\n",
      "5476\n",
      "29929\n",
      "576\n",
      "5625\n",
      "50176\n",
      "15876\n",
      "30276\n",
      "625\n",
      "5776\n",
      "50625\n",
      "30625\n",
      "16129\n",
      "676\n",
      "5929\n",
      "51076\n",
      "30976\n",
      "16384\n",
      "51529\n",
      "729\n",
      "6084\n",
      "31329\n",
      "784\n",
      "16641\n",
      "51984\n",
      "841\n",
      "31684\n",
      "6241\n",
      "52441\n",
      "16900\n",
      "900\n",
      "32041\n",
      "6400\n",
      "17161\n",
      "52900\n",
      "32400\n",
      "17424\n",
      "961\n",
      "6561\n",
      "53361\n",
      "17689\n",
      "32761\n",
      "1024\n",
      "6724\n",
      "53824\n",
      "17956\n",
      "33124\n",
      "1089\n",
      "54289\n",
      "6889\n",
      "33489\n",
      "18225\n",
      "1156\n",
      "7056\n",
      "54756\n",
      "33856\n",
      "18496\n",
      "1225\n",
      "7225\n",
      "34225\n",
      "55225\n",
      "18769\n",
      "1296\n",
      "7396\n",
      "19044\n",
      "34596\n",
      "55696\n",
      "7569\n",
      "1369\n",
      "19321\n",
      "34969\n",
      "56169\n",
      "7744\n",
      "1444\n",
      "35344\n",
      "19600\n",
      "56644\n",
      "7921\n",
      "1521\n",
      "35721\n",
      "57121\n",
      "19881\n",
      "8100\n",
      "1600\n",
      "36100\n",
      "57600\n",
      "20164\n",
      "8281\n",
      "58081\n",
      "36481\n",
      "20449\n",
      "1681\n",
      "8464\n",
      "58564\n",
      "20736\n",
      "36864\n",
      "59049\n",
      "8649\n",
      "37249\n",
      "1764\n",
      "21025\n",
      "8836\n",
      "59536\n",
      "37636\n",
      "21316\n",
      "9025\n",
      "38025\n",
      "60025\n",
      "1849\n",
      "21609\n",
      "21904\n",
      "9216\n",
      "60516\n",
      "38416\n",
      "61009\n",
      "22201\n",
      "62500\n",
      "9409\n",
      "1936\n",
      "61504\n",
      "38809\n",
      "39204\n",
      "9604\n",
      "63001\n",
      "62001\n",
      "9801\n",
      "63504\n",
      "90000\n",
      "122500\n",
      "39601\n",
      "64009\n",
      "90601\n",
      "2025\n",
      "123201\n",
      "160000\n",
      "64516\n",
      "91204\n",
      "65025\n",
      "123904\n",
      "160801\n",
      "91809\n",
      "2116\n",
      "124609\n",
      "65536\n",
      "161604\n",
      "92416\n",
      "125316\n",
      "66049\n",
      "93025\n",
      "162409\n",
      "66564\n",
      "126025\n",
      "2209\n",
      "163216\n",
      "93636\n",
      "126736\n",
      "67081\n",
      "94249\n",
      "164025\n",
      "127449\n",
      "67600\n",
      "94864\n",
      "164836\n",
      "128164\n",
      "165649\n",
      "68121\n",
      "95481\n",
      "166464\n",
      "128881\n",
      "96100\n",
      "2304\n",
      "68644\n",
      "167281\n",
      "96721\n",
      "129600\n",
      "69169\n",
      "97344\n",
      "2401\n",
      "168100\n",
      "69696\n",
      "130321\n",
      "168921\n",
      "131044\n",
      "97969\n",
      "70225\n",
      "98596\n",
      "131769\n",
      "169744\n",
      "170569\n",
      "70756\n",
      "99225\n",
      "132496\n",
      "202500\n",
      "171396\n",
      "133225\n",
      "99856\n",
      "71289\n",
      "100489\n",
      "133956\n",
      "172225\n",
      "71824\n",
      "101124\n",
      "134689\n",
      "173056\n",
      "72361\n",
      "101761\n",
      "135424\n",
      "173889\n",
      "203401\n",
      "136161\n",
      "102400\n",
      "72900\n",
      "174724\n",
      "136900\n",
      "73441\n",
      "103041\n",
      "137641\n",
      "175561\n",
      "73984\n",
      "103684\n",
      "138384\n",
      "74529\n",
      "104329\n",
      "176400\n",
      "204304\n",
      "139129\n",
      "75076\n",
      "104976\n",
      "177241\n",
      "139876\n",
      "75625\n",
      "105625\n",
      "178084\n",
      "76176\n",
      "140625\n",
      "205209\n",
      "106276\n",
      "76729\n",
      "141376\n",
      "178929\n",
      "106929\n",
      "206116\n",
      "77284\n",
      "142129\n",
      "179776\n",
      "107584\n",
      "77841\n",
      "180625\n",
      "142884\n",
      "207025\n",
      "181476\n",
      "78400\n",
      "108241\n",
      "78961\n",
      "108900\n",
      "143641\n",
      "182329\n",
      "144400\n",
      "79524\n",
      "109561\n",
      "183184\n",
      "207936\n",
      "110224\n",
      "80089\n",
      "80656\n",
      "184041\n",
      "110889\n",
      "145161\n",
      "208849\n",
      "184900\n",
      "111556\n",
      "81225\n",
      "145924\n",
      "185761\n",
      "112225\n",
      "81796\n",
      "209764\n",
      "146689\n",
      "186624\n",
      "112896\n",
      "82369\n",
      "147456\n",
      "210681\n",
      "113569\n",
      "187489\n",
      "188356\n",
      "82944\n",
      "211600\n",
      "148225\n",
      "114244\n",
      "189225\n",
      "83521\n",
      "212521\n",
      "148996\n",
      "190096\n",
      "114921\n",
      "213444\n",
      "149769\n",
      "84100\n",
      "190969\n",
      "214369\n",
      "84681\n",
      "150544\n",
      "191844\n",
      "115600\n",
      "85264\n",
      "215296\n",
      "151321\n",
      "116281\n",
      "192721\n",
      "216225\n",
      "85849\n",
      "193600\n",
      "86436\n",
      "116964\n",
      "217156\n",
      "152100\n",
      "194481\n",
      "218089\n",
      "117649\n",
      "87025\n",
      "219024\n",
      "195364\n",
      "118336\n",
      "152881\n",
      "87616\n",
      "196249\n",
      "219961\n",
      "119025\n",
      "88209\n",
      "220900\n",
      "197136\n",
      "153664\n",
      "119716\n",
      "221841\n",
      "88804\n",
      "89401\n",
      "120409\n",
      "198025\n",
      "154449\n",
      "222784\n",
      "198916\n",
      "223729\n",
      "121104\n",
      "250000\n",
      "155236\n",
      "224676\n",
      "199809\n",
      "251001\n",
      "121801\n",
      "200704\n",
      "156025\n",
      "225625\n",
      "252004\n",
      "201601\n",
      "302500\n",
      "226576\n",
      "360000\n",
      "227529\n",
      "253009\n",
      "156816\n",
      "303601\n",
      "361201\n",
      "228484\n",
      "254016\n",
      "304704\n",
      "229441\n",
      "157609\n",
      "362404\n",
      "230400\n",
      "305809\n",
      "158404\n",
      "363609\n",
      "231361\n",
      "255025\n",
      "364816\n",
      "159201\n",
      "232324\n",
      "256036\n",
      "306916\n",
      "233289\n",
      "366025\n",
      "308025\n",
      "257049\n",
      "422500\n",
      "234256\n",
      "367236\n",
      "423801\n",
      "309136\n",
      "235225\n",
      "258064\n",
      "368449\n",
      "425104\n",
      "310249\n",
      "236196\n",
      "259081\n",
      "237169\n",
      "311364\n",
      "369664\n",
      "426409\n",
      "260100\n",
      "312481\n",
      "370881\n",
      "427716\n",
      "238144\n",
      "261121\n",
      "313600\n",
      "372100\n",
      "239121\n",
      "262144\n",
      "429025\n",
      "314721\n",
      "373321\n",
      "240100\n",
      "263169\n",
      "430336\n",
      "315844\n",
      "374544\n",
      "431649\n",
      "264196\n",
      "316969\n",
      "241081\n",
      "375769\n",
      "432964\n",
      "265225\n",
      "242064\n",
      "318096\n",
      "376996\n",
      "434281\n",
      "243049\n",
      "266256\n",
      "378225\n",
      "319225\n",
      "435600\n",
      "379456\n",
      "244036\n",
      "267289\n",
      "320356\n",
      "436921\n",
      "380689\n",
      "245025\n",
      "268324\n",
      "381924\n",
      "246016\n",
      "321489\n",
      "438244\n",
      "247009\n",
      "383161\n",
      "269361\n",
      "322624\n",
      "439569\n",
      "248004\n",
      "384400\n",
      "270400\n",
      "440896\n",
      "249001\n",
      "323761\n",
      "385641\n",
      "271441\n",
      "442225\n",
      "324900\n",
      "386884\n",
      "490000\n",
      "443556\n",
      "491401\n",
      "388129\n",
      "272484\n",
      "326041\n",
      "492804\n",
      "389376\n",
      "273529\n",
      "444889\n",
      "327184\n",
      "494209\n",
      "446224\n",
      "390625\n",
      "274576\n",
      "495616\n",
      "328329\n",
      "391876\n",
      "447561\n",
      "275625\n",
      "497025\n",
      "393129\n",
      "329476\n",
      "448900\n",
      "498436\n",
      "276676\n",
      "330625\n",
      "394384\n",
      "499849\n",
      "450241\n",
      "277729\n",
      "395641\n",
      "331776\n",
      "501264\n",
      "278784\n",
      "451584\n",
      "396900\n",
      "332929\n",
      "502681\n",
      "279841\n",
      "452929\n",
      "398161\n",
      "504100\n",
      "334084\n",
      "280900\n",
      "454276\n",
      "399424\n",
      "505521\n",
      "335241\n",
      "400689\n",
      "506944\n",
      "281961\n",
      "336400\n",
      "455625\n",
      "508369\n",
      "401956\n",
      "283024\n",
      "337561\n",
      "456976\n",
      "403225\n",
      "509796\n",
      "284089\n",
      "338724\n",
      "511225\n",
      "458329\n",
      "404496\n",
      "285156\n",
      "405769\n",
      "339889\n",
      "512656\n",
      "459684\n",
      "286225\n",
      "341056\n",
      "514089\n",
      "407044\n",
      "461041\n",
      "287296\n",
      "342225\n",
      "515524\n",
      "462400\n",
      "516961\n",
      "288369\n",
      "343396\n",
      "408321\n",
      "518400\n",
      "463761\n",
      "344569\n",
      "289444\n",
      "409600\n",
      "519841\n",
      "465124\n",
      "290521\n",
      "345744\n",
      "521284\n",
      "466489\n",
      "410881\n",
      "346921\n",
      "522729\n",
      "291600\n",
      "412164\n",
      "348100\n",
      "467856\n",
      "524176\n",
      "292681\n",
      "349281\n",
      "413449\n",
      "469225\n",
      "470596\n",
      "525625\n",
      "414736\n",
      "350464\n",
      "293764\n",
      "471969\n",
      "527076\n",
      "528529\n",
      "416025\n",
      "351649\n",
      "473344\n",
      "294849\n",
      "529984\n",
      "417316\n",
      "474721\n",
      "352836\n",
      "295936\n",
      "531441\n",
      "418609\n",
      "476100\n",
      "297025\n",
      "532900\n",
      "419904\n",
      "354025\n",
      "477481\n",
      "478864\n",
      "355216\n",
      "298116\n",
      "534361\n",
      "421201\n",
      "480249\n",
      "562500\n",
      "299209\n",
      "535824\n",
      "356409\n",
      "537289\n",
      "300304\n",
      "481636\n",
      "357604\n",
      "538756\n",
      "483025\n",
      "564001\n",
      "301401\n",
      "484416\n",
      "540225\n",
      "358801\n",
      "565504\n",
      "640000\n",
      "485809\n",
      "541696\n",
      "641601\n",
      "722500\n",
      "487204\n",
      "567009\n",
      "543169\n",
      "488601\n",
      "643204\n",
      "724201\n",
      "568516\n",
      "544644\n",
      "810000\n",
      "644809\n",
      "725904\n",
      "546121\n",
      "570025\n",
      "811801\n",
      "547600\n",
      "727609\n",
      "646416\n",
      "571536\n",
      "813604\n",
      "549081\n",
      "729316\n",
      "573049\n",
      "648025\n",
      "815409\n",
      "731025\n",
      "550564\n",
      "649636\n",
      "817216\n",
      "574564\n",
      "552049\n",
      "732736\n",
      "819025\n",
      "651249\n",
      "576081\n",
      "553536\n",
      "652864\n",
      "734449\n",
      "820836\n",
      "577600\n",
      "555025\n",
      "736164\n",
      "654481\n",
      "822649\n",
      "556516\n",
      "579121\n",
      "737881\n",
      "656100\n",
      "824464\n",
      "558009\n",
      "657721\n",
      "580644\n",
      "739600\n",
      "826281\n",
      "559504\n",
      "582169\n",
      "659344\n",
      "741321\n",
      "828100\n",
      "561001\n",
      "583696\n",
      "829921\n",
      "660969\n",
      "743044\n",
      "902500\n",
      "831744\n",
      "662596\n",
      "585225\n",
      "744769\n",
      "904401\n",
      "833569\n",
      "664225\n",
      "586756\n",
      "835396\n",
      "906304\n",
      "746496\n",
      "665856\n",
      "837225\n",
      "908209\n",
      "588289\n",
      "748225\n",
      "839056\n",
      "910116\n",
      "667489\n",
      "589824\n",
      "840889\n",
      "912025\n",
      "749956\n",
      "669124\n",
      "913936\n",
      "842724\n",
      "591361\n",
      "844561\n",
      "751689\n",
      "670761\n",
      "592900\n",
      "846400\n",
      "915849\n",
      "753424\n",
      "672400\n",
      "848241\n",
      "917764\n",
      "594441\n",
      "850084\n",
      "755161\n",
      "674041\n",
      "919681\n",
      "851929\n",
      "675684\n",
      "595984\n",
      "921600\n",
      "756900\n",
      "923521\n",
      "853776\n",
      "677329\n",
      "597529\n",
      "925444\n",
      "855625\n",
      "758641\n",
      "678976\n",
      "857476\n",
      "927369\n",
      "599076\n",
      "929296\n",
      "859329\n",
      "680625\n",
      "760384\n",
      "600625\n",
      "861184\n",
      "931225\n",
      "762129\n",
      "602176\n",
      "863041\n",
      "933156\n",
      "682276\n",
      "603729\n",
      "763876\n",
      "935089\n",
      "864900\n",
      "683929\n",
      "866761\n",
      "685584\n",
      "937024\n",
      "765625\n",
      "605284\n",
      "868624\n",
      "938961\n",
      "606841\n",
      "767376\n",
      "687241\n",
      "940900\n",
      "870489\n",
      "769129\n",
      "608400\n",
      "942841\n",
      "872356\n",
      "688900\n",
      "609961\n",
      "770884\n",
      "944784\n",
      "690561\n",
      "874225\n",
      "946729\n",
      "611524\n",
      "772641\n",
      "948676\n",
      "876096\n",
      "613089\n",
      "692224\n",
      "774400\n",
      "950625\n",
      "877969\n",
      "614656\n",
      "952576\n",
      "776161\n",
      "693889\n",
      "879844\n",
      "954529\n",
      "881721\n",
      "616225\n",
      "695556\n",
      "777924\n",
      "956484\n",
      "883600\n",
      "697225\n",
      "617796\n",
      "779689\n",
      "958441\n",
      "885481\n",
      "698896\n",
      "619369\n",
      "887364\n",
      "781456\n",
      "960400\n",
      "700569\n",
      "620944\n",
      "783225\n",
      "962361\n",
      "889249\n",
      "702244\n",
      "784996\n",
      "891136\n",
      "622521\n",
      "964324\n",
      "893025\n",
      "624100\n",
      "703921\n",
      "786769\n",
      "894916\n",
      "625681\n",
      "966289\n",
      "705600\n",
      "788544\n",
      "896809\n",
      "968256\n",
      "627264\n",
      "707281\n",
      "790321\n",
      "898704\n",
      "628849\n",
      "970225\n",
      "900601\n",
      "708964\n",
      "792100\n",
      "972196\n",
      "630436\n",
      "710649\n",
      "793881\n",
      "974169\n",
      "632025\n",
      "712336\n",
      "795664\n",
      "976144\n",
      "633616\n",
      "714025\n",
      "797449\n",
      "978121\n",
      "635209\n",
      "715716\n",
      "799236\n",
      "980100\n",
      "636804\n",
      "717409\n",
      "801025\n",
      "982081\n",
      "638401\n",
      "719104\n",
      "984064\n",
      "802816\n",
      "720801\n",
      "804609\n",
      "986049\n",
      "806404\n",
      "988036\n",
      "808201\n",
      "990025\n",
      "992016\n",
      "994009\n",
      "996004\n",
      "998001\n"
     ]
    }
   ],
   "source": [
    "from multiprocessing import Pool\n",
    "\n",
    "def f(x):\n",
    "    print x*x\n",
    "\n",
    "if __name__ == '__main__':\n",
    "    p = Pool(5)\n",
    "    p.map(f, range(1000))"
   ]
  },
  {
   "cell_type": "code",
   "execution_count": 221,
   "metadata": {
    "collapsed": false
   },
   "outputs": [
    {
     "data": {
      "text/plain": [
       "[0, 10, 20, 30, 40]"
      ]
     },
     "execution_count": 221,
     "metadata": {},
     "output_type": "execute_result"
    }
   ],
   "source": [
    "range(0, 49, 10)"
   ]
  },
  {
   "cell_type": "code",
   "execution_count": 20,
   "metadata": {
    "collapsed": false
   },
   "outputs": [],
   "source": [
    "from scipy.stats import gaussian_kde\n",
    "kernel = gaussian_kde(X, bw_method=hsj(X))\n",
    "y = np.apply_along_axis(kernel.pdf, 0,np.linspace(0,1,n_pdf))"
   ]
  },
  {
   "cell_type": "code",
   "execution_count": 21,
   "metadata": {
    "collapsed": false
   },
   "outputs": [
    {
     "data": {
      "image/png": "[encoded data removed]",
      "text/plain": [
       "<matplotlib.figure.Figure at 0x113dbe190>"
      ]
     },
     "metadata": {},
     "output_type": "display_data"
    }
   ],
   "source": [
    "plt.plot(np.linspace(0,1,n_pdf),y, color=\"red\")\n",
    "plt.plot(np.linspace(0,1,n_pdf),f_star, color=\"blue\")\n",
    "#plt.plot(np.linspace(0,1,n_pdf),f_estim_dantzig, color=\"green\")\n",
    "plt.plot(np.linspace(0,1,n_pdf),f_estim, color=\"orange\")\n",
    "plt.show()"
   ]
  },
  {
   "cell_type": "code",
   "execution_count": 18,
   "metadata": {
    "collapsed": false
   },
   "outputs": [],
   "source": [
    "from pythonABC.hselect import hsj"
   ]
  },
  {
   "cell_type": "code",
   "execution_count": 19,
   "metadata": {
    "collapsed": false
   },
   "outputs": [
    {
     "data": {
      "text/plain": [
       "0.0073533511853496767"
      ]
     },
     "execution_count": 19,
     "metadata": {},
     "output_type": "execute_result"
    }
   ],
   "source": [
    "hsj(X)"
   ]
  },
  {
   "cell_type": "code",
   "execution_count": null,
   "metadata": {
    "collapsed": true
   },
   "outputs": [],
   "source": []
  }
 ],
 "metadata": {
  "kernelspec": {
   "display_name": "Python 2",
   "language": "python",
   "name": "python2"
  },
  "language_info": {
   "codemirror_mode": {
    "name": "ipython",
    "version": 2
   },
   "file_extension": ".py",
   "mimetype": "text/x-python",
   "name": "python",
   "nbconvert_exporter": "python",
   "pygments_lexer": "ipython2",
   "version": "2.7.12"
  }
 },
 "nbformat": 4,
 "nbformat_minor": 1
}
