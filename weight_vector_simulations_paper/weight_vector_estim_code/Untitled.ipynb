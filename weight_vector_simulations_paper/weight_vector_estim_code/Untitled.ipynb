{
 "cells": [
  {
   "cell_type": "code",
   "execution_count": 1,
   "metadata": {
    "collapsed": true
   },
   "outputs": [],
   "source": [
    "import numpy as np"
   ]
  },
  {
   "cell_type": "code",
   "execution_count": 52,
   "metadata": {
    "collapsed": false
   },
   "outputs": [],
   "source": [
    "def gen_omega_one_diag_upper_mat(p):\n",
    "    if p%2 ==0:\n",
    "        A = np.diag(np.ones(p/2),p/2)\n",
    "    else:\n",
    "        A = np.diag(np.ones(p/2+1),p/2)\n",
    "    return 0.9*(A+A.T)+np.diag(np.ones(p))"
   ]
  },
  {
   "cell_type": "code",
   "execution_count": 44,
   "metadata": {
    "collapsed": false
   },
   "outputs": [],
   "source": [
    "omega = C+np.diag(np.ones(p))\n",
    "cov = np.linalg.inv(omega)"
   ]
  },
  {
   "cell_type": "code",
   "execution_count": 46,
   "metadata": {
    "collapsed": false
   },
   "outputs": [
    {
     "data": {
      "text/plain": [
       "array([[ 1. ,  0. ,  0. ,  0. ,  0. ,  0.5,  0. ,  0. ,  0. ,  0. ],\n",
       "       [ 0. ,  1. ,  0. ,  0. ,  0. ,  0. ,  0.5,  0. ,  0. ,  0. ],\n",
       "       [ 0. ,  0. ,  1. ,  0. ,  0. ,  0. ,  0. ,  0.5,  0. ,  0. ],\n",
       "       [ 0. ,  0. ,  0. ,  1. ,  0. ,  0. ,  0. ,  0. ,  0.5,  0. ],\n",
       "       [ 0. ,  0. ,  0. ,  0. ,  1. ,  0. ,  0. ,  0. ,  0. ,  0.5],\n",
       "       [ 0.5,  0. ,  0. ,  0. ,  0. ,  1. ,  0. ,  0. ,  0. ,  0. ],\n",
       "       [ 0. ,  0.5,  0. ,  0. ,  0. ,  0. ,  1. ,  0. ,  0. ,  0. ],\n",
       "       [ 0. ,  0. ,  0.5,  0. ,  0. ,  0. ,  0. ,  1. ,  0. ,  0. ],\n",
       "       [ 0. ,  0. ,  0. ,  0.5,  0. ,  0. ,  0. ,  0. ,  1. ,  0. ],\n",
       "       [ 0. ,  0. ,  0. ,  0. ,  0.5,  0. ,  0. ,  0. ,  0. ,  1. ]])"
      ]
     },
     "execution_count": 46,
     "metadata": {},
     "output_type": "execute_result"
    }
   ],
   "source": [
    "np.linalg.inv(cov)"
   ]
  },
  {
   "cell_type": "code",
   "execution_count": 55,
   "metadata": {
    "collapsed": false
   },
   "outputs": [
    {
     "data": {
      "text/plain": [
       "array([[ 5.26315789,  0.        ,  0.        ,  0.        ,  0.        ,\n",
       "        -4.73684211,  0.        ,  0.        ,  0.        ,  0.        ],\n",
       "       [ 0.        ,  5.26315789,  0.        ,  0.        ,  0.        ,\n",
       "         0.        , -4.73684211,  0.        ,  0.        ,  0.        ],\n",
       "       [ 0.        ,  0.        ,  5.26315789,  0.        ,  0.        ,\n",
       "         0.        ,  0.        , -4.73684211,  0.        ,  0.        ],\n",
       "       [ 0.        ,  0.        ,  0.        ,  5.26315789,  0.        ,\n",
       "         0.        ,  0.        ,  0.        , -4.73684211,  0.        ],\n",
       "       [ 0.        ,  0.        ,  0.        ,  0.        ,  5.26315789,\n",
       "         0.        ,  0.        ,  0.        ,  0.        , -4.73684211],\n",
       "       [-4.73684211,  0.        ,  0.        ,  0.        ,  0.        ,\n",
       "         5.26315789,  0.        ,  0.        ,  0.        ,  0.        ],\n",
       "       [ 0.        , -4.73684211,  0.        ,  0.        ,  0.        ,\n",
       "         0.        ,  5.26315789,  0.        ,  0.        ,  0.        ],\n",
       "       [ 0.        ,  0.        , -4.73684211,  0.        ,  0.        ,\n",
       "         0.        ,  0.        ,  5.26315789,  0.        ,  0.        ],\n",
       "       [ 0.        ,  0.        ,  0.        , -4.73684211,  0.        ,\n",
       "         0.        ,  0.        ,  0.        ,  5.26315789,  0.        ],\n",
       "       [ 0.        ,  0.        ,  0.        ,  0.        , -4.73684211,\n",
       "         0.        ,  0.        ,  0.        ,  0.        ,  5.26315789]])"
      ]
     },
     "execution_count": 55,
     "metadata": {},
     "output_type": "execute_result"
    }
   ],
   "source": [
    "np.linalg.inv(gen_omega_one_diag_upper_mat(10))"
   ]
  },
  {
   "cell_type": "code",
   "execution_count": null,
   "metadata": {
    "collapsed": true
   },
   "outputs": [],
   "source": []
  }
 ],
 "metadata": {
  "kernelspec": {
   "display_name": "Python 2",
   "language": "python",
   "name": "python2"
  },
  "language_info": {
   "codemirror_mode": {
    "name": "ipython",
    "version": 2
   },
   "file_extension": ".py",
   "mimetype": "text/x-python",
   "name": "python",
   "nbconvert_exporter": "python",
   "pygments_lexer": "ipython2",
   "version": "2.7.13"
  }
 },
 "nbformat": 4,
 "nbformat_minor": 1
}
