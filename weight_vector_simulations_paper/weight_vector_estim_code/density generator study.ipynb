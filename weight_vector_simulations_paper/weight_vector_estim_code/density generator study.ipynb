{
 "cells": [
  {
   "cell_type": "code",
   "execution_count": 72,
   "metadata": {
    "collapsed": false
   },
   "outputs": [
    {
     "name": "stdout",
     "output_type": "stream",
     "text": [
      "/Users/mehdi/Dropbox/working folder/PHd/weight_vector_simulations_paper/weight_vector_estim_code\n"
     ]
    }
   ],
   "source": [
    "cd /Users/mehdi/Documents/WorkingFolder/PHd/weight_vector_simulations_paper/weight_vector_estim_code/"
   ]
  },
  {
   "cell_type": "code",
   "execution_count": 91,
   "metadata": {
    "collapsed": true
   },
   "outputs": [],
   "source": [
    "from dictionary_generator import DictionaryGenerator\n",
    "from tools import mle_bic\n",
    "from algorithm import WeightEstimator\n",
    "import numpy as np\n",
    "x_span = np.linspace(-3,3,n_pdf)"
   ]
  },
  {
   "cell_type": "code",
   "execution_count": 74,
   "metadata": {
    "collapsed": false
   },
   "outputs": [
    {
     "name": "stdout",
     "output_type": "stream",
     "text": [
      "/Users/mehdi/Dropbox/working folder/PHd/phd-clustering-models/tools\n"
     ]
    }
   ],
   "source": [
    "cd /Users/mehdi/Documents/WorkingFolder/PHd/phd-clustering-models/tools/"
   ]
  },
  {
   "cell_type": "code",
   "execution_count": 560,
   "metadata": {
    "collapsed": false
   },
   "outputs": [],
   "source": [
    "from gm_tools import gaussian_mixture_sample, gm_params_generator, best_cont_matrix\n",
    "weights, centers, cov = gm_params_generator(3,2)\n",
    "X, Y = gaussian_mixture_sample(weights, centers, cov, 100)\n"
   ]
  },
  {
   "cell_type": "code",
   "execution_count": null,
   "metadata": {
    "collapsed": false
   },
   "outputs": [],
   "source": [
    "from sklearn.preprocessing import StandardScaler\n",
    "from scipy.stats import multivariate_normal\n",
    "n_pdf = 10000\n",
    "sc = StandardScaler()"
   ]
  },
  {
   "cell_type": "code",
   "execution_count": 569,
   "metadata": {
    "collapsed": false
   },
   "outputs": [],
   "source": [
    "#Generate the dictionary\n",
    "dg = DictionaryGenerator(kmeans_k=2, max_pca_comp=2, subspace_cluster_dim=2)\n",
    "densities_dict = dg.fit_transform(X)"
   ]
  },
  {
   "cell_type": "code",
   "execution_count": 570,
   "metadata": {
    "collapsed": false
   },
   "outputs": [],
   "source": [
    "cl = WeightEstimator(densities_dict=densities_dict)\n",
    "X = sc.fit_transform(X)\n",
    "cl.fit(X)\n",
    "weight = cl.pi_final\n"
   ]
  },
  {
   "cell_type": "code",
   "execution_count": null,
   "metadata": {
    "collapsed": false
   },
   "outputs": [],
   "source": [
    "f_weight_estim = f = np.array([weight.dot(np.array([d.pdf(x) for d in densities_dict])) for x in x_span])"
   ]
  },
  {
   "cell_type": "code",
   "execution_count": null,
   "metadata": {
    "collapsed": false
   },
   "outputs": [],
   "source": [
    "X.shape"
   ]
  },
  {
   "cell_type": "code",
   "execution_count": null,
   "metadata": {
    "collapsed": true
   },
   "outputs": [],
   "source": [
    "from pypmc.density.mixture import create_gaussian_mixture, create_t_mixture\n"
   ]
  },
  {
   "cell_type": "code",
   "execution_count": null,
   "metadata": {
    "collapsed": true
   },
   "outputs": [],
   "source": []
  },
  {
   "cell_type": "code",
   "execution_count": 299,
   "metadata": {
    "collapsed": true
   },
   "outputs": [],
   "source": []
  },
  {
   "cell_type": "code",
   "execution_count": 412,
   "metadata": {
    "collapsed": false
   },
   "outputs": [],
   "source": [
    "from pypmc.sampler.importance_sampling import ImportanceSampler\n",
    "from pypmc.tools.indicator import merge_function_with_indicator\n",
    "from pypmc.tools.indicator import hyperrectangle\n",
    "# define indicator\n",
    "ind_lower = [-3 for _ in range(X.shape[1])]\n",
    "ind_upper = [3 for _ in range(X.shape[1])]\n",
    "ind = hyperrectangle(ind_lower, ind_upper)\n",
    "\n",
    "sampler = ImportanceSampler(gauss_mixture.evaluate, gauss_mixture, ind)\n",
    "sampler.run(100)"
   ]
  },
  {
   "cell_type": "code",
   "execution_count": 401,
   "metadata": {
    "collapsed": false
   },
   "outputs": [
    {
     "ename": "ValueError",
     "evalue": "axis must be less than arr.ndim; axis=1, rank=0.",
     "output_type": "error",
     "traceback": [
      "\u001b[0;31m---------------------------------------------------------------------------\u001b[0m",
      "\u001b[0;31mValueError\u001b[0m                                Traceback (most recent call last)",
      "\u001b[0;32m<ipython-input-401-7b5222c7f2bc>\u001b[0m in \u001b[0;36m<module>\u001b[0;34m()\u001b[0m\n\u001b[1;32m      2\u001b[0m \u001b[0mN\u001b[0m \u001b[0;34m=\u001b[0m \u001b[0;36m1000\u001b[0m\u001b[0;34m\u001b[0m\u001b[0m\n\u001b[1;32m      3\u001b[0m \u001b[0;31m#samples = gauss_mixture.propose(N)\u001b[0m\u001b[0;34m\u001b[0m\u001b[0;34m\u001b[0m\u001b[0m\n\u001b[0;32m----> 4\u001b[0;31m \u001b[0mres\u001b[0m \u001b[0;34m=\u001b[0m \u001b[0mnp\u001b[0m\u001b[0;34m.\u001b[0m\u001b[0msqrt\u001b[0m\u001b[0;34m(\u001b[0m\u001b[0;36m1.\u001b[0m\u001b[0;34m/\u001b[0m\u001b[0mN\u001b[0m\u001b[0;34m*\u001b[0m\u001b[0mnp\u001b[0m\u001b[0;34m.\u001b[0m\u001b[0mapply_along_axis\u001b[0m\u001b[0;34m(\u001b[0m\u001b[0mf_em_bic_over_f_star\u001b[0m\u001b[0;34m,\u001b[0m\u001b[0;36m1\u001b[0m\u001b[0;34m,\u001b[0m \u001b[0msamples\u001b[0m\u001b[0;34m)\u001b[0m\u001b[0;34m.\u001b[0m\u001b[0msum\u001b[0m\u001b[0;34m(\u001b[0m\u001b[0;34m)\u001b[0m\u001b[0;34m)\u001b[0m\u001b[0;34m\u001b[0m\u001b[0m\n\u001b[0m\u001b[1;32m      5\u001b[0m \u001b[0;32mprint\u001b[0m \u001b[0mres\u001b[0m\u001b[0;34m\u001b[0m\u001b[0m\n\u001b[1;32m      6\u001b[0m \u001b[0;32mprint\u001b[0m \u001b[0mnp\u001b[0m\u001b[0;34m.\u001b[0m\u001b[0msqrt\u001b[0m\u001b[0;34m(\u001b[0m\u001b[0;36m1.\u001b[0m\u001b[0;34m/\u001b[0m\u001b[0mN\u001b[0m\u001b[0;34m*\u001b[0m\u001b[0mnp\u001b[0m\u001b[0;34m.\u001b[0m\u001b[0marray\u001b[0m\u001b[0;34m(\u001b[0m\u001b[0;34m[\u001b[0m\u001b[0mf_em_bic_over_f_star\u001b[0m\u001b[0;34m(\u001b[0m\u001b[0mx\u001b[0m\u001b[0;34m)\u001b[0m \u001b[0;32mfor\u001b[0m \u001b[0mx\u001b[0m \u001b[0;32min\u001b[0m \u001b[0msamples\u001b[0m\u001b[0;34m]\u001b[0m\u001b[0;34m)\u001b[0m\u001b[0;34m.\u001b[0m\u001b[0msum\u001b[0m\u001b[0;34m(\u001b[0m\u001b[0;34m)\u001b[0m\u001b[0;34m)\u001b[0m\u001b[0;34m\u001b[0m\u001b[0m\n",
      "\u001b[0;32m/usr/local/lib/python2.7/site-packages/numpy/lib/shape_base.pyc\u001b[0m in \u001b[0;36mapply_along_axis\u001b[0;34m(func1d, axis, arr, *args, **kwargs)\u001b[0m\n\u001b[1;32m     81\u001b[0m     \u001b[0;32mif\u001b[0m \u001b[0;34m(\u001b[0m\u001b[0maxis\u001b[0m \u001b[0;34m>=\u001b[0m \u001b[0mnd\u001b[0m\u001b[0;34m)\u001b[0m\u001b[0;34m:\u001b[0m\u001b[0;34m\u001b[0m\u001b[0m\n\u001b[1;32m     82\u001b[0m         raise ValueError(\"axis must be less than arr.ndim; axis=%d, rank=%d.\"\n\u001b[0;32m---> 83\u001b[0;31m             % (axis, nd))\n\u001b[0m\u001b[1;32m     84\u001b[0m     \u001b[0mind\u001b[0m \u001b[0;34m=\u001b[0m \u001b[0;34m[\u001b[0m\u001b[0;36m0\u001b[0m\u001b[0;34m]\u001b[0m\u001b[0;34m*\u001b[0m\u001b[0;34m(\u001b[0m\u001b[0mnd\u001b[0m\u001b[0;34m-\u001b[0m\u001b[0;36m1\u001b[0m\u001b[0;34m)\u001b[0m\u001b[0;34m\u001b[0m\u001b[0m\n\u001b[1;32m     85\u001b[0m     \u001b[0mi\u001b[0m \u001b[0;34m=\u001b[0m \u001b[0mzeros\u001b[0m\u001b[0;34m(\u001b[0m\u001b[0mnd\u001b[0m\u001b[0;34m,\u001b[0m \u001b[0;34m'O'\u001b[0m\u001b[0;34m)\u001b[0m\u001b[0;34m\u001b[0m\u001b[0m\n",
      "\u001b[0;31mValueError\u001b[0m: axis must be less than arr.ndim; axis=1, rank=0."
     ]
    }
   ],
   "source": [
    "gauss_mixture = create_gaussian_mixture(centers, cov, weights)\n",
    "N = 1000\n",
    "#samples = gauss_mixture.propose(N)\n",
    "res = np.sqrt(1./N*np.apply_along_axis(f_em_bic_over_f_star,1, samples).sum())\n",
    "print res\n",
    "print np.sqrt(1./N*np.array([f_em_bic_over_f_star(x) for x in samples]).sum())"
   ]
  },
  {
   "cell_type": "code",
   "execution_count": 561,
   "metadata": {
    "collapsed": false
   },
   "outputs": [
    {
     "data": {
      "text/plain": [
       "GaussianMixture(covariance_type='full', init_params='kmeans', max_iter=100,\n",
       "        means_init=None, n_components=2, n_init=1, precisions_init=None,\n",
       "        random_state=None, reg_covar=1e-06, tol=0.001, verbose=0,\n",
       "        verbose_interval=10, warm_start=False, weights_init=None)"
      ]
     },
     "execution_count": 561,
     "metadata": {},
     "output_type": "execute_result"
    }
   ],
   "source": [
    "from sklearn.mixture import GaussianMixture\n",
    "gmm = GaussianMixture(2)\n",
    "gmm.fit(X)"
   ]
  },
  {
   "cell_type": "code",
   "execution_count": 525,
   "metadata": {
    "collapsed": false
   },
   "outputs": [],
   "source": [
    "import matplotlib.pyplot as plt\n",
    "x_span = np.linspace(-3,3,n_pdf)\n",
    "y = np.array([f_em_bic_pdf(x) for x in x_span])\n",
    "y_star = np.array([f_star_pdf(x) for x in x_span])"
   ]
  },
  {
   "cell_type": "code",
   "execution_count": 526,
   "metadata": {
    "collapsed": false
   },
   "outputs": [
    {
     "data": {
      "text/plain": [
       "[<matplotlib.lines.Line2D at 0x10e9cd590>]"
      ]
     },
     "execution_count": 526,
     "metadata": {},
     "output_type": "execute_result"
    },
    {
     "data": {
      "image/png": "[encoded data removed]",
      "text/plain": [
       "<matplotlib.figure.Figure at 0x10e9cd0d0>"
      ]
     },
     "metadata": {},
     "output_type": "display_data"
    }
   ],
   "source": [
    "plt.plot(x_span, y)\n",
    "plt.plot(x_span, y_star)"
   ]
  },
  {
   "cell_type": "code",
   "execution_count": 217,
   "metadata": {
    "collapsed": false
   },
   "outputs": [],
   "source": [
    "%matplotlib inline"
   ]
  },
  {
   "cell_type": "code",
   "execution_count": 310,
   "metadata": {
    "collapsed": false
   },
   "outputs": [
    {
     "data": {
      "text/plain": [
       "739.61236981409093"
      ]
     },
     "execution_count": 310,
     "metadata": {},
     "output_type": "execute_result"
    }
   ],
   "source": [
    "np.sqrt(np.linalg.norm([(f_em_bic_pdf(x) - f_star_pdf(x))**2 for x in samples]))"
   ]
  },
  {
   "cell_type": "code",
   "execution_count": 466,
   "metadata": {
    "collapsed": false
   },
   "outputs": [
    {
     "name": "stdout",
     "output_type": "stream",
     "text": [
      "0.0521305044371\n"
     ]
    }
   ],
   "source": [
    "def integrand(x):\n",
    "    return (f_star_pdf(x) - f_em_bic_pdf(x))**2\n",
    "from scipy.integrate import quad\n",
    "print np.sqrt((quad(integrand, -3,3)[0]))"
   ]
  },
  {
   "cell_type": "code",
   "execution_count": 269,
   "metadata": {
    "collapsed": false
   },
   "outputs": [
    {
     "data": {
      "text/plain": [
       "8.5348376037028376e-57"
      ]
     },
     "execution_count": 269,
     "metadata": {},
     "output_type": "execute_result"
    }
   ],
   "source": [
    "integrand(0)"
   ]
  },
  {
   "cell_type": "code",
   "execution_count": 285,
   "metadata": {
    "collapsed": false
   },
   "outputs": [
    {
     "name": "stdout",
     "output_type": "stream",
     "text": [
      "1 loop, best of 3: 1.29 s per loop\n"
     ]
    }
   ],
   "source": [
    "%timeit np.array([f_em_bic_over_f_star(x) for x in samples]).sum()"
   ]
  },
  {
   "cell_type": "code",
   "execution_count": 311,
   "metadata": {
    "collapsed": false
   },
   "outputs": [
    {
     "data": {
      "text/plain": [
       "array([  2.25808342,  15.70105318,   6.94726026])"
      ]
     },
     "execution_count": 311,
     "metadata": {},
     "output_type": "execute_result"
    }
   ],
   "source": [
    "\n",
    "gmm.weights_.dot(np.array([multivariate_normal(gmm.means_[i], gmm.covariances_[i]).pdf(x) for i in range(len(gmm.weights_))])"
   ]
  },
  {
   "cell_type": "code",
   "execution_count": 501,
   "metadata": {
    "collapsed": false
   },
   "outputs": [],
   "source": [
    "def f_estim_pdf(x):\n",
    "    return weight.dot(np.array([d.pdf(x) for d in densities_dict]))\n",
    "\n",
    "def f_star_pdf(x):\n",
    "    return weights.dot(np.array([multivariate_normal(centers[i], cov[i]).pdf(x) for i in range(len(weights))]))\n",
    "\n",
    "def f_estim_over_f_star(x):\n",
    "    return (1-f_estim_pdf(x)/f_star_pdf(x))**2*f_star_pdf(x)\n",
    "\n",
    "def f_em_bic_pdf(x):\n",
    "    return gmm.weights_.dot(np.array([multivariate_normal(gmm.means_[i], gmm.covariances_[i]).pdf(x) for i in range(len(gmm.weights_))]))\n",
    "\n",
    "def f_estim_over_f_star(x):\n",
    "    return (1-f_estim_pdf(x)/f_star_pdf(x))**2*f_star_pdf(x)\n",
    "\n",
    "\n",
    "def f_em_bic_over_f_star(x):\n",
    "    return (1-f_em_bic_pdf(x)/f_star_pdf(x))**2*f_star_pdf(x)"
   ]
  },
  {
   "cell_type": "code",
   "execution_count": 563,
   "metadata": {
    "collapsed": true
   },
   "outputs": [],
   "source": [
    "from pypmc.density.mixture import create_gaussian_mixture\n",
    "from pypmc.sampler.importance_sampling import ImportanceSampler\n",
    "from pypmc.tools.indicator import merge_function_with_indicator\n",
    "from pypmc.tools.indicator import hyperrectangle\n",
    "\n",
    "def l2_norm(f_over_g, f_sample, sample_size=10000, hypercube_size = 3):\n",
    "    \"\"\"\n",
    "    Compute the L2 norm of f-g using importance sampling\n",
    "    with sample_size samples drawn from a gaussian mixture f_sample from pypmc\n",
    "    \"\"\"\n",
    "    # define indicator\n",
    "    ind_lower = [-hypercube_size for _ in range(X.shape[1])]\n",
    "    ind_upper = [hypercube_size for _ in range(X.shape[1])]\n",
    "    ind = hyperrectangle(ind_lower, ind_upper)\n",
    "    sampler = ImportanceSampler(f_sample.evaluate, f_sample, ind)\n",
    "    sampler.run(sample_size)\n",
    "    samples = sampler.samples\n",
    "    return np.sqrt(1./sample_size*np.apply_along_axis(f_over_g, 1, samples[0]).sum())"
   ]
  },
  {
   "cell_type": "code",
   "execution_count": 564,
   "metadata": {
    "collapsed": false
   },
   "outputs": [],
   "source": [
    "gauss_mixture = create_gaussian_mixture(centers, cov, weights)"
   ]
  },
  {
   "cell_type": "code",
   "execution_count": 573,
   "metadata": {
    "collapsed": false
   },
   "outputs": [
    {
     "name": "stdout",
     "output_type": "stream",
     "text": [
      "4.44294044262\n",
      "0.639050983223\n"
     ]
    }
   ],
   "source": [
    "print l2_norm(f_estim_over_f_star, gauss_mixture, sample_size=1000)\n",
    "print l2_norm(f_em_bic_over_f_star, gauss_mixture, sample_size=1000)"
   ]
  },
  {
   "cell_type": "code",
   "execution_count": 566,
   "metadata": {
    "collapsed": false
   },
   "outputs": [],
   "source": [
    "x_sizes= range(100,1000, 100)+range(1000,10000, 1000)+[20000, 50000]\n",
    "y_sizes = []\n",
    "for s in x_sizes:\n",
    "    y_sizes.append(l2_norm(f_em_bic_over_f_star, gauss_mixture, sample_size=s))"
   ]
  },
  {
   "cell_type": "code",
   "execution_count": 567,
   "metadata": {
    "collapsed": false
   },
   "outputs": [
    {
     "data": {
      "text/plain": [
       "[<matplotlib.lines.Line2D at 0x10f314790>]"
      ]
     },
     "execution_count": 567,
     "metadata": {},
     "output_type": "execute_result"
    },
    {
     "data": {
      "image/png": "[encoded data removed]",
      "text/plain": [
       "<matplotlib.figure.Figure at 0x10f213a90>"
      ]
     },
     "metadata": {},
     "output_type": "display_data"
    }
   ],
   "source": [
    "plt.plot(x_sizes, y_sizes)"
   ]
  },
  {
   "cell_type": "code",
   "execution_count": 515,
   "metadata": {
    "collapsed": false
   },
   "outputs": [
    {
     "name": "stdout",
     "output_type": "stream",
     "text": [
      "1.06745856821\n"
     ]
    }
   ],
   "source": [
    "def integrand(x):\n",
    "    return (f_star_pdf(x) - f_em_bic_pdf(x))**2\n",
    "from scipy.integrate import quad\n",
    "print np.sqrt((quad(integrand, -3,3)[0]))"
   ]
  },
  {
   "cell_type": "code",
   "execution_count": 467,
   "metadata": {
    "collapsed": true
   },
   "outputs": [],
   "source": [
    "from pypmc.sampler.importance_sampling import ImportanceSampler\n",
    "from pypmc.tools.indicator import merge_function_with_indicator\n",
    "from pypmc.tools.indicator import hyperrectangle\n",
    "# define indicator\n",
    "ind_lower = [-3 for _ in range(X.shape[1])]\n",
    "ind_upper = [3 for _ in range(X.shape[1])]\n",
    "ind = hyperrectangle(ind_lower, ind_upper)"
   ]
  },
  {
   "cell_type": "code",
   "execution_count": 486,
   "metadata": {
    "collapsed": false
   },
   "outputs": [],
   "source": [
    "N = 1000\n",
    "sampler = ImportanceSampler(gauss_mixture.evaluate, gauss_mixture, ind)\n",
    "sampler.run(N)\n",
    "samples = sampler.samples"
   ]
  },
  {
   "cell_type": "code",
   "execution_count": 487,
   "metadata": {
    "collapsed": false
   },
   "outputs": [
    {
     "name": "stdout",
     "output_type": "stream",
     "text": [
      "0.0524209244972\n"
     ]
    }
   ],
   "source": [
    "print np.sqrt(1./N*np.apply_along_axis(f_em_bic_over_f_star,1, samples[0]).sum())"
   ]
  },
  {
   "cell_type": "code",
   "execution_count": 475,
   "metadata": {
    "collapsed": false
   },
   "outputs": [
    {
     "name": "stdout",
     "output_type": "stream",
     "text": [
      "0.0519422044052\n"
     ]
    }
   ],
   "source": [
    "gauss_mixture = create_gaussian_mixture(centers, cov, weights)\n",
    "print np.sqrt(1./N*np.apply_along_axis(f_em_bic_over_f_star,1, gauss_mixture.propose(N)).sum())"
   ]
  },
  {
   "cell_type": "code",
   "execution_count": 437,
   "metadata": {
    "collapsed": false
   },
   "outputs": [
    {
     "name": "stdout",
     "output_type": "stream",
     "text": [
      "[[ 1.40176987 -0.06119781]\n",
      " [ 1.49770452  0.25812354]\n",
      " [ 1.41412611 -0.01173837]\n",
      " [ 1.48020017  0.10273025]\n",
      " [ 1.55952122  0.26885483]\n",
      " [ 1.35731555 -0.00647277]\n",
      " [ 1.47809994 -0.04861322]\n",
      " [ 1.51416688  0.38248812]\n",
      " [ 1.44819816  0.18408681]\n",
      " [-2.2423325   1.40622074]]\n"
     ]
    },
    {
     "data": {
      "text/plain": [
       "array([[ 0.00458511,  0.1039521 ,  0.00061473,  0.01118943,  0.04933051,\n",
       "         0.18036315,  0.31994257,  0.11525949,  0.03837436,  0.26895914]])"
      ]
     },
     "execution_count": 437,
     "metadata": {},
     "output_type": "execute_result"
    }
   ],
   "source": [
    "np.array([f_em_bic_over_f_star(x) for x in samples])"
   ]
  },
  {
   "cell_type": "code",
   "execution_count": 438,
   "metadata": {
    "collapsed": false
   },
   "outputs": [
    {
     "data": {
      "text/plain": [
       "[array([[ 1.40176987, -0.06119781],\n",
       "        [ 1.49770452,  0.25812354],\n",
       "        [ 1.41412611, -0.01173837],\n",
       "        [ 1.48020017,  0.10273025],\n",
       "        [ 1.55952122,  0.26885483],\n",
       "        [ 1.35731555, -0.00647277],\n",
       "        [ 1.47809994, -0.04861322],\n",
       "        [ 1.51416688,  0.38248812],\n",
       "        [ 1.44819816,  0.18408681],\n",
       "        [-2.2423325 ,  1.40622074]])]"
      ]
     },
     "execution_count": 438,
     "metadata": {},
     "output_type": "execute_result"
    }
   ],
   "source": [
    "[x for x in samples]"
   ]
  },
  {
   "cell_type": "code",
   "execution_count": 443,
   "metadata": {
    "collapsed": false
   },
   "outputs": [
    {
     "data": {
      "text/plain": [
       "array([[ 1.40176987, -0.06119781],\n",
       "       [ 1.49770452,  0.25812354],\n",
       "       [ 1.41412611, -0.01173837],\n",
       "       [ 1.48020017,  0.10273025],\n",
       "       [ 1.55952122,  0.26885483],\n",
       "       [ 1.35731555, -0.00647277],\n",
       "       [ 1.47809994, -0.04861322],\n",
       "       [ 1.51416688,  0.38248812],\n",
       "       [ 1.44819816,  0.18408681],\n",
       "       [-2.2423325 ,  1.40622074]])"
      ]
     },
     "execution_count": 443,
     "metadata": {},
     "output_type": "execute_result"
    }
   ],
   "source": [
    "samples[0]"
   ]
  },
  {
   "cell_type": "code",
   "execution_count": 576,
   "metadata": {
    "collapsed": false
   },
   "outputs": [
    {
     "name": "stdout",
     "output_type": "stream",
     "text": [
      "/Users/mehdi/Dropbox/working folder/PHd/weight_vector_simulations_paper/weight_vector_estim_code\n"
     ]
    }
   ],
   "source": [
    "cd ../../weight_vector_simulations_paper/weight_vector_estim_code/"
   ]
  },
  {
   "cell_type": "code",
   "execution_count": 10,
   "metadata": {
    "collapsed": false
   },
   "outputs": [],
   "source": [
    "from simu_clustering import simu, IntegrandKLDensity, IntegrandL2Density, GaussianMixtureGen, GaussMixtureDensity\n",
    "from pypmc.density.mixture import create_gaussian_mixture\n",
    "import numpy as np\n",
    "from tools import l2_norm, kl_norm, mle_bic"
   ]
  },
  {
   "cell_type": "code",
   "execution_count": 3,
   "metadata": {
    "collapsed": false
   },
   "outputs": [
    {
     "name": "stdout",
     "output_type": "stream",
     "text": [
      "9959.08809285 10440.6104705\n",
      "32.8867518902 22.3159849644\n"
     ]
    },
    {
     "data": {
      "text/plain": [
       "1"
      ]
     },
     "execution_count": 3,
     "metadata": {},
     "output_type": "execute_result"
    }
   ],
   "source": [
    "simu(10000, 10, 20)"
   ]
  },
  {
   "cell_type": "code",
   "execution_count": 19,
   "metadata": {
    "collapsed": false
   },
   "outputs": [],
   "source": [
    "weights = np.array([0.1, 0.5, 0.4])\n",
    "N = 100\n",
    "gg = GaussianMixtureGen(3, weights)\n",
    "centers_star, cov_star = gg.get_params()\n",
    "f_star = GaussMixtureDensity(weights, centers_star, cov_star)\n",
    "X = gg.sample(N)\n",
    "f_star_sampling = create_gaussian_mixture(centers_star, cov_star, weights)\n"
   ]
  },
  {
   "cell_type": "code",
   "execution_count": 20,
   "metadata": {
    "collapsed": false
   },
   "outputs": [],
   "source": [
    "_, em_model = mle_bic(X, 20)\n",
    "em_density = GaussMixtureDensity(em_model.weights_, em_model.means_, em_model.covariances_)\n",
    "em_integrand = IntegrandKLDensity(f_star.pdf, em_density.pdf)\n",
    "em_kl = kl_norm(em_integrand.pdf, f_star_sampling, sample_size=100000)\n",
    "    "
   ]
  },
  {
   "cell_type": "code",
   "execution_count": 38,
   "metadata": {
    "collapsed": false
   },
   "outputs": [
    {
     "data": {
      "text/plain": [
       "0.54832412999274771"
      ]
     },
     "execution_count": 38,
     "metadata": {},
     "output_type": "execute_result"
    }
   ],
   "source": [
    "kl_norm(em_integrand.pdf, f_star_sampling, sample_size=100000)"
   ]
  },
  {
   "cell_type": "code",
   "execution_count": 21,
   "metadata": {
    "collapsed": true
   },
   "outputs": [],
   "source": [
    "from scipy.stats import entropy\n",
    "from numba import jit"
   ]
  },
  {
   "cell_type": "code",
   "execution_count": 23,
   "metadata": {
    "collapsed": true
   },
   "outputs": [],
   "source": [
    "X_sampling = gg.sample(10000)"
   ]
  },
  {
   "cell_type": "code",
   "execution_count": 35,
   "metadata": {
    "collapsed": false
   },
   "outputs": [
    {
     "data": {
      "text/plain": [
       "0.072640821962738855"
      ]
     },
     "execution_count": 35,
     "metadata": {},
     "output_type": "execute_result"
    }
   ],
   "source": [
    "entropy(np.apply_along_axis(em_density.pdf, 1, X_sampling), np.apply_along_axis(f_star.pdf, 1, X_sampling))"
   ]
  },
  {
   "cell_type": "code",
   "execution_count": 36,
   "metadata": {
    "collapsed": false
   },
   "outputs": [
    {
     "data": {
      "text/plain": [
       "array([[ 0.05158604,  0.01824782,  1.06131003],\n",
       "       [ 0.0019761 , -0.07120068,  0.99849581],\n",
       "       [ 0.00293066,  0.96839019, -0.0656894 ],\n",
       "       ..., \n",
       "       [-0.11560889, -0.05205911,  1.0677704 ],\n",
       "       [-0.03154399, -0.07063102,  0.98032618],\n",
       "       [-0.12094504,  1.10751967, -0.04375684]])"
      ]
     },
     "execution_count": 36,
     "metadata": {},
     "output_type": "execute_result"
    }
   ],
   "source": [
    "X_sampling"
   ]
  },
  {
   "cell_type": "code",
   "execution_count": 41,
   "metadata": {
    "collapsed": false
   },
   "outputs": [
    {
     "name": "stdout",
     "output_type": "stream",
     "text": [
      "The autoreload extension is already loaded. To reload it, use:\n",
      "  %reload_ext autoreload\n"
     ]
    },
    {
     "name": "stderr",
     "output_type": "stream",
     "text": [
      "[autoreload of simu_clustering failed: Traceback (most recent call last):\n",
      "  File \"/usr/local/lib/python2.7/site-packages/IPython/extensions/autoreload.py\", line 247, in check\n",
      "    superreload(m, reload, self.old_objects)\n",
      "ImportError: cannot import name KdeCV\n",
      "]\n"
     ]
    }
   ],
   "source": [
    "%load_ext autoreload\n",
    "%autoreload 2"
   ]
  },
  {
   "cell_type": "code",
   "execution_count": 1,
   "metadata": {
    "collapsed": false
   },
   "outputs": [
    {
     "name": "stderr",
     "output_type": "stream",
     "text": [
      "/usr/local/lib/python2.7/site-packages/sklearn/cross_validation.py:44: DeprecationWarning: This module was deprecated in version 0.18 in favor of the model_selection module into which all the refactored classes and functions are moved. Also note that the interface of the new CV iterators are different from that of this module. This module will be removed in 0.20.\n",
      "  \"This module will be removed in 0.20.\", DeprecationWarning)\n",
      "/usr/local/lib/python2.7/site-packages/sklearn/grid_search.py:43: DeprecationWarning: This module was deprecated in version 0.18 in favor of the model_selection module into which all the refactored classes and functions are moved. This module will be removed in 0.20.\n",
      "  DeprecationWarning)\n"
     ]
    }
   ],
   "source": [
    "from simu_clustering import simu, IntegrandKLDensity, kl_norm"
   ]
  },
  {
   "cell_type": "code",
   "execution_count": 6,
   "metadata": {
    "collapsed": false
   },
   "outputs": [
    {
     "name": "stdout",
     "output_type": "stream",
     "text": [
      "L2 loss, KL-aggreg, EM, KDE: 4.7608166172, 4.74205355414, 4.77421114324\n",
      "KL loss, KL-aggreg, EM, KDE: 3.30459448676, 3.87216949549, 3.07630287005\n",
      "Times, KL-aggreg, EM, KDE: 0.125766992569, 0.215951919556, 0.102691173553\n"
     ]
    }
   ],
   "source": [
    "kl_aggreg_density, em_density, f_star, f_star_sampling = simu(100, 8, 5)"
   ]
  },
  {
   "cell_type": "code",
   "execution_count": 7,
   "metadata": {
    "collapsed": false
   },
   "outputs": [],
   "source": [
    "X_s = f_star_sampling.propose(1000)"
   ]
  },
  {
   "cell_type": "code",
   "execution_count": null,
   "metadata": {
    "collapsed": true
   },
   "outputs": [],
   "source": []
  }
 ],
 "metadata": {
  "kernelspec": {
   "display_name": "Python 2",
   "language": "python",
   "name": "python2"
  },
  "language_info": {
   "codemirror_mode": {
    "name": "ipython",
    "version": 2
   },
   "file_extension": ".py",
   "mimetype": "text/x-python",
   "name": "python",
   "nbconvert_exporter": "python",
   "pygments_lexer": "ipython2",
   "version": "2.7.12"
  }
 },
 "nbformat": 4,
 "nbformat_minor": 1
}
